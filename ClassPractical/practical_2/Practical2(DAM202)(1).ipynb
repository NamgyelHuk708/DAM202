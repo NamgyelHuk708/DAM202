{
  "cells": [
    {
      "cell_type": "markdown",
      "id": "79089f77",
      "metadata": {
        "id": "79089f77"
      },
      "source": [
        "# 0. Change Working Directory"
      ]
    },
    {
      "cell_type": "code",
      "execution_count": 216,
      "id": "f53a9677",
      "metadata": {
        "id": "f53a9677"
      },
      "outputs": [],
      "source": [
        "ROOT = \"/content/drive/MyDrive/DAM202\" # Your Working Directory\n",
        "import os\n",
        "os.chdir(ROOT)"
      ]
    },
    {
      "cell_type": "code",
      "source": [
        "from google.colab import drive\n",
        "drive.mount('/content/drive')"
      ],
      "metadata": {
        "colab": {
          "base_uri": "https://localhost:8080/"
        },
        "id": "-IwQT6_TvpVD",
        "outputId": "cf3dad80-0032-4f79-a14b-dbd4b978cd29"
      },
      "id": "-IwQT6_TvpVD",
      "execution_count": 217,
      "outputs": [
        {
          "output_type": "stream",
          "name": "stdout",
          "text": [
            "Drive already mounted at /content/drive; to attempt to forcibly remount, call drive.mount(\"/content/drive\", force_remount=True).\n"
          ]
        }
      ]
    },
    {
      "cell_type": "code",
      "execution_count": 218,
      "id": "3a16479a",
      "metadata": {
        "colab": {
          "base_uri": "https://localhost:8080/"
        },
        "id": "3a16479a",
        "outputId": "e9278a5b-4821-4358-adf2-9225674e8924"
      },
      "outputs": [
        {
          "output_type": "execute_result",
          "data": {
            "text/plain": [
              "['text.txt',\n",
              " 'improved_word2vec_model.model',\n",
              " 'my_word2vec_model.model',\n",
              " 'Practical2(DAM202).ipynb',\n",
              " 'my_word2vec_model_text8.model',\n",
              " 'cbow_model.model',\n",
              " 'skipgram_model.model',\n",
              " 'my_word2vec_model_text8_cbow.model']"
            ]
          },
          "metadata": {},
          "execution_count": 218
        }
      ],
      "source": [
        "#import os\n",
        "os.listdir()"
      ]
    },
    {
      "cell_type": "markdown",
      "source": [],
      "metadata": {
        "id": "kH4hYf0q4fwZ"
      },
      "id": "kH4hYf0q4fwZ"
    },
    {
      "cell_type": "markdown",
      "id": "8d18b1ee",
      "metadata": {
        "id": "8d18b1ee"
      },
      "source": [
        "# 1. Introduction\n",
        "\n",
        "## 1.1 Need for data feed\n",
        "\n",
        "While pretrained models like Google News Word2Vec are powerful, training our own model offers several advantages:\n",
        "\n",
        "- Domain Specificity: Captures terminology and relationships specific to our field (medical, legal, technical)\n",
        "\n",
        "- Custom Vocabulary: Includes words and phrases unique to your dataset\n",
        "\n",
        "- Control: Full control over training parameters and data quality\n",
        "\n",
        "- Privacy: No need to rely on external models for sensitive data\n",
        "\n",
        "- Learning: Deep understanding of how Word2Vec actually works\n",
        "\n",
        "The Neural Network Architecture\n",
        "Word2Vec uses a simple neural network with three layers:\n",
        "\n",
        "- Input Layer: One-hot encoded word vectors\n",
        "\n",
        "- Hidden Layer: Dense representation (the embeddings we want)\n",
        "\n",
        "- Output Layer: Probability distribution over vocabulary\n",
        "\n",
        "## 1.2 CBOW vs Skip-gram Training\n",
        "\n",
        "- CBOW (Continuous Bag of Words):\n",
        "\n",
        "  - Input: Context words → Output: Center word\n",
        "\n",
        "  - Example: [\"the\", \"cat\", \"on\", \"mat\"] → \"sat\"\n",
        "\n",
        "  - Faster training, better for frequent words\n",
        "\n",
        "  - Good for syntactic relationships\n",
        "\n",
        "- Skip-gram:\n",
        "\n",
        "  - Input: Center word → Output: Context words\n",
        "\n",
        "  - Example: \"sat\" → [\"the\", \"cat\", \"on\", \"mat\"]\n",
        "\n",
        "  - Slower training, better for rare words\n",
        "\n",
        "  - Excellent for semantic relationships\n",
        "\n",
        "![Word2Vec Archotectures](Practical_Two\\word2vec_architectures.png)"
      ]
    },
    {
      "cell_type": "markdown",
      "id": "a8afce9e",
      "metadata": {
        "id": "a8afce9e"
      },
      "source": [
        "# 2 Training Objectives\n",
        "\n",
        "The model learns by:\n",
        "\n",
        "- Maximizing probability of actual word pairs that appear together\n",
        "\n",
        "- Minimizing probability of random word pairs (negative sampling)\n",
        "\n",
        "- Adjusting word vectors to achieve these objectives\n",
        "\n",
        "## 2.1 Key Training Concepts\n",
        "\n",
        "**Context Window** Number of words around target word to consider\n",
        "\n",
        "- Small window (2-3): Captures syntactic relationships\n",
        "\n",
        "- Large window (5-10): Captures semantic/topical relationships\n",
        "\n",
        "**Negative Sampling:** Instead of computing probabilities for entire vocabulary, sample a few \"negative\" examples\n",
        "\n",
        "- Dramatically speeds up training\n",
        "\n",
        "- 5-20 negative samples typically used\n",
        "\n",
        "**Hierarchical Softmax:** Alternative to negative sampling using binary tree structure\n",
        "\n",
        "- Better for rare words\n",
        "\n",
        "- More memory efficient for large vocabularies"
      ]
    },
    {
      "cell_type": "markdown",
      "id": "7f47d9df",
      "metadata": {
        "id": "7f47d9df"
      },
      "source": [
        "# 3 Code Implementation\n",
        "\n",
        "## 3.1 Data Collection and Preparation"
      ]
    },
    {
      "cell_type": "code",
      "execution_count": 219,
      "id": "0f009ad7",
      "metadata": {
        "id": "0f009ad7"
      },
      "outputs": [],
      "source": [
        "with open('text.txt', 'r', encoding='utf-8') as f: # Remember your data set path should be specified if not in same working directory\n",
        "    texts = f.readlines()"
      ]
    },
    {
      "cell_type": "code",
      "execution_count": 220,
      "id": "c8faee62",
      "metadata": {
        "colab": {
          "base_uri": "https://localhost:8080/"
        },
        "id": "c8faee62",
        "outputId": "efa78fa2-47a9-4c8e-b0b3-c270277c24e6"
      },
      "outputs": [
        {
          "output_type": "execute_result",
          "data": {
            "text/plain": [
              "[\"                ALICE'S ADVENTURES IN WONDERLAND\\n\",\n",
              " '\\n',\n",
              " '                          Lewis Carroll\\n',\n",
              " '\\n',\n",
              " '               THE MILLENNIUM FULCRUM EDITION 3.0\\n',\n",
              " '\\n',\n",
              " '\\n',\n",
              " '\\n',\n",
              " '\\n',\n",
              " '                            CHAPTER I\\n']"
            ]
          },
          "metadata": {},
          "execution_count": 220
        }
      ],
      "source": [
        "texts[:10]"
      ]
    },
    {
      "cell_type": "code",
      "source": [
        "# Add this right after your data loading section\n",
        "import nltk\n",
        "nltk.download('gutenberg')\n",
        "from nltk.corpus import gutenberg\n",
        "\n",
        "# Get texts from other classic books\n",
        "gutenberg_texts = []\n",
        "for fileid in gutenberg.fileids()[:5]:  # First 5 books\n",
        "    text = ' '.join(gutenberg.words(fileid))\n",
        "    gutenberg_texts.extend([text])  # Add as individual documents\n",
        "\n",
        "# Combine with your Alice text\n",
        "all_texts = texts + gutenberg_texts\n",
        "print(f\"Enhanced corpus: {len(all_texts)} documents\")"
      ],
      "metadata": {
        "colab": {
          "base_uri": "https://localhost:8080/"
        },
        "id": "pT8ok8zDDa8y",
        "outputId": "6d6d5d95-bdfa-4063-ac35-5b7b127b2a90"
      },
      "id": "pT8ok8zDDa8y",
      "execution_count": 221,
      "outputs": [
        {
          "output_type": "stream",
          "name": "stderr",
          "text": [
            "[nltk_data] Downloading package gutenberg to /root/nltk_data...\n",
            "[nltk_data]   Package gutenberg is already up-to-date!\n"
          ]
        },
        {
          "output_type": "stream",
          "name": "stdout",
          "text": [
            "Enhanced corpus: 3603 documents\n"
          ]
        }
      ]
    },
    {
      "cell_type": "code",
      "source": [
        "import gensim.downloader as api\n",
        "\n",
        "# Load a standard, pre-tokenized corpus (text8 is ~100MB of Wikipedia text)\n",
        "# This will download the data the first time you run it (it might take a minute).\n",
        "print(\"Loading text8 corpus...\")\n",
        "corpus = api.load('text8')\n",
        "print(\"Corpus loaded.\")"
      ],
      "metadata": {
        "colab": {
          "base_uri": "https://localhost:8080/"
        },
        "id": "oBrFLe7wZ5jX",
        "outputId": "eefdd30d-886d-483b-bfab-775ee0073eba"
      },
      "id": "oBrFLe7wZ5jX",
      "execution_count": 222,
      "outputs": [
        {
          "output_type": "stream",
          "name": "stdout",
          "text": [
            "Loading text8 corpus...\n",
            "Corpus loaded.\n"
          ]
        }
      ]
    },
    {
      "cell_type": "markdown",
      "id": "0d233537",
      "metadata": {
        "id": "0d233537"
      },
      "source": [
        "## 3.2 Data Quality Assessment"
      ]
    },
    {
      "cell_type": "code",
      "execution_count": 223,
      "id": "a5dd0ece",
      "metadata": {
        "colab": {
          "base_uri": "https://localhost:8080/"
        },
        "id": "a5dd0ece",
        "outputId": "ccc63f9d-6a4d-4861-ce62-9ea81ac2bde7"
      },
      "outputs": [
        {
          "output_type": "stream",
          "name": "stdout",
          "text": [
            "Total documents: 3,598\n",
            "Vocabulary size: 4,950\n",
            "Unique Words: {\"growling,'\", 'child', 'done.', 'difficulties,', 'imagine', 'life,', 'denied', \"mad.'\", 'arm-chair', 'patiently.', '`my', 'sooner', 'listened,', '`chorus', 'majesty', 'chanced', \"here!'\", \"alive!'\", 'attending', 'time', 'soldier', 'tea-tray', 'oblong', 'saw.', 'minutes', 'prize', \"court.'\", 'heap', 'chorus.', 'little.', \"`--where's\", 'hold', \"is!'\", 'trot', 'schoolroom,', 'kettle', 'business', \"lobster--'\", 'pet:', 'ground', 'hour', 'breath,', \"say!'\", 'lory,', 'grin,', 'panther', 'brass', \"i've\", \"william,'\", 'merrily', 'felt', 'me!', '`--likely', 'heads.', 'other.', 'rome,', 'entrance', \"words,'\", \"this?'\", \"altered.'\", 'timid', 'fluttered', 'earnestly,', 'flamingoes,', 'crocodile', 'dears', \"were',\", \"cards!'\", 'insolence', 'else\"--but,', 'like', 'coming', \"grunt,'\", 'saucepan', \"then!'\", 'soldiers', \"crumbs.'\", 'telescope!', '`that', \"home,'\", 'it;', 'so,', 'seriously,', '`tell', 'fighting', 'lost', 'dismay,', 'dozing', \"`there's\", 'directions', '`back', 'baby,', 'say', '`chop', 'scale!', 'sorry', 'hurry;', 'in', 'remained', 'daisies,', 'splash!', 'nibbled', 'handed', 'wife;', '`exactly', \"ill.'\", '`found', 'song', 'meekly', 'empty:', 'is--\"the', 'cautiously', 'hair!', 'answer,', \"all.'\", 'red', \"sort,'\", 'argue.', 'replied.', 'ah,', 'promised', 'looked', 'rushed', 'right;', 'doubling', 'lessons,', 'odd', 'forget', 'impossible.', 'confused,', 'came,', 'other;', \"do?'\", 'suppressed.', \"life!'\", 'introduced', 'oneself', 'snatch', 'chrysalis--you', 'civil,', \"ask.'\", 'suppose,', 'i,', 'appearance', 'comfortable,', \"better.'\", 'oh,', 'eaglet.', 'world', 'skimming', 'about.', 'beating.', \"is?'\", 'desperately:', 'low', 'sign', 'sighed', \"again,'\", \"sea-shore--'\", '`--for', 'who', 'muchness\"--did', '`she', 'balls', 'teaching', '`stuff', 'buttered', 'classics', 'editions', \"turtle.'\", 'distraction,', 'gay', 'duchess,', \"done,'\", 'ear,', \"bit,'\", 'rabbit!', 'scroll,', '`sentence', 'tried', 'white,', 'presents', 'used', \"myself,'\", 'escape,', \"spot.'\", 'evidence', 'filled', 'marked,', 'drink', 'bear?--mind', '`very', 'dear!', 'jaw,', 'beauti--ful', 'enormous', 'sharks', \"did,'\", 'suddenly', 'fall', \"won?'\", 'croquet-ground', 'painting', 'argument', 'stiff.', 'heels', 'witness', 'drunk', 'bawled', 'loudly', 'life!', 'dripping', 'poor', 'hate--c', \"king's\", 'children', 'lullaby', 'head!\"\\'', 'possibly', 'thanked', '`really,', \"us,'\", '`sure,', 'to,', 'box--', 'contempt.', 'thoroughly', \"dog's\", 'look!', 'quietly,', '`why,', 'dead', 'engraved', \"pocket?'\", \"then?'\", 'now.', 'till', 'faces.', \"somewhere,'\", 'impatiently:', 'put', \"it'll\", 'understand', \"tomorrow--'\", 'eating', 'salt', \"`well!'\", 'shark,', 'forehead', \"there,'\", 'mouths--and', 'tipped', 'present', 'dog', 'uncommonly', 'yer', 'interesting,', 'queen,', 'while,', 'doubt,', 'general', 'between', \"with,'\", \"go,'\", 'writing', 'upon', 'fit--\"', 'him--how', 'never!', 'slates,', 'end:', 'laughed,', 'course,', 'played', 'then--she', \"she'd\", \"axis--'\", \"puzzle!'\", \"enough!'\", 'owl', 'purple.', 'are', 'surprise.', \"dancing.'\", 'backs', \"off--'\", 'out,', 'as', \"tea,'\", \"business!'\", 'key;', 'unpleasant', \"there's\", 'raving', '`pepper,', 'first--verdict', \"you're\", 'lasted.)', \"dinah!'\", 'furrow', 'tell', 'going,', 'highest', \"alice!'\", 'surprise,', \"important,'\", 'opening', 'hurry', 'people.', 'saying,', 'sort', 'made.', 'then--i', 'please,', 'brightened', \"was.'\", 'rattling', 'roof', 'tone.', 'lobster;', 'm,', 'shower', 'puzzled.', \"dinn--'\", 'appeared', 'one', \"ma'am,\", 'curious', \"`can't\", 'talking.', 'to-night,', 'spectacles.', 'hurried', '(alice', 'deeply,', 'bit.', \"haven't,'\", \"talk!'\", 'execution.', 'proceed.', 'dish', 'itself,)', 'baked', 'hearts', \"man.'\", 'name,', 'because', \"time!'\", 'courtiers,', \"indeed,'\", \"head!'\", '`\"will', 'shrinking', 'crash)--`now,', 'up,', 'pegs.', \"`no,'\", 'attempt', 'forgetting', 'lately,', 'bowing', 'itself', 'mabel,', 'sorrow,', 'asleep.', 'dance?\"\\'', \"done.'\", 'silent,', \"music.'\", 'happened.)', 'story.', 'sang', '`curiouser', 'fitted!', \"whatever?'\", 'further:', 'repeated', 'folded', 'capering', 'rattle', 'sending', 'other--bill!', 'three-legged', 'printed', 'ask', 'stool', 'favoured', 'picture.)', 'manner,', 'singing', \"bit.'\", 'change:', 'her', \"to--'\", 'play', 'here!', 'roughly', 'getting', 'then,', 'looking-', 'puppy', 'lessons:', 'late', 'passage:', '`not', '`i', 'advance!', 'laughing', '`living', \"direction,'\", 'shall', 'mouth,', \"`you've\", 'down,', 'wags', \"never!'\", 'timidly', 'turtle', '`each', \"moment's\", 'questions', 'well,', 'lobster', 'not,', 'everybody', \"doesn't\", 'guests', 'are,', 'began:', 'arms,', \"wrong!'\", '`certainly', 'impatiently;', \"mushroom,'\", 'reaching', 'examining', 'scolded', 'encouraging', 'chimney', 'pleased,', 'longitude', 'savage', 'sudden', 'off', 'dance?', \"mouse!')\", 'suppressed', '`tut,', 'offer', 'appeared.', 'sure;', \"see.'\", 'pair', 'succeeded', 'understand.', 'mice', 'attempted', 'arm', 'completely.', 'croqueted', 'am,', \"queen's\", 'their', 'tie', 'officer', \"together!'\", 'anything.', 'shriek', \"alice's\", 'startled', '`poor', 'crumbs', 'powdered', 'plenty', \"here.'\", \"can,'\", 'this:--', \"savage!'\", 'grinned;', \"`i've\", '`shy,', 'lewis', 'man,', 'faster?\"', 'law,', 'fallen', \"here?'\", 'consented', 'ann,', 'unrolled', 'line', 'cool', 'live', 'courage.', 'howling', 'puzzled,', '`would', 'roared', 'month', 'indignantly,', 'stupidly', 'again.)', 'said', 'hare:', 'stole', 'replied,', 'from', 'tone:', 'begged', 'table', \"learn?'\", 'difficulty', 'animals', \"needn't\", \"dear!'\", 'spoke.', 'breath.\"', 'important', 'tasted', 'went,', 'subdued', 'panted', 'jury-box', 'choked', 'became', 'showing', 'trampled', \"`unimportant.'\", 'replied;', 'draw,', 'another!', 'sharply,', '`come,', 'weak', 'garden.\"\\'', 'singers', 'opened,', 'remarking,', 'sent', 'ma', 'lovely', 'courtiers;', 'bank,', 'finished', 'house,', 'mark;', 'goose,', \"yet!'\", 'whispered', 'it', 'had', 'otherwise,', 'shingle--will', '`important--unimportant--', 'cause,', 'ready', 'matter', 'others.', 'temper,', 'else.', 'spoon:', 'smiling', 'walk', 'birthday', 'rabbit-hole--and', 'footman.', \"crazy!'\", 'ugh,', 'seen,', 'should', \"mind,'\", 'uncommon', \"caucus-race?'\", \"lizard's\", \"answer?'\", 'away:', 'wings.', '(for', 'older', 'fetch', 'turn', 'explanation;', 'fulcrum', 'patted', 'barrowful', 'curiosity,', 'vulgar', 'shillings', 'true.)', 'tittered', \"they've\", 'large', \"mystery,'\", \"growing.'\", \"waiting!'\", '`fourteenth', 'circle,', 'duchess!', 'high:', 'asleep,', 'muchness--', '`but', 'home;', 'happening.', 'hated', 'fan,', 'stalk', 'doubt:', 'eel', 'burst', 'living', 'desperate', \"like,'\", 'anxiously', \"simpleton.'\", 'dream,', 'returned', \"time.'\", '`but,', 'delighted', 'sounds', 'livery,', 'pinched', 'leaves:', 'holding', 'cross,', 'more', 'changed,', 'gryphon', 'remark.', '\"william', 'tea', 'comes,', 'listeners', 'trees', 'crowd', 'cucumber-frame,', '\"there', \"hedges,'\", 'think,', 'reeds--the', 'singers.', 'anything;', 'trumpet,', \"nonsense!'\", 'slippery;', 'feet!', '`this', 'them:', \"not?'\", 'eels,', 'twinkling!', 'duchess;', 'cause', 'meaning.', 'toffee,', 'kills', 'altogether.', 'saying', 'slipped,', 'month,', 'eyes.--`tell', 'game,', 'instantly', 'indeed,', 'calmly,', 'mile', 'pressing', 'encouraged', 'tongue,', 'throw', 'that', \"`wouldn't\", 'guinea-pigs,', \"window.'\", 'night', 'injure', 'if', \"sea,'\", 'twelve?', 'knew)', '`without', \"sky-rocket!'\", '`can', 'mustard', 'absurd', 'wood.', 'pigs', 'end!', 'exact', 'accidentally', 'first', 'happen,', 'shrieked', 'ever', \"bill!'\", 'therefore', \"washing?'\", 'sentenced', 'pink', \"clearly,'\", \"confusing.'\", \"first.'\", \"heads!'\", 'cake,', 'mice--oh,', 'guinea-pigs', 'such', 'baby', \"he?'\", 'heard', 'twelve,', 'rate', 'splendidly', 'cat:', 'besides', 'shaking', \"accusation!'\", 'spoke;', \"school,'\", 'rustled', \"queen,'\", 'rapidly:', \"wasn't\", 'promise.', 'beast,', \"shall!'\", 'grazed', 'voice:--', 'liked', \"little,'\", 'repeat', 'fire,', 'dreadfully', 'taught', 'floor:', 'manner', \"beginning!'\", 'hands', 'talk', 'quick,', \"ears--'\", 'nurse', 'signify:', 'feeble,', 'draggled', 'others', '\"much', '`no,', 'sends', 'coming.', 'fountains,', 'day!', 'life;', \"me.'\", 'pleased', 'you,', 'sight,', \"`where's\", 'nine', 'again', 'puzzled.)', 'coast', 'course;', \"lessons?'\", 'purring,', 'strange', 'hookah', \"`why?'\", 'gloomily:', 'hatter;', '`ou', '`silence', 'hungry,', 'earth', 'reason', 'remark,', 'well', 'pray', 'mouse--a', 'mouse?', 'hours', 'tumbling', 'eyes:', \"must,'\", 'all', 'much', 'garden--how', 'hanging', 'mouth', 'too', 'fancied', 'learn', 'pieces.', '`get', 'remarks', 'for,', 'passion,', '`collar', 'shrill,', '`fury', \"`what's\", 'dormouse.', 'eagerly,', 'history.', 'these', 'talk:', 'can', 'reply.', 'stoop?', 'inquisitively,', 'listening,', 'speed', 'english,', '`what!', \"hat,'\", 'uneasy:', \"toes?'\", 'king.', 'march', 'bat!', \"nonsense.'\", 'speaking', 'question.', 'noticed', 'air.', 'five', 'teapot.', 'three,', 'eagerly:', \"life.'\", \"what's\", '`they', 'sort.', 'agony', 'side,', 'quiet', 'hatter', 'hers--she', 'tone;', \"`idiot!'\", \"people,'\", \"much!'\", 'is--\"be', 'queens,', 'with,', \"question,'\", 'dark', 'minute', 'balanced', 'room,', \"means--to--make--anything--prettier.'\", 'custard,', \"queen!'\", 'hatter:', 'languid,', 'he', 'body', \"beginning,'\", 'downward!', \"cup,'\", 'entangled', \"bit!'\", 'remark', 'neck,', '`a', 'without', 'rises', 'away,', 'moved', \"quadrille?'\", \"telescope.'\", 'telling', 'lazily', 'lock,', '`talking', \"hand,'\", '`whoever', 'variations.', 'whisper,', 'porpoise?\"\\'', \"water-well,'\", 'invent', 'each', \"through,'\", 'teacup', 'tumbled', \"he'll\", 'high,', 'dinah!', 'is!', 'sea.', 'splashed', 'serpent.', \"hatter.'\", 'turns', 'sound.]', 'quick', 'tops', 'like:', 'down!', 'zealand', '`what', 'right-hand', 'turkey,', '`explanations', '`leave', \"`stolen!'\", 'cakes', 'air,', 'boy--and', 'dreadful', \"`silence!'\", 'hurry,', 'pale,', 'from:', 'lory', 'recognised', \"yet,'\", 'anger', 'afford', 'lasted', 'began:--', 'politely,', 'execute', \"`nonsense!'\", \"would,'\", 'forepaws', \"annoyed,'\", 'sink', 'one!', \"trial's\", 'gryphon;', 'picked', 'door--', 'in.', 'killing', 'temper', 'sneezes:', '(it', 'slowly,', \"again!'\", 'turn-up', '(in', 'head:', 'guinea-pig,', 'lesson', 'list,', 'cats:', 'with.', 'she,', 'finds', 'rat-hole:', 'hunting', 'immediately', 'water,', '`which', 'english);', \"them,'\", 'strength,', 'knew,', 'taken', 'air:', 'voice.', 'gryphon.', 'flappers,', 'read', 'a', \"she,'\", \"thing,'\", 'among', 'tea--not', 'seemed', \"speak?'\", 'fit', 'comfort,', \"i--'\", 'enough--i', 'time).', 'common', 'hedge.', 'once;', 'bowed,', 'throne', 'whiting.', 'lose', \"onions.'\", 'something;', 'she', 'over)', \"rabbit'\", 'drowned', 'agree', 'him.', 'fidgeted.', 'yourself', 'game', 'neighbour', 'throwing', \"'tis\", 'later.', 'grass', 'sneeze,', 'pitied', 'execution--once', 'man', \"more.'\", 'do.\"', 'silent', 'wide', 'hall:', 'sweet-tempered.', 'age,', '`is', 'ear', 'several', 'gloves,', 'round.', 'silent.', 'helped', 'foot', 'table:', 'high', 'garden.', 'treacle-well--eh,', \"`we're\", '\"who', '`change', 'draw', 'asking,', 'take', 'kick', 'animals,', 'managed?', \"nose';\", 'first--they', 'begun', 'washing--extra.\"\\'', 'millennium', \"`you'd\", \"offended!'\", 'high.', 'keep,', '(he', 'beheading', 'mournful', 'flapper', 'about;', 'skurried', \"`who's\", 'added', 'leant', 'gravely,', '`either', 'grumbled:', 'child:', 'marched', \"cats!'\", 'about', 'country', 'note-book,', \"yourself!'\", 'terrier,', 'ask.', \"day!'\", 'exclamation', 'stretching,', 'closed', 'speech', 'saucepans,', 'fly', 'the', 'rush', 'eaten', 'nasty,', 'coaxing', 'what?', 'rock,', 'bird', 'ancient', 'dormouse,', 'far,', 'hard', 'fanning', 'riddle', 'letter,', 'meant', \"think,'\", \"ann!'\", 'always', 'altogether', \"person!'\", 'difficulty,', 'stupid', 'is--\"oh,', 'deep,', 'dull', 'sell', 'belt', 'dry,', 'miserable', \"afraid,'\", 'uncomfortable.', \"all?'\", 'either', 'finger', 'dispute', 'himself:', 'say.)', 'tremble.', 'pie-crust,', 'open', 'best.', 'happy', 'mournfully.', 'whistling.', 'vanishing', 'simple', 'hearth', 'green', 'before.', \"honour!'\", 'sister;', 'sharp', 'theirs,', \"talk,'\", 'executioner,', 'almost', '`it', 'ornamented', 'thump!', 'fell', 'alice,)', 'replied:', 'it.', 'interrupted', 'delight,', 'stand,', 'gloves:', 'larger', 'him,)', 'face', \"`nothing,'\", \"lady,'\", 'returning,', 'smaller,', 'adventures,', \"baby?'\", '\"how', 'less', 'sing', 'closer', 'sea,', 'indeed', 'no', 'lizard,', 'conclusion', '`any', 'happen:', 'was!', 'over,', 'paper.', 'hastily;', \"jury--'\", \"is,'\", 'wrote', 'us', 'parts', \"feeling!'\", 'garden:', \"from?'\", 'fly;', 'cried', 'morals', 'nothing,', 'so', 'been', 'book', 'want', \"pig,'\", 'turtle;', 'clinging', 'quickly', 'bottle.', \"had!'\", 'pigeon', 'questions.--how', 'baby;', 'swim', \"think--'\", \"pace,'\", 'explanation.', '`have', 'ferrets', 'them,', 'tea;', '`ah!', \"little!'\", 'appearing', 'tureen!', 'officers', 'paws!', \"draw,'\", 'rule', 'took', 'it!', 'wandering,', 'form', 'brought', 'rubbing', 'continued', \"coming!'\", 'however,', 'places--', 'crowded', \"now!'\", 'than', \"toes.'\", '`now,', 'station.)', \"present!'\", 'out', 'affectionately', 'hundred', 'dream.', 'red.', 'brush,', 'happen', 'corner', 'treated', 'slate', 'grave', 'quarrel', 'person,', 'mouths;', 'turtles', 'minutes.', 'any', 'given', \"`it's--it's\", \"things!'\", 'dig', 'steady', 'marked', 'note-book', 'wait,', 'may', \"sell,'\", \"day--'\", \"wow!'\", 'stupidest', \"figure,'\", 'farmer,', 'cry', 'earnestly.', 'myself', 'cucumber-frames', 'dish?', 'licking', 'subjects', 'small,', \"weeks!'\", 'pulled', 'caterpillar.', 'while', 'undo', 'comfortably', 'least--at', '\"too', \"with?'\", 'laugh;', 'recovered', \"march.'\", \"think!'\", 'us.', 'meal,', '`take', 'seated', 'deserved', 'unless', \"that?'\", '(not', 'again;', 'again:--', 'straightening', 'sharply', '`seals,', 'face--and', \"like.'\", 'made', 'good', 'son,', \"yourself.'\", 'say.', 'plates,', 'lips.', '`boots', 'shore.', '`repeat,', 'games', 'listen.', '`till', 'you.', 'none,', \"what?'\", 'centre', 'care', \"brother's\", 'humble', \"english,'\", \"railway,'\", '(and', 'absence,', 'minute.', 'a-piece', 'kid', 'quicker.', '`by-the-bye,', 'bag,', 'was)', 'pigs,', 'fright', 'could', 'have', 'i', 'you--are', 'rising', 'fan!', 'disappointment', 'reading,', 'time.', \"wood,'\", '`only,', 'next!', 'consultation', '`one,', 'cleared', 'crossed', \"begin.'\", \"perhaps?'\", 'carry', \"`dinah'll\", 'effect', \"tasted--'\", \"william's\", 'remarked:', 'does.', 'speaking,', 'which', 'scream', 'frog-footman', 'were.', 'largest', 'woman--', '`beautiful', \"verdict,'\", 'strings:', 'spades,', \"you'll\", 'ask!', 'waters', 'subject.', 'stood', \"fun?'\", 'slowly', 'sluggard,\"\\'', 'thank', \"maybe,'\", \"advantage,'\", 'talk.', 'shorter,', 'rule:', \"game,'\", '`never', 'kitchen', \"she'll\", 'moral,', 'failure.', '\"turtle', 'case', 'raven', 'pat,', '--but', '\"let', 'thought:', \"oyster!'\", 'expressing', \"bill's\", 'meet', 'welcome', \"on.'\", 'way.', 'smile.', 'civil', 'alive', \"that!'\", 'pebbles', 'frontispiece', 'middle.', '\"twinkle,', '`soo--oop', 'head--', 'red-hot', 'shared', 'change', 'dormouse:', \"proceed,'\", 'fact', \"dogs?'\", 'sour--and', 'real', 'ran;', \"did!'\", 'acceptance', 'broken', \"didn't!'\", 'wept', \"remember,'\", 'bee,\"', \"of?'\", 'howled', \"below!'\", 'daughter', \"sea.'\", 'smiled', 'encourage', \"names,'\", 'doubtfully,', \"to-day.'\", 'somebody', \"sir--'\", \"`'tis\", 'sea!\"', 'queen:', 'ridge', 'walrus', 'loveliest', 'shoulder', 'fading', 'imitated', \"`you're\", 'feeling', 'though,', 'turning', 'trial,', 'skirt,', 'funny', \"we're\", 'unable', 'that!', 'him;', 'sobbed', 'listen', 'beds', 'turned', 'cheshire', 'neat', 'folding', 'two', 'nose,', 'home', 'conversations', 'day;', 'hoarse,', 'things--everything', \"be?'\", 'beginning', 'soon.', 'this', 'pocket', 'turtle.', \"explained,'\", \"see,'\", 'right', 'added,', 'spoke,', \"things?'\", \"don't!'\", 'shutting', 'dinah:', 'seen', 'bread-and-butter,', 'alone', 'fork', 'ridiculous', 'stay', 'last,', 'eyes.', 'door;', 'spell', 'twice,', 'sisters--they', 'reasonable', \"soup!'\", '`where', 'end,', \"dear,'\", 'together,', 'was,', 'whatever', \"them--'\", 'party', 'cat!', 'cup', \"you,'\", 'push', '(which', 'brown,', 'protection.', 'quietly', 'capital', '`\"--found', 'above', 'manage', 'joined', 'counting', 'behind', 'knave.', \"coils.'\", 'sneezing,', 'could,', 'bottle', \"last!'\", \"you!'\", 'finished.', 'bank--the', 'angry,', '(though', 'doing', 'iii', 'nurse--and', \"judge,'\", 'talking', 'ours', 'queen.', 'off).', 'submitted', 'smoke', \"to?'\", 'fills', 'besides,', 'stairs.', \"these?'\", 'brave', 'croquet-ground.', 'directly.', \"finished.'\", 'feet,', 'lodging', 'come', 'crown.', \"like!'\", 'still', 'short', 'free,', \"that'll\", '`--and', '`then', \"know!'\", 'noise', 'often,', \"egg!'\", 'doth', 'chains,', 'way,', 'pop', 'loving', '`one', 'key,', \"true,'\", 'sugar', \"course.'\", \"(`that's\", 'directions,', 'lifted', 'knife', 'fire-irons', 'riddles.--i', \"him.'\", 'offended.', 'eat\"', \"`it's\", 'hedgehogs;', 'eye', '`--well', 'either,', 'neighbouring', 'actually', 'growl', 'head,', 'last:', 'nowhere', 'tinkling', 'free', 'morning', 'to?', 'hall;', 'once,', 'his', 'twinkled', 'wondering', 'bleeds;', '`as', 'heads', 'high).', 'low.', 'must', 'standing', \"yet?'\", \"thimble';\", \"t!'\", 'jury.', 'waistcoat-', 'bats', 'mouse:', \"shiny?'\", 'gloves', 'wriggling', 'gloves--that', 'arches', \"sing?'\", 'changed', 'field', 'begin,', 'adjourn,', 'dears?', 'same,', 'decidedly,', 'remarked', 'nose', \"stuff,'\", 'race', 'knelt', 'do.', \"raw.'\", 'flamingo.', 'us,', \"witness.'\", 'belong', 'flurry', 'hurriedly', 'triumphantly,', 'eaglet,', '`really', '`are', \"dinner!'\", 'declare', \"verse.'\", 'left,', 'somehow', 'notice', 'seldom', '`no', 'clock.', 'yours:', 'players,', 'replied', 'believed', 'visit', 'complaining', 'inwards,', 'cackled', \"somebody.'\", 'it.)', 'be,', 'loud', 'lowing', 'back', 'constant', 'alice.', 'seeing', 'bread-and-butter.', 'refused', 'way--never', 'here,', 'drawling-master', \"are!'\", 'serpent;', 'mine', \"trouble!'\", 'quite', 'timidly,', 'time!', 'makes', 'shrink', 'humbly:', 'even', \"end.'\", 'catch', 'side', 'tale', 'accident,', \"doing!'\", '(`i', \"find?'\", 'ravens', 'animal', \"yet--it's\", 'grins', 'e--e--evening,', 'toes', 'takes', 'dears!', \"away!'\", 'yards', \"puppy's\", \"carrier,'\", 'sob,', 'arm,', '`when', \"lobsters!'\", 'sensation,', 'gained', 'hearing.', 'elegant', 'judging', 'shock', 'off,', 'extremely', 'haste,', 'hair', 'eats', \"dance,'\", 'english.', \"tale!'\", 'think', 'plainly', 'room.', \"thimble,'\", 'quarrelled', '`--or', '\"such', 'beloved', 'must,', 'ground,', 'with', 'faint', \"book,'\", 'but,', \"child,'\", 'hare,)', 'worry', 'sleep,', \"majesty!'\", \"shoes.'\", \"somewhere.'\", \"verse,'\", '`fetch', 'most', 'unlocking', 'canary', 'tulip-roots', 'bright-eyed', 'then;', \"with.'\", 'as,', 'also,', 'england', \"trial.'\", 'pat!', \"first,'\", 'minutes,', 'listening:', 'advance', 'him,', '`--that', 'splashing', 'learn!', 'fit)', 'tree', 'trouble', 'cannot', \"home?'\", 'think!', 'respectful', 'yawned', 'too,', '`\"what', 'chapter', 'uglification,', 'crab,', 'branches,', 'jaws', 'normans--\"', 'waste', 'shyly,', 'salmon,', 'retire', '`w.', \"dream!'\", \"days.'\", 'drop', \"trying.'\", \"cat's\", 'himself,', 'answered', \"day,'\", 'awfully', '(look', 'thick', \"opinion,'\", 'advice', 'is--oh', \"bird,'\", 'sigh:', 'shrimp', 'pity.', 'blame', 'wanted', 'sage,', \"shouldn't\", 'shepherd', 'tea,', \"isn't\", \"removed,'\", 'silence', 'song,', \"`let's\", 'cushion,', 'straightened', 'tucked', '`the', 'father', 'move.', 'mouths.', 'advantage', 'hare', 'limbs', 'here?', 'buttons,', 'delay', 'poker', 'needs', 'beasts,', 'nervous,', \"conversation?'\", \"`i'm\", 'tarts?', 'alice', 'yawning', 'est', \"up.'\", 'fair', 'lizard)', 'happens', 'labelled', 'nodded.', 'permitted', 'swim--\"', 'eggs,', 'guard', 'executed', 'dry', 'spectacles,', 'back.', 'on,', 'knee.', \"youth,'\", 'after-time,', 'vii', 'hurry:', \"butter,'\", 'dear:', 'cat.', 'this),', 'snorting', \"serpent?'\", 'true--\"', \"jurors.'\", 'jurymen.', 'last', 'scratching', 'perfectly', 'chin', 'queen!', \"experiment?'\", 'letters.', 'magic', 'uglify', 'severely.', \"dreadful,'\", 'sky!', 'disappeared.', 'butterfly,', \"fancy--who's\", 'yesterday,', 'passed;', 'easy', \"think?'\", 'audibly.', 'mean', '`why', 'stigand,', 'hair.\"', 'him--it', 'argued', 'fat;', 'bringing', '`from', 'losing', 'hare,', 'pronounced', 'half-past', \"coward!'\", 'carefully,', \"english!'\", 'die.', 'that,', \"trying--'\", 'voice--the', 'comfits,', 'clubs;', 'ignorant', '`mouse', 'panting,', 'went.', 'closely', 'that?--it', 'got', \"rate,'\", 'soldiers,', 'kindly', \"any,'\", 'straight', 'held', 'stays', 'grass,', 'master,', \"again.'\", 'on.', 'grown', 'near.', 'old', \"subject,'\", 'shelves', \"ever,'\", 'one,', 'messages', 'shoes', \"`arrum.')\", \"business,'\", \"asleep,'\", 'few', 'work', 'interesting.', 'rose-tree', 'unusually', \"bats?'\", 'wandering', 'child-life,', 'soup!', 'wondered', \"him,'\", 'kick,', \"sister's\", 'cauldron', \"mine.'\", '`suppose', 'little,', \"that's\", 'are;', 'peeped', 'cat.)', 'terror.', 'try', 'ever;', 'hardly', \"off.'\", 'addressed', \"dear?'\", 'presented', '`hush!', 'temper.', \"pleases!'\", \"sobbing,'\", 'bursting', 'soo--oop!', 'follow', \"off?'\", 'gravely.', 'beautiful', 'whom', 'choke', 'mixed', 'pictures', 'know', \"duchess,'\", 'managed', 'meekly:', 'tea.', 'pretend', 'longed', 'evidently', 'grey', 'mineral,', 'ashamed', 'guests,', 'child,', 'asleep', 'enough,', 'age', 'grew', 'curls', 'elbow', 'then--always', 'hand', 'bring', 'twinkle--\"\\'', 'me', 'that:', \"marmalade',\", 'tortoise,', '\"it\"', \"guilt,'\", 'sun,', 'sun.', 'goldfish', \"it's\", 'cattle', 'floor,', 'remembering', \"doing?'\", \"mind.'\", 'passage', 'passionate', '(sounds', 'leaves.', 'anxiously.', \"housemaid,'\", 'disobey,', 'bother', 'land', 'louder', 'chin:', 'remaining', 'cards:', 'already', 'nose;', 'watch', \"stay!'\", 'broke', 'having', \"cutting,'\", 'boldly:', 'proper', 'friend.', \"jaws!'\", 'hoping', 'muscular', \"everything's\", 'sensation', 'night-air', 'alice;', 'number', \"one,'\", 'rippling', 'smile:', 'fright.', \"you?'\", 'children;', 'idea', 'v', 'sit', 'knocked.', 'exclaimed,', 'narrow,', \"child?'\", 'doubt', 'feel', 'along--`catch', 'known', 'did.', 'cushion;', 'good-bye,', 'twenty', \"axes,'\", 'mouse', 'now--but', 'crown', \"temper,'\", 'flavour', '`well!', 'left', '`\"miss', \"`he's\", 'lacie,', 'involved', 'diligently', 'jumped', '`dear,', 'again--\"before', \"elbow.'\", 'passion.', 'escape', 'knave,', 'watched', 'position', 'sight', 'once:', 'serpent,', 'whether', 'winter', 'flashed', 'noticed,', 'angrily,', \"this,'\", 'pleasing', 'paper', 'mouth;', 'blades', 'creep', 'laughter.', 'birds,)', 'tougher', 'ground--and', 'pretending', \"prisoner's\", 'queer,', 'day:', \"giddy.'\", 'upset', 'thing', 'directly,', 'invited', '`right,', 'tea-time,', \"`yes!'\", 'also', 'loud,', 'door:', 'bones', 'stopping', 'crashed', 'jury', 'subject', 'brain;', 'banks,', 'brown', 'breeze', 'would', 'eye;', 'row', 'proposal.', 'height', \"and-butter--'\", 'jury-box,', 'fellow?', 'tells', 'fly,', 'flat', 'go', 'sure', 'answer', 'law:', 'mushroom,', 'inches', 'rope--will', \"suppose.'\", 'lory.', 'arrived,', 'respectable', 'afore', 'speak--and', 'them.', 'exclaimed', 'nobody', 'over.', 'more,', \"part.'\", 'thing.', 'continued,', 'rules', 'camomile', 'inquired', 'down--here,', 'pigeon,', 'bread-', \"cakes,'\", 'over;', 'flown', \"wouldn't\", 'garden,', 'effect:', '`nine', 'seem', 'chorus,', 'drawing', \"be.'\", '`now', 'green,', 'mistake;', 'longer', 'middle', 'rather', '`who', 'lap', \"wig.'\", 'cries', 'xii', 'them', 'head.', \"twelfth?'\", 'sadly', \"throat!'\", 'cheeks,', \"cats?'\", 'alas!', 'pause.', 'nevertheless', 'violently,', 'bend,', 'eyes--and', \"here,'\", 'life', 'every', 'lessons', 'towards', 'sad', 'expected:', \"you.'\", 'account', 'walked', 'away.', 'that;', '`--so', 'miss', 'all.', 'ventured', '`oh,', \"`sixteenth,'\", \"is--'\", '`--mystery,', 'treading', 'livery:', 'hand.', 'wig,', 'words:--', 'afterwards,', 'viii', 'arm-in-arm', 'conclusion,', 'thistle,', \"grin,'\", 'toss', \"court!'\", 'bill', \"majesty,'\", 'act', 'minute,', 'one--but', 'players', 'seaography:', 'sense,', 'pray,', 'slates.', 'fond--of--of', 'across', 'present--', 'manners', \"`i'd\", \"means.'\", 'snail', 'shade:', 'procession,', 'jury,\"', 'would,', '`rule', \"conqueror.'\", 'lobsters,', 'respect.', 'i?', 'certain', 'butter', 'certainly', 'supple', '(`which', 'search', 'maps', 'break.', '`behead', 'earth.', 'stretching', \"twice--'\", 'bone', '`consider', 'burnt,', 'roses.', 'sleep\"', \"extremely--'\", 'glass,', 'court', 'dodged', 'slate.', 'processions;', 'her.', 'waited.', 'beautifully', 'worse.', \"star-fish,'\", 'drive', 'down.', 'bill,', 'together.', 'sulky', 'love).', 'first;', 'violently', \"croquet.'\", 'cried.', 'mad', 'time,', 'verses', 'game.', \"hot-tempered,'\", 'alice:', 'father;', 'contemptuously.', 'bit', 'said:', 'started', \"shoes!'\", 'claws,', 'folded,', '(for,', 'dainties', 'fish)--and', 'bark', 'whiskers!', 'can;', \"mayn't\", \"`it'll\", 'washing', '(she', '\"you', 'six', 'told', 'soo--oop', \"o'clock\", 'authority', 'drinking.', 'softly', 'change,', 'opposite', '`besides,', 'caterpillar;', 'mad,', 'suppose', 'window,', 'arithmetic--', 'chin.', 'pool,', \"rabbit's--`pat!\", 'bitter--and--and', 'feather', \"getting!'\", 'tea-time.', 'suit', 'reminding', 'had,', 'askance--', 'bright', 'hearing', 'fast', 'days.', 'seven', 'pocket,', 'glass.)', 'out.\"', 'ending', 'box', 'roast', \"about,'\", 'hot', 'fact.', 'dates', \"not,'\", 'aloud.', 'inside,', 'worth', '`reeling', '(before', 'miles', \"clever?'\", 'more.', 'rumbling', 'all;', 'pictured', 'quiver', 'hurry.', 'lay', 'hands;', 'furious', 'hungry', 'finish,', 'explain', \"too.'\", 'eagerly', \"where--'\", 'steam-engine', 'four', 'serpents', 'shake', 'dormouse', 'beautify', \"that,'\", 'near', 'sulky,', 'looking', '`stand', 'ought', '`write', 'moved.', 'mouse--of', 'passed', 'rose', 'out-of-the-way', 'more--as', 'door--i', 'trickling', 'tidy', 'together', \"behind?'\", \"course,'\", 'soup', \"either!'\", 'advisable', 'shoulders.', \"watch,'\", \"lessons,'\", 'faster', 'porpoise', \"for.'\", 'immediate', 'squeaked.', 'slates', 'fumbled', 'did,', 'ridges', 'waistcoat-pocket,', 'squeaking', 'could!', 'quadrille,', 'mentioned', 'share', '`does', 'duchess:', \"king,'\", 'rest,', 'size', 'without--maybe', \"man,'\", 'this:', 'mabel', 'rich', \"one?'\", \"to-day?'\", 'footman,', 'dear,', 'simply', 'tongue', 'ran.', 'choking', 'roof.', 'second', 'days', 'never-ending', 'velvet', \"ground.'\", \"hadn't\", 'squeezed', 'carrying', 'usual', 'fine', 'tail', 'altogether;', '`cheshire', \"dormouse,'\", 'knuckles.', 'way!', \"all!'\", 'procession', \"crumbs,'\", 'rabbit:', 'first,', 'milk-jug', 'names', 'shaped', 'bound', 'butter,', 'has', \"chimney!'\", \"hedge!'\", 'merely', 'learnt', \"before,'\", \"roses?'\", 'like\"!\\'', '`explain', 'two,', \"alice's,\", \"history,'\", 'great', 'swim,', 'excellent', '`ah,', 'juror', 'different.', 'royal', '`--as', 'listen,', 'journey,', 'assembled', '`in', 'low,', 'alarm.', 'voice', 'corners:', 'vegetable.', 'yourself,', 'crossly:', 'shore,', '`until', 'saves', 'eager', 'dishes.', 'affair,', 'begin', 'wretched', 'fish-footman', \"speaker,'\", 'memorandum', 'new', 'somewhere', 'circumstances.', 'paris', 'melancholy', 'finger,', 'remember', 'shakespeare,', 'next', 'done,', 'denies', 'untwist', \"`important,'\", 'say,', 'might', 'neatly', 'pinch', \"mouse's\", 'mustard-mine', 'gave', 'does,', 'nice,', 'outside.', 'honest', 'sobs', 'notion', 'growled', 'trial', 'it,', 'you--all', 'said.', 'paws', 'sadly.', 'sneezed', \"well--'\", '(`the', 'soothing', 'met', 'evening,', 'rude,', 'call', \"like?'\", 'mind,', 'sorrowful', 'enjoy', \"seems,'\", 'nursing', 'nothing.', \"sing,'\", 'crash', 'indeed.', 'king:', 'conger-eel,', 'dinah,', \"course?'\", \"extras?'\", 'court;', 'how', 'words,', 'anything', 'finished,', 'leap', 'politely;', 'yours', \"guinea-pigs!'\", 'caught', \"heard!'\", 'wonder', \"won't\", 'did', 'impatiently,', 'grin', 'gryphon,', 'make', \"`that's\", 'trying', 'piece', 'perhaps', 'win,', 'goose!', \"isn't,'\", 'little--\"\\'', 'riper', \"can--'\", \"won't,\", 'anything,', 'undertone,', 'table.', 'remarked;', 'remain', 'dunce?', 'thinking', \"breathe.'\", \"pardon,'\", 'kitchen.', 'mouse.', \"she's\", \"evidence,'\", 'sometimes', 'just', \"off,'\", 'lest', 'missed', 'pity', 'alone.', \"lower,'\", 'name:', 'morcar,', 'fond', \"to.'\", 'dropped,', 'mouse,', 'forgotten', 'french', 'lying', 'queer', 'shoulder,', '`call', \"curious.'\", 'particular.', 'muttered', 'sheep-', 'swallowing', 'long,', \"wine,'\", 'character,', 'join', 'other:', 'queen', 'rabbit-hole', 'uncivil.', \"enough.'\", \"dinah'll\", 'considering', 'crawled', 'denial;', 'way', 'feelings.', '`then,', '`nothing', 'knife,', 'eat', 'began.', 'somebody,', 'learned', 'repeating', 'comes', 'sleep', 'found', 'thought,', 'managing', \"choice!'\", 'turtles,', 'bough', '`--change', 'now!', 'rosetree;', \"procession,'\", 'alice!', \"be!'\", 'flinging', \"mean,'\", 'unwillingly', \"nothing.'\", 'porpoise,', 'shilling', 'guessed', \"remarks,'\", \"eggs,'\", 'grow', 'top', \"was!'\", 'sense', \"see!'\", 'shut', 'blows', 'fancy,', 'foot,', \"temper!'\", 'staring', 'before', 'pool--she', 'x', 'enough;', 'why.', 'pack', 'question', 'curtseying', 'tiny', 'toast,)', \"where.'\", '`than', 'barley-sugar', 'treacle', 'cakes,', \"certainly,'\", \"were,'\", 'follows', 'please', 'tossing', '`or', 'finish', \"invited,'\", 'ladder?--why,', 'ought!', 'pretty', 'paint', 'farm-yard--while', 'roses', 'impatient', 'solemnly', 'wildly', 'lobsters', '\"come', 'surprised', 'this;', 'inclined', 'geography.', 'book-shelves;', 'itself.', 'see\"!\\'', 'vi', 'sharing', 'duck', 'grammar,', 'close,', 'surprised,', 'thought;', 'rome--no,', 'vote', 'persisted.', 'seem,', 'soup?', 'half', 'wonderful', 'watching', 'safe', 'lamps', 'patiently', 'existence;', '`because', 'dropping', 'only', \"words.'\", 'now', 'squeeze', \"cat,'\", 'live.', 'sand', 'furiously,', 'usual.', \"alone!'\", 'once.', 'plate', 'lie', \"holiday?'\", \"the--'\", 'natural', 'knave', 'solemnly,', 'executes', 'caterpillar,', 'twinkling', \"shorter.'\", 'cake.', 'stopped', 'justice', 'fur', 'reduced', 'wood,', 'dodo,', '`eat', 'making', 'shoulders,', 'does', 'paws.', 'smoking', 'down:', 'impossible', \"know.'\", 'sorts', 'sobs,', 'mabel!', \"first!'\", 'effect,', '`digging', 'raising', 'creatures.', 'uncomfortable', 'hedgehogs,', 'interesting', '`o', 'you!', 'tillie;', 'tone', \"execution.'\", \"pardoned.'\", \"manage?'\", '(luckily', 'wise', 'arrow.', 'best', 'doors', 'scrambling', 'cunning', 'over', 'now,', 'wind,', 'mouse--to', 'mind', 'larger:', 'escape;', 'beheaded,', \"sea--'\", '`sh!', \"sir,'\", 'wag', 'settle', 'jack-in-the-box,', 'wow!', \"then,'\", 'neck', '`nobody', '\"french,', 'years,', 'all,', 'time.)', 'mistake', 'joys,', 'teeth,', 'taking', 'up', 'comfits:', 'eyes', 'trumpet', 'ann!', 'sleepy,', 'introduce', \"handwriting?'\", \"bill,'\", 'fix', 'spreading', 'line:', 'picking', 'contradicted', '`may', '`he', 'cats', 'thimble,', '`with', 'fellows', 'pulling', 'bore', 'stingy', 'they', \"a--'\", \"tea--'\", 'surprise', \"bed!'\", 'miss,', 'off;', 'size:', 'reply,', 'stirring', \"begin?'\", 'persisted', 'deeply', \"removed!'\", 'suppress', 'appear', 'him:', 'honour,', 'cartwheels,', 'wooden', 'beating', 'rubbed', 'forty-two.', 'busily', 'nor', 'waiting', 'faster,', 'help', 'well!', 'go!', 'received', \"right,'\", 'word', 'sighing', 'here;', 'gone,', 'thoughtfully:', 'executioner', 'clasped', 'white', 'chimneys', 'curtsey', 'whole', 'is', 'knot,', 'boy,', 'room!', 'with;', \"duchess's\", \"so,'\", 'dogs', '`on', 'him', 'knowledge', 'so--and', 'her,', 'locked;', 'all:', '(with', 'spite', 'frightened', 'used--and', \"them!'\", 'crying', \"end,'\", 'lost:', \"whiting!'\", 'sleepy', 'its', 'hastily', 'guinea-pig', 'quadrille', 'own', 'executed,', 'hoped)', \"won't!'\", 'tones', 'remarkable', 'nearer,', 'herself.', '`all', 'legs', 'ears', 'hit', 'likely', '`stupid', 'use', 'extraordinary', 'air!', 'footman', 'snappishly.', 'thought', \"else's\", 'invented', 'asked,', 'swim.', 'turtle:', 'duchess', \"fun!'\", 'feared', 'plan,', 'difficult', 'stretched', 'where', \"in?'\", '`--yes,', 'dodo', 'alive;', '`please', 'paris,', 'repeated,', \"say,'\", \"`you'll\", 'terribly', 'offended', 'mine--a', 'you', 'home!', 'remarked,', 'tale,', 'venture', 'offended,', 'afraid,', 'timidly:', \"stupid?'\", 'it:', 'burning', '`everybody', 'wasting', 'harm', 'called', 'shrill', 'word)', 'far', 'hoarse', 'hatter,', 'overhead;', 'promising,', 'experiment', 'minded', 'woke', 'send', \"perhaps,'\", 'fact,', 'creatures,', 'currants.', 'head--brandy', 'jogged', 'mostly', 'improve', '\"there\\'s', '`well,', \"one.'\", 'tut,', 'quarrelling', '`hold', 'fan', 'be\"--or', \"moment!'\", 'gallons', 'suet;', \"a--i'm\", 'disappeared;', 'fear', \"australia?'\", 'thunder,', 'fireplace', 'creature', 'somersault', '`allow', '`hand', 'blasts', \"majesty?'\", 'hide', 'canvas', 'mock', 'wet,', 'day', 'terms', \"time,'\", '`unless', 'better', '\"coming', 'personal', 'grand', 'and,', 'school', 'spoken', 'suddenly:', \"jury-box,'\", 'atom', '`please,', \"porpoise.'\", 'knocking,', 'noticing', 'cart-horse,', 'soft', 'herself,', \"`they'd\", 'precious', '`anything', 'fun', 'things', 'him),', 'ugly', 'only,', \"`everything's\", 'allow', '`his', 'seen:', 'ran', 'sister,', 'pig-baby', 'apples,', 'solid', 'down', \"`fifteenth,'\", \"girl,'\", 'righthand', 'kept', '`shall', '`turn', 'yet,', \"now?'\", 'pigeon;', 'invitation', 'dare', 'hippopotamus,', 'verse', 'forwards', 'worse', 'least', '`soles', 'said,', 'turn;', 'mischief,', 'indeed:--', 'course--', 'voices', \"attending!'\", \"one's\", 'me?', '`serpent,', '`once', 'jury,', 'meeting', 'together:', 'bear:', 'unfortunate', 'wonderland', '`\"we', 'becoming.', \"outside.'\", 'again!', \"about!'\", 'easily', 'cares', 'five.', 'it?)', \"usual,'\", 'hurrying', '`to', 'gone', 'on!\"', 'seen--everything', 'hear', 'buttercup', 'garden', 'on;', \"`she's\", 'small.', 'caused', \"begun.'\", 'sleepy;', \"witness!'\", 'condemn', 'content', 'alice)--', \"derision.'\", 'seems', 'placed', 'said,)', 'that--only', 'back-somersault', 'signifies', 'voice,', 'knew', 'digging', 'dream:--', 'mushroom', 'blacking,', 'flower-pot', \"say.'\", \"it.'\", 'swallow', 'adding,', \"twinkle--'\", 'hint;', 'head', \"you've\", '`unimportant,', 'unhappy.', \"`very,'\", 'drew', 'helpless', \"then!--bill's\", 'pattering', \"not!'\", 'climb', 'twist', 'feet', 'trembled', 'front', \"three.'\", 'head!', 'leading', 'plate.', 'particular--', 'pounds!', \"do.'\", \"plan!'\", 'latitude', 'below,', 'lady', 'flustered', 'sorrows,', 'march,', 'growing,', 'morsel', \"pig!'\", 'things--i', \"all,'\", 'week:', 'child;', 'wherever', '`orange', 'fanned', \"executioner's\", 'knee', 'means', 'handsome', 'crimson', '`look', 'courage,', 'milk', 'fish', 'arch', 'caucus-race', 'are!', 'world!', 'creatures', 'stupid),', 'puzzled', 'am', 'rate!', 'began,', 'severity;', 'ordered', 'little', \"sort!'\", 'iv', 'sharply;', 'not.', 'trotting', 'grinning', '`perhaps', \"`here!'\", 'hatters', 'peering', 'feeble', '\"\\'tis', 'distance.', 'rate,', 'trembling', 'delightful', 'readily:', 'turtle--we', 'more:', 'bathing', 'beat', 'practice', 'kill', \"animal's\", 'wood--(she', 'to', 'good-', 'chimney,', 'love,', 'other', \"much,'\", \"teases.'\", 'ambition,', 'thunderstorm.', 'ourselves,', 'twenty-four', 'stuff?', 'glass;', 'shrieks,', 'stockings', 'concluded', 'loudly.', \"day.'\", 'march--just', 'humbly;', 'pieces', 'doze;', 'spoke--fancy', 'give', \"afterwards.'\", 'once', 'cheered.', 'croqueting', 'flung', 'newspapers,', \"whiles.'\", 'said;', 'sprawling', 'childhood:', 'around', 'anxious', 'disagree', 'tea-things', 'fountains.', 'setting', 'jumped;', 'voice:', \"time?'\", 'judge,', \"late!'\", \"unimportant--important--'\", 'confusion', 'indignant', 'tail;', 'answered,', 'herself;', 'that.', \"fashion.'\", 'you,\"\\'', \"answers.'\", 'year', '`nor', 'rightly', 'summer', \"stop.'\", 'thoughtfully.', 'might,', 'themselves.\"\\'', 'water', 'ring,', 'happened,', 'soon', 'bread-and-butter', \"do!'\", 'book,', 'hearts.', \"myself.'\", 'under', 'trial:', \"it?'\", 'never', \"minute!'\", '`do', 'matters', 'thousand', 'lost,', 'jumping', \"sorrow?'\", \"adventures.'\", '`go', 'moment.', 'pattern', 'times', 'tremulous', 'running', 'sat', 'holding,', \"chose,'\", '`mine', 'ran,', \"fellow!'\", 'unfolded', 'father,', 'follows:--', 'then?', 'pack,', \"question?'\", 'sadly:--', \"draw?'\", 'stand', 'moderate.', 'do:--', 'simply--\"never', 'frog', 'against', 'whiskers,', 'some', 'fight', 'two:', \"i'm\", 'oldest', 'truth:', '`sit', 'toys', 'flying', \"m?'\", 'bristling', '`their', 'uneasily', 'waited', 'measure', 'opportunity', \"`never!'\", 'different', 'lived', 'regular', 'leaning', 'loud.', \"hush!'\", 'eleventh', 'duck.', 'whisper', 'sister', \"caterpillar's\", 'cupboards', 'flew', 'stamping', 'dear', 'confusing', \"`moral,'\", 'bat,', '`there', 'stuff', 'crept', 'cautiously:', 'slipped', 'thin--and', 'fender,', \"game.'\", 'on?', 'mad.', 'things,', \"story.'\", \"escape!'\", 'candle.', 'angry', 'wish', \"it!'\", 'narrow', 'in:', 'books,', 'eye,', \"serpent!'\", 'song.', \"knot!'\", 'particular;', 'peeping', 'engaged', 'carroll', 'hopeless', '`twenty-four', \"high,'\", 'air', 'pleaded', 'hoarsely', 'paw', '`off', 'twelve', 'face.', \"right!'\", 'vanished.', 'do', 'opened', 'esq.', 'twice', 'knock,', 'murder', 'cherry-tart,', 'cook,', 'different,', 'confused', 'figure', 'place,', 'true):', 'goes', 'happens.', 'heart', 'pointing', 'it),', 'moral', 'natured,', 'nibbling', \"be,'\", 'talking:', 'joined):--', 'happens;', '`whenever', \"was,'\", 'sobbing', 'eagerly.', 'angry.', 'to--to', 'nose.', '`your', 'coaxing.', 'woman;', 'carried', 'latin', 'we', '`oh', 'first.', 'speech,', \"croquet?'\", 'again.', 'appear,', 'know--and', 'puppy;', 'when', 'open,', 'clapping', 'ringlets', 'both', 'cut', 'crash,', 'nobody,', 'corner,', 'conqueror,', \"late.'\", 'fits,', 'pour', 'day-school,', '`an', 'off.', 'sobs.', 'result', 'tricks', 'master', 'rabbit', \"pun!'\", 'producing', \"indeed!'\", 'grinned', 'alice,', 'wrapping', 'moment', '[later', '`after', \"m--'\", 'use,', 'crawling', 'plan', 'otherwise.\"\\'', 'asked', 'settled', 'kneel', 'history', 'least,', \"prison,'\", 'itself,', 'mean,', 'twentieth', 'leaves', 'various', \"them.'\", 'curly', 'furrows;', 'foot!', 'please:', 'is--\"birds', 'tears,', 'of', \"bread-knife.'\", 'baby:', 'hedgehogs', 'sneezing', \"duchess?'\", \"me'\", 'king', 'them--`i', 'interrupt', 'proud', \"other.'\", 'begins', 'witness.', 'mouse--o', 'indignantly.', 'dormouse;', 'leaving', 'executioner:', \"window!'\", \"next!'\", 'touch', 'for?\"\\'', '`begin', \"different!'\", 'cards,', 'advise', 'label', 'cheap', 'occasionally;', 'is,', \"ada,'\", 'hatching', 'ix', 'eyes,', 'bats?', \"lessons!'\", 'five!', 'whistle', 'edition', 'dipped', \"`i--i'm\", \"`creatures,'\", 'cook.', 'dried', \"sir'\", 'gryphon:', 'name', 'locks,', '_i_', '`first', 'edwin', 'were', 'leaders,', \"does.'\", 'rearing', \"`jury-men'\", 'eyelids,', 'ago:', 'bowed', 'moment:', '`and', \"saying.'\", 'speak', 'sits', 'curtain', 'company', 'keep', \"uglifying!'\", \"sad?'\", \"story,'\", \"mostly,'\", 'wants', \"way?',\", 'friend', 'door,', \"not.'\", 'doubtfully:', 'bite.', 'grand,', 'conversation.', 'faintly', 'pig,', 'histories', 'muddle', 'lonely', 'myself,', '`yes,', 'entirely', 'do,', 'passage,', \"well?'\", 'scroll', 'writhing,', \"`hadn't\", 'pale', '`of', 'thirteen,', 'believe', 'tears.', \"rabbit's\", 'though),', 'pleasant', 'suddenly,', \"not';\", '`how', 'yet--oh!', 'full', 'question;', 'again,', 'clamour', 'occurred', 'rats', 'swallowed', 'tarts,', '(pointing', 'uncomfortable,', \"me?'\", 'curious,', 'produced', 'beg', 'locks', 'natural);', \"they'd\", 'follow,', \"finished,'\", 'more;', 'advisable--\"\\'', 'dodo.', 'lefthand', 'flat,', \"whatever,'\", '\"what', 'size?', 'relieved', \"story!'\", 'worried.', \"`yes,'\", \"fourth.'\", 'slate--oh,', 'prizes.', 'resource,', 'together.\"\\'', 'settling', 'bent', 'rabbit;', 'there.', \"you'd\", \"that.'\", 'pardon,', 'little!', 'severely', 'muttering', \"let's\", '\"they', 'person', 'instantly,', 'upright', 'learning', 'flamingo', \"plan.'\", \"figure!'\", 'middle,', 'bottom', \"witness,'\", 'laughed', 'eaglet', 'pepper', 'choosing', \"know?'\", 'hatter.', 'consider', 'thoughts', 'tortoise', 'breathe', 'murdering', 'sigh.', 'flowers', 'railway', 'meanwhile', 'pleasanter', 'gardeners,', \"executed.'\", 'night?', 'alas', 'persons', 'spectacles', '`--it', 'why', 'anywhere', 'conversation', 'obliged', \"chatte?'\", 'thoughtfully', 'there,', 'graceful', '\"poison\"', 'dance.', 'sternly.', 'belongs', 'guess,', \"whiskers!'\", 'clear', 'crouched', \"fact.'\", 'abide', 'mouths', 'too:', 'sound', 'distance--but', 'truthful', 'kind', \"fig?'\", 'dreaming', \"back!'\", 'planning', 'youth,', 'machines', \"mouse!'\", 'worm.', \"never')\", '(when', 'kings', 'denied,', \"grin.'\", 'sky', 'nicely', '--the', 'doorway;', 'race-course,', '`advance', 'noises,', 'come,', 'shining', 'queerest', 'catching', 'here.', 'driest', 'taste', 'timidly.', 'overcome', 'very', 'hot,', 'ferrets!', '`drive', \"likes.'\", 'glaring', 'piteous', \"longer!'\", 'knowing', 'ones', \"suppose?'\", \"from,'\", 'tide', 'kiss', 'died', 'croquet', 'dream', 'breathe\"!\\'', 'hall,', 'read:--', 'calling', 'patience', 'know,', 'finger;', 'crab', '`seven', 'broken.', 'nonsense', 'deepest', 'eyes;', 'provoking', \"d,'\", 'remarking', 'deny', 'wander', 'flame', 'queer-looking', 'flock', 'remembered', \"`i'll\", 'tunnel', 'am!', '`bring', \"better,'\", 'gather', \"works!'\", \"won't'\", 'none', 'lark,', 'expression', 'darkness', \"he's\", 'concert', 'really', 'sighing.', 'giving', 'stoop', 'clever', 'sneezes;', 'roots', 'been,', 'accounts', 'lizard', 'clock', 'officers:', 'guess', 'part', 'kitchen,', 'order', 'struck', 'remarked.', 'after', 'her:', '`some', 'alarm', 'walk!\"', 'interrupted,', \"table,'\", 'then', \"figures!'\", 'directed', 'see,', 'positively', \"instead!'\", \"prizes?'\", 'run', 'door.', 'uneasily,', 'shifting', 'hall.', 'kissed', '`up,', 'inkstand', '`you', \"cats.'\", 'changing', \"ma!'\", 'sight.', 'frighten', 'pie', 'farther', 'hope', 'tails', 'canterbury,', \"head's\", 'question,', 'tail,', 'tired', 'hint', 'could.', 'usually', 'tiptoe,', 'chose', 'certain!', 'best,', \"kind,'\", 'slightest', 'fixed', 'upsetting', 'birds!', 'paw,', 'fellow!', 'fashion,', 'moving', 'generally', '`at', \"less,'\", 'children.', \"matter,'\", 'dinner,', 'patriotic', 'chorus', 'long', '`nearly', \"case,'\", 'trees,', 'did:', 'stick,', 'cat', 'delight', 'wrong', \"puss,'\", 'what', 'faces,', 'instead', 'passing', 'advice,', 'tail.', 'telescope', \"`stupid,'\", 'absurd,', 'state', '\"up', 'good-naturedly', 'brushing', 'within--a', 'appealed', 'prove', \"different,'\", 'ever:', 'emphasis,', '(or', 'solemnly.', 'soup,', 'our', 'pity!\"?\\'', 'hers', '`sure', 'people', 'raised', 'curled', 'nervous', 'proves', \"before.'\", 'further', 'oh', \"shan't\", 'mad--at', \"knocking,'\", 'strange,', 'soup.', 'began', 'alarmed', 'pool', 'history,', 'shut.', \"know--'\", 'large,', 'yelp', 'go,', 'trims', 'says', 'why,', \"hasn't\", \"right?'\", 'table,', 'break', \"order,'\", 'for', 'tea-party', 'jelly-fish', 'written', 'luckily', 'trials,', 'thatched', 'within', 'rudeness', 'rest', 'whose', 'pause:', 'william,\"\\'', 'look-out', '`just', 'sneezing.', 'turtle,', \"warning,'\", 'appeared,', 'sea', 'speech.', 'house', 'sky.', 'asking!', 'earls', 'which),', 'glass', 'small', 'mark', '`same', 'before,', 'lad!--here,', 'came', 'thought),', \"tongue!'\", 'reasons.', 'them--all', 'sizes', 'certainly:', 'ii', 'cheerfully', 'alternately', 'twinkle,', 'wet', 'deep', 'life.', 'your', \"enough,'\", \"idea,'\", 'meat,', 'pressed', 'resting', 'distance,', \"slates'll\", \"`ugh!'\", \"sea!'\", 'using', 'doubled-up', 'this,', 'attempts', 'let', 'stop.', 'set', 'proved', \"better';\", 'followed', \"pie--'\", 'trying,', 'gravy,', 'chance', 'rustling', '`two', \"beheaded!'\", '`pray', 'parchment', 'size,', '`however,', 'yet', 'arguments', 'distance', 'particular', 'grief,', 'deal:', 'much,', 'enough', 'william', 'pence.', \"mine,'\", 'duchess.', 'two.', 'thistle', \"things--'\", 'couples:', 'gazing', 'purring', 'pleased.', 'incessantly', 'angrily:', 'honour:', 'remarks,', 'face,', '`swim', 'wink', 'words', 'gone.', 'water.', \"up,'\", 'about,', 'walking', 'complained', 'poky', '(a', 'swimming', 'irritated', 'timidly;', 'pigeon.', 'death.\"\\'', \"footman's\", 'wandered', \"fellow?'\", 'applause,', 'sixpence.', 'burn', 'saucer', 'place', 'girls', 'save', 'mouse-traps,', 'work,', 'this.', '`wake', 'end', 'plates', \"now--don't\", 'growing', \"know,'\", 'something,', 'puzzling', 'happened', 'nile', 'serpents!', 'saw', \"really?'\", 'further.', 'hurt,', 'arms', \"do,'\", 'shouted', \"so.'\", 'occasional', 'thrown', \"rude.'\", 'himself', 'minding', 'yet--and', 'despair', 'it,)', 'riddles', 'pig', 'knowledge,', 'addressing', 'smallest', 'but', 'ago', 'king;', 'up:', \"are,'\", 'next.', \"thing!'\", 'nearer', 'earth!', \"`don't\", 'shoulders', 'any.', '`read', 'feebly', '`thank', 'me,', 'those', 'growl,', 'pope,', 'flamingo,', 'laughing:', 'bells,', \"in.'\", 'though.', 'feathers,', '`thinking', 'claws', 'energetic', 'fury,', 'whereupon', 'seven.', 'commotion', '(and,', 'rise', 'branch', \"happens!'\", 'paused', 'curving', '*', 'laid', 'archbishop', 'snail.', 'yawning.', 'solemn', 'until', 'denying', 'telescopes:', 'tears', 'found:', 'interrupting', 'heavy', 'fall,', 'offend', 'barking', '`i--i', 'screamed', 'glass.', 'morning,', 'rate:', \"down,'\", 'ten', \"`ahem!'\", \"i'll\", 'court!', 'tried.', 'owl,', 'dear!\"', 'it--once', 'faces', 'hours,', 'whiting', \"`she'd\", 'hedgehog.', 'speak,', 'herself', 'slate-pencil,', 'sounded', 'ointment--one', 'whispered,', 'sharply.', 'good,', 'cross-examine', \"couple?'\", 'exactly', 'memory,', 'grunted', 'ordering', 'nothing', 'though', 'sir,', 'at', '`so', 'list', 'asking', 'usual,', 'rabbits.', 'violent', 'dance', 'reality--the', 'go?\"', 'sure,', \"curiouser!'\", 'collected', 'chief', 'lit', 'like,', 'hearthrug,', '`we', 'being', \"muchness?'\", \"ordered';\", \"haven't\", 'spoon', \"liked.'\", 'see', 'far!\"', \"is.'\", 'uncomfortably', 'nearly', 'putting', 'adventures--beginning', 'silence,', '`ten', 'underneath', 'fishes', 'night!', 'boots', \"song?'\", 'blow', 'hare.', \"say--that's\", 'shook', 'is--\"take', 'screaming', 'my', 'charges', 'silence.', 'edge', 'often', 'pleasure', \"yourself,'\", 'familiarly', 'taller,', 'along', 'arranged;', 'finishing', \"up!'\", 'cat;', \"window?'\", 'back,', '\"with', 'close', 'own.', \"tortoise--'\", 'was:', 'edgar', 'secondly,', 'ye;', '`oh!', 'rapped', \"`they--you've\", \"something!'\", 'beau--ootiful', '--come,', \"`treacle,'\", \"her,'\", '`somebody', 'france--', 'three', 'seaside', '\"uglification,\"\\'', 'swam', \"child!'\", 'her;', 'ink,', \"remedies--'\", '`if', 'sigh,', 'ugly;', 'undoing', 'thing,', 'frowning,', \"turtle's\", 'wood', 'ask:', 'creature,', \"treacle,'\", 'courage', 'beak--', 'writing-desks,', \"i,'\", 'round!\"\\'', \"can't\", \"watch!'\", 'get', 'linked', 'lesson-book.', \"don't\", 'frowning', 'angrily', 'hollow', 'leaves,', 'cheated', 'reply', 'antipathies,', 'cat,', 'growls', 'reading', 'confusion,', 'changes', 'afraid', 'so.', 'hid', 'yelled', 'loose', 'aloud,', 'treat.', 'clean', 'flower-beds', \"idiotic!'\", 'dishes', 'no,', \"shan't!\", 'whispers', 'shriek,', 'politely:', '(if', 'story', 'fainting', 'by', \"`alice!'\", \"old,'\", 'away', 'deal', 'chimney?--nay,', 'happened.', 'them--and', 'nose--', 'decidedly', 'downwards,', 'size;', 'someone', \"it--'\", 'room', 'teacups', 'zigzag,', '`--i', 'pencil', 'soup,\"', 'subject!', 'bats,', 'not', 'young', 'pool?', 'obstacle', \"business?'\", 'chuckled.', 'out.', 'again:', 'scaly', 'ordered.', 'do:', 'disgust,', 'court,', 'sneeze', 'conquest.', 'dive', \"lines!'\", 'at!\"', 'nothing;', \"waist,'\", \"impertinent,'\", 'an', 'neither', 'politely', 'tree.', \"verses.'\", \"way--'\", 'undertone', 'door', 'favourite', 'yours.\"\\'', 'sitting', 'done', 'northumbria--\"\\'', 'falling', 'atheling', \"game's\", 'cheered,', 'depends', \"didn't\", 'hookah,', 'vague', \"dull!'\", 'five,', \"talking!'\", \"whiting?'\", 'whisper.)', 'attends', \"room!'\", 'bill!', 'else', 'blown', 'rule,', 'wash', 'sometimes,', \"fairly,'\", 'find', 'custody', 'jar', 'instance,', 'double', 'unhappy', 'nice', 'party.', \"prizes.'\", \"ache!'\", '(we', 'pennyworth', 'understood', 'able!', 'gloves.', 'many', \"'em\", 'ways', 'fifth', 'candle', 'now?', 'you?', 'already,', 'deeply.', 'one;', 'taller', 'voices--`hold', \"it,'\", 'same', 'height.', 'wild', 'wider.', 'tight', 'voice;', 'english', \"away,'\", 'pass', 'day,', 'sands', 'upset,', 'cook', 'sight:', 'key', 'pretexts', 'look', 'grant', 'beautiful,', \"wonder?'\", \"curious!'\", 'punching', 'cur,', 'to-day!', \"hatter's\", \"down!'\", 'mercia', 'distant', 'frog;', \"`shan't,'\", 'curiosity.', \"feet!'\", 'today.', 'presently', 'word,', 'glanced', 'wearily.', \"`once,'\", 'things!', 'vinegar', 'choice,', 'see--how', 'business,', 'went', 'houses,', 'annoy,', \"for?'\", 'series', 'hiss', 'write', 'secret,', \"`why,'\", '`herald,', 'wore', 'o', 'spoke', 'footsteps,', \"well,'\", 'two--\"', 'conduct', 'below', '`prizes!', '`wow!', 'violence', '\"i\\'ll', 'week', 'sides', 'mine,', 'golden', 'rabbit,', 'pairs', 'much.', 'questions,', 'ceiling,', \"writing-desk?'\", '(the', 'meaning', 'elbows', \"now,'\", 'boxed', '`flamingoes', 'adventures', 'jurors', \"mad?'\", 'playing', 'triumphantly.', \"bite,'\", 'thought.', 'livery', 'educations--in', \"more!'\", 'pencils', \"we've\", \"sisters,'\", 'tied', '`consider,', 'hopeful', 'led', 'diamonds,', 'aloud;', 'hand,', 'course', 'drawling--the', 'lives', 'ate', 'indeed:', \"creatures,'\", 'music,', 'old,', \"treacle-well.'\", 'dropped', 'vanished', 'oh!', '(dinah', 'words:', 'morning?', 'snout', 'forgot', 'xi', 'won,', 'sure!', 'feelings', 'rose-tree,', 'decided', 'northumbria,', 'larger,', \"dogs.'\", \"`you!'\", \"wits!'\", 'clearer', 'hearts,', 'fifteen', 'gently', 'footmen,', 'another', 'tastes!', 'usurpation', \"mind!'\", 'dreamy', 'nonsense.', 'low-spirited.', 'and', 'foolish', 'hedgehog,', 'rabbit.', \"dormouse's\", \"size,'\", \"again?'\", 'modern,', 'drawling,', 'blew', 'all!', 'ringlets,', '`was,', 'dormouse!', \"which?'\", \"far,'\", 'family', \"caucus-race.'\", \"house!'\", 'reach', 'glad', 'kindly,', 'elsie,', 'shiver.', 'stop', 'daresay', \"concert!'\", 'avoid', 'shouting', \"pardon!'\", 'multiplication', \"prizes!'\", 'checked', \"meant,'\", 'interrupted:', '`let', 'day.', 'dressed,', 'knows', 'girl', 'declare,', \"bat?'\", 'wonderland,', '`for', 'tarts', 'hung', \"places!'\", 'banquet--]', 'hall', \"say?'\", 'hastily.', '`only', 'or', 'and--oh', 'cardboard.)', 'arches.', 'people!', 'you:', 'since', 'appeared;', 'slates;', 'silence:', \"said--'\", 'anxious.)', \"together.'\", 'airs!', 'exclaimed.', \"i'd\", 'boon,', '\"edwin', 'long;', 'shedding', 'wide,', 'trusts', 'contemptuous', \"he'd\", \"think.'\", 'court.', 'something', '`drink', '`lives', 'useful,', 'go.', 'leave', 'bend', '\"i', \"dormouse!'\", 'going', '`hm!', 'footsteps', 'expecting', 'ledge', 'pine-apple,', 'be', 'queer-', 'accounting', 'no!', 'it!--that', 'unjust', 'spread', \"queen?'\", \"others!'\", 'sticks', 'interest', 'on', 'length', 'side.', \"this!'\", 'lives.', 'possible', '`twinkle,', 'fortunately', 'accident', 'gardeners', \"to,'\", 'signed', 'nothing:', 'answer.', 'think:', 'duck:', 'pepper-box', 'daisy-chain', \"outside,'\", 'bad', 'london', \"`hjckrrh!'\", 'busy', 'considered', 'ear.', 'except', \"refreshments!'\", '(as', 'was', \"couldn't\", 'insult', 'attended', 'late,', 'flamingo:', \"believe.'\", \"garden!'\", 'become', 'wrong,', 'hurt', 'sulkily', 'globe', \"no!'\", 'way?', 'frying-pan', 'foot.', '\"keep', 'past', \"`poison,'\", 'bad,', \"partner!'\", \"partners--'\", 'turns,', \"yet.'\", 'branches', 'pocket)', 'poured', \"on!'\", 'please!', 'uncorked', 'finding', 'there', 'declared', 'knee,', '\"--said', 'direction', 'here', 'lessen', '`give', 'cost', 'prevent', 'move', 'anger,', 'other,', 'otherwise', 'upstairs,', \"`they're\", 'mallets', 'dinn', \"weren't\", '`mary', \"on?'\", 'know--no', 'know.', 'way:--', 'adoption', 'fury:', \"throat,'\", 'yesterday', 'means,', '`come', 'mary', 'fish,', 'us!\"\\'', 'well.', 'beasts', \"didn't,'\", 'pointed', 'been.', 'knowledge.', '`three', 'liked,', 'nest.', 'dreamed', 'immense', \"stairs!'\", 'dinah', '`crumbs', 'fancy', \"once.'\", 'label,', 'through', 'moment,', 'bit,', 'snail,', 'round', '`keep', 'everything', 'relief.', \"they're\", 'fur.', 'eggs', 'him!', 'puffed', 'threw', 'accustomed', 'sight;', 'king,', 'doubtful', \"they'll\", 'executions', 'around,', 'show', 'bottle,', 'on:', 'hate', 'trouble,', 'court,\"', 'get\"', 'prisoner', '`--but', 'nurse!', 'moon,', 'direction,', 'fancying', \"christmas.'\", \"`dinah's\", \"happen,'\", \"now.'\", 'waving', 'corner--no,', 'lastly,', '`speak', 'fairy-tales,', 'ready?', 'into', 'friends', 'cold', \"morning,'\", 'outside,', 'speak.', '\"purpose\"?\\'', 'sentence', \"too,'\", 'right,', '`here!', '`--you', 'think;', '`did', 'hastily,', 'angrily.', 'reason,', 'altogether,', 'lazy', \"me,'\", \"two!'\", 'shape', 'themselves', 'stairs!', '\"he\\'s', 'birds', \"then.'\", \"over!'\", 'children,', 'punished', \"lesson-books!'\", 'dancing', 'rapidly;', 'white;', 'hedgehog', 'round,', 'prosecute', 'generally,', 'hands,', '3.0', 'by--the', 'interrupted.', 'jurymen', \"sh!'\", 'scream,', 'if--if', \"`serpent!'\", 'see:', 'tears!', 'keeping', \"said,'\", \"whiting,'\", \"nonsense,'\", 'magpie', 'next,', 'will', 'tone,', 'grunted,', \"i!'\", 'caterpillar', 'asked.'}\n",
            "Average sentence length: 7.4\n",
            "Vocabulary diversity: 0.1870\n"
          ]
        }
      ],
      "source": [
        "def assess_data_quality(texts):\n",
        "    \"\"\"Analyze text data quality for Word2Vec training\"\"\"\n",
        "\n",
        "    stats = {\n",
        "        'total_documents': len(texts),\n",
        "        'total_words': 0,\n",
        "        'unique_words': set(),\n",
        "        'sentence_lengths': [],\n",
        "        'word_frequencies': {}\n",
        "    }\n",
        "\n",
        "    for text in texts:\n",
        "        words = text.lower().split()\n",
        "        stats['total_words'] += len(words)\n",
        "        stats['sentence_lengths'].append(len(words))\n",
        "        stats['unique_words'].update(words)\n",
        "\n",
        "        for word in words:\n",
        "            stats['word_frequencies'][word] = stats['word_frequencies'].get(word, 0) + 1\n",
        "\n",
        "    stats['vocabulary_size'] = len(stats['unique_words'])\n",
        "    stats['avg_sentence_length'] = sum(stats['sentence_lengths']) / len(stats['sentence_lengths'])\n",
        "\n",
        "    # Find most common words\n",
        "    sorted_words = sorted(stats['word_frequencies'].items(), key=lambda x: x[1], reverse=True)\n",
        "    stats['top_words'] = sorted_words[:20]\n",
        "\n",
        "    # Quality indicators\n",
        "    stats['quality_score'] = {\n",
        "        'vocabulary_diversity': stats['vocabulary_size'] / stats['total_words'],\n",
        "        'avg_word_frequency': stats['total_words'] / stats['vocabulary_size'],\n",
        "        'rare_words_ratio': sum(1 for count in stats['word_frequencies'].values() if count == 1) / stats['vocabulary_size']\n",
        "    }\n",
        "\n",
        "    return stats\n",
        "\n",
        "# Example usage\n",
        "quality_report = assess_data_quality(texts)\n",
        "print(f\"Total documents: {quality_report['total_documents']:,}\")\n",
        "print(f\"Vocabulary size: {quality_report['vocabulary_size']:,}\")\n",
        "print(f\"Unique Words: {quality_report['unique_words']}\")\n",
        "print(f\"Average sentence length: {quality_report['avg_sentence_length']:.1f}\")\n",
        "print(f\"Vocabulary diversity: {quality_report['quality_score']['vocabulary_diversity']:.4f}\")"
      ]
    },
    {
      "cell_type": "markdown",
      "id": "fd0c0ec0",
      "metadata": {
        "id": "fd0c0ec0"
      },
      "source": [
        "## 3.3 Text Preprocessing Pipeline"
      ]
    },
    {
      "cell_type": "code",
      "execution_count": 224,
      "id": "3ee47ba2",
      "metadata": {
        "id": "3ee47ba2"
      },
      "outputs": [],
      "source": [
        "#Import Packages\n",
        "import re\n",
        "import string\n",
        "from nltk.corpus import stopwords\n",
        "from nltk.tokenize import word_tokenize, sent_tokenize\n",
        "from nltk.stem import WordNetLemmatizer\n",
        "from nltk.tag import pos_tag\n",
        "import nltk"
      ]
    },
    {
      "cell_type": "code",
      "execution_count": 225,
      "id": "5f9c42f8",
      "metadata": {
        "id": "5f9c42f8",
        "colab": {
          "base_uri": "https://localhost:8080/"
        },
        "outputId": "092daf6d-fb49-4332-da0b-3ccb3709b255"
      },
      "outputs": [
        {
          "output_type": "stream",
          "name": "stderr",
          "text": [
            "[nltk_data] Downloading package punkt to /root/nltk_data...\n",
            "[nltk_data]   Package punkt is already up-to-date!\n",
            "[nltk_data] Downloading package stopwords to /root/nltk_data...\n",
            "[nltk_data]   Package stopwords is already up-to-date!\n",
            "[nltk_data] Downloading package wordnet to /root/nltk_data...\n",
            "[nltk_data]   Package wordnet is already up-to-date!\n",
            "[nltk_data] Downloading package averaged_perceptron_tagger to\n",
            "[nltk_data]     /root/nltk_data...\n",
            "[nltk_data]   Package averaged_perceptron_tagger is already up-to-\n",
            "[nltk_data]       date!\n",
            "[nltk_data] Downloading package punkt_tab to /root/nltk_data...\n",
            "[nltk_data]   Package punkt_tab is already up-to-date!\n",
            "[nltk_data] Downloading package gutenberg to /root/nltk_data...\n",
            "[nltk_data]   Package gutenberg is already up-to-date!\n"
          ]
        },
        {
          "output_type": "execute_result",
          "data": {
            "text/plain": [
              "True"
            ]
          },
          "metadata": {},
          "execution_count": 225
        }
      ],
      "source": [
        "# Download required NLTK data\n",
        "nltk.download('punkt')\n",
        "nltk.download('stopwords')\n",
        "nltk.download('wordnet')\n",
        "nltk.download('averaged_perceptron_tagger')\n",
        "nltk.download('punkt_tab')\n",
        "nltk.download('gutenberg')"
      ]
    },
    {
      "cell_type": "code",
      "execution_count": 226,
      "id": "c6cc0b3a",
      "metadata": {
        "id": "c6cc0b3a"
      },
      "outputs": [],
      "source": [
        "class AdvancedTextPreprocessor:\n",
        "    \"\"\"Comprehensive text preprocessing for Word2Vec training\"\"\"\n",
        "\n",
        "    def __init__(self,\n",
        "                 lowercase=True,\n",
        "                 remove_punctuation=True,\n",
        "                 remove_numbers=False,\n",
        "                 remove_stopwords=False,\n",
        "                 min_word_length=2,\n",
        "                 max_word_length=50,\n",
        "                 lemmatize=False,\n",
        "                 remove_urls=True,\n",
        "                 remove_emails=True,\n",
        "                 keep_sentences=True):\n",
        "\n",
        "        self.lowercase = lowercase\n",
        "        self.remove_punctuation = remove_punctuation\n",
        "        self.remove_numbers = remove_numbers\n",
        "        self.remove_stopwords = remove_stopwords\n",
        "        self.min_word_length = min_word_length\n",
        "        self.max_word_length = max_word_length\n",
        "        self.lemmatize = lemmatize\n",
        "        self.remove_urls = remove_urls\n",
        "        self.remove_emails = remove_emails\n",
        "        self.keep_sentences = keep_sentences\n",
        "\n",
        "        if remove_stopwords:\n",
        "            self.stop_words = set(stopwords.words('english'))\n",
        "\n",
        "        if lemmatize:\n",
        "            self.lemmatizer = WordNetLemmatizer()\n",
        "\n",
        "    def clean_text(self, text):\n",
        "        \"\"\"Clean individual text string\"\"\"\n",
        "\n",
        "        # Remove URLs\n",
        "        if self.remove_urls:\n",
        "            text = re.sub(r'http\\S+|www\\S+|https\\S+', '', text, flags=re.MULTILINE)\n",
        "\n",
        "        # Remove email addresses\n",
        "        if self.remove_emails:\n",
        "            text = re.sub(r'\\S+@\\S+', '', text)\n",
        "\n",
        "        # Remove extra whitespace\n",
        "        text = re.sub(r'\\s+', ' ', text).strip()\n",
        "\n",
        "        #Combined\n",
        "         #(r'https?://\\S+|www\\.\\S+|<.*?>|\\S+@\\S+\\.\\S+|@\\w+|#\\w+|[^A-Za-z0-9\\s])\n",
        "\n",
        "        return text\n",
        "\n",
        "    def tokenize_text(self, text):\n",
        "        \"\"\"Tokenize text into sentences or words\"\"\"\n",
        "\n",
        "        if self.keep_sentences:\n",
        "            # Tokenize into sentences first\n",
        "            sentences = sent_tokenize(text)\n",
        "            processed_sentences = []\n",
        "\n",
        "            for sentence in sentences:\n",
        "                words = self.process_sentence(sentence)\n",
        "                if len(words) >= 3:  # Keep sentences with at least 3 words\n",
        "                    processed_sentences.append(words)\n",
        "\n",
        "            return processed_sentences\n",
        "        else:\n",
        "            # Return single list of words\n",
        "            return self.process_sentence(text)\n",
        "\n",
        "    def process_sentence(self, sentence):\n",
        "        \"\"\"Process individual sentence\"\"\"\n",
        "\n",
        "        # Lowercase\n",
        "        if self.lowercase:\n",
        "            sentence = sentence.lower()\n",
        "\n",
        "        # Tokenize into words\n",
        "        words = word_tokenize(sentence)\n",
        "\n",
        "        processed_words = []\n",
        "        for word in words:\n",
        "\n",
        "            # Remove punctuation\n",
        "            if self.remove_punctuation:\n",
        "                word = word.translate(str.maketrans('', '', string.punctuation))\n",
        "\n",
        "            # Skip if empty after punctuation removal\n",
        "            if not word:\n",
        "                continue\n",
        "\n",
        "            # Remove numbers\n",
        "            if self.remove_numbers and word.isdigit():\n",
        "                continue\n",
        "\n",
        "            # Check word length\n",
        "            if len(word) < self.min_word_length or len(word) > self.max_word_length:\n",
        "                continue\n",
        "\n",
        "            # Remove stopwords\n",
        "            if self.remove_stopwords and word in self.stop_words:\n",
        "                continue\n",
        "\n",
        "            # Lemmatize\n",
        "            if self.lemmatize:\n",
        "                word = self.lemmatizer.lemmatize(word)\n",
        "\n",
        "            processed_words.append(word)\n",
        "\n",
        "        return processed_words\n",
        "\n",
        "    def preprocess_corpus(self, texts):\n",
        "        \"\"\"Preprocess entire corpus\"\"\"\n",
        "\n",
        "        all_sentences = []\n",
        "\n",
        "        for text in texts:\n",
        "            if not isinstance(text, str):\n",
        "                continue\n",
        "\n",
        "            # Clean text\n",
        "            cleaned_text = self.clean_text(text)\n",
        "\n",
        "            # Tokenize and process\n",
        "            processed = self.tokenize_text(cleaned_text)\n",
        "\n",
        "            if self.keep_sentences:\n",
        "                all_sentences.extend(processed)\n",
        "            else:\n",
        "                all_sentences.append(processed)\n",
        "\n",
        "        return all_sentences"
      ]
    },
    {
      "cell_type": "code",
      "execution_count": 227,
      "id": "80a58f75",
      "metadata": {
        "colab": {
          "base_uri": "https://localhost:8080/"
        },
        "id": "80a58f75",
        "outputId": "4d61f774-e3e7-42a8-c372-d441eee7af10"
      },
      "outputs": [
        {
          "output_type": "stream",
          "name": "stdout",
          "text": [
            "Now processing 46268 sentences!\n",
            "Sample sentence: ['alice', 'adventure', 'wonderland']\n"
          ]
        }
      ],
      "source": [
        "# Example usage - MODIFIED PARAMETERS\n",
        "preprocessor = AdvancedTextPreprocessor(\n",
        "    lowercase=True,\n",
        "    remove_punctuation=True,  # Changed: Keep punctuation for better context\n",
        "    remove_numbers=True,\n",
        "    remove_stopwords=True,  # Changed: Keep stopwords initially\n",
        "    lemmatize=True,\n",
        "    min_word_length=3,  # Changed: Lower min word length\n",
        "    max_word_length=30,\n",
        "    keep_sentences=True,\n",
        "    remove_urls=True,\n",
        "    remove_emails=True\n",
        ")\n",
        "\n",
        "# Processing corpus\n",
        "processed_sentences = preprocessor.preprocess_corpus(all_texts)\n",
        "print(f\"Now processing {len(processed_sentences)} sentences!\")\n",
        "print(f\"Sample sentence: {processed_sentences[0]}\")"
      ]
    },
    {
      "cell_type": "code",
      "source": [
        "# Step 6: Check Data Quality\n",
        "import numpy as np\n",
        "\n",
        "# Let's see whats the processed sentences actually look like\n",
        "print(\"Sample processed sentences:\")\n",
        "for i, sentence in enumerate(processed_sentences[:10]):\n",
        "    print(f\"{i+1}. {sentence}\")\n",
        "    if i >= 4:  # Just show first 5\n",
        "        break\n",
        "\n",
        "# Check sentence lengths\n",
        "sentence_lengths = [len(sentence) for sentence in processed_sentences]\n",
        "print(f\"\\nAverage sentence length: {np.mean(sentence_lengths):.1f} words\")\n",
        "print(f\"Shortest sentence: {min(sentence_lengths)} words\")\n",
        "print(f\"Longest sentence: {max(sentence_lengths)} words\")"
      ],
      "metadata": {
        "colab": {
          "base_uri": "https://localhost:8080/"
        },
        "id": "G8mefpcSAajy",
        "outputId": "fa9648cc-dea0-49dd-b68d-b604bc4e98f2"
      },
      "id": "G8mefpcSAajy",
      "execution_count": 228,
      "outputs": [
        {
          "output_type": "stream",
          "name": "stdout",
          "text": [
            "Sample processed sentences:\n",
            "1. ['alice', 'adventure', 'wonderland']\n",
            "2. ['millennium', 'fulcrum', 'edition']\n",
            "3. ['alice', 'beginning', 'get', 'tired', 'sitting', 'sister']\n",
            "4. ['bank', 'nothing', 'twice']\n",
            "5. ['peeped', 'book', 'sister', 'reading']\n",
            "\n",
            "Average sentence length: 11.6 words\n",
            "Shortest sentence: 3 words\n",
            "Longest sentence: 193 words\n"
          ]
        }
      ]
    },
    {
      "cell_type": "code",
      "execution_count": 229,
      "id": "f28f04ec",
      "metadata": {
        "colab": {
          "base_uri": "https://localhost:8080/"
        },
        "id": "f28f04ec",
        "outputId": "62c9c12a-e610-4ebf-ad04-6cf46510faa5"
      },
      "outputs": [
        {
          "output_type": "execute_result",
          "data": {
            "text/plain": [
              "[['alice', 'adventure', 'wonderland'],\n",
              " ['millennium', 'fulcrum', 'edition'],\n",
              " ['alice', 'beginning', 'get', 'tired', 'sitting', 'sister']]"
            ]
          },
          "metadata": {},
          "execution_count": 229
        }
      ],
      "source": [
        "processed_sentences[:3]"
      ]
    },
    {
      "cell_type": "markdown",
      "id": "9017347f",
      "metadata": {
        "id": "9017347f"
      },
      "source": [
        "## 3.4 Training Parameters\n",
        "\n",
        "Parameter Selection Guidelines"
      ]
    },
    {
      "cell_type": "code",
      "execution_count": 230,
      "id": "1d7c5c00",
      "metadata": {
        "id": "1d7c5c00"
      },
      "outputs": [],
      "source": [
        "def recommend_parameters(corpus_size, vocab_size, domain_type, computing_resources):\n",
        "    \"\"\"\n",
        "    Recommend Word2Vec parameters based on corpus characteristics\n",
        "\n",
        "    Args:\n",
        "        corpus_size: Number of sentences/documents\n",
        "        vocab_size: Unique words in vocabulary\n",
        "        domain_type: 'general', 'technical', 'social_media', 'academic'\n",
        "        computing_resources: 'limited', 'moderate', 'high'\n",
        "    \"\"\"\n",
        "\n",
        "    recommendations = {}\n",
        "\n",
        "    # Vector size based on corpus and vocab size\n",
        "    if corpus_size < 10000:\n",
        "        recommendations['vector_size'] = 50\n",
        "    elif corpus_size < 100000:\n",
        "        recommendations['vector_size'] = 100\n",
        "    elif corpus_size < 1000000:\n",
        "        recommendations['vector_size'] = 200\n",
        "    else:\n",
        "        recommendations['vector_size'] = 300\n",
        "\n",
        "    # Window size based on domain\n",
        "    domain_windows = {\n",
        "        'general': 5,\n",
        "        'technical': 3,  # More syntactic focus\n",
        "        'social_media': 4,\n",
        "        'academic': 6    # More semantic focus\n",
        "    }\n",
        "    recommendations['window'] = domain_windows.get(domain_type, 5)\n",
        "\n",
        "    # Min count based on corpus size\n",
        "    if corpus_size < 10000:\n",
        "        recommendations['min_count'] = 1\n",
        "    elif corpus_size < 100000:\n",
        "        recommendations['min_count'] = 2\n",
        "    elif corpus_size < 1000000:\n",
        "        recommendations['min_count'] = 5\n",
        "    else:\n",
        "        recommendations['min_count'] = 10\n",
        "\n",
        "    # Algorithm selection\n",
        "    if domain_type in ['technical', 'academic']:\n",
        "        recommendations['sg'] = 1  # Skip-gram for rare technical terms\n",
        "    else:\n",
        "        recommendations['sg'] = 0  # CBOW for general text\n",
        "\n",
        "    # Epochs based on corpus size and resources\n",
        "    if computing_resources == 'limited':\n",
        "        recommendations['epochs'] = 5\n",
        "    elif corpus_size < 100000:\n",
        "        recommendations['epochs'] = 15\n",
        "    else:\n",
        "        recommendations['epochs'] = 10\n",
        "\n",
        "    # Hierarchical softmax vs negative sampling\n",
        "    if vocab_size > 100000:\n",
        "        recommendations['hs'] = 1\n",
        "        recommendations['negative'] = 0\n",
        "    else:\n",
        "        recommendations['hs'] = 0\n",
        "        recommendations['negative'] = 10\n",
        "\n",
        "    return recommendations"
      ]
    },
    {
      "cell_type": "code",
      "execution_count": 231,
      "id": "5625d125",
      "metadata": {
        "colab": {
          "base_uri": "https://localhost:8080/"
        },
        "id": "5625d125",
        "outputId": "28336408-4af7-41c4-a6f8-fa33c2afff0e"
      },
      "outputs": [
        {
          "output_type": "stream",
          "name": "stdout",
          "text": [
            "Corpus Size: 46268\n",
            "Vocabulary Size: 17268\n"
          ]
        }
      ],
      "source": [
        "corpus_size = len(processed_sentences)\n",
        "print(f\"Corpus Size: {corpus_size}\")\n",
        "\n",
        "# Calculate vocabulary size (unique words in vocabulary)\n",
        "vocab = set(word for sentence in processed_sentences for word in sentence)\n",
        "vocab_size = len(vocab)\n",
        "print(f\"Vocabulary Size: {vocab_size}\")"
      ]
    },
    {
      "cell_type": "code",
      "execution_count": 232,
      "id": "5d5ae7b8",
      "metadata": {
        "colab": {
          "base_uri": "https://localhost:8080/"
        },
        "id": "5d5ae7b8",
        "outputId": "c3c5e45c-f4f8-442f-8d1b-bb76cdfba8a3"
      },
      "outputs": [
        {
          "output_type": "stream",
          "name": "stdout",
          "text": [
            "Recommended parameters: {'vector_size': 100, 'window': 5, 'min_count': 2, 'sg': 0, 'epochs': 15, 'hs': 0, 'negative': 10}\n"
          ]
        }
      ],
      "source": [
        "# For this task\n",
        "params = recommend_parameters(\n",
        "    corpus_size=corpus_size,\n",
        "    vocab_size=vocab_size,\n",
        "    domain_type='general',\n",
        "    computing_resources='moderate'\n",
        ")\n",
        "print(\"Recommended parameters:\", params)"
      ]
    },
    {
      "cell_type": "markdown",
      "id": "755a63ed",
      "metadata": {
        "id": "755a63ed"
      },
      "source": [
        "## 3.5 Step-by-Step Implementation\n",
        "\n",
        "Basic Training Implementation"
      ]
    },
    {
      "cell_type": "code",
      "execution_count": 233,
      "id": "06c40d1a",
      "metadata": {
        "colab": {
          "base_uri": "https://localhost:8080/"
        },
        "id": "06c40d1a",
        "outputId": "3e4e4de8-3ee6-4e87-c5d4-31fc80c0bf8e"
      },
      "outputs": [
        {
          "output_type": "stream",
          "name": "stdout",
          "text": [
            "Requirement already satisfied: gensim in /usr/local/lib/python3.12/dist-packages (4.3.3)\n",
            "Requirement already satisfied: numpy<2.0,>=1.18.5 in /usr/local/lib/python3.12/dist-packages (from gensim) (1.26.4)\n",
            "Requirement already satisfied: scipy<1.14.0,>=1.7.0 in /usr/local/lib/python3.12/dist-packages (from gensim) (1.13.1)\n",
            "Requirement already satisfied: smart-open>=1.8.1 in /usr/local/lib/python3.12/dist-packages (from gensim) (7.3.0.post1)\n",
            "Requirement already satisfied: wrapt in /usr/local/lib/python3.12/dist-packages (from smart-open>=1.8.1->gensim) (1.17.3)\n"
          ]
        }
      ],
      "source": [
        "pip install gensim"
      ]
    },
    {
      "cell_type": "code",
      "execution_count": 234,
      "id": "99e0b0f9",
      "metadata": {
        "id": "99e0b0f9"
      },
      "outputs": [],
      "source": [
        "from gensim.models import Word2Vec\n",
        "from gensim.models.callbacks import CallbackAny2Vec\n",
        "import time\n",
        "import multiprocessing\n",
        "\n",
        "class EpochLogger(CallbackAny2Vec):\n",
        "    \"\"\"Callback to log information about training progress\"\"\"\n",
        "\n",
        "    def __init__(self):\n",
        "        self.epoch = 0\n",
        "        self.start_time = time.time()\n",
        "\n",
        "    def on_epoch_begin(self, model):\n",
        "        print(f\"Epoch #{self.epoch} start\")\n",
        "\n",
        "    def on_epoch_end(self, model):\n",
        "        elapsed = time.time() - self.start_time\n",
        "        print(f\"Epoch #{self.epoch} end - Time elapsed: {elapsed:.2f}s\")\n",
        "        self.epoch += 1\n",
        "\n",
        "def train_word2vec_model(sentences, save_path=None, **params):\n",
        "    \"\"\"\n",
        "    Train Word2Vec model with given parameters\n",
        "\n",
        "    Args:\n",
        "        sentences: List of tokenized sentences\n",
        "        save_path: Path to save the model\n",
        "        **params: Word2Vec parameters\n",
        "    \"\"\"\n",
        "\n",
        "    # Set default parameters\n",
        "    default_params = {\n",
        "        'vector_size': 100,\n",
        "        'window': 5,\n",
        "        'min_count': 5,\n",
        "        'workers': multiprocessing.cpu_count() - 1,\n",
        "        'sg': 1,  # CBOW\n",
        "        'epochs': 10,\n",
        "        'alpha': 0.025,\n",
        "        'min_alpha': 0.0001,\n",
        "        'hs': 0,\n",
        "        'negative': 10\n",
        "    }\n",
        "\n",
        "    # Update with provided parameters\n",
        "    default_params.update(params)\n",
        "\n",
        "    print(\"Training Word2Vec model with parameters:\")\n",
        "    for key, value in default_params.items():\n",
        "        print(f\"  {key}: {value}\")\n",
        "\n",
        "    # Add callback for progress monitoring\n",
        "    epoch_logger = EpochLogger()\n",
        "\n",
        "    # Train the model\n",
        "    print(f\"\\nTraining on the streamed corpus...\")\n",
        "    start_time = time.time()\n",
        "\n",
        "    model = Word2Vec(\n",
        "        sentences=sentences,\n",
        "        callbacks=[epoch_logger],\n",
        "        **default_params\n",
        "    )\n",
        "\n",
        "    training_time = time.time() - start_time\n",
        "    print(f\"\\nTraining completed in {training_time:.2f} seconds\")\n",
        "    print(f\"Vocabulary size: {len(model.wv)} words\")\n",
        "\n",
        "    # Save model if path provided\n",
        "    if save_path:\n",
        "        model.save(save_path)\n",
        "        print(f\"Model saved to {save_path}\")\n",
        "\n",
        "    return model"
      ]
    },
    {
      "cell_type": "code",
      "execution_count": 235,
      "id": "25923c1d",
      "metadata": {
        "colab": {
          "base_uri": "https://localhost:8080/"
        },
        "id": "25923c1d",
        "outputId": "036577a4-8a2a-448d-e604-4558607d297b"
      },
      "outputs": [
        {
          "output_type": "stream",
          "name": "stdout",
          "text": [
            "Training Word2Vec model with parameters:\n",
            "  vector_size: 200\n",
            "  window: 10\n",
            "  min_count: 10\n",
            "  workers: 1\n",
            "  sg: 1\n",
            "  epochs: 3\n",
            "  alpha: 0.025\n",
            "  min_alpha: 0.0001\n",
            "  hs: 0\n",
            "  negative: 5\n",
            "  compute_loss: True\n",
            "\n",
            "Training on the streamed corpus...\n",
            "Epoch #0 start\n",
            "Epoch #0 end - Time elapsed: 337.37s\n",
            "Epoch #1 start\n",
            "Epoch #1 end - Time elapsed: 667.29s\n",
            "Epoch #2 start\n",
            "Epoch #2 end - Time elapsed: 998.76s\n",
            "\n",
            "Training completed in 998.76 seconds\n",
            "Vocabulary size: 47134 words\n",
            "Model saved to my_word2vec_model_text8.model\n"
          ]
        }
      ],
      "source": [
        "# Example usage\n",
        "model = train_word2vec_model(\n",
        "    sentences=corpus,\n",
        "    save_path='my_word2vec_model_text8.model',\n",
        "    vector_size=200,\n",
        "    window=10,\n",
        "    min_count=10,\n",
        "    negative=5,\n",
        "    sg=1,\n",
        "    epochs=3,\n",
        "    compute_loss = True\n",
        ")\n"
      ]
    },
    {
      "cell_type": "code",
      "source": [
        "# Train a CBOW model (sg=0)\n",
        "model_cbow = train_word2vec_model(\n",
        "    sentences=corpus,\n",
        "    save_path='my_word2vec_model_text8_cbow.model',\n",
        "    vector_size=200,\n",
        "    window=10,\n",
        "    min_count=10,\n",
        "    negative=5,\n",
        "    sg=0,  # CBOW\n",
        "    epochs=3,\n",
        "    compute_loss=True\n",
        ")"
      ],
      "metadata": {
        "colab": {
          "base_uri": "https://localhost:8080/"
        },
        "id": "7v9SiKF1fNMD",
        "outputId": "4b2d87d6-281e-40b8-e04e-4f42bf92064b"
      },
      "id": "7v9SiKF1fNMD",
      "execution_count": 236,
      "outputs": [
        {
          "output_type": "stream",
          "name": "stdout",
          "text": [
            "Training Word2Vec model with parameters:\n",
            "  vector_size: 200\n",
            "  window: 10\n",
            "  min_count: 10\n",
            "  workers: 1\n",
            "  sg: 0\n",
            "  epochs: 3\n",
            "  alpha: 0.025\n",
            "  min_alpha: 0.0001\n",
            "  hs: 0\n",
            "  negative: 5\n",
            "  compute_loss: True\n",
            "\n",
            "Training on the streamed corpus...\n",
            "Epoch #0 start\n",
            "Epoch #0 end - Time elapsed: 66.68s\n",
            "Epoch #1 start\n",
            "Epoch #1 end - Time elapsed: 123.46s\n",
            "Epoch #2 start\n",
            "Epoch #2 end - Time elapsed: 182.32s\n",
            "\n",
            "Training completed in 182.32 seconds\n",
            "Vocabulary size: 47134 words\n",
            "Model saved to my_word2vec_model_text8_cbow.model\n"
          ]
        }
      ]
    },
    {
      "cell_type": "code",
      "execution_count": 237,
      "id": "e27a627a",
      "metadata": {
        "id": "e27a627a",
        "colab": {
          "base_uri": "https://localhost:8080/"
        },
        "outputId": "14297516-9d30-476d-a601-6399de517c40"
      },
      "outputs": [
        {
          "output_type": "stream",
          "name": "stdout",
          "text": [
            "Vocabulary Size: 47134\n"
          ]
        }
      ],
      "source": [
        "vocab_size = len(model.wv.index_to_key)\n",
        "print(\"Vocabulary Size:\", vocab_size)"
      ]
    },
    {
      "cell_type": "code",
      "execution_count": 238,
      "id": "e563ef06",
      "metadata": {
        "id": "e563ef06",
        "colab": {
          "base_uri": "https://localhost:8080/"
        },
        "outputId": "33290d05-941a-4f79-9ab0-1dc98d922b9f"
      },
      "outputs": [
        {
          "output_type": "stream",
          "name": "stdout",
          "text": [
            "All Words in Vocabulary: ['the', 'of', 'and', 'one', 'in', 'a', 'to', 'zero', 'nine', 'two']\n"
          ]
        }
      ],
      "source": [
        "all_words = model.wv.index_to_key\n",
        "print(\"All Words in Vocabulary:\", all_words[:10])"
      ]
    },
    {
      "cell_type": "markdown",
      "id": "eda5d6bd",
      "metadata": {
        "id": "eda5d6bd"
      },
      "source": [
        "## 3.6 Model Evaluation and Validation\n",
        "\n",
        "Intrinsic Evaluation Methods"
      ]
    },
    {
      "cell_type": "code",
      "execution_count": 239,
      "id": "f8457a5a",
      "metadata": {
        "id": "f8457a5a"
      },
      "outputs": [],
      "source": [
        "import numpy as np\n",
        "from scipy.stats import spearmanr\n",
        "from sklearn.metrics.pairwise import cosine_similarity\n",
        "\n",
        "class Word2VecEvaluator:\n",
        "    \"\"\"Comprehensive evaluation suite for Word2Vec models\"\"\"\n",
        "\n",
        "    def __init__(self, model):\n",
        "        self.model = model\n",
        "        self.wv = model.wv\n",
        "\n",
        "    def evaluate_word_similarity(self, word_pairs_with_scores):\n",
        "        \"\"\"\n",
        "        Evaluate model on word similarity datasets\n",
        "\n",
        "        Args:\n",
        "            word_pairs_with_scores: List of tuples (word1, word2, human_score)\n",
        "\n",
        "        Returns:\n",
        "            Spearman correlation with human judgments\n",
        "        \"\"\"\n",
        "\n",
        "        model_similarities = []\n",
        "        human_similarities = []\n",
        "\n",
        "        for word1, word2, human_score in word_pairs_with_scores:\n",
        "            try:\n",
        "                model_sim = self.wv.similarity(word1, word2)\n",
        "                model_similarities.append(model_sim)\n",
        "                human_similarities.append(human_score)\n",
        "            except KeyError:\n",
        "                # Skip if words not in vocabulary\n",
        "                continue\n",
        "\n",
        "        if len(model_similarities) < 10:\n",
        "            print(\"Warning: Too few valid word pairs for reliable evaluation\")\n",
        "            return None\n",
        "\n",
        "        correlation, p_value = spearmanr(human_similarities, model_similarities)\n",
        "\n",
        "        print(f\"Word Similarity Evaluation:\")\n",
        "        print(f\"Valid pairs: {len(model_similarities)}\")\n",
        "        print(f\"Spearman correlation: {correlation:.4f}\")\n",
        "        print(f\"P-value: {p_value:.4f}\")\n",
        "\n",
        "        return correlation\n",
        "\n",
        "    def evaluate_analogies(self, analogy_dataset):\n",
        "        \"\"\"\n",
        "        Evaluate model on word analogy tasks\n",
        "\n",
        "        Args:\n",
        "            analogy_dataset: List of tuples (word_a, word_b, word_c, word_d)\n",
        "                           representing \"word_a is to word_b as word_c is to word_d\"\n",
        "\n",
        "        Returns:\n",
        "            Accuracy on analogy task\n",
        "        \"\"\"\n",
        "\n",
        "        correct = 0\n",
        "        total = 0\n",
        "        #('king', 'queen', 'man', 'woman'),\n",
        "        for word_a, word_b, word_c, expected_d in analogy_dataset:\n",
        "            try:\n",
        "                # Predict word_d\n",
        "                result = self.wv.most_similar(\n",
        "                    positive=[word_a, word_b],\n",
        "                    negative=[word_c],\n",
        "                    topn=1\n",
        "                )\n",
        "\n",
        "                predicted_d = result\n",
        "\n",
        "                if predicted_d[0][0].lower() == expected_d.lower():\n",
        "                    correct += 1\n",
        "\n",
        "                total += 1\n",
        "\n",
        "            except (KeyError, IndexError):\n",
        "                # Skip if words not in vocabulary\n",
        "                continue\n",
        "\n",
        "        if total == 0:\n",
        "            print(\"Warning: No valid analogies found\")\n",
        "            return 0\n",
        "\n",
        "        accuracy = correct / total\n",
        "\n",
        "        print(f\"Analogy Evaluation:\")\n",
        "        print(f\"Valid analogies: {total}\")\n",
        "        print(f\"Correct predictions: {correct}\")\n",
        "        print(f\"Accuracy: {accuracy:.4f}\")\n",
        "\n",
        "        return accuracy\n",
        "\n",
        "    def evaluate_odd_one_out(self, word_groups):\n",
        "        \"\"\"\n",
        "        Evaluate model's ability to identify odd words in groups\n",
        "\n",
        "        Args:\n",
        "            word_groups: List of lists, each containing words where one doesn't belong\n",
        "\n",
        "        Returns:\n",
        "            Accuracy on odd-one-out task\n",
        "        \"\"\"\n",
        "\n",
        "        correct = 0\n",
        "        total = 0\n",
        "\n",
        "        for group in word_groups:\n",
        "            if len(group) < 3:\n",
        "                continue\n",
        "\n",
        "            try:\n",
        "                # Find the word that doesn't match others\n",
        "                odd_word = self.wv.doesnt_match(group)\n",
        "\n",
        "                # This is tricky - we need ground truth to evaluate properly\n",
        "                # For now, just check if the model can identify AN odd word\n",
        "                correct += 1  # Placeholder - you'd need labeled data\n",
        "                total += 1\n",
        "\n",
        "            except KeyError:\n",
        "                continue\n",
        "\n",
        "        if total == 0:\n",
        "            return 0\n",
        "\n",
        "        accuracy = correct / total\n",
        "\n",
        "        print(f\"Odd-One-Out Evaluation:\")\n",
        "        print(f\"  Valid groups: {total}\")\n",
        "        print(f\"  Accuracy: {accuracy:.4f}\")\n",
        "\n",
        "        return accuracy\n",
        "\n",
        "    def analyze_vocabulary_coverage(self, test_texts):\n",
        "        \"\"\"\n",
        "        Analyze how well model vocabulary covers test texts\n",
        "\n",
        "        Args:\n",
        "            test_texts: List of text strings\n",
        "\n",
        "        Returns:\n",
        "            Coverage statistics\n",
        "        \"\"\"\n",
        "\n",
        "        vocab = set(self.wv.index_to_key)\n",
        "\n",
        "        total_words = 0\n",
        "        covered_words = 0\n",
        "        unknown_words = set()\n",
        "\n",
        "        for text in test_texts:\n",
        "            words = text.lower().split()\n",
        "            total_words += len(words)\n",
        "\n",
        "            for word in words:\n",
        "                if word in vocab:\n",
        "                    covered_words += 1\n",
        "                else:\n",
        "                    unknown_words.add(word)\n",
        "\n",
        "        coverage_ratio = covered_words / total_words if total_words > 0 else 0\n",
        "\n",
        "        print(f\"Vocabulary Coverage Analysis:\")\n",
        "        print(f\"  Total words in test: {total_words}\")\n",
        "        print(f\"  Covered words: {covered_words}\")\n",
        "        print(f\"  Coverage ratio: {coverage_ratio:.4f}\")\n",
        "        print(f\"  Unknown words: {len(unknown_words)}\")\n",
        "\n",
        "        return {\n",
        "            'coverage_ratio': coverage_ratio,\n",
        "            'unknown_words': list(unknown_words)[:20],  # Show first 20\n",
        "            'total_unknown': len(unknown_words)\n",
        "        }\n",
        "\n",
        "    def compare_with_baseline(self, baseline_model, test_words):\n",
        "        \"\"\"\n",
        "        Compare model performance with baseline model\n",
        "\n",
        "        Args:\n",
        "            baseline_model: Another Word2Vec model to compare against\n",
        "            test_words: List of words to test\n",
        "\n",
        "        Returns:\n",
        "            Comparison statistics\n",
        "        \"\"\"\n",
        "\n",
        "        common_words = []\n",
        "        for word in test_words:\n",
        "            if word in self.wv and word in baseline_model.wv:\n",
        "                common_words.append(word)\n",
        "\n",
        "        if len(common_words) < 10:\n",
        "            print(\"Warning: Too few common words for reliable comparison\")\n",
        "            return None\n",
        "\n",
        "        # Compare similarity patterns\n",
        "        similarities = []\n",
        "\n",
        "        for i, word1 in enumerate(common_words[:20]):  # Test subset\n",
        "            for word2 in common_words[i+1:21]:  # Avoid too many comparisons\n",
        "\n",
        "                sim1 = self.wv.similarity(word1, word2)\n",
        "                sim2 = baseline_model.wv.similarity(word1, word2)\n",
        "\n",
        "                similarities.append((sim1, sim2))\n",
        "\n",
        "        model_sims = [s for s in similarities]\n",
        "        baseline_sims = [s for s in similarities]\n",
        "\n",
        "        correlation, _ = spearmanr(model_sims, baseline_sims)\n",
        "\n",
        "        print(f\"Model Comparison:\")\n",
        "        print(f\"  Common vocabulary: {len(common_words)}\")\n",
        "        print(f\"  Similarity correlation: {correlation:.4f}\")\n",
        "\n",
        "        return correlation"
      ]
    },
    {
      "cell_type": "code",
      "execution_count": 240,
      "id": "5ad5c51c",
      "metadata": {
        "id": "5ad5c51c",
        "colab": {
          "base_uri": "https://localhost:8080/"
        },
        "outputId": "b8a78817-ce81-4300-b183-5e352a547aff"
      },
      "outputs": [
        {
          "output_type": "stream",
          "name": "stdout",
          "text": [
            "Warning: Too few valid word pairs for reliable evaluation\n",
            "Analogy Evaluation:\n",
            "Valid analogies: 8\n",
            "Correct predictions: 1\n",
            "Accuracy: 0.1250\n"
          ]
        }
      ],
      "source": [
        "# Example evaluation datasets\n",
        "word_similarity_pairs = [\n",
        "    ('king', 'queen', 8.5),\n",
        "    ('man', 'woman', 8.3),\n",
        "    ('car', 'automobile', 9.2),\n",
        "    ('computer', 'laptop', 7.8),\n",
        "    ('cat', 'dog', 6.1),\n",
        "    ('happy', 'sad', 2.1),\n",
        "]\n",
        "\n",
        "analogy_examples = [\n",
        "    ('man', 'woman', 'king', 'queen'),\n",
        "    ('brother', 'sister', 'son', 'daughter'),\n",
        "    # Geographical relationships\n",
        "    ('paris', 'france', 'berlin', 'germany'),\n",
        "    ('london', 'england', 'tokyo', 'japan'),\n",
        "    # Verb tense relationships\n",
        "    ('walking', 'walked', 'running', 'ran'),\n",
        "    ('swimming', 'swam', 'flying', 'flew'),\n",
        "    # Comparative relationships\n",
        "    ('good', 'better', 'bad', 'worse'),\n",
        "    ('fast', 'faster', 'slow', 'slower'),\n",
        "]\n",
        "\n",
        "# Usage example\n",
        "evaluator = Word2VecEvaluator(model)\n",
        "sim_score = evaluator.evaluate_word_similarity(word_similarity_pairs)\n",
        "analogy_score = evaluator.evaluate_analogies(analogy_examples)"
      ]
    },
    {
      "cell_type": "code",
      "source": [
        "# Evaluate the CBOW model\n",
        "print(\"--- CBOW Model Evaluation ---\")\n",
        "evaluator_cbow = Word2VecEvaluator(model_cbow)\n",
        "sim_score_cbow = evaluator_cbow.evaluate_word_similarity(word_similarity_pairs)\n",
        "analogy_score_cbow = evaluator_cbow.evaluate_analogies(analogy_examples)"
      ],
      "metadata": {
        "colab": {
          "base_uri": "https://localhost:8080/"
        },
        "id": "blMTiCWJfWj4",
        "outputId": "e358188e-01c5-48b7-c425-1be54a694593"
      },
      "id": "blMTiCWJfWj4",
      "execution_count": 241,
      "outputs": [
        {
          "output_type": "stream",
          "name": "stdout",
          "text": [
            "--- CBOW Model Evaluation ---\n",
            "Warning: Too few valid word pairs for reliable evaluation\n",
            "Analogy Evaluation:\n",
            "Valid analogies: 8\n",
            "Correct predictions: 0\n",
            "Accuracy: 0.0000\n"
          ]
        }
      ]
    },
    {
      "cell_type": "markdown",
      "id": "99eb3057",
      "metadata": {
        "id": "99eb3057"
      },
      "source": [
        "Extra"
      ]
    },
    {
      "cell_type": "code",
      "execution_count": 242,
      "id": "9da6c1d7",
      "metadata": {
        "id": "9da6c1d7",
        "colab": {
          "base_uri": "https://localhost:8080/"
        },
        "outputId": "7d95f2aa-7182-47c4-d13f-34ff0ec51e1e"
      },
      "outputs": [
        {
          "output_type": "stream",
          "name": "stdout",
          "text": [
            "Most similar words to 'alice':\n",
            "carol: 0.6660493016242981\n",
            "phoebe: 0.6252615451812744\n",
            "wonderland: 0.6042983531951904\n",
            "edna: 0.5879860520362854\n",
            "chandler: 0.5861482620239258\n",
            "mildred: 0.5849655866622925\n",
            "bob: 0.5845320820808411\n",
            "gertrude: 0.5807077884674072\n",
            "rachel: 0.5723688006401062\n",
            "scarlett: 0.5720853209495544\n"
          ]
        }
      ],
      "source": [
        "# Evaluate Skip-gram model\n",
        "word = \"alice\"\n",
        "if word in model.wv:\n",
        "    similar_words = model.wv.most_similar(word, topn=10)\n",
        "    print(f\"Most similar words to '{word}':\")\n",
        "    for similar_word, similarity in similar_words:\n",
        "        print(f\"{similar_word}: {similarity}\")\n",
        "else:\n",
        "    print(\"Word is not in the vocabulary.\")"
      ]
    },
    {
      "cell_type": "code",
      "execution_count": 243,
      "id": "2d3ba23a",
      "metadata": {
        "id": "2d3ba23a",
        "colab": {
          "base_uri": "https://localhost:8080/"
        },
        "outputId": "3ee097a7-a893-4034-fc87-96e10c358f6e"
      },
      "outputs": [
        {
          "output_type": "execute_result",
          "data": {
            "text/plain": [
              "0.3389905"
            ]
          },
          "metadata": {},
          "execution_count": 243
        }
      ],
      "source": [
        "model.wv.similarity('king', 'man')"
      ]
    },
    {
      "cell_type": "code",
      "source": [
        "# CBOW model: Find similar words to 'alice'\n",
        "word = \"alice\"\n",
        "if word in model_cbow.wv:\n",
        "    similar_words_cbow = model_cbow.wv.most_similar(word, topn=10)\n",
        "    print(f\"Most similar words to '{word}' (CBOW):\")\n",
        "    for similar_word, similarity in similar_words_cbow:\n",
        "        print(f\"{similar_word}: {similarity}\")\n",
        "else:\n",
        "    print(f\"Word '{word}' is not in the CBOW model vocabulary.\")"
      ],
      "metadata": {
        "colab": {
          "base_uri": "https://localhost:8080/"
        },
        "id": "mfRgEA9YfkW2",
        "outputId": "f19caa54-be20-4e14-ee49-46da786d5885"
      },
      "id": "mfRgEA9YfkW2",
      "execution_count": 244,
      "outputs": [
        {
          "output_type": "stream",
          "name": "stdout",
          "text": [
            "Most similar words to 'alice' (CBOW):\n",
            "carol: 0.8268250226974487\n",
            "bob: 0.8130013942718506\n",
            "mrs: 0.777900218963623\n",
            "jack: 0.769040048122406\n",
            "mitchell: 0.7689304947853088\n",
            "lucy: 0.7671371102333069\n",
            "jessica: 0.7663625478744507\n",
            "dave: 0.7646123170852661\n",
            "miss: 0.7620733976364136\n",
            "chapman: 0.7617904543876648\n"
          ]
        }
      ]
    },
    {
      "cell_type": "code",
      "source": [
        "# --- Visual Comparison ---\n",
        "from sklearn.decomposition import PCA\n",
        "import matplotlib.pyplot as plt\n",
        "\n",
        "def visualize_embeddings_comparison(model_sg, model_cbow, words):\n",
        "\n",
        "    fig, (ax1, ax2) = plt.subplots(1, 2, figsize=(20, 8))\n",
        "    fig.suptitle('Visual Comparison of Word Embeddings', fontsize=16)\n",
        "\n",
        "    # Words available in both models\n",
        "    words_in_sg = [word for word in words if word in model_sg.wv]\n",
        "    words_in_cbow = [word for word in words if word in model_cbow.wv]\n",
        "\n",
        "    # --- Skip-gram Plot ---\n",
        "    if words_in_sg:\n",
        "        vectors_sg = [model_sg.wv[word] for word in words_in_sg]\n",
        "        pca_sg = PCA(n_components=2)\n",
        "        result_sg = pca_sg.fit_transform(vectors_sg)\n",
        "\n",
        "        ax1.scatter(result_sg[:, 0], result_sg[:, 1])\n",
        "        ax1.set_title('Skip-gram (sg=1)')\n",
        "        for i, word in enumerate(words_in_sg):\n",
        "            ax1.annotate(word, xy=(result_sg[i, 0], result_sg[i, 1]))\n",
        "    else:\n",
        "        ax1.set_title('Skip-gram (sg=1) - No words found')\n",
        "\n",
        "    # --- CBOW Plot ---\n",
        "    if words_in_cbow:\n",
        "        vectors_cbow = [model_cbow.wv[word] for word in words_in_cbow]\n",
        "        pca_cbow = PCA(n_components=2)\n",
        "        result_cbow = pca_cbow.fit_transform(vectors_cbow)\n",
        "\n",
        "        ax2.scatter(result_cbow[:, 0], result_cbow[:, 1])\n",
        "        ax2.set_title('CBOW (sg=0)')\n",
        "        for i, word in enumerate(words_in_cbow):\n",
        "            ax2.annotate(word, xy=(result_cbow[i, 0], result_cbow[i, 1]))\n",
        "    else:\n",
        "        ax2.set_title('CBOW (sg=0) - No words found')\n",
        "\n",
        "    plt.show()\n",
        "\n",
        "# Words that might show interesting relationships\n",
        "sample_words = ['king', 'queen', 'man', 'woman', 'paris', 'france', 'london', 'england']\n",
        "visualize_embeddings_comparison(model, model_cbow, sample_words)"
      ],
      "metadata": {
        "id": "PYgxeuquYe_G",
        "colab": {
          "base_uri": "https://localhost:8080/",
          "height": 406
        },
        "outputId": "a46112df-c589-4891-b5d5-e5c90795ab75"
      },
      "id": "PYgxeuquYe_G",
      "execution_count": 245,
      "outputs": [
        {
          "output_type": "display_data",
          "data": {
            "text/plain": [
              "<Figure size 2000x800 with 2 Axes>"
            ],
            "image/png": "[encoded data removed]"
          },
          "metadata": {}
        }
      ]
    },
    {
      "cell_type": "code",
      "source": [
        "# --- Qualitative Comparison ---\n",
        "# Let's compare the most similar words for a few terms\n",
        "\n",
        "words_to_compare = ['king', 'woman', 'france']\n",
        "\n",
        "for word in words_to_compare:\n",
        "    print(f\"--- Comparing similar words for '{word}' ---\")\n",
        "\n",
        "    # Skip-gram results\n",
        "    if word in model.wv:\n",
        "        similar_skipgram = model.wv.most_similar(word, topn=5)\n",
        "        print(f\"Skip-gram (sg=1): {[item[0] for item in similar_skipgram]}\")\n",
        "    else:\n",
        "        print(f\"Skip-gram (sg=1): Word not in vocabulary.\")\n",
        "\n",
        "    # CBOW results\n",
        "    if word in model_cbow.wv:\n",
        "        similar_cbow = model_cbow.wv.most_similar(word, topn=5)\n",
        "        print(f\"CBOW (sg=0): {[item[0] for item in similar_cbow]}\")\n",
        "    else:\n",
        "        print(f\"CBOW (sg=0): Word not in vocabulary.\")\n",
        "    print(\"\\\\n\")"
      ],
      "metadata": {
        "id": "Jrv8xQxUGCEj",
        "colab": {
          "base_uri": "https://localhost:8080/"
        },
        "outputId": "9dce4ce2-fe06-4b99-cb99-234757b190d2"
      },
      "id": "Jrv8xQxUGCEj",
      "execution_count": 246,
      "outputs": [
        {
          "output_type": "stream",
          "name": "stdout",
          "text": [
            "--- Comparing similar words for 'king' ---\n",
            "Skip-gram (sg=1): ['canute', 'haakon', 'sweyn', 'valdemar', 'wenceslaus']\n",
            "CBOW (sg=0): ['prince', 'throne', 'duke', 'emperor', 'queen']\n",
            "\\n\n",
            "--- Comparing similar words for 'woman' ---\n",
            "Skip-gram (sg=1): ['girl', 'man', 'promiscuous', 'children', 'prostitute']\n",
            "CBOW (sg=0): ['child', 'girl', 'lady', 'mother', 'herself']\n",
            "\\n\n",
            "--- Comparing similar words for 'france' ---\n",
            "Skip-gram (sg=1): ['belgium', 'nantes', 'spain', 'toulouse', 'french']\n",
            "CBOW (sg=0): ['spain', 'italy', 'portugal', 'belgium', 'austria']\n",
            "\\n\n"
          ]
        }
      ]
    },
    {
      "cell_type": "code",
      "source": [
        "import pandas as pd\n",
        "\n",
        "# Create a DataFrame to compare the evaluation scores\n",
        "comparison_data = {\n",
        "    \"Metric\": [\"Word Similarity (Spearman Corr.)\", \"Analogy Accuracy\"],\n",
        "    \"Skip-gram (sg=1)\": [sim_score, analogy_score],\n",
        "    \"CBOW (sg=0)\": [sim_score_cbow, analogy_score_cbow]\n",
        "}\n",
        "comparison_df = pd.DataFrame(comparison_data)\n",
        "comparison_df.set_index(\"Metric\", inplace=True)\n",
        "\n",
        "print(\"--- Numerical Comparison ---\")\n",
        "print(\"Higher scores are better for both metrics.\")\n",
        "comparison_df"
      ],
      "metadata": {
        "colab": {
          "base_uri": "https://localhost:8080/",
          "height": 178
        },
        "id": "wgiqff0KhfJu",
        "outputId": "bb9ac786-19f1-41b1-cd79-ffe6d9a5385b"
      },
      "id": "wgiqff0KhfJu",
      "execution_count": 247,
      "outputs": [
        {
          "output_type": "stream",
          "name": "stdout",
          "text": [
            "--- Numerical Comparison ---\n",
            "Higher scores are better for both metrics.\n"
          ]
        },
        {
          "output_type": "execute_result",
          "data": {
            "text/plain": [
              "                                  Skip-gram (sg=1)  CBOW (sg=0)\n",
              "Metric                                                         \n",
              "Word Similarity (Spearman Corr.)               NaN          NaN\n",
              "Analogy Accuracy                             0.125          0.0"
            ],
            "text/html": [
              "\n",
              "  <div id=\"df-172be67e-fe63-4cf3-b573-ca7d52de0a3b\" class=\"colab-df-container\">\n",
              "    <div>\n",
              "<style scoped>\n",
              "    .dataframe tbody tr th:only-of-type {\n",
              "        vertical-align: middle;\n",
              "    }\n",
              "\n",
              "    .dataframe tbody tr th {\n",
              "        vertical-align: top;\n",
              "    }\n",
              "\n",
              "    .dataframe thead th {\n",
              "        text-align: right;\n",
              "    }\n",
              "</style>\n",
              "<table border=\"1\" class=\"dataframe\">\n",
              "  <thead>\n",
              "    <tr style=\"text-align: right;\">\n",
              "      <th></th>\n",
              "      <th>Skip-gram (sg=1)</th>\n",
              "      <th>CBOW (sg=0)</th>\n",
              "    </tr>\n",
              "    <tr>\n",
              "      <th>Metric</th>\n",
              "      <th></th>\n",
              "      <th></th>\n",
              "    </tr>\n",
              "  </thead>\n",
              "  <tbody>\n",
              "    <tr>\n",
              "      <th>Word Similarity (Spearman Corr.)</th>\n",
              "      <td>NaN</td>\n",
              "      <td>NaN</td>\n",
              "    </tr>\n",
              "    <tr>\n",
              "      <th>Analogy Accuracy</th>\n",
              "      <td>0.125</td>\n",
              "      <td>0.0</td>\n",
              "    </tr>\n",
              "  </tbody>\n",
              "</table>\n",
              "</div>\n",
              "    <div class=\"colab-df-buttons\">\n",
              "\n",
              "  <div class=\"colab-df-container\">\n",
              "    <button class=\"colab-df-convert\" onclick=\"convertToInteractive('df-172be67e-fe63-4cf3-b573-ca7d52de0a3b')\"\n",
              "            title=\"Convert this dataframe to an interactive table.\"\n",
              "            style=\"display:none;\">\n",
              "\n",
              "  <svg xmlns=\"http://www.w3.org/2000/svg\" height=\"24px\" viewBox=\"0 -960 960 960\">\n",
              "    <path d=\"M120-120v-720h720v720H120Zm60-500h600v-160H180v160Zm220 220h160v-160H400v160Zm0 220h160v-160H400v160ZM180-400h160v-160H180v160Zm440 0h160v-160H620v160ZM180-180h160v-160H180v160Zm440 0h160v-160H620v160Z\"/>\n",
              "  </svg>\n",
              "    </button>\n",
              "\n",
              "  <style>\n",
              "    .colab-df-container {\n",
              "      display:flex;\n",
              "      gap: 12px;\n",
              "    }\n",
              "\n",
              "    .colab-df-convert {\n",
              "      background-color: #E8F0FE;\n",
              "      border: none;\n",
              "      border-radius: 50%;\n",
              "      cursor: pointer;\n",
              "      display: none;\n",
              "      fill: #1967D2;\n",
              "      height: 32px;\n",
              "      padding: 0 0 0 0;\n",
              "      width: 32px;\n",
              "    }\n",
              "\n",
              "    .colab-df-convert:hover {\n",
              "      background-color: #E2EBFA;\n",
              "      box-shadow: 0px 1px 2px rgba(60, 64, 67, 0.3), 0px 1px 3px 1px rgba(60, 64, 67, 0.15);\n",
              "      fill: #174EA6;\n",
              "    }\n",
              "\n",
              "    .colab-df-buttons div {\n",
              "      margin-bottom: 4px;\n",
              "    }\n",
              "\n",
              "    [theme=dark] .colab-df-convert {\n",
              "      background-color: #3B4455;\n",
              "      fill: #D2E3FC;\n",
              "    }\n",
              "\n",
              "    [theme=dark] .colab-df-convert:hover {\n",
              "      background-color: #434B5C;\n",
              "      box-shadow: 0px 1px 3px 1px rgba(0, 0, 0, 0.15);\n",
              "      filter: drop-shadow(0px 1px 2px rgba(0, 0, 0, 0.3));\n",
              "      fill: #FFFFFF;\n",
              "    }\n",
              "  </style>\n",
              "\n",
              "    <script>\n",
              "      const buttonEl =\n",
              "        document.querySelector('#df-172be67e-fe63-4cf3-b573-ca7d52de0a3b button.colab-df-convert');\n",
              "      buttonEl.style.display =\n",
              "        google.colab.kernel.accessAllowed ? 'block' : 'none';\n",
              "\n",
              "      async function convertToInteractive(key) {\n",
              "        const element = document.querySelector('#df-172be67e-fe63-4cf3-b573-ca7d52de0a3b');\n",
              "        const dataTable =\n",
              "          await google.colab.kernel.invokeFunction('convertToInteractive',\n",
              "                                                    [key], {});\n",
              "        if (!dataTable) return;\n",
              "\n",
              "        const docLinkHtml = 'Like what you see? Visit the ' +\n",
              "          '<a target=\"_blank\" href=https://colab.research.google.com/notebooks/data_table.ipynb>data table notebook</a>'\n",
              "          + ' to learn more about interactive tables.';\n",
              "        element.innerHTML = '';\n",
              "        dataTable['output_type'] = 'display_data';\n",
              "        await google.colab.output.renderOutput(dataTable, element);\n",
              "        const docLink = document.createElement('div');\n",
              "        docLink.innerHTML = docLinkHtml;\n",
              "        element.appendChild(docLink);\n",
              "      }\n",
              "    </script>\n",
              "  </div>\n",
              "\n",
              "\n",
              "    <div id=\"df-18ff46ca-286d-4337-84e2-f1a5ba79b1ac\">\n",
              "      <button class=\"colab-df-quickchart\" onclick=\"quickchart('df-18ff46ca-286d-4337-84e2-f1a5ba79b1ac')\"\n",
              "                title=\"Suggest charts\"\n",
              "                style=\"display:none;\">\n",
              "\n",
              "<svg xmlns=\"http://www.w3.org/2000/svg\" height=\"24px\"viewBox=\"0 0 24 24\"\n",
              "     width=\"24px\">\n",
              "    <g>\n",
              "        <path d=\"M19 3H5c-1.1 0-2 .9-2 2v14c0 1.1.9 2 2 2h14c1.1 0 2-.9 2-2V5c0-1.1-.9-2-2-2zM9 17H7v-7h2v7zm4 0h-2V7h2v10zm4 0h-2v-4h2v4z\"/>\n",
              "    </g>\n",
              "</svg>\n",
              "      </button>\n",
              "\n",
              "<style>\n",
              "  .colab-df-quickchart {\n",
              "      --bg-color: #E8F0FE;\n",
              "      --fill-color: #1967D2;\n",
              "      --hover-bg-color: #E2EBFA;\n",
              "      --hover-fill-color: #174EA6;\n",
              "      --disabled-fill-color: #AAA;\n",
              "      --disabled-bg-color: #DDD;\n",
              "  }\n",
              "\n",
              "  [theme=dark] .colab-df-quickchart {\n",
              "      --bg-color: #3B4455;\n",
              "      --fill-color: #D2E3FC;\n",
              "      --hover-bg-color: #434B5C;\n",
              "      --hover-fill-color: #FFFFFF;\n",
              "      --disabled-bg-color: #3B4455;\n",
              "      --disabled-fill-color: #666;\n",
              "  }\n",
              "\n",
              "  .colab-df-quickchart {\n",
              "    background-color: var(--bg-color);\n",
              "    border: none;\n",
              "    border-radius: 50%;\n",
              "    cursor: pointer;\n",
              "    display: none;\n",
              "    fill: var(--fill-color);\n",
              "    height: 32px;\n",
              "    padding: 0;\n",
              "    width: 32px;\n",
              "  }\n",
              "\n",
              "  .colab-df-quickchart:hover {\n",
              "    background-color: var(--hover-bg-color);\n",
              "    box-shadow: 0 1px 2px rgba(60, 64, 67, 0.3), 0 1px 3px 1px rgba(60, 64, 67, 0.15);\n",
              "    fill: var(--button-hover-fill-color);\n",
              "  }\n",
              "\n",
              "  .colab-df-quickchart-complete:disabled,\n",
              "  .colab-df-quickchart-complete:disabled:hover {\n",
              "    background-color: var(--disabled-bg-color);\n",
              "    fill: var(--disabled-fill-color);\n",
              "    box-shadow: none;\n",
              "  }\n",
              "\n",
              "  .colab-df-spinner {\n",
              "    border: 2px solid var(--fill-color);\n",
              "    border-color: transparent;\n",
              "    border-bottom-color: var(--fill-color);\n",
              "    animation:\n",
              "      spin 1s steps(1) infinite;\n",
              "  }\n",
              "\n",
              "  @keyframes spin {\n",
              "    0% {\n",
              "      border-color: transparent;\n",
              "      border-bottom-color: var(--fill-color);\n",
              "      border-left-color: var(--fill-color);\n",
              "    }\n",
              "    20% {\n",
              "      border-color: transparent;\n",
              "      border-left-color: var(--fill-color);\n",
              "      border-top-color: var(--fill-color);\n",
              "    }\n",
              "    30% {\n",
              "      border-color: transparent;\n",
              "      border-left-color: var(--fill-color);\n",
              "      border-top-color: var(--fill-color);\n",
              "      border-right-color: var(--fill-color);\n",
              "    }\n",
              "    40% {\n",
              "      border-color: transparent;\n",
              "      border-right-color: var(--fill-color);\n",
              "      border-top-color: var(--fill-color);\n",
              "    }\n",
              "    60% {\n",
              "      border-color: transparent;\n",
              "      border-right-color: var(--fill-color);\n",
              "    }\n",
              "    80% {\n",
              "      border-color: transparent;\n",
              "      border-right-color: var(--fill-color);\n",
              "      border-bottom-color: var(--fill-color);\n",
              "    }\n",
              "    90% {\n",
              "      border-color: transparent;\n",
              "      border-bottom-color: var(--fill-color);\n",
              "    }\n",
              "  }\n",
              "</style>\n",
              "\n",
              "      <script>\n",
              "        async function quickchart(key) {\n",
              "          const quickchartButtonEl =\n",
              "            document.querySelector('#' + key + ' button');\n",
              "          quickchartButtonEl.disabled = true;  // To prevent multiple clicks.\n",
              "          quickchartButtonEl.classList.add('colab-df-spinner');\n",
              "          try {\n",
              "            const charts = await google.colab.kernel.invokeFunction(\n",
              "                'suggestCharts', [key], {});\n",
              "          } catch (error) {\n",
              "            console.error('Error during call to suggestCharts:', error);\n",
              "          }\n",
              "          quickchartButtonEl.classList.remove('colab-df-spinner');\n",
              "          quickchartButtonEl.classList.add('colab-df-quickchart-complete');\n",
              "        }\n",
              "        (() => {\n",
              "          let quickchartButtonEl =\n",
              "            document.querySelector('#df-18ff46ca-286d-4337-84e2-f1a5ba79b1ac button');\n",
              "          quickchartButtonEl.style.display =\n",
              "            google.colab.kernel.accessAllowed ? 'block' : 'none';\n",
              "        })();\n",
              "      </script>\n",
              "    </div>\n",
              "\n",
              "  <div id=\"id_9253ef64-c258-4c7e-a0a6-3a8d91358b64\">\n",
              "    <style>\n",
              "      .colab-df-generate {\n",
              "        background-color: #E8F0FE;\n",
              "        border: none;\n",
              "        border-radius: 50%;\n",
              "        cursor: pointer;\n",
              "        display: none;\n",
              "        fill: #1967D2;\n",
              "        height: 32px;\n",
              "        padding: 0 0 0 0;\n",
              "        width: 32px;\n",
              "      }\n",
              "\n",
              "      .colab-df-generate:hover {\n",
              "        background-color: #E2EBFA;\n",
              "        box-shadow: 0px 1px 2px rgba(60, 64, 67, 0.3), 0px 1px 3px 1px rgba(60, 64, 67, 0.15);\n",
              "        fill: #174EA6;\n",
              "      }\n",
              "\n",
              "      [theme=dark] .colab-df-generate {\n",
              "        background-color: #3B4455;\n",
              "        fill: #D2E3FC;\n",
              "      }\n",
              "\n",
              "      [theme=dark] .colab-df-generate:hover {\n",
              "        background-color: #434B5C;\n",
              "        box-shadow: 0px 1px 3px 1px rgba(0, 0, 0, 0.15);\n",
              "        filter: drop-shadow(0px 1px 2px rgba(0, 0, 0, 0.3));\n",
              "        fill: #FFFFFF;\n",
              "      }\n",
              "    </style>\n",
              "    <button class=\"colab-df-generate\" onclick=\"generateWithVariable('comparison_df')\"\n",
              "            title=\"Generate code using this dataframe.\"\n",
              "            style=\"display:none;\">\n",
              "\n",
              "  <svg xmlns=\"http://www.w3.org/2000/svg\" height=\"24px\"viewBox=\"0 0 24 24\"\n",
              "       width=\"24px\">\n",
              "    <path d=\"M7,19H8.4L18.45,9,17,7.55,7,17.6ZM5,21V16.75L18.45,3.32a2,2,0,0,1,2.83,0l1.4,1.43a1.91,1.91,0,0,1,.58,1.4,1.91,1.91,0,0,1-.58,1.4L9.25,21ZM18.45,9,17,7.55Zm-12,3A5.31,5.31,0,0,0,4.9,8.1,5.31,5.31,0,0,0,1,6.5,5.31,5.31,0,0,0,4.9,4.9,5.31,5.31,0,0,0,6.5,1,5.31,5.31,0,0,0,8.1,4.9,5.31,5.31,0,0,0,12,6.5,5.46,5.46,0,0,0,6.5,12Z\"/>\n",
              "  </svg>\n",
              "    </button>\n",
              "    <script>\n",
              "      (() => {\n",
              "      const buttonEl =\n",
              "        document.querySelector('#id_9253ef64-c258-4c7e-a0a6-3a8d91358b64 button.colab-df-generate');\n",
              "      buttonEl.style.display =\n",
              "        google.colab.kernel.accessAllowed ? 'block' : 'none';\n",
              "\n",
              "      buttonEl.onclick = () => {\n",
              "        google.colab.notebook.generateWithVariable('comparison_df');\n",
              "      }\n",
              "      })();\n",
              "    </script>\n",
              "  </div>\n",
              "\n",
              "    </div>\n",
              "  </div>\n"
            ],
            "application/vnd.google.colaboratory.intrinsic+json": {
              "type": "dataframe",
              "variable_name": "comparison_df",
              "summary": "{\n  \"name\": \"comparison_df\",\n  \"rows\": 2,\n  \"fields\": [\n    {\n      \"column\": \"Metric\",\n      \"properties\": {\n        \"dtype\": \"string\",\n        \"num_unique_values\": 2,\n        \"samples\": [\n          \"Analogy Accuracy\",\n          \"Word Similarity (Spearman Corr.)\"\n        ],\n        \"semantic_type\": \"\",\n        \"description\": \"\"\n      }\n    },\n    {\n      \"column\": \"Skip-gram (sg=1)\",\n      \"properties\": {\n        \"dtype\": \"number\",\n        \"std\": null,\n        \"min\": 0.125,\n        \"max\": 0.125,\n        \"num_unique_values\": 1,\n        \"samples\": [\n          0.125\n        ],\n        \"semantic_type\": \"\",\n        \"description\": \"\"\n      }\n    },\n    {\n      \"column\": \"CBOW (sg=0)\",\n      \"properties\": {\n        \"dtype\": \"number\",\n        \"std\": null,\n        \"min\": 0.0,\n        \"max\": 0.0,\n        \"num_unique_values\": 1,\n        \"samples\": [\n          0.0\n        ],\n        \"semantic_type\": \"\",\n        \"description\": \"\"\n      }\n    }\n  ]\n}"
            }
          },
          "metadata": {},
          "execution_count": 247
        }
      ]
    },
    {
      "cell_type": "code",
      "source": [],
      "metadata": {
        "id": "QnKfGr-XiiHa"
      },
      "id": "QnKfGr-XiiHa",
      "execution_count": 247,
      "outputs": []
    },
    {
      "cell_type": "code",
      "source": [],
      "metadata": {
        "id": "_lSn1515iicL"
      },
      "id": "_lSn1515iicL",
      "execution_count": 247,
      "outputs": []
    }
  ],
  "metadata": {
    "colab": {
      "provenance": []
    },
    "kernelspec": {
      "display_name": "namgyel",
      "language": "python",
      "name": "python3"
    },
    "language_info": {
      "codemirror_mode": {
        "name": "ipython",
        "version": 3
      },
      "file_extension": ".py",
      "mimetype": "text/x-python",
      "name": "python",
      "nbconvert_exporter": "python",
      "pygments_lexer": "ipython3",
      "version": "3.10.12"
    }
  },
  "nbformat": 4,
  "nbformat_minor": 5
}