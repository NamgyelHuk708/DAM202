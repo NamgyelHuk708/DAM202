{
  "cells": [
    {
      "cell_type": "markdown",
      "id": "79089f77",
      "metadata": {
        "id": "79089f77"
      },
      "source": [
        "# Text Preprocessing"
      ]
    },
    {
      "cell_type": "markdown",
      "id": "ec55b0ce",
      "metadata": {},
      "source": [
        "This notebook demonstrates various text preprocessing techniques using the NLTK library."
      ]
    },
    {
      "cell_type": "code",
      "execution_count": null,
      "id": "f53a9677",
      "metadata": {
        "id": "f53a9677"
      },
      "outputs": [],
      "source": [
        "ROOT = \"/content/drive/MyDrive/DAM202\" # Your Working Directory\n",
        "import os\n",
        "os.chdir(ROOT)"
      ]
    },
    {
      "cell_type": "markdown",
      "id": "f8b3d8b7",
      "metadata": {},
      "source": [
        "The following cell sets the root directory for the project. This is the directory where the notebook will look for files."
      ]
    },
    {
      "cell_type": "markdown",
      "id": "efaaccb0",
      "metadata": {},
      "source": [
        "### Contraction Expansion\n",
        "Contractions are shortened versions of words or syllables. In text processing, it's often useful to expand them to their original form. For example, \"can't\" becomes \"cannot\"."
      ]
    },
    {
      "cell_type": "code",
      "execution_count": null,
      "id": "bjSirJ6OgNvF",
      "metadata": {
        "colab": {
          "base_uri": "https://localhost:8080/"
        },
        "id": "bjSirJ6OgNvF",
        "outputId": "a8b0dfc2-b19a-4ec9-e01f-32a2062931fc"
      },
      "outputs": [
        {
          "name": "stdout",
          "output_type": "stream",
          "text": [
            "Drive already mounted at /content/drive; to attempt to forcibly remount, call drive.mount(\"/content/drive\", force_remount=True).\n"
          ]
        }
      ],
      "source": [
        "from google.colab import drive\n",
        "\n",
        "drive.mount('/content/drive')"
      ]
    },
    {
      "cell_type": "markdown",
      "id": "65502ac4",
      "metadata": {},
      "source": [
        "This cell defines a function to expand contractions (e.g., \"can't\" to \"cannot\") and applies it to the text."
      ]
    },
    {
      "cell_type": "code",
      "execution_count": null,
      "id": "-IwQT6_TvpVD",
      "metadata": {
        "colab": {
          "base_uri": "https://localhost:8080/"
        },
        "id": "-IwQT6_TvpVD",
        "outputId": "b547ae1c-2161-4c3f-a6ad-73da882d255e"
      },
      "outputs": [
        {
          "name": "stdout",
          "output_type": "stream",
          "text": [
            "Drive already mounted at /content/drive; to attempt to forcibly remount, call drive.mount(\"/content/drive\", force_remount=True).\n"
          ]
        }
      ],
      "source": [
        "from google.colab import drive\n",
        "drive.mount('/content/drive')"
      ]
    },
    {
      "cell_type": "markdown",
      "id": "e9551903",
      "metadata": {},
      "source": [
        "This cell prints the original text and the text with contractions expanded to show the difference."
      ]
    },
    {
      "cell_type": "code",
      "execution_count": null,
      "id": "3a16479a",
      "metadata": {
        "colab": {
          "base_uri": "https://localhost:8080/"
        },
        "id": "3a16479a",
        "outputId": "3f7abc81-60b5-4762-e826-379572caf77a"
      },
      "outputs": [
        {
          "data": {
            "text/plain": [
              "['text.txt',\n",
              " 'improved_word2vec_model.model',\n",
              " 'my_word2vec_model.model',\n",
              " 'Practical2.ipynb']"
            ]
          },
          "execution_count": 166,
          "metadata": {},
          "output_type": "execute_result"
        }
      ],
      "source": [
        "#import os\n",
        "os.listdir()"
      ]
    },
    {
      "cell_type": "markdown",
      "id": "fe023d44",
      "metadata": {},
      "source": [
        "This cell uses the `difflib` library to highlight the differences between the original and expanded text."
      ]
    },
    {
      "cell_type": "markdown",
      "id": "kH4hYf0q4fwZ",
      "metadata": {
        "id": "kH4hYf0q4fwZ"
      },
      "source": [
        "### Tokenization\n",
        "Tokenization is the process of breaking down a text into smaller units, such as words or sentences."
      ]
    },
    {
      "cell_type": "code",
      "execution_count": null,
      "id": "0f009ad7",
      "metadata": {
        "id": "0f009ad7"
      },
      "outputs": [],
      "source": [
        "with open('text.txt', 'r', encoding='utf-8') as f: # Remember your data set path should be specified if not in same working directory\n",
        "    texts = f.readlines()"
      ]
    },
    {
      "cell_type": "markdown",
      "id": "938b6129",
      "metadata": {},
      "source": [
        "This cell reads the content of the `text.txt` file."
      ]
    },
    {
      "cell_type": "markdown",
      "id": "b06def67",
      "metadata": {},
      "source": [
        "Word tokenization splits the text into individual words."
      ]
    },
    {
      "cell_type": "code",
      "execution_count": null,
      "id": "c8faee62",
      "metadata": {
        "colab": {
          "base_uri": "https://localhost:8080/"
        },
        "id": "c8faee62",
        "outputId": "09ea4300-a1b6-4767-fe89-d76ca3323ce9"
      },
      "outputs": [
        {
          "data": {
            "text/plain": [
              "[\"                ALICE'S ADVENTURES IN WONDERLAND\\n\",\n",
              " '\\n',\n",
              " '                          Lewis Carroll\\n',\n",
              " '\\n',\n",
              " '               THE MILLENNIUM FULCRUM EDITION 3.0\\n',\n",
              " '\\n',\n",
              " '\\n',\n",
              " '\\n',\n",
              " '\\n',\n",
              " '                            CHAPTER I\\n']"
            ]
          },
          "execution_count": 168,
          "metadata": {},
          "output_type": "execute_result"
        }
      ],
      "source": [
        "texts[:10]"
      ]
    },
    {
      "cell_type": "markdown",
      "id": "7fab556d",
      "metadata": {},
      "source": [
        "This cell performs word tokenization on the text."
      ]
    },
    {
      "cell_type": "code",
      "execution_count": null,
      "id": "pT8ok8zDDa8y",
      "metadata": {
        "colab": {
          "base_uri": "https://localhost:8080/"
        },
        "id": "pT8ok8zDDa8y",
        "outputId": "98b7557d-6354-46aa-fa32-9765e577dcee"
      },
      "outputs": [
        {
          "name": "stderr",
          "output_type": "stream",
          "text": [
            "[nltk_data] Downloading package gutenberg to /root/nltk_data...\n",
            "[nltk_data]   Package gutenberg is already up-to-date!\n"
          ]
        },
        {
          "name": "stdout",
          "output_type": "stream",
          "text": [
            "Enhanced corpus: 3603 documents\n"
          ]
        }
      ],
      "source": [
        "# Add this right after your data loading section\n",
        "import nltk\n",
        "nltk.download('gutenberg')\n",
        "from nltk.corpus import gutenberg\n",
        "\n",
        "# Get texts from other classic books\n",
        "gutenberg_texts = []\n",
        "for fileid in gutenberg.fileids()[:5]:  # First 5 books\n",
        "    text = ' '.join(gutenberg.words(fileid))\n",
        "    gutenberg_texts.extend([text])  # Add as individual documents\n",
        "\n",
        "# Combine with your Alice text\n",
        "all_texts = texts + gutenberg_texts\n",
        "print(f\"Enhanced corpus: {len(all_texts)} documents\")"
      ]
    },
    {
      "cell_type": "markdown",
      "id": "94498f21",
      "metadata": {},
      "source": [
        "This cell performs sentence tokenization on the text."
      ]
    },
    {
      "cell_type": "markdown",
      "id": "9a7915e5",
      "metadata": {},
      "source": [
        "Sentence tokenization splits the text into individual sentences."
      ]
    },
    {
      "cell_type": "code",
      "execution_count": null,
      "id": "oBrFLe7wZ5jX",
      "metadata": {
        "colab": {
          "base_uri": "https://localhost:8080/"
        },
        "id": "oBrFLe7wZ5jX",
        "outputId": "ba29912b-efcd-40c3-9da8-b2b99e84963e"
      },
      "outputs": [
        {
          "name": "stdout",
          "output_type": "stream",
          "text": [
            "Loading text8 corpus...\n",
            "Corpus loaded.\n"
          ]
        }
      ],
      "source": [
        "import gensim.downloader as api\n",
        "\n",
        "# Load a standard, pre-tokenized corpus (text8 is ~100MB of Wikipedia text)\n",
        "# This will download the data the first time you run it (it might take a minute).\n",
        "print(\"Loading text8 corpus...\")\n",
        "corpus = api.load('text8')\n",
        "print(\"Corpus loaded.\")"
      ]
    },
    {
      "cell_type": "markdown",
      "id": "12a1cb7d",
      "metadata": {},
      "source": [
        "This cell also performs sentence tokenization and prints the resulting sentences."
      ]
    },
    {
      "cell_type": "markdown",
      "id": "0d233537",
      "metadata": {
        "id": "0d233537"
      },
      "source": [
        "### Lowercasing\n",
        "Lowercasing all text is a common preprocessing step. It helps in treating words like \"The\" and \"the\" as the same word."
      ]
    },
    {
      "cell_type": "code",
      "execution_count": null,
      "id": "a5dd0ece",
      "metadata": {
        "colab": {
          "base_uri": "https://localhost:8080/"
        },
        "id": "a5dd0ece",
        "outputId": "dd35fa5f-1fae-472e-babd-4734bef74641"
      },
      "outputs": [
        {
          "name": "stdout",
          "output_type": "stream",
          "text": [
            "Total documents: 3,598\n",
            "Vocabulary size: 4,950\n",
            "Unique Words: {\"growling,'\", 'child', 'done.', 'difficulties,', 'imagine', 'life,', 'denied', \"mad.'\", 'arm-chair', 'patiently.', '`my', 'sooner', 'listened,', '`chorus', 'majesty', 'chanced', \"here!'\", \"alive!'\", 'attending', 'time', 'soldier', 'tea-tray', 'oblong', 'saw.', 'minutes', 'prize', \"court.'\", 'heap', 'chorus.', 'little.', \"`--where's\", 'hold', \"is!'\", 'trot', 'schoolroom,', 'kettle', 'business', \"lobster--'\", 'pet:', 'ground', 'hour', 'breath,', \"say!'\", 'lory,', 'grin,', 'panther', 'brass', \"i've\", \"william,'\", 'merrily', 'felt', 'me!', '`--likely', 'heads.', 'other.', 'rome,', 'entrance', \"words,'\", \"this?'\", \"altered.'\", 'timid', 'fluttered', 'earnestly,', 'flamingoes,', 'crocodile', 'dears', \"were',\", \"cards!'\", 'insolence', 'else\"--but,', 'like', 'coming', \"grunt,'\", 'saucepan', \"then!'\", 'soldiers', \"crumbs.'\", 'telescope!', '`that', \"home,'\", 'it;', 'so,', 'seriously,', '`tell', 'fighting', 'lost', 'dismay,', 'dozing', \"`there's\", 'directions', '`back', 'baby,', 'say', '`chop', 'scale!', 'sorry', 'hurry;', 'in', 'remained', 'daisies,', 'splash!', 'nibbled', 'handed', 'wife;', '`exactly', \"ill.'\", '`found', 'song', 'meekly', 'empty:', 'is--\"the', 'cautiously', 'hair!', 'answer,', \"all.'\", 'red', \"sort,'\", 'argue.', 'replied.', 'ah,', 'promised', 'looked', 'rushed', 'right;', 'doubling', 'lessons,', 'odd', 'forget', 'impossible.', 'confused,', 'came,', 'other;', \"do?'\", 'suppressed.', \"life!'\", 'introduced', 'oneself', 'snatch', 'chrysalis--you', 'civil,', \"ask.'\", 'suppose,', 'i,', 'appearance', 'comfortable,', \"better.'\", 'oh,', 'eaglet.', 'world', 'skimming', 'about.', 'beating.', \"is?'\", 'desperately:', 'low', 'sign', 'sighed', \"again,'\", \"sea-shore--'\", '`--for', 'who', 'muchness\"--did', '`she', 'balls', 'teaching', '`stuff', 'buttered', 'classics', 'editions', \"turtle.'\", 'distraction,', 'gay', 'duchess,', \"done,'\", 'ear,', \"bit,'\", 'rabbit!', 'scroll,', '`sentence', 'tried', 'white,', 'presents', 'used', \"myself,'\", 'escape,', \"spot.'\", 'evidence', 'filled', 'marked,', 'drink', 'bear?--mind', '`very', 'dear!', 'jaw,', 'beauti--ful', 'enormous', 'sharks', \"did,'\", 'suddenly', 'fall', \"won?'\", 'croquet-ground', 'painting', 'argument', 'stiff.', 'heels', 'witness', 'drunk', 'bawled', 'loudly', 'life!', 'dripping', 'poor', 'hate--c', \"king's\", 'children', 'lullaby', 'head!\"\\'', 'possibly', 'thanked', '`really,', \"us,'\", '`sure,', 'to,', 'box--', 'contempt.', 'thoroughly', \"dog's\", 'look!', 'quietly,', '`why,', 'dead', 'engraved', \"pocket?'\", \"then?'\", 'now.', 'till', 'faces.', \"somewhere,'\", 'impatiently:', 'put', \"it'll\", 'understand', \"tomorrow--'\", 'eating', 'salt', \"`well!'\", 'shark,', 'forehead', \"there,'\", 'mouths--and', 'tipped', 'present', 'dog', 'uncommonly', 'yer', 'interesting,', 'queen,', 'while,', 'doubt,', 'general', 'between', \"with,'\", \"go,'\", 'writing', 'upon', 'fit--\"', 'him--how', 'never!', 'slates,', 'end:', 'laughed,', 'course,', 'played', 'then--she', \"she'd\", \"axis--'\", \"puzzle!'\", \"enough!'\", 'owl', 'purple.', 'are', 'surprise.', \"dancing.'\", 'backs', \"off--'\", 'out,', 'as', \"tea,'\", \"business!'\", 'key;', 'unpleasant', \"there's\", 'raving', '`pepper,', 'first--verdict', \"you're\", 'lasted.)', \"dinah!'\", 'furrow', 'tell', 'going,', 'highest', \"alice!'\", 'surprise,', \"important,'\", 'opening', 'hurry', 'people.', 'saying,', 'sort', 'made.', 'then--i', 'please,', 'brightened', \"was.'\", 'rattling', 'roof', 'tone.', 'lobster;', 'm,', 'shower', 'puzzled.', \"dinn--'\", 'appeared', 'one', \"ma'am,\", 'curious', \"`can't\", 'talking.', 'to-night,', 'spectacles.', 'hurried', '(alice', 'deeply,', 'bit.', \"haven't,'\", \"talk!'\", 'execution.', 'proceed.', 'dish', 'itself,)', 'baked', 'hearts', \"man.'\", 'name,', 'because', \"time!'\", 'courtiers,', \"indeed,'\", \"head!'\", '`\"will', 'shrinking', 'crash)--`now,', 'up,', 'pegs.', \"`no,'\", 'attempt', 'forgetting', 'lately,', 'bowing', 'itself', 'mabel,', 'sorrow,', 'asleep.', 'dance?\"\\'', \"done.'\", 'silent,', \"music.'\", 'happened.)', 'story.', 'sang', '`curiouser', 'fitted!', \"whatever?'\", 'further:', 'repeated', 'folded', 'capering', 'rattle', 'sending', 'other--bill!', 'three-legged', 'printed', 'ask', 'stool', 'favoured', 'picture.)', 'manner,', 'singing', \"bit.'\", 'change:', 'her', \"to--'\", 'play', 'here!', 'roughly', 'getting', 'then,', 'looking-', 'puppy', 'lessons:', 'late', 'passage:', '`not', '`i', 'advance!', 'laughing', '`living', \"direction,'\", 'shall', 'mouth,', \"`you've\", 'down,', 'wags', \"never!'\", 'timidly', 'turtle', '`each', \"moment's\", 'questions', 'well,', 'lobster', 'not,', 'everybody', \"doesn't\", 'guests', 'are,', 'began:', 'arms,', \"wrong!'\", '`certainly', 'impatiently;', \"mushroom,'\", 'reaching', 'examining', 'scolded', 'encouraging', 'chimney', 'pleased,', 'longitude', 'savage', 'sudden', 'off', 'dance?', \"mouse!')\", 'suppressed', '`tut,', 'offer', 'appeared.', 'sure;', \"see.'\", 'pair', 'succeeded', 'understand.', 'mice', 'attempted', 'arm', 'completely.', 'croqueted', 'am,', \"queen's\", 'their', 'tie', 'officer', \"together!'\", 'anything.', 'shriek', \"alice's\", 'startled', '`poor', 'crumbs', 'powdered', 'plenty', \"here.'\", \"can,'\", 'this:--', \"savage!'\", 'grinned;', \"`i've\", '`shy,', 'lewis', 'man,', 'faster?\"', 'law,', 'fallen', \"here?'\", 'consented', 'ann,', 'unrolled', 'line', 'cool', 'live', 'courage.', 'howling', 'puzzled,', '`would', 'roared', 'month', 'indignantly,', 'stupidly', 'again.)', 'said', 'hare:', 'stole', 'replied,', 'from', 'tone:', 'begged', 'table', \"learn?'\", 'difficulty', 'animals', \"needn't\", \"dear!'\", 'spoke.', 'breath.\"', 'important', 'tasted', 'went,', 'subdued', 'panted', 'jury-box', 'choked', 'became', 'showing', 'trampled', \"`unimportant.'\", 'replied;', 'draw,', 'another!', 'sharply,', '`come,', 'weak', 'garden.\"\\'', 'singers', 'opened,', 'remarking,', 'sent', 'ma', 'lovely', 'courtiers;', 'bank,', 'finished', 'house,', 'mark;', 'goose,', \"yet!'\", 'whispered', 'it', 'had', 'otherwise,', 'shingle--will', '`important--unimportant--', 'cause,', 'ready', 'matter', 'others.', 'temper,', 'else.', 'spoon:', 'smiling', 'walk', 'birthday', 'rabbit-hole--and', 'footman.', \"crazy!'\", 'ugh,', 'seen,', 'should', \"mind,'\", 'uncommon', \"caucus-race?'\", \"lizard's\", \"answer?'\", 'away:', 'wings.', '(for', 'older', 'fetch', 'turn', 'explanation;', 'fulcrum', 'patted', 'barrowful', 'curiosity,', 'vulgar', 'shillings', 'true.)', 'tittered', \"they've\", 'large', \"mystery,'\", \"growing.'\", \"waiting!'\", '`fourteenth', 'circle,', 'duchess!', 'high:', 'asleep,', 'muchness--', '`but', 'home;', 'happening.', 'hated', 'fan,', 'stalk', 'doubt:', 'eel', 'burst', 'living', 'desperate', \"like,'\", 'anxiously', \"simpleton.'\", 'dream,', 'returned', \"time.'\", '`but,', 'delighted', 'sounds', 'livery,', 'pinched', 'leaves:', 'holding', 'cross,', 'more', 'changed,', 'gryphon', 'remark.', '\"william', 'tea', 'comes,', 'listeners', 'trees', 'crowd', 'cucumber-frame,', '\"there', \"hedges,'\", 'think,', 'reeds--the', 'singers.', 'anything;', 'trumpet,', \"nonsense!'\", 'slippery;', 'feet!', '`this', 'them:', \"not?'\", 'eels,', 'twinkling!', 'duchess;', 'cause', 'meaning.', 'toffee,', 'kills', 'altogether.', 'saying', 'slipped,', 'month,', 'eyes.--`tell', 'game,', 'instantly', 'indeed,', 'calmly,', 'mile', 'pressing', 'encouraged', 'tongue,', 'throw', 'that', \"`wouldn't\", 'guinea-pigs,', \"window.'\", 'night', 'injure', 'if', \"sea,'\", 'twelve?', 'knew)', '`without', \"sky-rocket!'\", '`can', 'mustard', 'absurd', 'wood.', 'pigs', 'end!', 'exact', 'accidentally', 'first', 'happen,', 'shrieked', 'ever', \"bill!'\", 'therefore', \"washing?'\", 'sentenced', 'pink', \"clearly,'\", \"confusing.'\", \"first.'\", \"heads!'\", 'cake,', 'mice--oh,', 'guinea-pigs', 'such', 'baby', \"he?'\", 'heard', 'twelve,', 'rate', 'splendidly', 'cat:', 'besides', 'shaking', \"accusation!'\", 'spoke;', \"school,'\", 'rustled', \"queen,'\", 'rapidly:', \"wasn't\", 'promise.', 'beast,', \"shall!'\", 'grazed', 'voice:--', 'liked', \"little,'\", 'repeat', 'fire,', 'dreadfully', 'taught', 'floor:', 'manner', \"beginning!'\", 'hands', 'talk', 'quick,', \"ears--'\", 'nurse', 'signify:', 'feeble,', 'draggled', 'others', '\"much', '`no,', 'sends', 'coming.', 'fountains,', 'day!', 'life;', \"me.'\", 'pleased', 'you,', 'sight,', \"`where's\", 'nine', 'again', 'puzzled.)', 'coast', 'course;', \"lessons?'\", 'purring,', 'strange', 'hookah', \"`why?'\", 'gloomily:', 'hatter;', '`ou', '`silence', 'hungry,', 'earth', 'reason', 'remark,', 'well', 'pray', 'mouse--a', 'mouse?', 'hours', 'tumbling', 'eyes:', \"must,'\", 'all', 'much', 'garden--how', 'hanging', 'mouth', 'too', 'fancied', 'learn', 'pieces.', '`get', 'remarks', 'for,', 'passion,', '`collar', 'shrill,', '`fury', \"`what's\", 'dormouse.', 'eagerly,', 'history.', 'these', 'talk:', 'can', 'reply.', 'stoop?', 'inquisitively,', 'listening,', 'speed', 'english,', '`what!', \"hat,'\", 'uneasy:', \"toes?'\", 'king.', 'march', 'bat!', \"nonsense.'\", 'speaking', 'question.', 'noticed', 'air.', 'five', 'teapot.', 'three,', 'eagerly:', \"life.'\", \"what's\", '`they', 'sort.', 'agony', 'side,', 'quiet', 'hatter', 'hers--she', 'tone;', \"`idiot!'\", \"people,'\", \"much!'\", 'is--\"be', 'queens,', 'with,', \"question,'\", 'dark', 'minute', 'balanced', 'room,', \"means--to--make--anything--prettier.'\", 'custard,', \"queen!'\", 'hatter:', 'languid,', 'he', 'body', \"beginning,'\", 'downward!', \"cup,'\", 'entangled', \"bit!'\", 'remark', 'neck,', '`a', 'without', 'rises', 'away,', 'moved', \"quadrille?'\", \"telescope.'\", 'telling', 'lazily', 'lock,', '`talking', \"hand,'\", '`whoever', 'variations.', 'whisper,', 'porpoise?\"\\'', \"water-well,'\", 'invent', 'each', \"through,'\", 'teacup', 'tumbled', \"he'll\", 'high,', 'dinah!', 'is!', 'sea.', 'splashed', 'serpent.', \"hatter.'\", 'turns', 'sound.]', 'quick', 'tops', 'like:', 'down!', 'zealand', '`what', 'right-hand', 'turkey,', '`explanations', '`leave', \"`stolen!'\", 'cakes', 'air,', 'boy--and', 'dreadful', \"`silence!'\", 'hurry,', 'pale,', 'from:', 'lory', 'recognised', \"yet,'\", 'anger', 'afford', 'lasted', 'began:--', 'politely,', 'execute', \"`nonsense!'\", \"would,'\", 'forepaws', \"annoyed,'\", 'sink', 'one!', \"trial's\", 'gryphon;', 'picked', 'door--', 'in.', 'killing', 'temper', 'sneezes:', '(it', 'slowly,', \"again!'\", 'turn-up', '(in', 'head:', 'guinea-pig,', 'lesson', 'list,', 'cats:', 'with.', 'she,', 'finds', 'rat-hole:', 'hunting', 'immediately', 'water,', '`which', 'english);', \"them,'\", 'strength,', 'knew,', 'taken', 'air:', 'voice.', 'gryphon.', 'flappers,', 'read', 'a', \"she,'\", \"thing,'\", 'among', 'tea--not', 'seemed', \"speak?'\", 'fit', 'comfort,', \"i--'\", 'enough--i', 'time).', 'common', 'hedge.', 'once;', 'bowed,', 'throne', 'whiting.', 'lose', \"onions.'\", 'something;', 'she', 'over)', \"rabbit'\", 'drowned', 'agree', 'him.', 'fidgeted.', 'yourself', 'game', 'neighbour', 'throwing', \"'tis\", 'later.', 'grass', 'sneeze,', 'pitied', 'execution--once', 'man', \"more.'\", 'do.\"', 'silent', 'wide', 'hall:', 'sweet-tempered.', 'age,', '`is', 'ear', 'several', 'gloves,', 'round.', 'silent.', 'helped', 'foot', 'table:', 'high', 'garden.', 'treacle-well--eh,', \"`we're\", '\"who', '`change', 'draw', 'asking,', 'take', 'kick', 'animals,', 'managed?', \"nose';\", 'first--they', 'begun', 'washing--extra.\"\\'', 'millennium', \"`you'd\", \"offended!'\", 'high.', 'keep,', '(he', 'beheading', 'mournful', 'flapper', 'about;', 'skurried', \"`who's\", 'added', 'leant', 'gravely,', '`either', 'grumbled:', 'child:', 'marched', \"cats!'\", 'about', 'country', 'note-book,', \"yourself!'\", 'terrier,', 'ask.', \"day!'\", 'exclamation', 'stretching,', 'closed', 'speech', 'saucepans,', 'fly', 'the', 'rush', 'eaten', 'nasty,', 'coaxing', 'what?', 'rock,', 'bird', 'ancient', 'dormouse,', 'far,', 'hard', 'fanning', 'riddle', 'letter,', 'meant', \"think,'\", \"ann!'\", 'always', 'altogether', \"person!'\", 'difficulty,', 'stupid', 'is--\"oh,', 'deep,', 'dull', 'sell', 'belt', 'dry,', 'miserable', \"afraid,'\", 'uncomfortable.', \"all?'\", 'either', 'finger', 'dispute', 'himself:', 'say.)', 'tremble.', 'pie-crust,', 'open', 'best.', 'happy', 'mournfully.', 'whistling.', 'vanishing', 'simple', 'hearth', 'green', 'before.', \"honour!'\", 'sister;', 'sharp', 'theirs,', \"talk,'\", 'executioner,', 'almost', '`it', 'ornamented', 'thump!', 'fell', 'alice,)', 'replied:', 'it.', 'interrupted', 'delight,', 'stand,', 'gloves:', 'larger', 'him,)', 'face', \"`nothing,'\", \"lady,'\", 'returning,', 'smaller,', 'adventures,', \"baby?'\", '\"how', 'less', 'sing', 'closer', 'sea,', 'indeed', 'no', 'lizard,', 'conclusion', '`any', 'happen:', 'was!', 'over,', 'paper.', 'hastily;', \"jury--'\", \"is,'\", 'wrote', 'us', 'parts', \"feeling!'\", 'garden:', \"from?'\", 'fly;', 'cried', 'morals', 'nothing,', 'so', 'been', 'book', 'want', \"pig,'\", 'turtle;', 'clinging', 'quickly', 'bottle.', \"had!'\", 'pigeon', 'questions.--how', 'baby;', 'swim', \"think--'\", \"pace,'\", 'explanation.', '`have', 'ferrets', 'them,', 'tea;', '`ah!', \"little!'\", 'appearing', 'tureen!', 'officers', 'paws!', \"draw,'\", 'rule', 'took', 'it!', 'wandering,', 'form', 'brought', 'rubbing', 'continued', \"coming!'\", 'however,', 'places--', 'crowded', \"now!'\", 'than', \"toes.'\", '`now,', 'station.)', \"present!'\", 'out', 'affectionately', 'hundred', 'dream.', 'red.', 'brush,', 'happen', 'corner', 'treated', 'slate', 'grave', 'quarrel', 'person,', 'mouths;', 'turtles', 'minutes.', 'any', 'given', \"`it's--it's\", \"things!'\", 'dig', 'steady', 'marked', 'note-book', 'wait,', 'may', \"sell,'\", \"day--'\", \"wow!'\", 'stupidest', \"figure,'\", 'farmer,', 'cry', 'earnestly.', 'myself', 'cucumber-frames', 'dish?', 'licking', 'subjects', 'small,', \"weeks!'\", 'pulled', 'caterpillar.', 'while', 'undo', 'comfortably', 'least--at', '\"too', \"with?'\", 'laugh;', 'recovered', \"march.'\", \"think!'\", 'us.', 'meal,', '`take', 'seated', 'deserved', 'unless', \"that?'\", '(not', 'again;', 'again:--', 'straightening', 'sharply', '`seals,', 'face--and', \"like.'\", 'made', 'good', 'son,', \"yourself.'\", 'say.', 'plates,', 'lips.', '`boots', 'shore.', '`repeat,', 'games', 'listen.', '`till', 'you.', 'none,', \"what?'\", 'centre', 'care', \"brother's\", 'humble', \"english,'\", \"railway,'\", '(and', 'absence,', 'minute.', 'a-piece', 'kid', 'quicker.', '`by-the-bye,', 'bag,', 'was)', 'pigs,', 'fright', 'could', 'have', 'i', 'you--are', 'rising', 'fan!', 'disappointment', 'reading,', 'time.', \"wood,'\", '`only,', 'next!', 'consultation', '`one,', 'cleared', 'crossed', \"begin.'\", \"perhaps?'\", 'carry', \"`dinah'll\", 'effect', \"tasted--'\", \"william's\", 'remarked:', 'does.', 'speaking,', 'which', 'scream', 'frog-footman', 'were.', 'largest', 'woman--', '`beautiful', \"verdict,'\", 'strings:', 'spades,', \"you'll\", 'ask!', 'waters', 'subject.', 'stood', \"fun?'\", 'slowly', 'sluggard,\"\\'', 'thank', \"maybe,'\", \"advantage,'\", 'talk.', 'shorter,', 'rule:', \"game,'\", '`never', 'kitchen', \"she'll\", 'moral,', 'failure.', '\"turtle', 'case', 'raven', 'pat,', '--but', '\"let', 'thought:', \"oyster!'\", 'expressing', \"bill's\", 'meet', 'welcome', \"on.'\", 'way.', 'smile.', 'civil', 'alive', \"that!'\", 'pebbles', 'frontispiece', 'middle.', '\"twinkle,', '`soo--oop', 'head--', 'red-hot', 'shared', 'change', 'dormouse:', \"proceed,'\", 'fact', \"dogs?'\", 'sour--and', 'real', 'ran;', \"did!'\", 'acceptance', 'broken', \"didn't!'\", 'wept', \"remember,'\", 'bee,\"', \"of?'\", 'howled', \"below!'\", 'daughter', \"sea.'\", 'smiled', 'encourage', \"names,'\", 'doubtfully,', \"to-day.'\", 'somebody', \"sir--'\", \"`'tis\", 'sea!\"', 'queen:', 'ridge', 'walrus', 'loveliest', 'shoulder', 'fading', 'imitated', \"`you're\", 'feeling', 'though,', 'turning', 'trial,', 'skirt,', 'funny', \"we're\", 'unable', 'that!', 'him;', 'sobbed', 'listen', 'beds', 'turned', 'cheshire', 'neat', 'folding', 'two', 'nose,', 'home', 'conversations', 'day;', 'hoarse,', 'things--everything', \"be?'\", 'beginning', 'soon.', 'this', 'pocket', 'turtle.', \"explained,'\", \"see,'\", 'right', 'added,', 'spoke,', \"things?'\", \"don't!'\", 'shutting', 'dinah:', 'seen', 'bread-and-butter,', 'alone', 'fork', 'ridiculous', 'stay', 'last,', 'eyes.', 'door;', 'spell', 'twice,', 'sisters--they', 'reasonable', \"soup!'\", '`where', 'end,', \"dear,'\", 'together,', 'was,', 'whatever', \"them--'\", 'party', 'cat!', 'cup', \"you,'\", 'push', '(which', 'brown,', 'protection.', 'quietly', 'capital', '`\"--found', 'above', 'manage', 'joined', 'counting', 'behind', 'knave.', \"coils.'\", 'sneezing,', 'could,', 'bottle', \"last!'\", \"you!'\", 'finished.', 'bank--the', 'angry,', '(though', 'doing', 'iii', 'nurse--and', \"judge,'\", 'talking', 'ours', 'queen.', 'off).', 'submitted', 'smoke', \"to?'\", 'fills', 'besides,', 'stairs.', \"these?'\", 'brave', 'croquet-ground.', 'directly.', \"finished.'\", 'feet,', 'lodging', 'come', 'crown.', \"like!'\", 'still', 'short', 'free,', \"that'll\", '`--and', '`then', \"know!'\", 'noise', 'often,', \"egg!'\", 'doth', 'chains,', 'way,', 'pop', 'loving', '`one', 'key,', \"true,'\", 'sugar', \"course.'\", \"(`that's\", 'directions,', 'lifted', 'knife', 'fire-irons', 'riddles.--i', \"him.'\", 'offended.', 'eat\"', \"`it's\", 'hedgehogs;', 'eye', '`--well', 'either,', 'neighbouring', 'actually', 'growl', 'head,', 'last:', 'nowhere', 'tinkling', 'free', 'morning', 'to?', 'hall;', 'once,', 'his', 'twinkled', 'wondering', 'bleeds;', '`as', 'heads', 'high).', 'low.', 'must', 'standing', \"yet?'\", \"thimble';\", \"t!'\", 'jury.', 'waistcoat-', 'bats', 'mouse:', \"shiny?'\", 'gloves', 'wriggling', 'gloves--that', 'arches', \"sing?'\", 'changed', 'field', 'begin,', 'adjourn,', 'dears?', 'same,', 'decidedly,', 'remarked', 'nose', \"stuff,'\", 'race', 'knelt', 'do.', \"raw.'\", 'flamingo.', 'us,', \"witness.'\", 'belong', 'flurry', 'hurriedly', 'triumphantly,', 'eaglet,', '`really', '`are', \"dinner!'\", 'declare', \"verse.'\", 'left,', 'somehow', 'notice', 'seldom', '`no', 'clock.', 'yours:', 'players,', 'replied', 'believed', 'visit', 'complaining', 'inwards,', 'cackled', \"somebody.'\", 'it.)', 'be,', 'loud', 'lowing', 'back', 'constant', 'alice.', 'seeing', 'bread-and-butter.', 'refused', 'way--never', 'here,', 'drawling-master', \"are!'\", 'serpent;', 'mine', \"trouble!'\", 'quite', 'timidly,', 'time!', 'makes', 'shrink', 'humbly:', 'even', \"end.'\", 'catch', 'side', 'tale', 'accident,', \"doing!'\", '(`i', \"find?'\", 'ravens', 'animal', \"yet--it's\", 'grins', 'e--e--evening,', 'toes', 'takes', 'dears!', \"away!'\", 'yards', \"puppy's\", \"carrier,'\", 'sob,', 'arm,', '`when', \"lobsters!'\", 'sensation,', 'gained', 'hearing.', 'elegant', 'judging', 'shock', 'off,', 'extremely', 'haste,', 'hair', 'eats', \"dance,'\", 'english.', \"tale!'\", 'think', 'plainly', 'room.', \"thimble,'\", 'quarrelled', '`--or', '\"such', 'beloved', 'must,', 'ground,', 'with', 'faint', \"book,'\", 'but,', \"child,'\", 'hare,)', 'worry', 'sleep,', \"majesty!'\", \"shoes.'\", \"somewhere.'\", \"verse,'\", '`fetch', 'most', 'unlocking', 'canary', 'tulip-roots', 'bright-eyed', 'then;', \"with.'\", 'as,', 'also,', 'england', \"trial.'\", 'pat!', \"first,'\", 'minutes,', 'listening:', 'advance', 'him,', '`--that', 'splashing', 'learn!', 'fit)', 'tree', 'trouble', 'cannot', \"home?'\", 'think!', 'respectful', 'yawned', 'too,', '`\"what', 'chapter', 'uglification,', 'crab,', 'branches,', 'jaws', 'normans--\"', 'waste', 'shyly,', 'salmon,', 'retire', '`w.', \"dream!'\", \"days.'\", 'drop', \"trying.'\", \"cat's\", 'himself,', 'answered', \"day,'\", 'awfully', '(look', 'thick', \"opinion,'\", 'advice', 'is--oh', \"bird,'\", 'sigh:', 'shrimp', 'pity.', 'blame', 'wanted', 'sage,', \"shouldn't\", 'shepherd', 'tea,', \"isn't\", \"removed,'\", 'silence', 'song,', \"`let's\", 'cushion,', 'straightened', 'tucked', '`the', 'father', 'move.', 'mouths.', 'advantage', 'hare', 'limbs', 'here?', 'buttons,', 'delay', 'poker', 'needs', 'beasts,', 'nervous,', \"conversation?'\", \"`i'm\", 'tarts?', 'alice', 'yawning', 'est', \"up.'\", 'fair', 'lizard)', 'happens', 'labelled', 'nodded.', 'permitted', 'swim--\"', 'eggs,', 'guard', 'executed', 'dry', 'spectacles,', 'back.', 'on,', 'knee.', \"youth,'\", 'after-time,', 'vii', 'hurry:', \"butter,'\", 'dear:', 'cat.', 'this),', 'snorting', \"serpent?'\", 'true--\"', \"jurors.'\", 'jurymen.', 'last', 'scratching', 'perfectly', 'chin', 'queen!', \"experiment?'\", 'letters.', 'magic', 'uglify', 'severely.', \"dreadful,'\", 'sky!', 'disappeared.', 'butterfly,', \"fancy--who's\", 'yesterday,', 'passed;', 'easy', \"think?'\", 'audibly.', 'mean', '`why', 'stigand,', 'hair.\"', 'him--it', 'argued', 'fat;', 'bringing', '`from', 'losing', 'hare,', 'pronounced', 'half-past', \"coward!'\", 'carefully,', \"english!'\", 'die.', 'that,', \"trying--'\", 'voice--the', 'comfits,', 'clubs;', 'ignorant', '`mouse', 'panting,', 'went.', 'closely', 'that?--it', 'got', \"rate,'\", 'soldiers,', 'kindly', \"any,'\", 'straight', 'held', 'stays', 'grass,', 'master,', \"again.'\", 'on.', 'grown', 'near.', 'old', \"subject,'\", 'shelves', \"ever,'\", 'one,', 'messages', 'shoes', \"`arrum.')\", \"business,'\", \"asleep,'\", 'few', 'work', 'interesting.', 'rose-tree', 'unusually', \"bats?'\", 'wandering', 'child-life,', 'soup!', 'wondered', \"him,'\", 'kick,', \"sister's\", 'cauldron', \"mine.'\", '`suppose', 'little,', \"that's\", 'are;', 'peeped', 'cat.)', 'terror.', 'try', 'ever;', 'hardly', \"off.'\", 'addressed', \"dear?'\", 'presented', '`hush!', 'temper.', \"pleases!'\", \"sobbing,'\", 'bursting', 'soo--oop!', 'follow', \"off?'\", 'gravely.', 'beautiful', 'whom', 'choke', 'mixed', 'pictures', 'know', \"duchess,'\", 'managed', 'meekly:', 'tea.', 'pretend', 'longed', 'evidently', 'grey', 'mineral,', 'ashamed', 'guests,', 'child,', 'asleep', 'enough,', 'age', 'grew', 'curls', 'elbow', 'then--always', 'hand', 'bring', 'twinkle--\"\\'', 'me', 'that:', \"marmalade',\", 'tortoise,', '\"it\"', \"guilt,'\", 'sun,', 'sun.', 'goldfish', \"it's\", 'cattle', 'floor,', 'remembering', \"doing?'\", \"mind.'\", 'passage', 'passionate', '(sounds', 'leaves.', 'anxiously.', \"housemaid,'\", 'disobey,', 'bother', 'land', 'louder', 'chin:', 'remaining', 'cards:', 'already', 'nose;', 'watch', \"stay!'\", 'broke', 'having', \"cutting,'\", 'boldly:', 'proper', 'friend.', \"jaws!'\", 'hoping', 'muscular', \"everything's\", 'sensation', 'night-air', 'alice;', 'number', \"one,'\", 'rippling', 'smile:', 'fright.', \"you?'\", 'children;', 'idea', 'v', 'sit', 'knocked.', 'exclaimed,', 'narrow,', \"child?'\", 'doubt', 'feel', 'along--`catch', 'known', 'did.', 'cushion;', 'good-bye,', 'twenty', \"axes,'\", 'mouse', 'now--but', 'crown', \"temper,'\", 'flavour', '`well!', 'left', '`\"miss', \"`he's\", 'lacie,', 'involved', 'diligently', 'jumped', '`dear,', 'again--\"before', \"elbow.'\", 'passion.', 'escape', 'knave,', 'watched', 'position', 'sight', 'once:', 'serpent,', 'whether', 'winter', 'flashed', 'noticed,', 'angrily,', \"this,'\", 'pleasing', 'paper', 'mouth;', 'blades', 'creep', 'laughter.', 'birds,)', 'tougher', 'ground--and', 'pretending', \"prisoner's\", 'queer,', 'day:', \"giddy.'\", 'upset', 'thing', 'directly,', 'invited', '`right,', 'tea-time,', \"`yes!'\", 'also', 'loud,', 'door:', 'bones', 'stopping', 'crashed', 'jury', 'subject', 'brain;', 'banks,', 'brown', 'breeze', 'would', 'eye;', 'row', 'proposal.', 'height', \"and-butter--'\", 'jury-box,', 'fellow?', 'tells', 'fly,', 'flat', 'go', 'sure', 'answer', 'law:', 'mushroom,', 'inches', 'rope--will', \"suppose.'\", 'lory.', 'arrived,', 'respectable', 'afore', 'speak--and', 'them.', 'exclaimed', 'nobody', 'over.', 'more,', \"part.'\", 'thing.', 'continued,', 'rules', 'camomile', 'inquired', 'down--here,', 'pigeon,', 'bread-', \"cakes,'\", 'over;', 'flown', \"wouldn't\", 'garden,', 'effect:', '`nine', 'seem', 'chorus,', 'drawing', \"be.'\", '`now', 'green,', 'mistake;', 'longer', 'middle', 'rather', '`who', 'lap', \"wig.'\", 'cries', 'xii', 'them', 'head.', \"twelfth?'\", 'sadly', \"throat!'\", 'cheeks,', \"cats?'\", 'alas!', 'pause.', 'nevertheless', 'violently,', 'bend,', 'eyes--and', \"here,'\", 'life', 'every', 'lessons', 'towards', 'sad', 'expected:', \"you.'\", 'account', 'walked', 'away.', 'that;', '`--so', 'miss', 'all.', 'ventured', '`oh,', \"`sixteenth,'\", \"is--'\", '`--mystery,', 'treading', 'livery:', 'hand.', 'wig,', 'words:--', 'afterwards,', 'viii', 'arm-in-arm', 'conclusion,', 'thistle,', \"grin,'\", 'toss', \"court!'\", 'bill', \"majesty,'\", 'act', 'minute,', 'one--but', 'players', 'seaography:', 'sense,', 'pray,', 'slates.', 'fond--of--of', 'across', 'present--', 'manners', \"`i'd\", \"means.'\", 'snail', 'shade:', 'procession,', 'jury,\"', 'would,', '`rule', \"conqueror.'\", 'lobsters,', 'respect.', 'i?', 'certain', 'butter', 'certainly', 'supple', '(`which', 'search', 'maps', 'break.', '`behead', 'earth.', 'stretching', \"twice--'\", 'bone', '`consider', 'burnt,', 'roses.', 'sleep\"', \"extremely--'\", 'glass,', 'court', 'dodged', 'slate.', 'processions;', 'her.', 'waited.', 'beautifully', 'worse.', \"star-fish,'\", 'drive', 'down.', 'bill,', 'together.', 'sulky', 'love).', 'first;', 'violently', \"croquet.'\", 'cried.', 'mad', 'time,', 'verses', 'game.', \"hot-tempered,'\", 'alice:', 'father;', 'contemptuously.', 'bit', 'said:', 'started', \"shoes!'\", 'claws,', 'folded,', '(for,', 'dainties', 'fish)--and', 'bark', 'whiskers!', 'can;', \"mayn't\", \"`it'll\", 'washing', '(she', '\"you', 'six', 'told', 'soo--oop', \"o'clock\", 'authority', 'drinking.', 'softly', 'change,', 'opposite', '`besides,', 'caterpillar;', 'mad,', 'suppose', 'window,', 'arithmetic--', 'chin.', 'pool,', \"rabbit's--`pat!\", 'bitter--and--and', 'feather', \"getting!'\", 'tea-time.', 'suit', 'reminding', 'had,', 'askance--', 'bright', 'hearing', 'fast', 'days.', 'seven', 'pocket,', 'glass.)', 'out.\"', 'ending', 'box', 'roast', \"about,'\", 'hot', 'fact.', 'dates', \"not,'\", 'aloud.', 'inside,', 'worth', '`reeling', '(before', 'miles', \"clever?'\", 'more.', 'rumbling', 'all;', 'pictured', 'quiver', 'hurry.', 'lay', 'hands;', 'furious', 'hungry', 'finish,', 'explain', \"too.'\", 'eagerly', \"where--'\", 'steam-engine', 'four', 'serpents', 'shake', 'dormouse', 'beautify', \"that,'\", 'near', 'sulky,', 'looking', '`stand', 'ought', '`write', 'moved.', 'mouse--of', 'passed', 'rose', 'out-of-the-way', 'more--as', 'door--i', 'trickling', 'tidy', 'together', \"behind?'\", \"course,'\", 'soup', \"either!'\", 'advisable', 'shoulders.', \"watch,'\", \"lessons,'\", 'faster', 'porpoise', \"for.'\", 'immediate', 'squeaked.', 'slates', 'fumbled', 'did,', 'ridges', 'waistcoat-pocket,', 'squeaking', 'could!', 'quadrille,', 'mentioned', 'share', '`does', 'duchess:', \"king,'\", 'rest,', 'size', 'without--maybe', \"man,'\", 'this:', 'mabel', 'rich', \"one?'\", \"to-day?'\", 'footman,', 'dear,', 'simply', 'tongue', 'ran.', 'choking', 'roof.', 'second', 'days', 'never-ending', 'velvet', \"ground.'\", \"hadn't\", 'squeezed', 'carrying', 'usual', 'fine', 'tail', 'altogether;', '`cheshire', \"dormouse,'\", 'knuckles.', 'way!', \"all!'\", 'procession', \"crumbs,'\", 'rabbit:', 'first,', 'milk-jug', 'names', 'shaped', 'bound', 'butter,', 'has', \"chimney!'\", \"hedge!'\", 'merely', 'learnt', \"before,'\", \"roses?'\", 'like\"!\\'', '`explain', 'two,', \"alice's,\", \"history,'\", 'great', 'swim,', 'excellent', '`ah,', 'juror', 'different.', 'royal', '`--as', 'listen,', 'journey,', 'assembled', '`in', 'low,', 'alarm.', 'voice', 'corners:', 'vegetable.', 'yourself,', 'crossly:', 'shore,', '`until', 'saves', 'eager', 'dishes.', 'affair,', 'begin', 'wretched', 'fish-footman', \"speaker,'\", 'memorandum', 'new', 'somewhere', 'circumstances.', 'paris', 'melancholy', 'finger,', 'remember', 'shakespeare,', 'next', 'done,', 'denies', 'untwist', \"`important,'\", 'say,', 'might', 'neatly', 'pinch', \"mouse's\", 'mustard-mine', 'gave', 'does,', 'nice,', 'outside.', 'honest', 'sobs', 'notion', 'growled', 'trial', 'it,', 'you--all', 'said.', 'paws', 'sadly.', 'sneezed', \"well--'\", '(`the', 'soothing', 'met', 'evening,', 'rude,', 'call', \"like?'\", 'mind,', 'sorrowful', 'enjoy', \"seems,'\", 'nursing', 'nothing.', \"sing,'\", 'crash', 'indeed.', 'king:', 'conger-eel,', 'dinah,', \"course?'\", \"extras?'\", 'court;', 'how', 'words,', 'anything', 'finished,', 'leap', 'politely;', 'yours', \"guinea-pigs!'\", 'caught', \"heard!'\", 'wonder', \"won't\", 'did', 'impatiently,', 'grin', 'gryphon,', 'make', \"`that's\", 'trying', 'piece', 'perhaps', 'win,', 'goose!', \"isn't,'\", 'little--\"\\'', 'riper', \"can--'\", \"won't,\", 'anything,', 'undertone,', 'table.', 'remarked;', 'remain', 'dunce?', 'thinking', \"breathe.'\", \"pardon,'\", 'kitchen.', 'mouse.', \"she's\", \"evidence,'\", 'sometimes', 'just', \"off,'\", 'lest', 'missed', 'pity', 'alone.', \"lower,'\", 'name:', 'morcar,', 'fond', \"to.'\", 'dropped,', 'mouse,', 'forgotten', 'french', 'lying', 'queer', 'shoulder,', '`call', \"curious.'\", 'particular.', 'muttered', 'sheep-', 'swallowing', 'long,', \"wine,'\", 'character,', 'join', 'other:', 'queen', 'rabbit-hole', 'uncivil.', \"enough.'\", \"dinah'll\", 'considering', 'crawled', 'denial;', 'way', 'feelings.', '`then,', '`nothing', 'knife,', 'eat', 'began.', 'somebody,', 'learned', 'repeating', 'comes', 'sleep', 'found', 'thought,', 'managing', \"choice!'\", 'turtles,', 'bough', '`--change', 'now!', 'rosetree;', \"procession,'\", 'alice!', \"be!'\", 'flinging', \"mean,'\", 'unwillingly', \"nothing.'\", 'porpoise,', 'shilling', 'guessed', \"remarks,'\", \"eggs,'\", 'grow', 'top', \"was!'\", 'sense', \"see!'\", 'shut', 'blows', 'fancy,', 'foot,', \"temper!'\", 'staring', 'before', 'pool--she', 'x', 'enough;', 'why.', 'pack', 'question', 'curtseying', 'tiny', 'toast,)', \"where.'\", '`than', 'barley-sugar', 'treacle', 'cakes,', \"certainly,'\", \"were,'\", 'follows', 'please', 'tossing', '`or', 'finish', \"invited,'\", 'ladder?--why,', 'ought!', 'pretty', 'paint', 'farm-yard--while', 'roses', 'impatient', 'solemnly', 'wildly', 'lobsters', '\"come', 'surprised', 'this;', 'inclined', 'geography.', 'book-shelves;', 'itself.', 'see\"!\\'', 'vi', 'sharing', 'duck', 'grammar,', 'close,', 'surprised,', 'thought;', 'rome--no,', 'vote', 'persisted.', 'seem,', 'soup?', 'half', 'wonderful', 'watching', 'safe', 'lamps', 'patiently', 'existence;', '`because', 'dropping', 'only', \"words.'\", 'now', 'squeeze', \"cat,'\", 'live.', 'sand', 'furiously,', 'usual.', \"alone!'\", 'once.', 'plate', 'lie', \"holiday?'\", \"the--'\", 'natural', 'knave', 'solemnly,', 'executes', 'caterpillar,', 'twinkling', \"shorter.'\", 'cake.', 'stopped', 'justice', 'fur', 'reduced', 'wood,', 'dodo,', '`eat', 'making', 'shoulders,', 'does', 'paws.', 'smoking', 'down:', 'impossible', \"know.'\", 'sorts', 'sobs,', 'mabel!', \"first!'\", 'effect,', '`digging', 'raising', 'creatures.', 'uncomfortable', 'hedgehogs,', 'interesting', '`o', 'you!', 'tillie;', 'tone', \"execution.'\", \"pardoned.'\", \"manage?'\", '(luckily', 'wise', 'arrow.', 'best', 'doors', 'scrambling', 'cunning', 'over', 'now,', 'wind,', 'mouse--to', 'mind', 'larger:', 'escape;', 'beheaded,', \"sea--'\", '`sh!', \"sir,'\", 'wag', 'settle', 'jack-in-the-box,', 'wow!', \"then,'\", 'neck', '`nobody', '\"french,', 'years,', 'all,', 'time.)', 'mistake', 'joys,', 'teeth,', 'taking', 'up', 'comfits:', 'eyes', 'trumpet', 'ann!', 'sleepy,', 'introduce', \"handwriting?'\", \"bill,'\", 'fix', 'spreading', 'line:', 'picking', 'contradicted', '`may', '`he', 'cats', 'thimble,', '`with', 'fellows', 'pulling', 'bore', 'stingy', 'they', \"a--'\", \"tea--'\", 'surprise', \"bed!'\", 'miss,', 'off;', 'size:', 'reply,', 'stirring', \"begin?'\", 'persisted', 'deeply', \"removed!'\", 'suppress', 'appear', 'him:', 'honour,', 'cartwheels,', 'wooden', 'beating', 'rubbed', 'forty-two.', 'busily', 'nor', 'waiting', 'faster,', 'help', 'well!', 'go!', 'received', \"right,'\", 'word', 'sighing', 'here;', 'gone,', 'thoughtfully:', 'executioner', 'clasped', 'white', 'chimneys', 'curtsey', 'whole', 'is', 'knot,', 'boy,', 'room!', 'with;', \"duchess's\", \"so,'\", 'dogs', '`on', 'him', 'knowledge', 'so--and', 'her,', 'locked;', 'all:', '(with', 'spite', 'frightened', 'used--and', \"them!'\", 'crying', \"end,'\", 'lost:', \"whiting!'\", 'sleepy', 'its', 'hastily', 'guinea-pig', 'quadrille', 'own', 'executed,', 'hoped)', \"won't!'\", 'tones', 'remarkable', 'nearer,', 'herself.', '`all', 'legs', 'ears', 'hit', 'likely', '`stupid', 'use', 'extraordinary', 'air!', 'footman', 'snappishly.', 'thought', \"else's\", 'invented', 'asked,', 'swim.', 'turtle:', 'duchess', \"fun!'\", 'feared', 'plan,', 'difficult', 'stretched', 'where', \"in?'\", '`--yes,', 'dodo', 'alive;', '`please', 'paris,', 'repeated,', \"say,'\", \"`you'll\", 'terribly', 'offended', 'mine--a', 'you', 'home!', 'remarked,', 'tale,', 'venture', 'offended,', 'afraid,', 'timidly:', \"stupid?'\", 'it:', 'burning', '`everybody', 'wasting', 'harm', 'called', 'shrill', 'word)', 'far', 'hoarse', 'hatter,', 'overhead;', 'promising,', 'experiment', 'minded', 'woke', 'send', \"perhaps,'\", 'fact,', 'creatures,', 'currants.', 'head--brandy', 'jogged', 'mostly', 'improve', '\"there\\'s', '`well,', \"one.'\", 'tut,', 'quarrelling', '`hold', 'fan', 'be\"--or', \"moment!'\", 'gallons', 'suet;', \"a--i'm\", 'disappeared;', 'fear', \"australia?'\", 'thunder,', 'fireplace', 'creature', 'somersault', '`allow', '`hand', 'blasts', \"majesty?'\", 'hide', 'canvas', 'mock', 'wet,', 'day', 'terms', \"time,'\", '`unless', 'better', '\"coming', 'personal', 'grand', 'and,', 'school', 'spoken', 'suddenly:', \"jury-box,'\", 'atom', '`please,', \"porpoise.'\", 'knocking,', 'noticing', 'cart-horse,', 'soft', 'herself,', \"`they'd\", 'precious', '`anything', 'fun', 'things', 'him),', 'ugly', 'only,', \"`everything's\", 'allow', '`his', 'seen:', 'ran', 'sister,', 'pig-baby', 'apples,', 'solid', 'down', \"`fifteenth,'\", \"girl,'\", 'righthand', 'kept', '`shall', '`turn', 'yet,', \"now?'\", 'pigeon;', 'invitation', 'dare', 'hippopotamus,', 'verse', 'forwards', 'worse', 'least', '`soles', 'said,', 'turn;', 'mischief,', 'indeed:--', 'course--', 'voices', \"attending!'\", \"one's\", 'me?', '`serpent,', '`once', 'jury,', 'meeting', 'together:', 'bear:', 'unfortunate', 'wonderland', '`\"we', 'becoming.', \"outside.'\", 'again!', \"about!'\", 'easily', 'cares', 'five.', 'it?)', \"usual,'\", 'hurrying', '`to', 'gone', 'on!\"', 'seen--everything', 'hear', 'buttercup', 'garden', 'on;', \"`she's\", 'small.', 'caused', \"begun.'\", 'sleepy;', \"witness!'\", 'condemn', 'content', 'alice)--', \"derision.'\", 'seems', 'placed', 'said,)', 'that--only', 'back-somersault', 'signifies', 'voice,', 'knew', 'digging', 'dream:--', 'mushroom', 'blacking,', 'flower-pot', \"say.'\", \"it.'\", 'swallow', 'adding,', \"twinkle--'\", 'hint;', 'head', \"you've\", '`unimportant,', 'unhappy.', \"`very,'\", 'drew', 'helpless', \"then!--bill's\", 'pattering', \"not!'\", 'climb', 'twist', 'feet', 'trembled', 'front', \"three.'\", 'head!', 'leading', 'plate.', 'particular--', 'pounds!', \"do.'\", \"plan!'\", 'latitude', 'below,', 'lady', 'flustered', 'sorrows,', 'march,', 'growing,', 'morsel', \"pig!'\", 'things--i', \"all,'\", 'week:', 'child;', 'wherever', '`orange', 'fanned', \"executioner's\", 'knee', 'means', 'handsome', 'crimson', '`look', 'courage,', 'milk', 'fish', 'arch', 'caucus-race', 'are!', 'world!', 'creatures', 'stupid),', 'puzzled', 'am', 'rate!', 'began,', 'severity;', 'ordered', 'little', \"sort!'\", 'iv', 'sharply;', 'not.', 'trotting', 'grinning', '`perhaps', \"`here!'\", 'hatters', 'peering', 'feeble', '\"\\'tis', 'distance.', 'rate,', 'trembling', 'delightful', 'readily:', 'turtle--we', 'more:', 'bathing', 'beat', 'practice', 'kill', \"animal's\", 'wood--(she', 'to', 'good-', 'chimney,', 'love,', 'other', \"much,'\", \"teases.'\", 'ambition,', 'thunderstorm.', 'ourselves,', 'twenty-four', 'stuff?', 'glass;', 'shrieks,', 'stockings', 'concluded', 'loudly.', \"day.'\", 'march--just', 'humbly;', 'pieces', 'doze;', 'spoke--fancy', 'give', \"afterwards.'\", 'once', 'cheered.', 'croqueting', 'flung', 'newspapers,', \"whiles.'\", 'said;', 'sprawling', 'childhood:', 'around', 'anxious', 'disagree', 'tea-things', 'fountains.', 'setting', 'jumped;', 'voice:', \"time?'\", 'judge,', \"late!'\", \"unimportant--important--'\", 'confusion', 'indignant', 'tail;', 'answered,', 'herself;', 'that.', \"fashion.'\", 'you,\"\\'', \"answers.'\", 'year', '`nor', 'rightly', 'summer', \"stop.'\", 'thoughtfully.', 'might,', 'themselves.\"\\'', 'water', 'ring,', 'happened,', 'soon', 'bread-and-butter', \"do!'\", 'book,', 'hearts.', \"myself.'\", 'under', 'trial:', \"it?'\", 'never', \"minute!'\", '`do', 'matters', 'thousand', 'lost,', 'jumping', \"sorrow?'\", \"adventures.'\", '`go', 'moment.', 'pattern', 'times', 'tremulous', 'running', 'sat', 'holding,', \"chose,'\", '`mine', 'ran,', \"fellow!'\", 'unfolded', 'father,', 'follows:--', 'then?', 'pack,', \"question?'\", 'sadly:--', \"draw?'\", 'stand', 'moderate.', 'do:--', 'simply--\"never', 'frog', 'against', 'whiskers,', 'some', 'fight', 'two:', \"i'm\", 'oldest', 'truth:', '`sit', 'toys', 'flying', \"m?'\", 'bristling', '`their', 'uneasily', 'waited', 'measure', 'opportunity', \"`never!'\", 'different', 'lived', 'regular', 'leaning', 'loud.', \"hush!'\", 'eleventh', 'duck.', 'whisper', 'sister', \"caterpillar's\", 'cupboards', 'flew', 'stamping', 'dear', 'confusing', \"`moral,'\", 'bat,', '`there', 'stuff', 'crept', 'cautiously:', 'slipped', 'thin--and', 'fender,', \"game.'\", 'on?', 'mad.', 'things,', \"story.'\", \"escape!'\", 'candle.', 'angry', 'wish', \"it!'\", 'narrow', 'in:', 'books,', 'eye,', \"serpent!'\", 'song.', \"knot!'\", 'particular;', 'peeping', 'engaged', 'carroll', 'hopeless', '`twenty-four', \"high,'\", 'air', 'pleaded', 'hoarsely', 'paw', '`off', 'twelve', 'face.', \"right!'\", 'vanished.', 'do', 'opened', 'esq.', 'twice', 'knock,', 'murder', 'cherry-tart,', 'cook,', 'different,', 'confused', 'figure', 'place,', 'true):', 'goes', 'happens.', 'heart', 'pointing', 'it),', 'moral', 'natured,', 'nibbling', \"be,'\", 'talking:', 'joined):--', 'happens;', '`whenever', \"was,'\", 'sobbing', 'eagerly.', 'angry.', 'to--to', 'nose.', '`your', 'coaxing.', 'woman;', 'carried', 'latin', 'we', '`oh', 'first.', 'speech,', \"croquet?'\", 'again.', 'appear,', 'know--and', 'puppy;', 'when', 'open,', 'clapping', 'ringlets', 'both', 'cut', 'crash,', 'nobody,', 'corner,', 'conqueror,', \"late.'\", 'fits,', 'pour', 'day-school,', '`an', 'off.', 'sobs.', 'result', 'tricks', 'master', 'rabbit', \"pun!'\", 'producing', \"indeed!'\", 'grinned', 'alice,', 'wrapping', 'moment', '[later', '`after', \"m--'\", 'use,', 'crawling', 'plan', 'otherwise.\"\\'', 'asked', 'settled', 'kneel', 'history', 'least,', \"prison,'\", 'itself,', 'mean,', 'twentieth', 'leaves', 'various', \"them.'\", 'curly', 'furrows;', 'foot!', 'please:', 'is--\"birds', 'tears,', 'of', \"bread-knife.'\", 'baby:', 'hedgehogs', 'sneezing', \"duchess?'\", \"me'\", 'king', 'them--`i', 'interrupt', 'proud', \"other.'\", 'begins', 'witness.', 'mouse--o', 'indignantly.', 'dormouse;', 'leaving', 'executioner:', \"window!'\", \"next!'\", 'touch', 'for?\"\\'', '`begin', \"different!'\", 'cards,', 'advise', 'label', 'cheap', 'occasionally;', 'is,', \"ada,'\", 'hatching', 'ix', 'eyes,', 'bats?', \"lessons!'\", 'five!', 'whistle', 'edition', 'dipped', \"`i--i'm\", \"`creatures,'\", 'cook.', 'dried', \"sir'\", 'gryphon:', 'name', 'locks,', '_i_', '`first', 'edwin', 'were', 'leaders,', \"does.'\", 'rearing', \"`jury-men'\", 'eyelids,', 'ago:', 'bowed', 'moment:', '`and', \"saying.'\", 'speak', 'sits', 'curtain', 'company', 'keep', \"uglifying!'\", \"sad?'\", \"story,'\", \"mostly,'\", 'wants', \"way?',\", 'friend', 'door,', \"not.'\", 'doubtfully:', 'bite.', 'grand,', 'conversation.', 'faintly', 'pig,', 'histories', 'muddle', 'lonely', 'myself,', '`yes,', 'entirely', 'do,', 'passage,', \"well?'\", 'scroll', 'writhing,', \"`hadn't\", 'pale', '`of', 'thirteen,', 'believe', 'tears.', \"rabbit's\", 'though),', 'pleasant', 'suddenly,', \"not';\", '`how', 'yet--oh!', 'full', 'question;', 'again,', 'clamour', 'occurred', 'rats', 'swallowed', 'tarts,', '(pointing', 'uncomfortable,', \"me?'\", 'curious,', 'produced', 'beg', 'locks', 'natural);', \"they'd\", 'follow,', \"finished,'\", 'more;', 'advisable--\"\\'', 'dodo.', 'lefthand', 'flat,', \"whatever,'\", '\"what', 'size?', 'relieved', \"story!'\", 'worried.', \"`yes,'\", \"fourth.'\", 'slate--oh,', 'prizes.', 'resource,', 'together.\"\\'', 'settling', 'bent', 'rabbit;', 'there.', \"you'd\", \"that.'\", 'pardon,', 'little!', 'severely', 'muttering', \"let's\", '\"they', 'person', 'instantly,', 'upright', 'learning', 'flamingo', \"plan.'\", \"figure!'\", 'middle,', 'bottom', \"witness,'\", 'laughed', 'eaglet', 'pepper', 'choosing', \"know?'\", 'hatter.', 'consider', 'thoughts', 'tortoise', 'breathe', 'murdering', 'sigh.', 'flowers', 'railway', 'meanwhile', 'pleasanter', 'gardeners,', \"executed.'\", 'night?', 'alas', 'persons', 'spectacles', '`--it', 'why', 'anywhere', 'conversation', 'obliged', \"chatte?'\", 'thoughtfully', 'there,', 'graceful', '\"poison\"', 'dance.', 'sternly.', 'belongs', 'guess,', \"whiskers!'\", 'clear', 'crouched', \"fact.'\", 'abide', 'mouths', 'too:', 'sound', 'distance--but', 'truthful', 'kind', \"fig?'\", 'dreaming', \"back!'\", 'planning', 'youth,', 'machines', \"mouse!'\", 'worm.', \"never')\", '(when', 'kings', 'denied,', \"grin.'\", 'sky', 'nicely', '--the', 'doorway;', 'race-course,', '`advance', 'noises,', 'come,', 'shining', 'queerest', 'catching', 'here.', 'driest', 'taste', 'timidly.', 'overcome', 'very', 'hot,', 'ferrets!', '`drive', \"likes.'\", 'glaring', 'piteous', \"longer!'\", 'knowing', 'ones', \"suppose?'\", \"from,'\", 'tide', 'kiss', 'died', 'croquet', 'dream', 'breathe\"!\\'', 'hall,', 'read:--', 'calling', 'patience', 'know,', 'finger;', 'crab', '`seven', 'broken.', 'nonsense', 'deepest', 'eyes;', 'provoking', \"d,'\", 'remarking', 'deny', 'wander', 'flame', 'queer-looking', 'flock', 'remembered', \"`i'll\", 'tunnel', 'am!', '`bring', \"better,'\", 'gather', \"works!'\", \"won't'\", 'none', 'lark,', 'expression', 'darkness', \"he's\", 'concert', 'really', 'sighing.', 'giving', 'stoop', 'clever', 'sneezes;', 'roots', 'been,', 'accounts', 'lizard', 'clock', 'officers:', 'guess', 'part', 'kitchen,', 'order', 'struck', 'remarked.', 'after', 'her:', '`some', 'alarm', 'walk!\"', 'interrupted,', \"table,'\", 'then', \"figures!'\", 'directed', 'see,', 'positively', \"instead!'\", \"prizes?'\", 'run', 'door.', 'uneasily,', 'shifting', 'hall.', 'kissed', '`up,', 'inkstand', '`you', \"cats.'\", 'changing', \"ma!'\", 'sight.', 'frighten', 'pie', 'farther', 'hope', 'tails', 'canterbury,', \"head's\", 'question,', 'tail,', 'tired', 'hint', 'could.', 'usually', 'tiptoe,', 'chose', 'certain!', 'best,', \"kind,'\", 'slightest', 'fixed', 'upsetting', 'birds!', 'paw,', 'fellow!', 'fashion,', 'moving', 'generally', '`at', \"less,'\", 'children.', \"matter,'\", 'dinner,', 'patriotic', 'chorus', 'long', '`nearly', \"case,'\", 'trees,', 'did:', 'stick,', 'cat', 'delight', 'wrong', \"puss,'\", 'what', 'faces,', 'instead', 'passing', 'advice,', 'tail.', 'telescope', \"`stupid,'\", 'absurd,', 'state', '\"up', 'good-naturedly', 'brushing', 'within--a', 'appealed', 'prove', \"different,'\", 'ever:', 'emphasis,', '(or', 'solemnly.', 'soup,', 'our', 'pity!\"?\\'', 'hers', '`sure', 'people', 'raised', 'curled', 'nervous', 'proves', \"before.'\", 'further', 'oh', \"shan't\", 'mad--at', \"knocking,'\", 'strange,', 'soup.', 'began', 'alarmed', 'pool', 'history,', 'shut.', \"know--'\", 'large,', 'yelp', 'go,', 'trims', 'says', 'why,', \"hasn't\", \"right?'\", 'table,', 'break', \"order,'\", 'for', 'tea-party', 'jelly-fish', 'written', 'luckily', 'trials,', 'thatched', 'within', 'rudeness', 'rest', 'whose', 'pause:', 'william,\"\\'', 'look-out', '`just', 'sneezing.', 'turtle,', \"warning,'\", 'appeared,', 'sea', 'speech.', 'house', 'sky.', 'asking!', 'earls', 'which),', 'glass', 'small', 'mark', '`same', 'before,', 'lad!--here,', 'came', 'thought),', \"tongue!'\", 'reasons.', 'them--all', 'sizes', 'certainly:', 'ii', 'cheerfully', 'alternately', 'twinkle,', 'wet', 'deep', 'life.', 'your', \"enough,'\", \"idea,'\", 'meat,', 'pressed', 'resting', 'distance,', \"slates'll\", \"`ugh!'\", \"sea!'\", 'using', 'doubled-up', 'this,', 'attempts', 'let', 'stop.', 'set', 'proved', \"better';\", 'followed', \"pie--'\", 'trying,', 'gravy,', 'chance', 'rustling', '`two', \"beheaded!'\", '`pray', 'parchment', 'size,', '`however,', 'yet', 'arguments', 'distance', 'particular', 'grief,', 'deal:', 'much,', 'enough', 'william', 'pence.', \"mine,'\", 'duchess.', 'two.', 'thistle', \"things--'\", 'couples:', 'gazing', 'purring', 'pleased.', 'incessantly', 'angrily:', 'honour:', 'remarks,', 'face,', '`swim', 'wink', 'words', 'gone.', 'water.', \"up,'\", 'about,', 'walking', 'complained', 'poky', '(a', 'swimming', 'irritated', 'timidly;', 'pigeon.', 'death.\"\\'', \"footman's\", 'wandered', \"fellow?'\", 'applause,', 'sixpence.', 'burn', 'saucer', 'place', 'girls', 'save', 'mouse-traps,', 'work,', 'this.', '`wake', 'end', 'plates', \"now--don't\", 'growing', \"know,'\", 'something,', 'puzzling', 'happened', 'nile', 'serpents!', 'saw', \"really?'\", 'further.', 'hurt,', 'arms', \"do,'\", 'shouted', \"so.'\", 'occasional', 'thrown', \"rude.'\", 'himself', 'minding', 'yet--and', 'despair', 'it,)', 'riddles', 'pig', 'knowledge,', 'addressing', 'smallest', 'but', 'ago', 'king;', 'up:', \"are,'\", 'next.', \"thing!'\", 'nearer', 'earth!', \"`don't\", 'shoulders', 'any.', '`read', 'feebly', '`thank', 'me,', 'those', 'growl,', 'pope,', 'flamingo,', 'laughing:', 'bells,', \"in.'\", 'though.', 'feathers,', '`thinking', 'claws', 'energetic', 'fury,', 'whereupon', 'seven.', 'commotion', '(and,', 'rise', 'branch', \"happens!'\", 'paused', 'curving', '*', 'laid', 'archbishop', 'snail.', 'yawning.', 'solemn', 'until', 'denying', 'telescopes:', 'tears', 'found:', 'interrupting', 'heavy', 'fall,', 'offend', 'barking', '`i--i', 'screamed', 'glass.', 'morning,', 'rate:', \"down,'\", 'ten', \"`ahem!'\", \"i'll\", 'court!', 'tried.', 'owl,', 'dear!\"', 'it--once', 'faces', 'hours,', 'whiting', \"`she'd\", 'hedgehog.', 'speak,', 'herself', 'slate-pencil,', 'sounded', 'ointment--one', 'whispered,', 'sharply.', 'good,', 'cross-examine', \"couple?'\", 'exactly', 'memory,', 'grunted', 'ordering', 'nothing', 'though', 'sir,', 'at', '`so', 'list', 'asking', 'usual,', 'rabbits.', 'violent', 'dance', 'reality--the', 'go?\"', 'sure,', \"curiouser!'\", 'collected', 'chief', 'lit', 'like,', 'hearthrug,', '`we', 'being', \"muchness?'\", \"ordered';\", \"haven't\", 'spoon', \"liked.'\", 'see', 'far!\"', \"is.'\", 'uncomfortably', 'nearly', 'putting', 'adventures--beginning', 'silence,', '`ten', 'underneath', 'fishes', 'night!', 'boots', \"song?'\", 'blow', 'hare.', \"say--that's\", 'shook', 'is--\"take', 'screaming', 'my', 'charges', 'silence.', 'edge', 'often', 'pleasure', \"yourself,'\", 'familiarly', 'taller,', 'along', 'arranged;', 'finishing', \"up!'\", 'cat;', \"window?'\", 'back,', '\"with', 'close', 'own.', \"tortoise--'\", 'was:', 'edgar', 'secondly,', 'ye;', '`oh!', 'rapped', \"`they--you've\", \"something!'\", 'beau--ootiful', '--come,', \"`treacle,'\", \"her,'\", '`somebody', 'france--', 'three', 'seaside', '\"uglification,\"\\'', 'swam', \"child!'\", 'her;', 'ink,', \"remedies--'\", '`if', 'sigh,', 'ugly;', 'undoing', 'thing,', 'frowning,', \"turtle's\", 'wood', 'ask:', 'creature,', \"treacle,'\", 'courage', 'beak--', 'writing-desks,', \"i,'\", 'round!\"\\'', \"can't\", \"watch!'\", 'get', 'linked', 'lesson-book.', \"don't\", 'frowning', 'angrily', 'hollow', 'leaves,', 'cheated', 'reply', 'antipathies,', 'cat,', 'growls', 'reading', 'confusion,', 'changes', 'afraid', 'so.', 'hid', 'yelled', 'loose', 'aloud,', 'treat.', 'clean', 'flower-beds', \"idiotic!'\", 'dishes', 'no,', \"shan't!\", 'whispers', 'shriek,', 'politely:', '(if', 'story', 'fainting', 'by', \"`alice!'\", \"old,'\", 'away', 'deal', 'chimney?--nay,', 'happened.', 'them--and', 'nose--', 'decidedly', 'downwards,', 'size;', 'someone', \"it--'\", 'room', 'teacups', 'zigzag,', '`--i', 'pencil', 'soup,\"', 'subject!', 'bats,', 'not', 'young', 'pool?', 'obstacle', \"business?'\", 'chuckled.', 'out.', 'again:', 'scaly', 'ordered.', 'do:', 'disgust,', 'court,', 'sneeze', 'conquest.', 'dive', \"lines!'\", 'at!\"', 'nothing;', \"waist,'\", \"impertinent,'\", 'an', 'neither', 'politely', 'tree.', \"verses.'\", \"way--'\", 'undertone', 'door', 'favourite', 'yours.\"\\'', 'sitting', 'done', 'northumbria--\"\\'', 'falling', 'atheling', \"game's\", 'cheered,', 'depends', \"didn't\", 'hookah,', 'vague', \"dull!'\", 'five,', \"talking!'\", \"whiting?'\", 'whisper.)', 'attends', \"room!'\", 'bill!', 'else', 'blown', 'rule,', 'wash', 'sometimes,', \"fairly,'\", 'find', 'custody', 'jar', 'instance,', 'double', 'unhappy', 'nice', 'party.', \"prizes.'\", \"ache!'\", '(we', 'pennyworth', 'understood', 'able!', 'gloves.', 'many', \"'em\", 'ways', 'fifth', 'candle', 'now?', 'you?', 'already,', 'deeply.', 'one;', 'taller', 'voices--`hold', \"it,'\", 'same', 'height.', 'wild', 'wider.', 'tight', 'voice;', 'english', \"away,'\", 'pass', 'day,', 'sands', 'upset,', 'cook', 'sight:', 'key', 'pretexts', 'look', 'grant', 'beautiful,', \"wonder?'\", \"curious!'\", 'punching', 'cur,', 'to-day!', \"hatter's\", \"down!'\", 'mercia', 'distant', 'frog;', \"`shan't,'\", 'curiosity.', \"feet!'\", 'today.', 'presently', 'word,', 'glanced', 'wearily.', \"`once,'\", 'things!', 'vinegar', 'choice,', 'see--how', 'business,', 'went', 'houses,', 'annoy,', \"for?'\", 'series', 'hiss', 'write', 'secret,', \"`why,'\", '`herald,', 'wore', 'o', 'spoke', 'footsteps,', \"well,'\", 'two--\"', 'conduct', 'below', '`prizes!', '`wow!', 'violence', '\"i\\'ll', 'week', 'sides', 'mine,', 'golden', 'rabbit,', 'pairs', 'much.', 'questions,', 'ceiling,', \"writing-desk?'\", '(the', 'meaning', 'elbows', \"now,'\", 'boxed', '`flamingoes', 'adventures', 'jurors', \"mad?'\", 'playing', 'triumphantly.', \"bite,'\", 'thought.', 'livery', 'educations--in', \"more!'\", 'pencils', \"we've\", \"sisters,'\", 'tied', '`consider,', 'hopeful', 'led', 'diamonds,', 'aloud;', 'hand,', 'course', 'drawling--the', 'lives', 'ate', 'indeed:', \"creatures,'\", 'music,', 'old,', \"treacle-well.'\", 'dropped', 'vanished', 'oh!', '(dinah', 'words:', 'morning?', 'snout', 'forgot', 'xi', 'won,', 'sure!', 'feelings', 'rose-tree,', 'decided', 'northumbria,', 'larger,', \"dogs.'\", \"`you!'\", \"wits!'\", 'clearer', 'hearts,', 'fifteen', 'gently', 'footmen,', 'another', 'tastes!', 'usurpation', \"mind!'\", 'dreamy', 'nonsense.', 'low-spirited.', 'and', 'foolish', 'hedgehog,', 'rabbit.', \"dormouse's\", \"size,'\", \"again?'\", 'modern,', 'drawling,', 'blew', 'all!', 'ringlets,', '`was,', 'dormouse!', \"which?'\", \"far,'\", 'family', \"caucus-race.'\", \"house!'\", 'reach', 'glad', 'kindly,', 'elsie,', 'shiver.', 'stop', 'daresay', \"concert!'\", 'avoid', 'shouting', \"pardon!'\", 'multiplication', \"prizes!'\", 'checked', \"meant,'\", 'interrupted:', '`let', 'day.', 'dressed,', 'knows', 'girl', 'declare,', \"bat?'\", 'wonderland,', '`for', 'tarts', 'hung', \"places!'\", 'banquet--]', 'hall', \"say?'\", 'hastily.', '`only', 'or', 'and--oh', 'cardboard.)', 'arches.', 'people!', 'you:', 'since', 'appeared;', 'slates;', 'silence:', \"said--'\", 'anxious.)', \"together.'\", 'airs!', 'exclaimed.', \"i'd\", 'boon,', '\"edwin', 'long;', 'shedding', 'wide,', 'trusts', 'contemptuous', \"he'd\", \"think.'\", 'court.', 'something', '`drink', '`lives', 'useful,', 'go.', 'leave', 'bend', '\"i', \"dormouse!'\", 'going', '`hm!', 'footsteps', 'expecting', 'ledge', 'pine-apple,', 'be', 'queer-', 'accounting', 'no!', 'it!--that', 'unjust', 'spread', \"queen?'\", \"others!'\", 'sticks', 'interest', 'on', 'length', 'side.', \"this!'\", 'lives.', 'possible', '`twinkle,', 'fortunately', 'accident', 'gardeners', \"to,'\", 'signed', 'nothing:', 'answer.', 'think:', 'duck:', 'pepper-box', 'daisy-chain', \"outside,'\", 'bad', 'london', \"`hjckrrh!'\", 'busy', 'considered', 'ear.', 'except', \"refreshments!'\", '(as', 'was', \"couldn't\", 'insult', 'attended', 'late,', 'flamingo:', \"believe.'\", \"garden!'\", 'become', 'wrong,', 'hurt', 'sulkily', 'globe', \"no!'\", 'way?', 'frying-pan', 'foot.', '\"keep', 'past', \"`poison,'\", 'bad,', \"partner!'\", \"partners--'\", 'turns,', \"yet.'\", 'branches', 'pocket)', 'poured', \"on!'\", 'please!', 'uncorked', 'finding', 'there', 'declared', 'knee,', '\"--said', 'direction', 'here', 'lessen', '`give', 'cost', 'prevent', 'move', 'anger,', 'other,', 'otherwise', 'upstairs,', \"`they're\", 'mallets', 'dinn', \"weren't\", '`mary', \"on?'\", 'know--no', 'know.', 'way:--', 'adoption', 'fury:', \"throat,'\", 'yesterday', 'means,', '`come', 'mary', 'fish,', 'us!\"\\'', 'well.', 'beasts', \"didn't,'\", 'pointed', 'been.', 'knowledge.', '`three', 'liked,', 'nest.', 'dreamed', 'immense', \"stairs!'\", 'dinah', '`crumbs', 'fancy', \"once.'\", 'label,', 'through', 'moment,', 'bit,', 'snail,', 'round', '`keep', 'everything', 'relief.', \"they're\", 'fur.', 'eggs', 'him!', 'puffed', 'threw', 'accustomed', 'sight;', 'king,', 'doubtful', \"they'll\", 'executions', 'around,', 'show', 'bottle,', 'on:', 'hate', 'trouble,', 'court,\"', 'get\"', 'prisoner', '`--but', 'nurse!', 'moon,', 'direction,', 'fancying', \"christmas.'\", \"`dinah's\", \"happen,'\", \"now.'\", 'waving', 'corner--no,', 'lastly,', '`speak', 'fairy-tales,', 'ready?', 'into', 'friends', 'cold', \"morning,'\", 'outside,', 'speak.', '\"purpose\"?\\'', 'sentence', \"too,'\", 'right,', '`here!', '`--you', 'think;', '`did', 'hastily,', 'angrily.', 'reason,', 'altogether,', 'lazy', \"me,'\", \"two!'\", 'shape', 'themselves', 'stairs!', '\"he\\'s', 'birds', \"then.'\", \"over!'\", 'children,', 'punished', \"lesson-books!'\", 'dancing', 'rapidly;', 'white;', 'hedgehog', 'round,', 'prosecute', 'generally,', 'hands,', '3.0', 'by--the', 'interrupted.', 'jurymen', \"sh!'\", 'scream,', 'if--if', \"`serpent!'\", 'see:', 'tears!', 'keeping', \"said,'\", \"whiting,'\", \"nonsense,'\", 'magpie', 'next,', 'will', 'tone,', 'grunted,', \"i!'\", 'caterpillar', 'asked.'}\n",
            "Average sentence length: 7.4\n",
            "Vocabulary diversity: 0.1870\n"
          ]
        }
      ],
      "source": [
        "def assess_data_quality(texts):\n",
        "    \"\"\"Analyze text data quality for Word2Vec training\"\"\"\n",
        "\n",
        "    stats = {\n",
        "        'total_documents': len(texts),\n",
        "        'total_words': 0,\n",
        "        'unique_words': set(),\n",
        "        'sentence_lengths': [],\n",
        "        'word_frequencies': {}\n",
        "    }\n",
        "\n",
        "    for text in texts:\n",
        "        words = text.lower().split()\n",
        "        stats['total_words'] += len(words)\n",
        "        stats['sentence_lengths'].append(len(words))\n",
        "        stats['unique_words'].update(words)\n",
        "\n",
        "        for word in words:\n",
        "            stats['word_frequencies'][word] = stats['word_frequencies'].get(word, 0) + 1\n",
        "\n",
        "    stats['vocabulary_size'] = len(stats['unique_words'])\n",
        "    stats['avg_sentence_length'] = sum(stats['sentence_lengths']) / len(stats['sentence_lengths'])\n",
        "\n",
        "    # Find most common words\n",
        "    sorted_words = sorted(stats['word_frequencies'].items(), key=lambda x: x[1], reverse=True)\n",
        "    stats['top_words'] = sorted_words[:20]\n",
        "\n",
        "    # Quality indicators\n",
        "    stats['quality_score'] = {\n",
        "        'vocabulary_diversity': stats['vocabulary_size'] / stats['total_words'],\n",
        "        'avg_word_frequency': stats['total_words'] / stats['vocabulary_size'],\n",
        "        'rare_words_ratio': sum(1 for count in stats['word_frequencies'].values() if count == 1) / stats['vocabulary_size']\n",
        "    }\n",
        "\n",
        "    return stats\n",
        "\n",
        "# Example usage\n",
        "quality_report = assess_data_quality(texts)\n",
        "print(f\"Total documents: {quality_report['total_documents']:,}\")\n",
        "print(f\"Vocabulary size: {quality_report['vocabulary_size']:,}\")\n",
        "print(f\"Unique Words: {quality_report['unique_words']}\")\n",
        "print(f\"Average sentence length: {quality_report['avg_sentence_length']:.1f}\")\n",
        "print(f\"Vocabulary diversity: {quality_report['quality_score']['vocabulary_diversity']:.4f}\")"
      ]
    },
    {
      "cell_type": "markdown",
      "id": "aae4ec77",
      "metadata": {},
      "source": [
        "This cell converts the text to lowercase."
      ]
    },
    {
      "cell_type": "markdown",
      "id": "fd0c0ec0",
      "metadata": {
        "id": "fd0c0ec0"
      },
      "source": [
        "### Stopword Removal\n",
        "Stopwords are common words (like \"a\", \"the\", \"is\") that are often removed from text because they don't carry significant meaning."
      ]
    },
    {
      "cell_type": "code",
      "execution_count": null,
      "id": "3ee47ba2",
      "metadata": {
        "id": "3ee47ba2"
      },
      "outputs": [],
      "source": [
        "# #Import Packages\n",
        "# import re\n",
        "# import string\n",
        "# from nltk.corpus import stopwords\n",
        "# from nltk.tokenize import word_tokenize, sent_tokenize\n",
        "# from nltk.stem import WordNetLemmatizer\n",
        "# from nltk.tag import pos_tag\n",
        "# import nltk"
      ]
    },
    {
      "cell_type": "markdown",
      "id": "21031329",
      "metadata": {},
      "source": [
        "This cell defines a list of English stopwords."
      ]
    },
    {
      "cell_type": "code",
      "execution_count": null,
      "id": "5f9c42f8",
      "metadata": {
        "id": "5f9c42f8"
      },
      "outputs": [],
      "source": [
        "# # Download required NLTK data\n",
        "# nltk.download('punkt')\n",
        "# nltk.download('stopwords')\n",
        "# nltk.download('wordnet')\n",
        "# nltk.download('averaged_perceptron_tagger')\n",
        "# nltk.download('punkt_tab')\n",
        "# nltk.download('gutenberg')"
      ]
    },
    {
      "cell_type": "markdown",
      "id": "89a0c4b9",
      "metadata": {},
      "source": [
        "This cell removes the stopwords from the tokenized text."
      ]
    },
    {
      "cell_type": "code",
      "execution_count": null,
      "id": "c6cc0b3a",
      "metadata": {
        "id": "c6cc0b3a"
      },
      "outputs": [],
      "source": [
        "class AdvancedTextPreprocessor:\n",
        "    \"\"\"Comprehensive text preprocessing for Word2Vec training\"\"\"\n",
        "\n",
        "    def __init__(self,\n",
        "                 lowercase=True,\n",
        "                 remove_punctuation=True,\n",
        "                 remove_numbers=False,\n",
        "                 remove_stopwords=False,\n",
        "                 min_word_length=2,\n",
        "                 max_word_length=50,\n",
        "                 lemmatize=False,\n",
        "                 remove_urls=True,\n",
        "                 remove_emails=True,\n",
        "                 keep_sentences=True):\n",
        "\n",
        "        self.lowercase = lowercase\n",
        "        self.remove_punctuation = remove_punctuation\n",
        "        self.remove_numbers = remove_numbers\n",
        "        self.remove_stopwords = remove_stopwords\n",
        "        self.min_word_length = min_word_length\n",
        "        self.max_word_length = max_word_length\n",
        "        self.lemmatize = lemmatize\n",
        "        self.remove_urls = remove_urls\n",
        "        self.remove_emails = remove_emails\n",
        "        self.keep_sentences = keep_sentences\n",
        "\n",
        "        if remove_stopwords:\n",
        "            self.stop_words = set(stopwords.words('english'))\n",
        "\n",
        "        if lemmatize:\n",
        "            self.lemmatizer = WordNetLemmatizer()\n",
        "\n",
        "    def clean_text(self, text):\n",
        "        \"\"\"Clean individual text string\"\"\"\n",
        "\n",
        "        # Remove URLs\n",
        "        if self.remove_urls:\n",
        "            text = re.sub(r'http\\S+|www\\S+|https\\S+', '', text, flags=re.MULTILINE)\n",
        "\n",
        "        # Remove email addresses\n",
        "        if self.remove_emails:\n",
        "            text = re.sub(r'\\S+@\\S+', '', text)\n",
        "\n",
        "        # Remove extra whitespace\n",
        "        text = re.sub(r'\\s+', ' ', text).strip()\n",
        "\n",
        "        #Combined\n",
        "         #(r'https?://\\S+|www\\.\\S+|<.*?>|\\S+@\\S+\\.\\S+|@\\w+|#\\w+|[^A-Za-z0-9\\s])\n",
        "\n",
        "        return text\n",
        "\n",
        "    def tokenize_text(self, text):\n",
        "        \"\"\"Tokenize text into sentences or words\"\"\"\n",
        "\n",
        "        if self.keep_sentences:\n",
        "            # Tokenize into sentences first\n",
        "            sentences = sent_tokenize(text)\n",
        "            processed_sentences = []\n",
        "\n",
        "            for sentence in sentences:\n",
        "                words = self.process_sentence(sentence)\n",
        "                if len(words) >= 3:  # Keep sentences with at least 3 words\n",
        "                    processed_sentences.append(words)\n",
        "\n",
        "            return processed_sentences\n",
        "        else:\n",
        "            # Return single list of words\n",
        "            return self.process_sentence(text)\n",
        "\n",
        "    def process_sentence(self, sentence):\n",
        "        \"\"\"Process individual sentence\"\"\"\n",
        "\n",
        "        # Lowercase\n",
        "        if self.lowercase:\n",
        "            sentence = sentence.lower()\n",
        "\n",
        "        # Tokenize into words\n",
        "        words = word_tokenize(sentence)\n",
        "\n",
        "        processed_words = []\n",
        "        for word in words:\n",
        "\n",
        "            # Remove punctuation\n",
        "            if self.remove_punctuation:\n",
        "                word = word.translate(str.maketrans('', '', string.punctuation))\n",
        "\n",
        "            # Skip if empty after punctuation removal\n",
        "            if not word:\n",
        "                continue\n",
        "\n",
        "            # Remove numbers\n",
        "            if self.remove_numbers and word.isdigit():\n",
        "                continue\n",
        "\n",
        "            # Check word length\n",
        "            if len(word) < self.min_word_length or len(word) > self.max_word_length:\n",
        "                continue\n",
        "\n",
        "            # Remove stopwords\n",
        "            if self.remove_stopwords and word in self.stop_words:\n",
        "                continue\n",
        "\n",
        "            # Lemmatize\n",
        "            if self.lemmatize:\n",
        "                word = self.lemmatizer.lemmatize(word)\n",
        "\n",
        "            processed_words.append(word)\n",
        "\n",
        "        return processed_words\n",
        "\n",
        "    def preprocess_corpus(self, texts):\n",
        "        \"\"\"Preprocess entire corpus\"\"\"\n",
        "\n",
        "        all_sentences = []\n",
        "\n",
        "        for text in texts:\n",
        "            if not isinstance(text, str):\n",
        "                continue\n",
        "\n",
        "            # Clean text\n",
        "            cleaned_text = self.clean_text(text)\n",
        "\n",
        "            # Tokenize and process\n",
        "            processed = self.tokenize_text(cleaned_text)\n",
        "\n",
        "            if self.keep_sentences:\n",
        "                all_sentences.extend(processed)\n",
        "            else:\n",
        "                all_sentences.append(processed)\n",
        "\n",
        "        return all_sentences"
      ]
    },
    {
      "cell_type": "markdown",
      "id": "ba744c75",
      "metadata": {},
      "source": [
        "This cell defines a class for advanced text preprocessing, including a method to remove stopwords."
      ]
    },
    {
      "cell_type": "markdown",
      "id": "7ad6a3df",
      "metadata": {},
      "source": [
        "This function takes a list of words and removes any stopwords."
      ]
    },
    {
      "cell_type": "code",
      "execution_count": null,
      "id": "80a58f75",
      "metadata": {
        "colab": {
          "base_uri": "https://localhost:8080/"
        },
        "id": "80a58f75",
        "outputId": "cfd964ed-cc39-4973-b225-d7cd3cd276d3"
      },
      "outputs": [
        {
          "name": "stdout",
          "output_type": "stream",
          "text": [
            "Now processing 46268 sentences!\n",
            "Sample sentence: ['alice', 'adventure', 'wonderland']\n"
          ]
        }
      ],
      "source": [
        "# Example usage - MODIFIED PARAMETERS\n",
        "preprocessor = AdvancedTextPreprocessor(\n",
        "    lowercase=True,\n",
        "    remove_punctuation=True,  # Changed: Keep punctuation for better context\n",
        "    remove_numbers=True,\n",
        "    remove_stopwords=True,  # Changed: Keep stopwords initially\n",
        "    lemmatize=True,\n",
        "    min_word_length=3,  # Changed: Lower min word length\n",
        "    max_word_length=30,\n",
        "    keep_sentences=True,\n",
        "    remove_urls=True,\n",
        "    remove_emails=True\n",
        ")\n",
        "\n",
        "# Processing corpus\n",
        "processed_sentences = preprocessor.preprocess_corpus(all_texts)\n",
        "print(f\"Now processing {len(processed_sentences)} sentences!\")\n",
        "print(f\"Sample sentence: {processed_sentences[0]}\")"
      ]
    },
    {
      "cell_type": "markdown",
      "id": "6b8534bd",
      "metadata": {},
      "source": [
        "This cell creates an instance of the `AdvancedTextPreprocessor` and uses it to remove stopwords from the text."
      ]
    },
    {
      "cell_type": "code",
      "execution_count": null,
      "id": "G8mefpcSAajy",
      "metadata": {
        "colab": {
          "base_uri": "https://localhost:8080/"
        },
        "id": "G8mefpcSAajy",
        "outputId": "4a14e6dd-0dd3-4965-fe88-4de5526bec5c"
      },
      "outputs": [
        {
          "name": "stdout",
          "output_type": "stream",
          "text": [
            "Sample processed sentences:\n",
            "1. ['alice', 'adventure', 'wonderland']\n",
            "2. ['millennium', 'fulcrum', 'edition']\n",
            "3. ['alice', 'beginning', 'get', 'tired', 'sitting', 'sister']\n",
            "4. ['bank', 'nothing', 'twice']\n",
            "5. ['peeped', 'book', 'sister', 'reading']\n",
            "\n",
            "Average sentence length: 11.6 words\n",
            "Shortest sentence: 3 words\n",
            "Longest sentence: 193 words\n"
          ]
        }
      ],
      "source": [
        "# Step 6: Check Data Quality\n",
        "import numpy as np\n",
        "\n",
        "# Let's see whats the processed sentences actually look like\n",
        "print(\"Sample processed sentences:\")\n",
        "for i, sentence in enumerate(processed_sentences[:10]):\n",
        "    print(f\"{i+1}. {sentence}\")\n",
        "    if i >= 4:  # Just show first 5\n",
        "        break\n",
        "\n",
        "# Check sentence lengths\n",
        "sentence_lengths = [len(sentence) for sentence in processed_sentences]\n",
        "print(f\"\\nAverage sentence length: {np.mean(sentence_lengths):.1f} words\")\n",
        "print(f\"Shortest sentence: {min(sentence_lengths)} words\")\n",
        "print(f\"Longest sentence: {max(sentence_lengths)} words\")"
      ]
    },
    {
      "cell_type": "markdown",
      "id": "d3196863",
      "metadata": {},
      "source": [
        "This cell performs lemmatization on the text."
      ]
    },
    {
      "cell_type": "code",
      "execution_count": null,
      "id": "f28f04ec",
      "metadata": {
        "colab": {
          "base_uri": "https://localhost:8080/"
        },
        "id": "f28f04ec",
        "outputId": "8b36b9b7-832e-48f3-d151-605751d3e782"
      },
      "outputs": [
        {
          "data": {
            "text/plain": [
              "[['alice', 'adventure', 'wonderland'],\n",
              " ['millennium', 'fulcrum', 'edition'],\n",
              " ['alice', 'beginning', 'get', 'tired', 'sitting', 'sister']]"
            ]
          },
          "execution_count": 177,
          "metadata": {},
          "output_type": "execute_result"
        }
      ],
      "source": [
        "processed_sentences[:3]"
      ]
    },
    {
      "cell_type": "markdown",
      "id": "b43d68d5",
      "metadata": {},
      "source": [
        "This cell shows the difference between the original text and the lemmatized text."
      ]
    },
    {
      "cell_type": "markdown",
      "id": "9017347f",
      "metadata": {
        "id": "9017347f"
      },
      "source": [
        "### Lemmatization\n",
        "Lemmatization is the process of reducing a word to its base or dictionary form, known as the lemma. For example, the lemma of \"running\", \"runs\", and \"ran\" is \"run\"."
      ]
    },
    {
      "cell_type": "code",
      "execution_count": null,
      "id": "1d7c5c00",
      "metadata": {
        "id": "1d7c5c00"
      },
      "outputs": [],
      "source": [
        "def recommend_parameters(corpus_size, vocab_size, domain_type, computing_resources):\n",
        "    \"\"\"\n",
        "    Recommend Word2Vec parameters based on corpus characteristics\n",
        "\n",
        "    Args:\n",
        "        corpus_size: Number of sentences/documents\n",
        "        vocab_size: Unique words in vocabulary\n",
        "        domain_type: 'general', 'technical', 'social_media', 'academic'\n",
        "        computing_resources: 'limited', 'moderate', 'high'\n",
        "    \"\"\"\n",
        "\n",
        "    recommendations = {}\n",
        "\n",
        "    # Vector size based on corpus and vocab size\n",
        "    if corpus_size < 10000:\n",
        "        recommendations['vector_size'] = 50\n",
        "    elif corpus_size < 100000:\n",
        "        recommendations['vector_size'] = 100\n",
        "    elif corpus_size < 1000000:\n",
        "        recommendations['vector_size'] = 200\n",
        "    else:\n",
        "        recommendations['vector_size'] = 300\n",
        "\n",
        "    # Window size based on domain\n",
        "    domain_windows = {\n",
        "        'general': 5,\n",
        "        'technical': 3,  # More syntactic focus\n",
        "        'social_media': 4,\n",
        "        'academic': 6    # More semantic focus\n",
        "    }\n",
        "    recommendations['window'] = domain_windows.get(domain_type, 5)\n",
        "\n",
        "    # Min count based on corpus size\n",
        "    if corpus_size < 10000:\n",
        "        recommendations['min_count'] = 1\n",
        "    elif corpus_size < 100000:\n",
        "        recommendations['min_count'] = 2\n",
        "    elif corpus_size < 1000000:\n",
        "        recommendations['min_count'] = 5\n",
        "    else:\n",
        "        recommendations['min_count'] = 10\n",
        "\n",
        "    # Algorithm selection\n",
        "    if domain_type in ['technical', 'academic']:\n",
        "        recommendations['sg'] = 1  # Skip-gram for rare technical terms\n",
        "    else:\n",
        "        recommendations['sg'] = 0  # CBOW for general text\n",
        "\n",
        "    # Epochs based on corpus size and resources\n",
        "    if computing_resources == 'limited':\n",
        "        recommendations['epochs'] = 5\n",
        "    elif corpus_size < 100000:\n",
        "        recommendations['epochs'] = 15\n",
        "    else:\n",
        "        recommendations['epochs'] = 10\n",
        "\n",
        "    # Hierarchical softmax vs negative sampling\n",
        "    if vocab_size > 100000:\n",
        "        recommendations['hs'] = 1\n",
        "        recommendations['negative'] = 0\n",
        "    else:\n",
        "        recommendations['hs'] = 0\n",
        "        recommendations['negative'] = 10\n",
        "\n",
        "    return recommendations"
      ]
    },
    {
      "cell_type": "markdown",
      "id": "26663d3d",
      "metadata": {},
      "source": [
        "This cell also performs lemmatization on the text."
      ]
    },
    {
      "cell_type": "code",
      "execution_count": null,
      "id": "5625d125",
      "metadata": {
        "colab": {
          "base_uri": "https://localhost:8080/"
        },
        "id": "5625d125",
        "outputId": "62afc915-2af5-45e8-8df7-bc3152e7631d"
      },
      "outputs": [
        {
          "name": "stdout",
          "output_type": "stream",
          "text": [
            "Corpus Size: 46268\n",
            "Vocabulary Size: 17268\n"
          ]
        }
      ],
      "source": [
        "corpus_size = len(processed_sentences)\n",
        "print(f\"Corpus Size: {corpus_size}\")\n",
        "\n",
        "# Calculate vocabulary size (unique words in vocabulary)\n",
        "vocab = set(word for sentence in processed_sentences for word in sentence)\n",
        "vocab_size = len(vocab)\n",
        "print(f\"Vocabulary Size: {vocab_size}\")"
      ]
    },
    {
      "cell_type": "markdown",
      "id": "e6c7ed8d",
      "metadata": {},
      "source": [
        "This cell prints the lemmatized words."
      ]
    },
    {
      "cell_type": "code",
      "execution_count": null,
      "id": "5d5ae7b8",
      "metadata": {
        "colab": {
          "base_uri": "https://localhost:8080/"
        },
        "id": "5d5ae7b8",
        "outputId": "344699cb-93fd-4f24-f411-2f7a74c2dfe1"
      },
      "outputs": [
        {
          "name": "stdout",
          "output_type": "stream",
          "text": [
            "Recommended parameters: {'vector_size': 100, 'window': 5, 'min_count': 2, 'sg': 0, 'epochs': 15, 'hs': 0, 'negative': 10}\n"
          ]
        }
      ],
      "source": [
        "# For this task\n",
        "params = recommend_parameters(\n",
        "    corpus_size=corpus_size,\n",
        "    vocab_size=vocab_size,\n",
        "    domain_type='general',\n",
        "    computing_resources='moderate'\n",
        ")\n",
        "print(\"Recommended parameters:\", params)"
      ]
    },
    {
      "cell_type": "markdown",
      "id": "f97ed40a",
      "metadata": {},
      "source": [
        "This cell compares the original words with the lemmatized words."
      ]
    },
    {
      "cell_type": "markdown",
      "id": "755a63ed",
      "metadata": {
        "id": "755a63ed"
      },
      "source": [
        "### Stemming\n",
        "Stemming is a process of reducing a word to its word stem that affixes to suffixes and prefixes or to the roots of words known as a lemma. Stemming is important in natural language understanding (NLU) and natural language processing (NLP)."
      ]
    },
    {
      "cell_type": "code",
      "execution_count": null,
      "id": "06c40d1a",
      "metadata": {
        "colab": {
          "base_uri": "https://localhost:8080/"
        },
        "id": "06c40d1a",
        "outputId": "bffb3c62-1a74-4dd9-b67b-6c12491de374"
      },
      "outputs": [
        {
          "name": "stdout",
          "output_type": "stream",
          "text": [
            "Requirement already satisfied: gensim in /usr/local/lib/python3.12/dist-packages (4.3.3)\n",
            "Requirement already satisfied: numpy<2.0,>=1.18.5 in /usr/local/lib/python3.12/dist-packages (from gensim) (1.26.4)\n",
            "Requirement already satisfied: scipy<1.14.0,>=1.7.0 in /usr/local/lib/python3.12/dist-packages (from gensim) (1.13.1)\n",
            "Requirement already satisfied: smart-open>=1.8.1 in /usr/local/lib/python3.12/dist-packages (from gensim) (7.3.0.post1)\n",
            "Requirement already satisfied: wrapt in /usr/local/lib/python3.12/dist-packages (from smart-open>=1.8.1->gensim) (1.17.3)\n"
          ]
        }
      ],
      "source": [
        "pip install gensim"
      ]
    },
    {
      "cell_type": "markdown",
      "id": "3700eb18",
      "metadata": {},
      "source": [
        "This cell installs the `gensim` library, which is used for topic modeling and other NLP tasks."
      ]
    },
    {
      "cell_type": "markdown",
      "id": "d6f6744c",
      "metadata": {},
      "source": [
        "The Porter stemmer is one of the most popular stemming algorithms."
      ]
    },
    {
      "cell_type": "code",
      "execution_count": null,
      "id": "99e0b0f9",
      "metadata": {
        "id": "99e0b0f9"
      },
      "outputs": [],
      "source": [
        "from gensim.models import Word2Vec\n",
        "from gensim.models.callbacks import CallbackAny2Vec\n",
        "import time\n",
        "import multiprocessing\n",
        "\n",
        "class EpochLogger(CallbackAny2Vec):\n",
        "    \"\"\"Callback to log information about training progress\"\"\"\n",
        "\n",
        "    def __init__(self):\n",
        "        self.epoch = 0\n",
        "        self.start_time = time.time()\n",
        "\n",
        "    def on_epoch_begin(self, model):\n",
        "        print(f\"Epoch #{self.epoch} start\")\n",
        "\n",
        "    def on_epoch_end(self, model):\n",
        "        elapsed = time.time() - self.start_time\n",
        "        print(f\"Epoch #{self.epoch} end - Time elapsed: {elapsed:.2f}s\")\n",
        "        self.epoch += 1\n",
        "\n",
        "def train_word2vec_model(sentences, save_path=None, **params):\n",
        "    \"\"\"\n",
        "    Train Word2Vec model with given parameters\n",
        "\n",
        "    Args:\n",
        "        sentences: List of tokenized sentences\n",
        "        save_path: Path to save the model\n",
        "        **params: Word2Vec parameters\n",
        "    \"\"\"\n",
        "\n",
        "    # Set default parameters\n",
        "    default_params = {\n",
        "        'vector_size': 100,\n",
        "        'window': 5,\n",
        "        'min_count': 5,\n",
        "        'workers': multiprocessing.cpu_count() - 1,\n",
        "        'sg': 1,  # CBOW\n",
        "        'epochs': 10,\n",
        "        'alpha': 0.025,\n",
        "        'min_alpha': 0.0001,\n",
        "        'hs': 0,\n",
        "        'negative': 10\n",
        "    }\n",
        "\n",
        "    # Update with provided parameters\n",
        "    default_params.update(params)\n",
        "\n",
        "    print(\"Training Word2Vec model with parameters:\")\n",
        "    for key, value in default_params.items():\n",
        "        print(f\"  {key}: {value}\")\n",
        "\n",
        "    # Add callback for progress monitoring\n",
        "    epoch_logger = EpochLogger()\n",
        "\n",
        "    # Train the model\n",
        "    print(f\"\\nTraining on the streamed corpus...\")\n",
        "    start_time = time.time()\n",
        "\n",
        "    model = Word2Vec(\n",
        "        sentences=sentences,\n",
        "        callbacks=[epoch_logger],\n",
        "        **default_params\n",
        "    )\n",
        "\n",
        "    training_time = time.time() - start_time\n",
        "    print(f\"\\nTraining completed in {training_time:.2f} seconds\")\n",
        "    print(f\"Vocabulary size: {len(model.wv)} words\")\n",
        "\n",
        "    # Save model if path provided\n",
        "    if save_path:\n",
        "        model.save(save_path)\n",
        "        print(f\"Model saved to {save_path}\")\n",
        "\n",
        "    return model"
      ]
    },
    {
      "cell_type": "markdown",
      "id": "2dd662f6",
      "metadata": {},
      "source": [
        "This cell performs stemming on the text using the Porter Stemmer."
      ]
    },
    {
      "cell_type": "code",
      "execution_count": null,
      "id": "25923c1d",
      "metadata": {
        "colab": {
          "base_uri": "https://localhost:8080/"
        },
        "id": "25923c1d",
        "outputId": "197fa12d-559f-407d-e25f-0cc027752a3e"
      },
      "outputs": [
        {
          "name": "stdout",
          "output_type": "stream",
          "text": [
            "Training Word2Vec model with parameters:\n",
            "  vector_size: 200\n",
            "  window: 10\n",
            "  min_count: 10\n",
            "  workers: 1\n",
            "  sg: 1\n",
            "  epochs: 3\n",
            "  alpha: 0.025\n",
            "  min_alpha: 0.0001\n",
            "  hs: 0\n",
            "  negative: 5\n",
            "  compute_loss: True\n",
            "\n",
            "Training on the streamed corpus...\n",
            "Epoch #0 start\n",
            "Epoch #0 end - Time elapsed: 355.27s\n",
            "Epoch #1 start\n",
            "Epoch #1 end - Time elapsed: 686.62s\n",
            "Epoch #2 start\n",
            "Epoch #2 end - Time elapsed: 1018.50s\n",
            "\n",
            "Training completed in 1018.50 seconds\n",
            "Vocabulary size: 47134 words\n",
            "Model saved to my_word2vec_model_text8.model\n"
          ]
        }
      ],
      "source": [
        "# Example usage\n",
        "model = train_word2vec_model(\n",
        "    sentences=corpus,\n",
        "    save_path='my_word2vec_model_text8.model',\n",
        "    vector_size=200,\n",
        "    window=10,\n",
        "    min_count=10,\n",
        "    negative=5,\n",
        "    sg=1,\n",
        "    epochs=3,\n",
        "    compute_loss = True\n",
        ")\n"
      ]
    },
    {
      "cell_type": "markdown",
      "id": "dcaf74b6",
      "metadata": {},
      "source": [
        "This cell provides an example of how the Porter Stemmer works."
      ]
    },
    {
      "cell_type": "markdown",
      "id": "c02ec83f",
      "metadata": {},
      "source": [
        "The Lancaster stemmer is more aggressive than the Porter stemmer."
      ]
    },
    {
      "cell_type": "code",
      "execution_count": 192,
      "id": "7v9SiKF1fNMD",
      "metadata": {
        "colab": {
          "base_uri": "https://localhost:8080/"
        },
        "id": "7v9SiKF1fNMD",
        "outputId": "5501a95c-5419-402b-b29a-8831a023dd07"
      },
      "outputs": [
        {
          "name": "stdout",
          "output_type": "stream",
          "text": [
            "Training Word2Vec model with parameters:\n",
            "  vector_size: 200\n",
            "  window: 10\n",
            "  min_count: 10\n",
            "  workers: 1\n",
            "  sg: 0\n",
            "  epochs: 3\n",
            "  alpha: 0.025\n",
            "  min_alpha: 0.0001\n",
            "  hs: 0\n",
            "  negative: 5\n",
            "  compute_loss: True\n",
            "\n",
            "Training on the streamed corpus...\n",
            "Epoch #0 start\n",
            "Epoch #0 end - Time elapsed: 67.02s\n",
            "Epoch #1 start\n",
            "Epoch #1 end - Time elapsed: 124.73s\n",
            "Epoch #2 start\n",
            "Epoch #2 end - Time elapsed: 182.39s\n",
            "\n",
            "Training completed in 182.39 seconds\n",
            "Vocabulary size: 47134 words\n",
            "Model saved to my_word2vec_model_text8_cbow.model\n"
          ]
        }
      ],
      "source": [
        "# Train a CBOW model (sg=0)\n",
        "model_cbow = train_word2vec_model(\n",
        "    sentences=corpus,\n",
        "    save_path='my_word2vec_model_text8_cbow.model',\n",
        "    vector_size=200,\n",
        "    window=10,\n",
        "    min_count=10,\n",
        "    negative=5,\n",
        "    sg=0,  # CBOW\n",
        "    epochs=3,\n",
        "    compute_loss=True\n",
        ")"
      ]
    },
    {
      "cell_type": "markdown",
      "id": "63490d95",
      "metadata": {},
      "source": [
        "This cell performs stemming on the text using the Lancaster Stemmer."
      ]
    },
    {
      "cell_type": "code",
      "execution_count": null,
      "id": "e27a627a",
      "metadata": {
        "colab": {
          "base_uri": "https://localhost:8080/"
        },
        "id": "e27a627a",
        "outputId": "4fb7e640-411b-4e6b-bca3-5673039c4bdc"
      },
      "outputs": [
        {
          "name": "stdout",
          "output_type": "stream",
          "text": [
            "Vocabulary Size: 47134\n"
          ]
        }
      ],
      "source": [
        "vocab_size = len(model.wv.index_to_key)\n",
        "print(\"Vocabulary Size:\", vocab_size)"
      ]
    },
    {
      "cell_type": "markdown",
      "id": "6d397347",
      "metadata": {},
      "source": [
        "This cell provides an example of how the Lancaster Stemmer works."
      ]
    },
    {
      "cell_type": "markdown",
      "id": "7f01f359",
      "metadata": {},
      "source": [
        "The Snowball stemmer is an improvement over the Porter stemmer and is also known as the Porter2 stemmer. It is more aggressive than the Porter stemmer."
      ]
    },
    {
      "cell_type": "code",
      "execution_count": null,
      "id": "e563ef06",
      "metadata": {
        "colab": {
          "base_uri": "https://localhost:8080/"
        },
        "id": "e563ef06",
        "outputId": "5f234f2c-49d4-4dbb-c615-260c9aebd304"
      },
      "outputs": [
        {
          "name": "stdout",
          "output_type": "stream",
          "text": [
            "All Words in Vocabulary: ['the', 'of', 'and', 'one', 'in', 'a', 'to', 'zero', 'nine', 'two']\n"
          ]
        }
      ],
      "source": [
        "all_words = model.wv.index_to_key\n",
        "print(\"All Words in Vocabulary:\", all_words[:10])"
      ]
    },
    {
      "cell_type": "markdown",
      "id": "5a4b921a",
      "metadata": {},
      "source": [
        "This cell performs stemming on the text using the Snowball Stemmer."
      ]
    },
    {
      "cell_type": "markdown",
      "id": "eda5d6bd",
      "metadata": {
        "id": "eda5d6bd"
      },
      "source": [
        "### Part-of-Speech (POS) Tagging\n",
        "Part-of-speech tagging is the process of marking up a word in a text as corresponding to a particular part of speech, based on both its definition and its context."
      ]
    },
    {
      "cell_type": "code",
      "execution_count": null,
      "id": "f8457a5a",
      "metadata": {
        "id": "f8457a5a"
      },
      "outputs": [],
      "source": [
        "import numpy as np\n",
        "from scipy.stats import spearmanr\n",
        "from sklearn.metrics.pairwise import cosine_similarity\n",
        "\n",
        "class Word2VecEvaluator:\n",
        "    \"\"\"Comprehensive evaluation suite for Word2Vec models\"\"\"\n",
        "\n",
        "    def __init__(self, model):\n",
        "        self.model = model\n",
        "        self.wv = model.wv\n",
        "\n",
        "    def evaluate_word_similarity(self, word_pairs_with_scores):\n",
        "        \"\"\"\n",
        "        Evaluate model on word similarity datasets\n",
        "\n",
        "        Args:\n",
        "            word_pairs_with_scores: List of tuples (word1, word2, human_score)\n",
        "\n",
        "        Returns:\n",
        "            Spearman correlation with human judgments\n",
        "        \"\"\"\n",
        "\n",
        "        model_similarities = []\n",
        "        human_similarities = []\n",
        "\n",
        "        for word1, word2, human_score in word_pairs_with_scores:\n",
        "            try:\n",
        "                model_sim = self.wv.similarity(word1, word2)\n",
        "                model_similarities.append(model_sim)\n",
        "                human_similarities.append(human_score)\n",
        "            except KeyError:\n",
        "                # Skip if words not in vocabulary\n",
        "                continue\n",
        "\n",
        "        if len(model_similarities) < 10:\n",
        "            print(\"Warning: Too few valid word pairs for reliable evaluation\")\n",
        "            return None\n",
        "\n",
        "        correlation, p_value = spearmanr(human_similarities, model_similarities)\n",
        "\n",
        "        print(f\"Word Similarity Evaluation:\")\n",
        "        print(f\"Valid pairs: {len(model_similarities)}\")\n",
        "        print(f\"Spearman correlation: {correlation:.4f}\")\n",
        "        print(f\"P-value: {p_value:.4f}\")\n",
        "\n",
        "        return correlation\n",
        "\n",
        "    def evaluate_analogies(self, analogy_dataset):\n",
        "        \"\"\"\n",
        "        Evaluate model on word analogy tasks\n",
        "\n",
        "        Args:\n",
        "            analogy_dataset: List of tuples (word_a, word_b, word_c, word_d)\n",
        "                           representing \"word_a is to word_b as word_c is to word_d\"\n",
        "\n",
        "        Returns:\n",
        "            Accuracy on analogy task\n",
        "        \"\"\"\n",
        "\n",
        "        correct = 0\n",
        "        total = 0\n",
        "        #('king', 'queen', 'man', 'woman'),\n",
        "        for word_a, word_b, word_c, expected_d in analogy_dataset:\n",
        "            try:\n",
        "                # Predict word_d\n",
        "                result = self.wv.most_similar(\n",
        "                    positive=[word_a, word_b],\n",
        "                    negative=[word_c],\n",
        "                    topn=1\n",
        "                )\n",
        "\n",
        "                predicted_d = result\n",
        "\n",
        "                if predicted_d[0][0].lower() == expected_d.lower():\n",
        "                    correct += 1\n",
        "\n",
        "                total += 1\n",
        "\n",
        "            except (KeyError, IndexError):\n",
        "                # Skip if words not in vocabulary\n",
        "                continue\n",
        "\n",
        "        if total == 0:\n",
        "            print(\"Warning: No valid analogies found\")\n",
        "            return 0\n",
        "\n",
        "        accuracy = correct / total\n",
        "\n",
        "        print(f\"Analogy Evaluation:\")\n",
        "        print(f\"Valid analogies: {total}\")\n",
        "        print(f\"Correct predictions: {correct}\")\n",
        "        print(f\"Accuracy: {accuracy:.4f}\")\n",
        "\n",
        "        return accuracy\n",
        "\n",
        "    def evaluate_odd_one_out(self, word_groups):\n",
        "        \"\"\"\n",
        "        Evaluate model's ability to identify odd words in groups\n",
        "\n",
        "        Args:\n",
        "            word_groups: List of lists, each containing words where one doesn't belong\n",
        "\n",
        "        Returns:\n",
        "            Accuracy on odd-one-out task\n",
        "        \"\"\"\n",
        "\n",
        "        correct = 0\n",
        "        total = 0\n",
        "\n",
        "        for group in word_groups:\n",
        "            if len(group) < 3:\n",
        "                continue\n",
        "\n",
        "            try:\n",
        "                # Find the word that doesn't match others\n",
        "                odd_word = self.wv.doesnt_match(group)\n",
        "\n",
        "                # This is tricky - we need ground truth to evaluate properly\n",
        "                # For now, just check if the model can identify AN odd word\n",
        "                correct += 1  # Placeholder - you'd need labeled data\n",
        "                total += 1\n",
        "\n",
        "            except KeyError:\n",
        "                continue\n",
        "\n",
        "        if total == 0:\n",
        "            return 0\n",
        "\n",
        "        accuracy = correct / total\n",
        "\n",
        "        print(f\"Odd-One-Out Evaluation:\")\n",
        "        print(f\"  Valid groups: {total}\")\n",
        "        print(f\"  Accuracy: {accuracy:.4f}\")\n",
        "\n",
        "        return accuracy\n",
        "\n",
        "    def analyze_vocabulary_coverage(self, test_texts):\n",
        "        \"\"\"\n",
        "        Analyze how well model vocabulary covers test texts\n",
        "\n",
        "        Args:\n",
        "            test_texts: List of text strings\n",
        "\n",
        "        Returns:\n",
        "            Coverage statistics\n",
        "        \"\"\"\n",
        "\n",
        "        vocab = set(self.wv.index_to_key)\n",
        "\n",
        "        total_words = 0\n",
        "        covered_words = 0\n",
        "        unknown_words = set()\n",
        "\n",
        "        for text in test_texts:\n",
        "            words = text.lower().split()\n",
        "            total_words += len(words)\n",
        "\n",
        "            for word in words:\n",
        "                if word in vocab:\n",
        "                    covered_words += 1\n",
        "                else:\n",
        "                    unknown_words.add(word)\n",
        "\n",
        "        coverage_ratio = covered_words / total_words if total_words > 0 else 0\n",
        "\n",
        "        print(f\"Vocabulary Coverage Analysis:\")\n",
        "        print(f\"  Total words in test: {total_words}\")\n",
        "        print(f\"  Covered words: {covered_words}\")\n",
        "        print(f\"  Coverage ratio: {coverage_ratio:.4f}\")\n",
        "        print(f\"  Unknown words: {len(unknown_words)}\")\n",
        "\n",
        "        return {\n",
        "            'coverage_ratio': coverage_ratio,\n",
        "            'unknown_words': list(unknown_words)[:20],  # Show first 20\n",
        "            'total_unknown': len(unknown_words)\n",
        "        }\n",
        "\n",
        "    def compare_with_baseline(self, baseline_model, test_words):\n",
        "        \"\"\"\n",
        "        Compare model performance with baseline model\n",
        "\n",
        "        Args:\n",
        "            baseline_model: Another Word2Vec model to compare against\n",
        "            test_words: List of words to test\n",
        "\n",
        "        Returns:\n",
        "            Comparison statistics\n",
        "        \"\"\"\n",
        "\n",
        "        common_words = []\n",
        "        for word in test_words:\n",
        "            if word in self.wv and word in baseline_model.wv:\n",
        "                common_words.append(word)\n",
        "\n",
        "        if len(common_words) < 10:\n",
        "            print(\"Warning: Too few common words for reliable comparison\")\n",
        "            return None\n",
        "\n",
        "        # Compare similarity patterns\n",
        "        similarities = []\n",
        "\n",
        "        for i, word1 in enumerate(common_words[:20]):  # Test subset\n",
        "            for word2 in common_words[i+1:21]:  # Avoid too many comparisons\n",
        "\n",
        "                sim1 = self.wv.similarity(word1, word2)\n",
        "                sim2 = baseline_model.wv.similarity(word1, word2)\n",
        "\n",
        "                similarities.append((sim1, sim2))\n",
        "\n",
        "        model_sims = [s for s in similarities]\n",
        "        baseline_sims = [s for s in similarities]\n",
        "\n",
        "        correlation, _ = spearmanr(model_sims, baseline_sims)\n",
        "\n",
        "        print(f\"Model Comparison:\")\n",
        "        print(f\"  Common vocabulary: {len(common_words)}\")\n",
        "        print(f\"  Similarity correlation: {correlation:.4f}\")\n",
        "\n",
        "        return correlation"
      ]
    },
    {
      "cell_type": "markdown",
      "id": "6c7d6fae",
      "metadata": {},
      "source": [
        "This cell performs Part-of-Speech (POS) tagging on the text."
      ]
    },
    {
      "cell_type": "code",
      "execution_count": 208,
      "id": "5ad5c51c",
      "metadata": {
        "colab": {
          "base_uri": "https://localhost:8080/"
        },
        "id": "5ad5c51c",
        "outputId": "a1354946-3c47-41e0-949a-61fe1266523c"
      },
      "outputs": [
        {
          "name": "stdout",
          "output_type": "stream",
          "text": [
            "Warning: Too few valid word pairs for reliable evaluation\n",
            "Analogy Evaluation:\n",
            "Valid analogies: 8\n",
            "Correct predictions: 1\n",
            "Accuracy: 0.1250\n"
          ]
        }
      ],
      "source": [
        "# Example evaluation datasets\n",
        "word_similarity_pairs = [\n",
        "    ('king', 'queen', 8.5),\n",
        "    ('man', 'woman', 8.3),\n",
        "    ('car', 'automobile', 9.2),\n",
        "    ('computer', 'laptop', 7.8),\n",
        "    ('cat', 'dog', 6.1),\n",
        "    ('happy', 'sad', 2.1),\n",
        "]\n",
        "\n",
        "analogy_examples = [\n",
        "    ('man', 'woman', 'king', 'queen'),\n",
        "    ('brother', 'sister', 'son', 'daughter'),\n",
        "    # Geographical relationships\n",
        "    ('paris', 'france', 'berlin', 'germany'),\n",
        "    ('london', 'england', 'tokyo', 'japan'),\n",
        "    # Verb tense relationships\n",
        "    ('walking', 'walked', 'running', 'ran'),\n",
        "    ('swimming', 'swam', 'flying', 'flew'),\n",
        "    # Comparative relationships\n",
        "    ('good', 'better', 'bad', 'worse'),\n",
        "    ('fast', 'faster', 'slow', 'slower'),\n",
        "]\n",
        "\n",
        "# Usage example\n",
        "evaluator = Word2VecEvaluator(model)\n",
        "sim_score = evaluator.evaluate_word_similarity(word_similarity_pairs)\n",
        "analogy_score = evaluator.evaluate_analogies(analogy_examples)"
      ]
    },
    {
      "cell_type": "markdown",
      "id": "0434159d",
      "metadata": {},
      "source": [
        "This cell prints the POS tags for the words in the text."
      ]
    },
    {
      "cell_type": "code",
      "execution_count": 209,
      "id": "blMTiCWJfWj4",
      "metadata": {
        "colab": {
          "base_uri": "https://localhost:8080/"
        },
        "id": "blMTiCWJfWj4",
        "outputId": "d1bdfefb-8ebe-4eab-9cc7-a17aae67ee06"
      },
      "outputs": [
        {
          "name": "stdout",
          "output_type": "stream",
          "text": [
            "--- CBOW Model Evaluation ---\n",
            "Warning: Too few valid word pairs for reliable evaluation\n",
            "Analogy Evaluation:\n",
            "Valid analogies: 8\n",
            "Correct predictions: 0\n",
            "Accuracy: 0.0000\n"
          ]
        }
      ],
      "source": [
        "# Evaluate the CBOW model\n",
        "print(\"--- CBOW Model Evaluation ---\")\n",
        "evaluator_cbow = Word2VecEvaluator(model_cbow)\n",
        "sim_score_cbow = evaluator_cbow.evaluate_word_similarity(word_similarity_pairs)\n",
        "analogy_score_cbow = evaluator_cbow.evaluate_analogies(analogy_examples)"
      ]
    },
    {
      "cell_type": "markdown",
      "id": "0720e004",
      "metadata": {},
      "source": [
        "This cell explains the meaning of the POS tags."
      ]
    },
    {
      "cell_type": "code",
      "execution_count": null,
      "id": "EMp-uZt_eXjM",
      "metadata": {
        "id": "EMp-uZt_eXjM"
      },
      "outputs": [],
      "source": []
    },
    {
      "cell_type": "markdown",
      "id": "501bc6bd",
      "metadata": {},
      "source": [
        "This cell provides an example of POS tagging."
      ]
    },
    {
      "cell_type": "markdown",
      "id": "99eb3057",
      "metadata": {
        "id": "99eb3057"
      },
      "source": [
        "### Chunking\n",
        "Chunking is the process of extracting phrases from unstructured text. Instead of just simple tokens which may not represent the actual meaning of the text, it’s sometimes more useful to group them into \"chunks\"."
      ]
    },
    {
      "cell_type": "code",
      "execution_count": 210,
      "id": "9da6c1d7",
      "metadata": {
        "colab": {
          "base_uri": "https://localhost:8080/"
        },
        "id": "9da6c1d7",
        "outputId": "7c07cdbb-5647-4510-b299-1684f6b59ca1"
      },
      "outputs": [
        {
          "name": "stdout",
          "output_type": "stream",
          "text": [
            "Most similar words to 'alice':\n",
            "carol: 0.6660493016242981\n",
            "phoebe: 0.6252615451812744\n",
            "wonderland: 0.6042983531951904\n",
            "edna: 0.5879860520362854\n",
            "chandler: 0.5861482620239258\n",
            "mildred: 0.5849655866622925\n",
            "bob: 0.5845320820808411\n",
            "gertrude: 0.5807077884674072\n",
            "rachel: 0.5723688006401062\n",
            "scarlett: 0.5720853209495544\n"
          ]
        }
      ],
      "source": [
        "# Evaluate Skip-gram model\n",
        "word = \"alice\"\n",
        "if word in model.wv:\n",
        "    similar_words = model.wv.most_similar(word, topn=10)\n",
        "    print(f\"Most similar words to '{word}':\")\n",
        "    for similar_word, similarity in similar_words:\n",
        "        print(f\"{similar_word}: {similarity}\")\n",
        "else:\n",
        "    print(\"Word is not in the vocabulary.\")"
      ]
    },
    {
      "cell_type": "markdown",
      "id": "9ce5ae34",
      "metadata": {},
      "source": [
        "This cell performs chunking on the text."
      ]
    },
    {
      "cell_type": "code",
      "execution_count": 211,
      "id": "2d3ba23a",
      "metadata": {
        "colab": {
          "base_uri": "https://localhost:8080/"
        },
        "id": "2d3ba23a",
        "outputId": "541079ba-f7cf-4dd4-c59c-9d10288f4277"
      },
      "outputs": [
        {
          "data": {
            "text/plain": [
              "0.3389905"
            ]
          },
          "execution_count": 211,
          "metadata": {},
          "output_type": "execute_result"
        }
      ],
      "source": [
        "model.wv.similarity('king', 'man')"
      ]
    },
    {
      "cell_type": "markdown",
      "id": "8176e99f",
      "metadata": {},
      "source": [
        "This cell draws the chunk tree."
      ]
    },
    {
      "cell_type": "code",
      "execution_count": 212,
      "id": "mfRgEA9YfkW2",
      "metadata": {
        "colab": {
          "base_uri": "https://localhost:8080/"
        },
        "id": "mfRgEA9YfkW2",
        "outputId": "f9861ea8-e376-4b9e-f98c-30cc665a942e"
      },
      "outputs": [
        {
          "name": "stdout",
          "output_type": "stream",
          "text": [
            "Most similar words to 'alice' (CBOW):\n",
            "carol: 0.8268250226974487\n",
            "bob: 0.8130013942718506\n",
            "mrs: 0.777900218963623\n",
            "jack: 0.769040048122406\n",
            "mitchell: 0.7689304947853088\n",
            "lucy: 0.7671371102333069\n",
            "jessica: 0.7663625478744507\n",
            "dave: 0.7646123170852661\n",
            "miss: 0.7620733976364136\n",
            "chapman: 0.7617904543876648\n"
          ]
        }
      ],
      "source": [
        "# CBOW model: Find similar words to 'alice'\n",
        "word = \"alice\"\n",
        "if word in model_cbow.wv:\n",
        "    similar_words_cbow = model_cbow.wv.most_similar(word, topn=10)\n",
        "    print(f\"Most similar words to '{word}' (CBOW):\")\n",
        "    for similar_word, similarity in similar_words_cbow:\n",
        "        print(f\"{similar_word}: {similarity}\")\n",
        "else:\n",
        "    print(f\"Word '{word}' is not in the CBOW model vocabulary.\")"
      ]
    },
    {
      "cell_type": "markdown",
      "id": "ca9cc714",
      "metadata": {},
      "source": [
        "This cell prints the chunk tree."
      ]
    },
    {
      "cell_type": "code",
      "execution_count": 213,
      "id": "PYgxeuquYe_G",
      "metadata": {
        "colab": {
          "base_uri": "https://localhost:8080/",
          "height": 324
        },
        "id": "PYgxeuquYe_G",
        "outputId": "9aea452c-a94e-43ed-ace5-a9064195af4c"
      },
      "outputs": [
        {
          "data": {
            "image/png": "[encoded data removed]",
            "text/plain": [
              "<Figure size 2000x800 with 2 Axes>"
            ]
          },
          "metadata": {},
          "output_type": "display_data"
        }
      ],
      "source": [
        "# --- Visual Comparison ---\n",
        "from sklearn.decomposition import PCA\n",
        "import matplotlib.pyplot as plt\n",
        "\n",
        "def visualize_embeddings_comparison(model_sg, model_cbow, words):\n",
        "\n",
        "    fig, (ax1, ax2) = plt.subplots(1, 2, figsize=(20, 8))\n",
        "    fig.suptitle('Visual Comparison of Word Embeddings', fontsize=16)\n",
        "\n",
        "    # Words available in both models\n",
        "    words_in_sg = [word for word in words if word in model_sg.wv]\n",
        "    words_in_cbow = [word for word in words if word in model_cbow.wv]\n",
        "\n",
        "    # --- Skip-gram Plot ---\n",
        "    if words_in_sg:\n",
        "        vectors_sg = [model_sg.wv[word] for word in words_in_sg]\n",
        "        pca_sg = PCA(n_components=2)\n",
        "        result_sg = pca_sg.fit_transform(vectors_sg)\n",
        "\n",
        "        ax1.scatter(result_sg[:, 0], result_sg[:, 1])\n",
        "        ax1.set_title('Skip-gram (sg=1)')\n",
        "        for i, word in enumerate(words_in_sg):\n",
        "            ax1.annotate(word, xy=(result_sg[i, 0], result_sg[i, 1]))\n",
        "    else:\n",
        "        ax1.set_title('Skip-gram (sg=1) - No words found')\n",
        "\n",
        "    # --- CBOW Plot ---\n",
        "    if words_in_cbow:\n",
        "        vectors_cbow = [model_cbow.wv[word] for word in words_in_cbow]\n",
        "        pca_cbow = PCA(n_components=2)\n",
        "        result_cbow = pca_cbow.fit_transform(vectors_cbow)\n",
        "\n",
        "        ax2.scatter(result_cbow[:, 0], result_cbow[:, 1])\n",
        "        ax2.set_title('CBOW (sg=0)')\n",
        "        for i, word in enumerate(words_in_cbow):\n",
        "            ax2.annotate(word, xy=(result_cbow[i, 0], result_cbow[i, 1]))\n",
        "    else:\n",
        "        ax2.set_title('CBOW (sg=0) - No words found')\n",
        "\n",
        "    plt.show()\n",
        "\n",
        "# Words that might show interesting relationships\n",
        "sample_words = ['king', 'queen', 'man', 'woman', 'paris', 'france', 'london', 'england']\n",
        "visualize_embeddings_comparison(model, model_cbow, sample_words)"
      ]
    },
    {
      "cell_type": "markdown",
      "id": "b54fbb55",
      "metadata": {},
      "source": [
        "This cell displays the chunk tree as a diagram."
      ]
    },
    {
      "cell_type": "code",
      "execution_count": 214,
      "id": "Jrv8xQxUGCEj",
      "metadata": {
        "colab": {
          "base_uri": "https://localhost:8080/"
        },
        "id": "Jrv8xQxUGCEj",
        "outputId": "996c0954-96b5-4f2f-94ad-0bb82f668b71"
      },
      "outputs": [
        {
          "name": "stdout",
          "output_type": "stream",
          "text": [
            "--- Comparing similar words for 'king' ---\n",
            "Skip-gram (sg=1): ['canute', 'haakon', 'sweyn', 'valdemar', 'wenceslaus']\n",
            "CBOW (sg=0): ['prince', 'throne', 'duke', 'emperor', 'queen']\n",
            "\\n\n",
            "--- Comparing similar words for 'woman' ---\n",
            "Skip-gram (sg=1): ['girl', 'man', 'promiscuous', 'children', 'prostitute']\n",
            "CBOW (sg=0): ['child', 'girl', 'lady', 'mother', 'herself']\n",
            "\\n\n",
            "--- Comparing similar words for 'france' ---\n",
            "Skip-gram (sg=1): ['belgium', 'nantes', 'spain', 'toulouse', 'french']\n",
            "CBOW (sg=0): ['spain', 'italy', 'portugal', 'belgium', 'austria']\n",
            "\\n\n"
          ]
        }
      ],
      "source": [
        "# --- Qualitative Comparison ---\n",
        "# Let's compare the most similar words for a few terms\n",
        "\n",
        "words_to_compare = ['king', 'woman', 'france']\n",
        "\n",
        "for word in words_to_compare:\n",
        "    print(f\"--- Comparing similar words for '{word}' ---\")\n",
        "\n",
        "    # Skip-gram results\n",
        "    if word in model.wv:\n",
        "        similar_skipgram = model.wv.most_similar(word, topn=5)\n",
        "        print(f\"Skip-gram (sg=1): {[item[0] for item in similar_skipgram]}\")\n",
        "    else:\n",
        "        print(f\"Skip-gram (sg=1): Word not in vocabulary.\")\n",
        "\n",
        "    # CBOW results\n",
        "    if word in model_cbow.wv:\n",
        "        similar_cbow = model_cbow.wv.most_similar(word, topn=5)\n",
        "        print(f\"CBOW (sg=0): {[item[0] for item in similar_cbow]}\")\n",
        "    else:\n",
        "        print(f\"CBOW (sg=0): Word not in vocabulary.\")\n",
        "    print(\"\\\\n\")"
      ]
    },
    {
      "cell_type": "markdown",
      "id": "8c4810ee",
      "metadata": {},
      "source": [
        "This cell performs chinking on the text."
      ]
    },
    {
      "cell_type": "markdown",
      "id": "79f50163",
      "metadata": {},
      "source": [
        "### Chinking\n",
        "Chinking is the process of removing a sequence of tokens from a chunk. If the chunk is the whole text, then chinking is the process of removing a sub-sequence of tokens from the text."
      ]
    },
    {
      "cell_type": "code",
      "execution_count": 215,
      "id": "wgiqff0KhfJu",
      "metadata": {
        "colab": {
          "base_uri": "https://localhost:8080/",
          "height": 650
        },
        "id": "wgiqff0KhfJu",
        "outputId": "047fcb7f-46b9-42f2-c373-66644317ad28"
      },
      "outputs": [
        {
          "name": "stdout",
          "output_type": "stream",
          "text": [
            "--- Numerical Comparison ---\n",
            "Higher scores are better for both metrics.\n"
          ]
        },
        {
          "data": {
            "application/vnd.google.colaboratory.intrinsic+json": {
              "summary": "{\n  \"name\": \"comparison_df\",\n  \"rows\": 2,\n  \"fields\": [\n    {\n      \"column\": \"Metric\",\n      \"properties\": {\n        \"dtype\": \"string\",\n        \"num_unique_values\": 2,\n        \"samples\": [\n          \"Analogy Accuracy\",\n          \"Word Similarity (Spearman Corr.)\"\n        ],\n        \"semantic_type\": \"\",\n        \"description\": \"\"\n      }\n    },\n    {\n      \"column\": \"Skip-gram (sg=1)\",\n      \"properties\": {\n        \"dtype\": \"number\",\n        \"std\": null,\n        \"min\": 0.125,\n        \"max\": 0.125,\n        \"num_unique_values\": 1,\n        \"samples\": [\n          0.125\n        ],\n        \"semantic_type\": \"\",\n        \"description\": \"\"\n      }\n    },\n    {\n      \"column\": \"CBOW (sg=0)\",\n      \"properties\": {\n        \"dtype\": \"number\",\n        \"std\": null,\n        \"min\": 0.0,\n        \"max\": 0.0,\n        \"num_unique_values\": 1,\n        \"samples\": [\n          0.0\n        ],\n        \"semantic_type\": \"\",\n        \"description\": \"\"\n      }\n    }\n  ]\n}",
              "type": "dataframe",
              "variable_name": "comparison_df"
            },
            "text/html": [
              "\n",
              "  <div id=\"df-12c77307-5f13-4498-8e86-aaa3c4098b54\" class=\"colab-df-container\">\n",
              "    <div>\n",
              "<style scoped>\n",
              "    .dataframe tbody tr th:only-of-type {\n",
              "        vertical-align: middle;\n",
              "    }\n",
              "\n",
              "    .dataframe tbody tr th {\n",
              "        vertical-align: top;\n",
              "    }\n",
              "\n",
              "    .dataframe thead th {\n",
              "        text-align: right;\n",
              "    }\n",
              "</style>\n",
              "<table border=\"1\" class=\"dataframe\">\n",
              "  <thead>\n",
              "    <tr style=\"text-align: right;\">\n",
              "      <th></th>\n",
              "      <th>Skip-gram (sg=1)</th>\n",
              "      <th>CBOW (sg=0)</th>\n",
              "    </tr>\n",
              "    <tr>\n",
              "      <th>Metric</th>\n",
              "      <th></th>\n",
              "      <th></th>\n",
              "    </tr>\n",
              "  </thead>\n",
              "  <tbody>\n",
              "    <tr>\n",
              "      <th>Word Similarity (Spearman Corr.)</th>\n",
              "      <td>NaN</td>\n",
              "      <td>NaN</td>\n",
              "    </tr>\n",
              "    <tr>\n",
              "      <th>Analogy Accuracy</th>\n",
              "      <td>0.125</td>\n",
              "      <td>0.0</td>\n",
              "    </tr>\n",
              "  </tbody>\n",
              "</table>\n",
              "</div>\n",
              "    <div class=\"colab-df-buttons\">\n",
              "\n",
              "  <div class=\"colab-df-container\">\n",
              "    <button class=\"colab-df-convert\" onclick=\"convertToInteractive('df-12c77307-5f13-4498-8e86-aaa3c4098b54')\"\n",
              "            title=\"Convert this dataframe to an interactive table.\"\n",
              "            style=\"display:none;\">\n",
              "\n",
              "  <svg xmlns=\"http://www.w3.org/2000/svg\" height=\"24px\" viewBox=\"0 -960 960 960\">\n",
              "    <path d=\"M120-120v-720h720v720H120Zm60-500h600v-160H180v160Zm220 220h160v-160H400v160Zm0 220h160v-160H400v160ZM180-400h160v-160H180v160Zm440 0h160v-160H620v160ZM180-180h160v-160H180v160Zm440 0h160v-160H620v160Z\"/>\n",
              "  </svg>\n",
              "    </button>\n",
              "\n",
              "  <style>\n",
              "    .colab-df-container {\n",
              "      display:flex;\n",
              "      gap: 12px;\n",
              "    }\n",
              "\n",
              "    .colab-df-convert {\n",
              "      background-color: #E8F0FE;\n",
              "      border: none;\n",
              "      border-radius: 50%;\n",
              "      cursor: pointer;\n",
              "      display: none;\n",
              "      fill: #1967D2;\n",
              "      height: 32px;\n",
              "      padding: 0 0 0 0;\n",
              "      width: 32px;\n",
              "    }\n",
              "\n",
              "    .colab-df-convert:hover {\n",
              "      background-color: #E2EBFA;\n",
              "      box-shadow: 0px 1px 2px rgba(60, 64, 67, 0.3), 0px 1px 3px 1px rgba(60, 64, 67, 0.15);\n",
              "      fill: #174EA6;\n",
              "    }\n",
              "\n",
              "    .colab-df-buttons div {\n",
              "      margin-bottom: 4px;\n",
              "    }\n",
              "\n",
              "    [theme=dark] .colab-df-convert {\n",
              "      background-color: #3B4455;\n",
              "      fill: #D2E3FC;\n",
              "    }\n",
              "\n",
              "    [theme=dark] .colab-df-convert:hover {\n",
              "      background-color: #434B5C;\n",
              "      box-shadow: 0px 1px 3px 1px rgba(0, 0, 0, 0.15);\n",
              "      filter: drop-shadow(0px 1px 2px rgba(0, 0, 0, 0.3));\n",
              "      fill: #FFFFFF;\n",
              "    }\n",
              "  </style>\n",
              "\n",
              "    <script>\n",
              "      const buttonEl =\n",
              "        document.querySelector('#df-12c77307-5f13-4498-8e86-aaa3c4098b54 button.colab-df-convert');\n",
              "      buttonEl.style.display =\n",
              "        google.colab.kernel.accessAllowed ? 'block' : 'none';\n",
              "\n",
              "      async function convertToInteractive(key) {\n",
              "        const element = document.querySelector('#df-12c77307-5f13-4498-8e86-aaa3c4098b54');\n",
              "        const dataTable =\n",
              "          await google.colab.kernel.invokeFunction('convertToInteractive',\n",
              "                                                    [key], {});\n",
              "        if (!dataTable) return;\n",
              "\n",
              "        const docLinkHtml = 'Like what you see? Visit the ' +\n",
              "          '<a target=\"_blank\" href=https://colab.research.google.com/notebooks/data_table.ipynb>data table notebook</a>'\n",
              "          + ' to learn more about interactive tables.';\n",
              "        element.innerHTML = '';\n",
              "        dataTable['output_type'] = 'display_data';\n",
              "        await google.colab.output.renderOutput(dataTable, element);\n",
              "        const docLink = document.createElement('div');\n",
              "        docLink.innerHTML = docLinkHtml;\n",
              "        element.appendChild(docLink);\n",
              "      }\n",
              "    </script>\n",
              "  </div>\n",
              "\n",
              "\n",
              "    <div id=\"df-46777e07-6101-4244-9689-a119abcc51cb\">\n",
              "      <button class=\"colab-df-quickchart\" onclick=\"quickchart('df-46777e07-6101-4244-9689-a119abcc51cb')\"\n",
              "                title=\"Suggest charts\"\n",
              "                style=\"display:none;\">\n",
              "\n",
              "<svg xmlns=\"http://www.w3.org/2000/svg\" height=\"24px\"viewBox=\"0 0 24 24\"\n",
              "     width=\"24px\">\n",
              "    <g>\n",
              "        <path d=\"M19 3H5c-1.1 0-2 .9-2 2v14c0 1.1.9 2 2 2h14c1.1 0 2-.9 2-2V5c0-1.1-.9-2-2-2zM9 17H7v-7h2v7zm4 0h-2V7h2v10zm4 0h-2v-4h2v4z\"/>\n",
              "    </g>\n",
              "</svg>\n",
              "      </button>\n",
              "\n",
              "<style>\n",
              "  .colab-df-quickchart {\n",
              "      --bg-color: #E8F0FE;\n",
              "      --fill-color: #1967D2;\n",
              "      --hover-bg-color: #E2EBFA;\n",
              "      --hover-fill-color: #174EA6;\n",
              "      --disabled-fill-color: #AAA;\n",
              "      --disabled-bg-color: #DDD;\n",
              "  }\n",
              "\n",
              "  [theme=dark] .colab-df-quickchart {\n",
              "      --bg-color: #3B4455;\n",
              "      --fill-color: #D2E3FC;\n",
              "      --hover-bg-color: #434B5C;\n",
              "      --hover-fill-color: #FFFFFF;\n",
              "      --disabled-bg-color: #3B4455;\n",
              "      --disabled-fill-color: #666;\n",
              "  }\n",
              "\n",
              "  .colab-df-quickchart {\n",
              "    background-color: var(--bg-color);\n",
              "    border: none;\n",
              "    border-radius: 50%;\n",
              "    cursor: pointer;\n",
              "    display: none;\n",
              "    fill: var(--fill-color);\n",
              "    height: 32px;\n",
              "    padding: 0;\n",
              "    width: 32px;\n",
              "  }\n",
              "\n",
              "  .colab-df-quickchart:hover {\n",
              "    background-color: var(--hover-bg-color);\n",
              "    box-shadow: 0 1px 2px rgba(60, 64, 67, 0.3), 0 1px 3px 1px rgba(60, 64, 67, 0.15);\n",
              "    fill: var(--button-hover-fill-color);\n",
              "  }\n",
              "\n",
              "  .colab-df-quickchart-complete:disabled,\n",
              "  .colab-df-quickchart-complete:disabled:hover {\n",
              "    background-color: var(--disabled-bg-color);\n",
              "    fill: var(--disabled-fill-color);\n",
              "    box-shadow: none;\n",
              "  }\n",
              "\n",
              "  .colab-df-spinner {\n",
              "    border: 2px solid var(--fill-color);\n",
              "    border-color: transparent;\n",
              "    border-bottom-color: var(--fill-color);\n",
              "    animation:\n",
              "      spin 1s steps(1) infinite;\n",
              "  }\n",
              "\n",
              "  @keyframes spin {\n",
              "    0% {\n",
              "      border-color: transparent;\n",
              "      border-bottom-color: var(--fill-color);\n",
              "      border-left-color: var(--fill-color);\n",
              "    }\n",
              "    20% {\n",
              "      border-color: transparent;\n",
              "      border-left-color: var(--fill-color);\n",
              "      border-top-color: var(--fill-color);\n",
              "    }\n",
              "    30% {\n",
              "      border-color: transparent;\n",
              "      border-left-color: var(--fill-color);\n",
              "      border-top-color: var(--fill-color);\n",
              "      border-right-color: var(--fill-color);\n",
              "    }\n",
              "    40% {\n",
              "      border-color: transparent;\n",
              "      border-right-color: var(--fill-color);\n",
              "      border-top-color: var(--fill-color);\n",
              "    }\n",
              "    60% {\n",
              "      border-color: transparent;\n",
              "      border-right-color: var(--fill-color);\n",
              "    }\n",
              "    80% {\n",
              "      border-color: transparent;\n",
              "      border-right-color: var(--fill-color);\n",
              "      border-bottom-color: var(--fill-color);\n",
              "    }\n",
              "    90% {\n",
              "      border-color: transparent;\n",
              "      border-bottom-color: var(--fill-color);\n",
              "    }\n",
              "  }\n",
              "</style>\n",
              "\n",
              "      <script>\n",
              "        async function quickchart(key) {\n",
              "          const quickchartButtonEl =\n",
              "            document.querySelector('#' + key + ' button');\n",
              "          quickchartButtonEl.disabled = true;  // To prevent multiple clicks.\n",
              "          quickchartButtonEl.classList.add('colab-df-spinner');\n",
              "          try {\n",
              "            const charts = await google.colab.kernel.invokeFunction(\n",
              "                'suggestCharts', [key], {});\n",
              "          } catch (error) {\n",
              "            console.error('Error during call to suggestCharts:', error);\n",
              "          }\n",
              "          quickchartButtonEl.classList.remove('colab-df-spinner');\n",
              "          quickchartButtonEl.classList.add('colab-df-quickchart-complete');\n",
              "        }\n",
              "        (() => {\n",
              "          let quickchartButtonEl =\n",
              "            document.querySelector('#df-46777e07-6101-4244-9689-a119abcc51cb button');\n",
              "          quickchartButtonEl.style.display =\n",
              "            google.colab.kernel.accessAllowed ? 'block' : 'none';\n",
              "        })();\n",
              "      </script>\n",
              "    </div>\n",
              "\n",
              "  <div id=\"id_3ead0199-77f1-4e33-ab46-c9a35c941be7\">\n",
              "    <style>\n",
              "      .colab-df-generate {\n",
              "        background-color: #E8F0FE;\n",
              "        border: none;\n",
              "        border-radius: 50%;\n",
              "        cursor: pointer;\n",
              "        display: none;\n",
              "        fill: #1967D2;\n",
              "        height: 32px;\n",
              "        padding: 0 0 0 0;\n",
              "        width: 32px;\n",
              "      }\n",
              "\n",
              "      .colab-df-generate:hover {\n",
              "        background-color: #E2EBFA;\n",
              "        box-shadow: 0px 1px 2px rgba(60, 64, 67, 0.3), 0px 1px 3px 1px rgba(60, 64, 67, 0.15);\n",
              "        fill: #174EA6;\n",
              "      }\n",
              "\n",
              "      [theme=dark] .colab-df-generate {\n",
              "        background-color: #3B4455;\n",
              "        fill: #D2E3FC;\n",
              "      }\n",
              "\n",
              "      [theme=dark] .colab-df-generate:hover {\n",
              "        background-color: #434B5C;\n",
              "        box-shadow: 0px 1px 3px 1px rgba(0, 0, 0, 0.15);\n",
              "        filter: drop-shadow(0px 1px 2px rgba(0, 0, 0, 0.3));\n",
              "        fill: #FFFFFF;\n",
              "      }\n",
              "    </style>\n",
              "    <button class=\"colab-df-generate\" onclick=\"generateWithVariable('comparison_df')\"\n",
              "            title=\"Generate code using this dataframe.\"\n",
              "            style=\"display:none;\">\n",
              "\n",
              "  <svg xmlns=\"http://www.w3.org/2000/svg\" height=\"24px\"viewBox=\"0 0 24 24\"\n",
              "       width=\"24px\">\n",
              "    <path d=\"M7,19H8.4L18.45,9,17,7.55,7,17.6ZM5,21V16.75L18.45,3.32a2,2,0,0,1,2.83,0l1.4,1.43a1.91,1.91,0,0,1,.58,1.4,1.91,1.91,0,0,1-.58,1.4L9.25,21ZM18.45,9,17,7.55Zm-12,3A5.31,5.31,0,0,0,4.9,8.1,5.31,5.31,0,0,0,1,6.5,5.31,5.31,0,0,0,4.9,4.9,5.31,5.31,0,0,0,6.5,1,5.31,5.31,0,0,0,8.1,4.9,5.31,5.31,0,0,0,12,6.5,5.46,5.46,0,0,0,6.5,12Z\"/>\n",
              "  </svg>\n",
              "    </button>\n",
              "    <script>\n",
              "      (() => {\n",
              "      const buttonEl =\n",
              "        document.querySelector('#id_3ead0199-77f1-4e33-ab46-c9a35c941be7 button.colab-df-generate');\n",
              "      buttonEl.style.display =\n",
              "        google.colab.kernel.accessAllowed ? 'block' : 'none';\n",
              "\n",
              "      buttonEl.onclick = () => {\n",
              "        google.colab.notebook.generateWithVariable('comparison_df');\n",
              "      }\n",
              "      })();\n",
              "    </script>\n",
              "  </div>\n",
              "\n",
              "    </div>\n",
              "  </div>\n"
            ],
            "text/plain": [
              "                                  Skip-gram (sg=1)  CBOW (sg=0)\n",
              "Metric                                                         \n",
              "Word Similarity (Spearman Corr.)               NaN          NaN\n",
              "Analogy Accuracy                             0.125          0.0"
            ]
          },
          "execution_count": 215,
          "metadata": {},
          "output_type": "execute_result"
        },
        {
          "data": {
            "text/html": [
              "<h4 class=\"colab-quickchart-section-title\">Distributions</h4>\n",
              "<style>\n",
              "  .colab-quickchart-section-title {\n",
              "      clear: both;\n",
              "  }\n",
              "</style>"
            ],
            "text/plain": [
              "<google.colab._quickchart_helpers.SectionTitle at 0x7ee7e8827710>"
            ]
          },
          "metadata": {},
          "output_type": "display_data"
        },
        {
          "data": {
            "text/html": [
              "      <div class=\"colab-quickchart-chart-with-code\" id=\"chart-ee596c14-d08c-471d-aa47-8b23bd303cad\">\n",
              "        <img style=\"width: 180px;\" src=\"data:image/png;base64,iVBORw0KGgoAAAANSUhEUgAAAioAAAGrCAYAAADuNLxTAAAAOnRFWHRTb2Z0d2FyZQBNYXRwbG90\n",
              "bGliIHZlcnNpb24zLjEwLjAsIGh0dHBzOi8vbWF0cGxvdGxpYi5vcmcvlHJYcgAAAAlwSFlzAAAP\n",
              "YQAAD2EBqD+naQAAJLNJREFUeJzt3XtYlHX+//HXCDVZipRHEkdEhMwSkyRF21K3TV1Tg85RUiJ0\n",
              "uNKWSkW/XWa54dZ2MLtaUQvXLCtP5WaHa83DaiekgwfcUkwcclFME7QUHbh/f3g1vyZEGeNmPoPP\n",
              "x3XNdTnjZ27e81l3r+fO3MztsCzLEgAAgIGaBHoAAACA2hAqAADAWIQKAAAwFqECAACMRagAAABj\n",
              "ESoAAMBYhAoAADAWoQIAAIxFqAAAAGMRKkAjtXr1ajkcDnk8nhP+/Wuvvaa4uLgGnqrhbd++XZ06\n",
              "ddKhQ4cCPUoNixcvVv/+/QM9BmA0QgUIUjt27NCtt96qCy+8UM2aNdOFF16oIUOGqLS0tE7Pv/32\n",
              "2/Xtt9/aPGXgPfLIIxo7dqyaNWvW4D/7hRde0BVXXKFzzz1XkZGRNf4+JSVF5eXlWrx4cYPPBgQL\n",
              "QgUIUkOGDFHz5s21efNmHTp0SF999ZVuvvlmORyOQI92UseOHWuwn7V9+3Z98MEHGjlyZIP9zF+7\n",
              "8MILNW7cOE2aNKnWNenp6Xr22WcbcCoguBAqQBDat2+fvvnmG91zzz264IILJElt27bVyJEj1a5d\n",
              "uxM+p6ioSF27dtUjjzyi6upqzZ071+f/5aelpemmm25Senq6wsPD5XK59NRTT510DsuyNG3aNLlc\n",
              "LoWHhys9PV033XST0tLSvGuioqI0efJkDRo0SM2bN9czzzyj0tJSDR06VG3btlXz5s3VvXt3LVy4\n",
              "0OfYDodD06dPV58+fXTeeecpPj5emzZt0sKFCxUXF6ewsDDdcMMNJ/1IZ+nSpUpISND555/vfWzD\n",
              "hg266qqrFB4ervPPP18JCQned5aOHTumhx56SO3atVPr1q2VnZ2tfv366bHHHjvpPtTmhhtuUEpK\n",
              "itq3b1/rmkGDBumTTz7R7t27T+tnAI0doQIEoZYtW+rSSy9VZmam8vLytHHjRlVXV9e6fvXq1erX\n",
              "r58efvhhPf3002rS5MT/1V+6dKl69eqlvXv36q233tK0adP02muv1XrcV199VU8//bQWLlyoH374\n",
              "QX369NHSpUtrrMvNzdXkyZNVUVGhMWPGqKqqSnfffbe2b9+u/fv3a+zYsbrttttUWFjo87y5c+fq\n",
              "9ddf148//qi4uDiNGDFC7733ngoKCrRt2zZ99dVXmjFjRq3zFRQU6JJLLvF57L777tPAgQP1ww8/\n",
              "aO/evXr55ZcVHh4uScrJydHbb7+tNWvW6Pvvv5fT6dTnn3/u8/zu3bsrPDy81tu0adNqnedEoqOj\n",
              "dd5556mgoMCv5wFnCkIFCFKrVq3S4MGD9Y9//EOJiYlq1aqVHn74YVVWVvqsmzNnjm6++WYtWLBA\n",
              "o0aNOukxu3fvrszMTJ111lnq3bu3Ro8erVdeeaXW9fPmzdOoUaN0xRVXKDQ0VKNGjVJ8fHyNdXfd\n",
              "dZf69Okjh8PhPV8jOTlZzZo101lnnaVRo0bp4osv1sqVK32el5WVpU6dOunss8/W7bffru+++05P\n",
              "PvmkmjdvrrZt22rIkCHKz8+vdb79+/erRYsWPo+dffbZcrvd2rlzp0JDQ9WjRw+1bdvW+3oeeugh\n",
              "xcXFyel06tFHH/W+Y/WLjRs36sCBA7XeJkyYcNI9PpEWLVpo//79fj8POBMQKkCQatmypR5//HHl\n",
              "5+ervLxcr7zyimbPnq2cnByfdVOmTFFycnKdfrukU6dONe6XlJRIkgYPHqxmzZqpWbNmGjx4sCRp\n",
              "165d6tixo89zoqKiTnncH3/8UaNHj1anTp0UFham8PBwFRYWqqyszGddRESE98/nnXfeCR87ePBg\n",
              "ra/nggsuUHl5uc9jc+fOlcPh0IABAxQZGakHH3zQ+/HRb19PSEiIOnToUOvx60t5eXmNIAJwHKEC\n",
              "NAJOp1MjRozQH//4R3355Zc+f7d27VqtWLFCDzzwgCzLOulxiouLa9z/5TyW999/X4cOHdKhQ4f0\n",
              "/vvvS5Lat2+vnTt3+jznt/cl1fioacKECfrmm2+0Zs0alZeX68CBA+rWrdsp5/NXQkJCjY+TOnbs\n",
              "qNmzZ2vnzp1avXq1/v3vf3vj7revp7q6Wt9//73P87t16+YNthPdnnzySb9m3LFjh3766Sddfvnl\n",
              "p/kqgcaNUAGC0I8//qgJEyZo48aNqqysVFVVlT766COtWrVKf/jDH3zWRkVFad26dVq3bp1SU1NP\n",
              "+ls3GzZs0Jw5c+TxeJSfn6/Zs2frrrvuqnX9HXfcoVdeeUXr16+Xx+NRXl6evv7661POX15ernPP\n",
              "PVctW7bUsWPHNGPGjBpBUR9GjBihgoICHThwwPvY3Llz9f3338uyLIWFhSk0NFShoaHe1/Pcc89p\n",
              "69atOnr0qKZOnap9+/b5HLOwsNAbbCe6TZw40bvW4/HoyJEj3j0/cuSIjhw54hNkH3zwgXr37l3r\n",
              "SdDAmY5QAYLQ2WefrR9++EE33nijWrVqpZYtW2rs2LEaP368HnrooRrr27ZtqzVr1mjXrl0aPny4\n",
              "fv755xMe9/rrr9dnn32mVq1aKSUlRQ8//LBSU1NrnePOO+/UX/7yFyUnJ6tVq1Zat26dhg4dqnPO\n",
              "Oeek80+dOlWHDx9W27ZtFRUVpT179qhv377+bUIddOnSRX/60580d+5c72OrVq1SYmKimjVrpvj4\n",
              "ePXp00fjx4+XJGVnZ+vPf/6zrrzySrVv316HDx/WZZdddsrXU5upU6eqadOmysjI0K5du9S0aVM1\n",
              "bdrU512bOXPmnPA/MwDHOaz6fq8VQFBKS0uTx+PR/Pnzf9dxevTooZtvvlnZ2dn1NNnvs337dg0c\n",
              "OFCbN2/2+0vfPB6PIiIi9MILL+jWW2+t99mWLFmiF154QatXr673YwONBe+oAPhd3nzzTR0+fFhH\n",
              "jhzRc889py1btujGG28M9FhenTt3VnFxcZ0i5eDBg/rXv/6lo0eP6tChQxo/fryqq6u9Jw/Xt+Tk\n",
              "ZCIFOAVCBcDvMnv2bO8XpM2fP1/vvPOOYmJiAj3WaamurtYTTzyhVq1aqX379srPz9d7773n/Z4V\n",
              "AA2Pj34AAICxeEcFAAAYi1ABAADGIlQAAICxCBUAAGCsRhEq06dPD/QIAADABo0iVE50bREAABD8\n",
              "GkWoAACAxolQAQAAxiJUAACAsQgVAABgLEIFAAAYi1ABAADGIlQAAICxCBUAAGAsQgUAABiLUAEA\n",
              "AMYiVAAAgLEIFQAAYCxbQ2XMmDGKioqSw+HQ119/Xeu6l19+WV26dFHnzp01evRoHTt2zM6xAABA\n",
              "kLA1VG644QatW7dOHTt2rHXNjh079Oijj2rt2rUqKirSnj17NGvWLDvHAgAAQcLWUPnDH/6gyMjI\n",
              "k65ZtGiRhg0bpnbt2snhcOiee+7RggULal1fWVmpiooKn1tVVVV9jw4AAAwQGugB3G63zzsuUVFR\n",
              "crvdta7PycnRlClTfB7r3bu3bfMBCKyoCcttOW7xtD/bclwA9SvoTqbNzs5WeXm5zy0xMTHQYwEA\n",
              "ABsE/B0Vl8ul7du3e+8XFxfL5XLVut7pdMrpdPo8FhISYtt8AAAgcAL+jkpKSoqWLVum3bt3y7Is\n",
              "zZw5U7fcckugxwIAAAawNVQyMzMVGRmp77//Xtdee61iYmIkSenp6Vq2bJkkKTo6WlOmTFHfvn0V\n",
              "ExOj1q1bKzMz086xAABAkHBYlmUFeojfKysrS88++2ygxwBgA06mBc5sAf/oBwAAoDaECgAAMBah\n",
              "AgAAjEWoAAAAYxEqAADAWIQKAAAwFqECAACMRagAAABjESoAAMBYhAoAADAWoQIAAIxFqAAAAGMR\n",
              "KgAAwFiECgAAMBahAgAAjEWoAAAAYxEqAADAWIQKAAAwFqECAACMRagAAABjESoAAMBYhAoAADAW\n",
              "oQIAAIxFqAAAAGMRKgAAwFiECgAAMBahAgAAjEWoAAAAYxEqAADAWIQKAAAwFqECAACMRagAAABj\n",
              "ESoAAMBYhAoAADAWoQIAAIxFqAAAAGMRKgAAwFiECgAAMBahAgAAjEWoAAAAYxEqAADAWIQKAAAw\n",
              "FqECAACMRagAAABjESoAAMBYhAoAADAWoQIAAIxFqAAAAGMRKgAAwFiECgAAMBahAgAAjEWoAAAA\n",
              "YxEqAADAWIQKAAAwFqECAACMRagAAABjESoAAMBYhAoAADAWoQIAAIxFqAAAAGMRKgAAwFi2hsq2\n",
              "bduUlJSk2NhY9erVS4WFhTXWVFdXKysrSxdffLG6d++u/v37q6ioyM6xAABAkLA1VDIzM5WRkaGt\n",
              "W7dq/PjxSktLq7Fm2bJl+vjjj7VhwwZt3LhRAwcO1MSJE+0cCwAABAnbQqWsrEwFBQVKTU2VJKWk\n",
              "pKikpKTGuyUOh0OVlZU6cuSILMtSRUWFIiMj7RoLAAAEkVC7DlxSUqKIiAiFhh7/EQ6HQy6XS263\n",
              "WzExMd511113nVatWqV27dqpefPmat++vdasWVPrcSsrK1VZWenzWFVVlT0vAgAABFTAT6YtKCjQ\n",
              "5s2btWvXLv3vf//TwIEDdc8999S6PicnRy1atPC55efnN+DEAACgodgWKh06dFBpaak8Ho8kybIs\n",
              "ud1uuVwun3Xz5s3TgAEDFB4eriZNmmjkyJFatWpVrcfNzs5WeXm5zy0xMdGulwEAAALItlBp06aN\n",
              "evbsqfnz50uSFi9erMjISJ+PfSQpOjpaK1eu1NGjRyVJ7777ri655JJaj+t0OhUWFuZzCwkJsetl\n",
              "AACAALLtHBVJys3NVVpamp588kmFhYUpLy9PkpSenq5hw4Zp2LBhuv/++/Xf//5X8fHxOuuss9Su\n",
              "XTvNnDnTzrEAAECQsDVU4uLi9Omnn9Z4fM6cOd4/O51OzZ49284xAABAkAr4ybQAAAC1IVQAAICx\n",
              "CBUAAGAsQgUAABiLUAEAAMYiVAAAgLEIFQAAYCxCBQAAGItQAQAAxiJUAACAsQgVAABgLEIFAAAY\n",
              "i1ABAADGIlQAAICxCBUAAGAsQgUAABiLUAEAAMYiVAAAgLEIFQAAYCxCBQAAGItQAQAAxiJUAACA\n",
              "sQgVAABgLEIFAAAYi1ABAADGIlQAAICxCBUAAGAsQgUAABiLUAEAAMYiVAAAgLEIFQAAYCxCBQAA\n",
              "GItQAQAAxiJUAACAsQgVAABgLEIFAAAYi1ABAADGIlQAAICxCBUAAGAsQgUAABiLUAEAAMYiVAAA\n",
              "gLEIFQAAYCxCBQAAGItQAQAAxiJUAACAsQgVAABgLEIFAAAYi1ABAADGIlQAAICxCBUAAGAsQgUA\n",
              "ABiLUAEAAMYiVAAAgLEIFQAAYCxCBQAAGItQAQAAxiJUAACAsQgVAABgLEIFAAAYi1ABAADGIlQA\n",
              "AICxbA2Vbdu2KSkpSbGxserVq5cKCwtPuG7Tpk26+uqr1bVrV3Xt2lVLliyxcywAABAkQu08eGZm\n",
              "pjIyMpSWlqZFixYpLS1N69ev91nz888/a/jw4Zo3b5769eunqqoq7d+/386xAABAkLDtHZWysjIV\n",
              "FBQoNTVVkpSSkqKSkhIVFRX5rHv99dfVu3dv9evXT5IUEhKi1q1b13rcyspKVVRU+NyqqqrsehkA\n",
              "ACCAbAuVkpISRUREKDT0+Js2DodDLpdLbrfbZ92WLVvkdDo1dOhQ9ejRQ3feeaf27t1b63FzcnLU\n",
              "okULn1t+fr5dLwMAAASQ36Hy4Ycf1usAHo9HK1asUG5urr766iu1b99e9957b63rs7OzVV5e7nNL\n",
              "TEys15kAAIAZ/A6Vxx9/XHFxcZo+fboqKipqXdehQweVlpbK4/FIkizLktvtlsvl8lnncrnUv39/\n",
              "tW/fXg6HQ6mpqfrss89qPa7T6VRYWJjPLSQkxN+XAQAAgoDfofLxxx/rjTfe0ObNmxUbG6v77rtP\n",
              "W7ZsqbGuTZs26tmzp+bPny9JWrx4sSIjIxUTE+Oz7qabbtL69eu90fPee+8pPj7+dF4LAABoZE7r\n",
              "HJXLLrtMs2fP1gcffKB3331X3bt31zXXXKNNmzb5rMvNzVVubq5iY2M1bdo05eXlSZLS09O1bNky\n",
              "ScffUZk4caKSkpLUvXt3rVy5UjNnzvydLwsAADQGp/XryStWrNCMGTO0adMm3X///Ro1apRWr16t\n",
              "66+/3ue3euLi4vTpp5/WeP6cOXN87t9xxx264447TmcUAADQiPkdKl27dlWrVq00ZswYJScne88P\n",
              "ueGGG/Tyyy/X+4AAAODM5XeozJ8/XwkJCSf8u/fff/93DwQAAPALv89R+eKLL3y+OXbfvn2aPXt2\n",
              "vQ4FAAAgnUaovPTSS7rgggu891u2bKmXXnqpXocCAACQTiNULMuq8RhfYQ8AAOzgd6hERETorbfe\n",
              "8t5/8803FRERUa9DAQAASKdxMu3zzz+v4cOHa9y4cZKkc889V++88069DwYAAOB3qFx00UXasmWL\n",
              "vv32W0nHvyuFr7AHAAB2OK0vfHM4HAoPD5fH49GuXbskqcY1fAAAAH4vv0Nl7ty5GjNmjM466yw1\n",
              "aXL8FBeHw6GysrJ6Hw4AAJzZ/A6VJ554QuvXr1dcXJwd8wAAAHj5/Vs/rVq1IlIAAECD8DtURowY\n",
              "oeeff15lZWWqqKjw3gAAAOqb3x/9TJo0SZKUlZUlh8Mhy7LkcDj40jcAAFDv/A6V6upqO+YAAACo\n",
              "we+PfqTjFyZ89dVXJUkHDhxQaWlpvQ4FAAAgneZFCe+++2499thjko5fPfm2226r77kAAAD8D5VZ\n",
              "s2bps88+U1hYmCSpc+fO2rt3b70PBgAA4HeoOJ1ONW3a1Oex0NDT+oJbAACAk/I7VFq3bq2tW7fK\n",
              "4XBIOv5NtXx9PgAAsMNpXT351ltv1TfffKMOHTooLCxM7777rh2zAQCAM5zfoRITE6PPP/9c3377\n",
              "rSzL4urJAADANn6HitvtliSdd955ksTVkwEAgG38DpWEhATvN9IeOXJEP//8s1q2bMnVkwEAQL3z\n",
              "O1R++6vIS5Ys0YYNG+ptIAAAgF+c1jfT/lpycrKWL19eH7MAAAD48PsdlV9fKbmqqkqff/45V08G\n",
              "AAC28DtUwsPDveeohISEqEuXLnrhhRfsmA0AAJzhuHoyAAAw1u8+RwUAAMAufr+j0qRJE+/X5/+a\n",
              "ZVlyOByqqqqql8EAAAD8DpXHH39chw8f1r333itJmjlzppo2baoHH3ywvmcDAABnOL9DZenSpfri\n",
              "iy+896dOnaqEhARNmjSpXgcDAADw+xyVgwcP+nwLbVlZmQ4ePFivQwEAAEin8Y7KQw89pPj4eA0Z\n",
              "MkSS9MEHH+ixxx6r77kAAAD8D5XMzEz17dtXq1atkiRlZWWpW7du9T4YAACA36EiSS1bttSll16q\n",
              "q6++Wh6PR0ePHtXZZ59d37MBAIAznN/nqCxatEi9e/fWXXfdJUkqLCzUiBEj6nsuAAAA/0MlJydH\n",
              "X375pcLDwyVJ8fHx2rlzZ33PBQAA4H+ohISEqGXLlj6P8bEPAACwg9+h0rx5c+3Zs8f77bQfffSR\n",
              "LrjggnofDAAAwO+Taf/2t79p8ODB+u6779SvXz/t2LFDy5cvt2M2AABwhvMrVKqrq1VVVaVVq1bp\n",
              "k08+kWVZSkpK8p6vAgAAUJ/8CpUmTZooIyNDGzZs0ODBg+2aCQAAQNJpnKPSpUsXFRUV2TELAACA\n",
              "D7/PUdm/f7969OihpKQkNWvWzPv4kiVL6nUwAACAOodKRkaGZs2apZEjR2rYsGE6//zz7ZwLAACg\n",
              "7qFSUFAgSRo5cqR69uypL7/80rahAAAApNM4R0WSLMuq7zkAAABqqPM7KocPH9amTZtkWZaOHDni\n",
              "/fMvunfvbsuAAADgzOVXqAwbNsx7/9d/djgc+u677+p3MgAAcMarc6gUFxfbOAYAAEBNp3WOCgAA\n",
              "QEMgVAAAgLEIFQAAYCxCBQAAGItQAQAAxiJUAACAsQgVAABgLEIFAAAYi1ABAADGsjVUtm3bpqSk\n",
              "JMXGxqpXr14qLCysda1lWRowYIDCw8PtHAkAAAQRW0MlMzNTGRkZ2rp1q8aPH6+0tLRa1z733HPq\n",
              "3LmzneMAAIAgY1uolJWVqaCgQKmpqZKklJQUlZSUqKioqMbawsJCvf3225owYcIpj1tZWamKigqf\n",
              "W1VVVb3PDwAAAs+2UCkpKVFERIRCQ49f99DhcMjlcsntdvusO3bsmEaPHq3c3FyFhISc8rg5OTlq\n",
              "0aKFzy0/P9+W1wAAAAIr4CfTTpkyRcnJyeratWud1mdnZ6u8vNznlpiYaPOUAAAgEELtOnCHDh1U\n",
              "Wloqj8ej0NBQWZYlt9stl8vls27NmjVyu9168cUX5fF4VFFRoaioKK1fv16tW7eucVyn0ymn0+nz\n",
              "WF3eiQEAAMHHtndU2rRpo549e2r+/PmSpMWLFysyMlIxMTE+69auXaudO3equLhY69atU1hYmIqL\n",
              "i08YKQAA4Mxi60c/ubm5ys3NVWxsrKZNm6a8vDxJUnp6upYtW2bnjwYAAI2AbR/9SFJcXJw+/fTT\n",
              "Go/PmTPnhOujoqJ04MABO0cCAABBJOAn0wIAANSGUAEAAMYiVAAAgLEIFQAAYCxCBQAAGItQAQAA\n",
              "xiJUAACAsQgVAABgLEIFAAAYi1ABAADGIlQAAICxCBUAAGAsQgUAABiLUAEAAMYiVAAAgLEIFQAA\n",
              "YCxCBQAAGItQAQAAxiJUAACAsQgVAABgLEIFAAAYi1ABAADGIlQAAICxCBUAAGAsQgUAABiLUAEA\n",
              "AMYiVAAAgLEIFQAAYCxCBQAAGItQAQAAxiJUAACAsQgVAABgLEIFAAAYi1ABAADGIlQAAICxCBUA\n",
              "AGAsQgUAABiLUAEAAMYiVAAAgLEIFQAAYCxCBQAAGItQAQAAxiJUAACAsQgVAABgLEIFAAAYi1AB\n",
              "AADGIlQAAICxCBUAAGAsQgUAABiLUAEAAMYiVAAAgLEIFQAAYCxCBQAAGItQAQAAxiJUAACAsQgV\n",
              "AABgLEIFAAAYi1ABAADGIlQAAICxCBUAAGAsQgUAABiLUAEAAMayNVS2bdumpKQkxcbGqlevXios\n",
              "LKyxZuXKlUpMTNTFF1+sbt26ady4caqurrZzLAAAECRsDZXMzExlZGRo69atGj9+vNLS0mqsOf/8\n",
              "8/XGG29oy5Yt+uKLL/TJJ59o3rx5do4FAACChG2hUlZWpoKCAqWmpkqSUlJSVFJSoqKiIp91l112\n",
              "maKjoyVJ55xzjnr06KHi4uJaj1tZWamKigqfW1VVlV0vAwAABJBtoVJSUqKIiAiFhoZKkhwOh1wu\n",
              "l9xud63P2b17txYtWqShQ4fWuiYnJ0ctWrTwueXn59f7/AAAIPCMOZm2oqJC1113ncaNG6fLL7+8\n",
              "1nXZ2dkqLy/3uSUmJjbgpAAAoKGE2nXgDh06qLS0VB6PR6GhobIsS263Wy6Xq8bagwcPatCgQRo+\n",
              "fLiysrJOelyn0ymn0+nzWEhISL3ODgAAzGDbOypt2rRRz549NX/+fEnS4sWLFRkZqZiYGJ91hw4d\n",
              "0qBBgzRo0CD93//9n13jAACAIGTrRz+5ubnKzc1VbGyspk2bpry8PElSenq6li1bJkmaPn268vPz\n",
              "tWTJEvXo0UM9evTQX//6VzvHAgAAQcJhWZYV6CF+r6ysLD377LOBHgOADaImLLfluMXT/mzLcQHU\n",
              "L2NOpgUAAPgtQgUAABiLUAEAAMYiVAAAgLEIFQAAYCxCBQAAGItQAQAAxiJUAACAsQgVAABgLEIF\n",
              "AAAYi1ABAADGIlQAAICxCBUAAGAsQgUAABiLUAEAAMYiVAAAgLEIFQAAYCxCBQAAGItQAQAAxiJU\n",
              "AACAsQgVAABgLEIFAAAYi1ABAADGIlQAAICxCBUAAGAsQgUAABiLUAEAAMYiVAAAgLEIFQAAYCxC\n",
              "BQAAGItQAQAAxiJUAACAsQgVAABgLEIFAAAYi1ABAADGIlQAAICxCBUAAGAsQgUAABiLUAEAAMYi\n",
              "VAAAgLEIFQAAYCxCBQAAGItQAQAAxiJUAACAsQgVAABgLEIFAAAYi1ABAADGIlQAAICxCBUAAGAs\n",
              "QgUAABiLUAEAAMYiVAAAgLEIFQAAYCxCBQAAGItQAQAAxiJUAACAsQgVAABgLEIFAAAYi1ABAADG\n",
              "IlQAAICxCBUAAGAsW0Nl27ZtSkpKUmxsrHr16qXCwsITrnv55ZfVpUsXde7cWaNHj9axY8fsHAsA\n",
              "AAQJW0MlMzNTGRkZ2rp1q8aPH6+0tLQaa3bs2KFHH31Ua9euVVFRkfbs2aNZs2bZORYAAAgStoVK\n",
              "WVmZCgoKlJqaKklKSUlRSUmJioqKfNYtWrRIw4YNU7t27eRwOHTPPfdowYIFtR63srJSFRUVPreq\n",
              "qiq7XgYAAAigULsOXFJSooiICIWGHv8RDodDLpdLbrdbMTEx3nVut1sdO3b03o+KipLb7a71uDk5\n",
              "OZoyZYrPYxdddJGysrJOOVNVVZXy8/OVmJiokJAQf18S6oh9bhhnyj4n23TcrKyP6rz2TNnrQGOf\n",
              "G4ZJ+9yxY0eNHTv2pGtsCxW7ZGdn14gSp9Mpp9N5yudWVFSoRYsW+vDDDxUWFmbXiGc89rlhsM8N\n",
              "h71uGOxzwwi2fbYtVDp06KDS0lJ5PB6FhobKsiy53W65XC6fdS6XS9u3b/feLy4urrHm1+oaJQAA\n",
              "IPjZdo5KmzZt1LNnT82fP1+StHjxYkVGRvp87CMdP3dl2bJl2r17tyzL0syZM3XLLbfYNRYAAAgi\n",
              "tv7WT25urnJzcxUbG6tp06YpLy9PkpSenq5ly5ZJkqKjozVlyhT17dtXMTExat26tTIzM+0cCwAA\n",
              "BAlbz1GJi4vTp59+WuPxOXPm+NwfPXq0Ro8ebecoko5/bDR58mQ+OrIZ+9ww2OeGw143DPa5YQTb\n",
              "Pjssy7ICPQQAAMCJ8BX6AADAWIQKAAAwFqECAACMRagAAABjNfpQqa6u1gMPPKDOnTsrJiZGL774\n",
              "4imfk5eXJ4fDobffftv+ARuJuu7zkSNHNGLECMXGxio+Pl7XXHNNjes/wRdXIW84ddnrlStXKjEx\n",
              "URdffLG6deumcePGqbq6OgDTBq+6/puWJMuyNGDAAIWHhzfcgI1EXfd506ZNuvrqq9W1a1d17dpV\n",
              "S5YsaeBJT8Fq5P75z39aAwYMsDwej7Vv3z7L5XJZmzdvrnX9jh07rD59+li9e/e2li5d2nCDBrm6\n",
              "7vPhw4et5cuXW9XV1ZZlWdaMGTOsq666qoGnDS79+/e38vLyLMuyrIULF1qXX355jTXfffedFRER\n",
              "YZWWllrV1dXWddddZ7344osNPGnwq8tef/nll9b27dstyzr+77lv377e56Bu6rLPv3jmmWes9PR0\n",
              "q0WLFg0zXCNSl33+6aefrE6dOllr1661LMuyPB6PVVZW1pBjnlKjD5UhQ4ZYCxYs8N5/5JFHrEmT\n",
              "Jp1wbVVVlTVw4ECroKDAuuqqqwgVP/izz7+2fv16q2PHjjZOFtz27NljNW/e3Dp27JhlWZZVXV1t\n",
              "tW3b1tq2bZvPuqeeesrKzMz03l++fLnVt2/fBp012NV1r3/r/vvvtyZPntwAEzYO/uzz5s2brSuv\n",
              "vNIqKioiVPxU132ePXu2deuttwZixDpr9B/9+HN15meffVZ9+/ZVQkJCQ43XaPh7FexfTJ8+XcOH\n",
              "D7dztKB2squQ/9rp7j/+v7ru9a/t3r1bixYt0tChQxtqzKBX130+duyYRo8erdzc3IBf4TcY1XWf\n",
              "t2zZIqfTqaFDh6pHjx668847tXfv3kCMXKugu3ryb/Xp00fbtm074d999dVXdT7O5s2btXjxYv3n\n",
              "P/+pr9Ealfra51978sknVVRUpI8++uj3jAYEREVFha677jqNGzdOl19+eaDHaXSmTJmi5ORkde3a\n",
              "VcXFxYEep9HyeDxasWKFPvvsM1144YWaOHGi7r33Xi1atCjQo3kFfaic6Cv6f83lcmnnzp3q06eP\n",
              "pNqvzrx27VoVFxerS5cuko7/P6WMjAyVlpbq3nvvrf/Bg0x97fMv/v73v2vJkiVasWKFzj333Hqd\n",
              "tTGx6yrkqKmuey1JBw8e1KBBgzR8+HBlZWUFYNrgVdd9XrNmjdxut1588UV5PB5VVFQoKipK69ev\n",
              "V+vWrQM0ffDw5387+vfvr/bt20uSUlNTde211wZi5NoF9pMn++Xl5dU4yXPjxo2nfB7nqPjHn31+\n",
              "5plnrJ49e1r79+9v4CmD01VXXeVzQlxCQkKNNdu3b69xMu2MGTMaeNLgV5e9PnjwoJWUlGRNmTKl\n",
              "gadrPOqyz7+2Y8cOzlE5DXXZ5507d1oXXXSRVV5eblnW8fPdhgwZ0pBjnlKjDxWPx2Pdd999VqdO\n",
              "nazo6Gjr+eef9/7dO++8Y40aNeqEzyNU/FPXfS4pKbEkWdHR0VZ8fLwVHx9vJSYmBmrsoPDNN99Y\n",
              "vXv3trp06WIlJCR4A3DUqFHWO++84103a9YsKzo62oqOjrbuvvtu6+jRo4EaOWjVZa+nTp1qhYaG\n",
              "ev/9xsfHW1OnTg3k2EGnrv+mf0GonJ667vO8efOsbt26WZdeeqk1aNAgy+12B2rkE+KihAAAwFiN\n",
              "/rd+AABA8CJUAACAsQgVAABgLEIFAAAYi1ABAADGIlQAAICxCBUAAGAsQgUAABiLUAEAAMYiVAAA\n",
              "gLH+H7WZ6ZWGvct6AAAAAElFTkSuQmCC\n",
              "\">\n",
              "      </div>\n",
              "      <script type=\"text/javascript\">\n",
              "        (() => {\n",
              "          const chartElement = document.getElementById(\"chart-ee596c14-d08c-471d-aa47-8b23bd303cad\");\n",
              "          async function getCodeForChartHandler(event) {\n",
              "            const chartCodeResponse =  await google.colab.kernel.invokeFunction(\n",
              "                'getCodeForChart', [\"chart-ee596c14-d08c-471d-aa47-8b23bd303cad\"], {});\n",
              "            const responseJson = chartCodeResponse.data['application/json'];\n",
              "            await google.colab.notebook.addCell(responseJson.code, 'code');\n",
              "          }\n",
              "          chartElement.onclick = getCodeForChartHandler;\n",
              "        })();\n",
              "      </script>\n",
              "      <style>\n",
              "        .colab-quickchart-chart-with-code  {\n",
              "            display: block;\n",
              "            float: left;\n",
              "            border: 1px solid transparent;\n",
              "        }\n",
              "\n",
              "        .colab-quickchart-chart-with-code:hover {\n",
              "            cursor: pointer;\n",
              "            border: 1px solid #aaa;\n",
              "        }\n",
              "      </style>"
            ],
            "text/plain": [
              "from matplotlib import pyplot as plt\n",
              "comparison_df['Skip-gram (sg=1)'].plot(kind='hist', bins=20, title='Skip-gram (sg=1)')\n",
              "plt.gca().spines[['top', 'right',]].set_visible(False)"
            ]
          },
          "metadata": {},
          "output_type": "display_data"
        },
        {
          "data": {
            "text/html": [
              "      <div class=\"colab-quickchart-chart-with-code\" id=\"chart-6d61e41b-40e6-4e2e-8ecb-dbcbc8037638\">\n",
              "        <img style=\"width: 180px;\" src=\"data:image/png;base64,iVBORw0KGgoAAAANSUhEUgAAAioAAAGrCAYAAADuNLxTAAAAOnRFWHRTb2Z0d2FyZQBNYXRwbG90\n",
              "bGliIHZlcnNpb24zLjEwLjAsIGh0dHBzOi8vbWF0cGxvdGxpYi5vcmcvlHJYcgAAAAlwSFlzAAAP\n",
              "YQAAD2EBqD+naQAAI0NJREFUeJzt3X1QlXX+//HXEfSoKeBtknhkETC1FbwjxSbv0rS8S9qy1tKS\n",
              "G7NZ22V3NGv7Fm0b7qyVplPiTbTmlOZN6dhmq2lpZinei5Vg4iFFKU3RTVHg+v3hzzOeRZRjXPA5\n",
              "+nzMnJm4+JyL97lipmfXuTiXw7IsSwAAAAaqVdMDAAAAVIRQAQAAxiJUAACAsQgVAABgLEIFAAAY\n",
              "i1ABAADGIlQAAICxCBUAAGAsQgUAABiLUAHgF06cOKHw8HDl5+fX9CjlZGVl6dZbb9W5c+dqehTg\n",
              "ukOoADeY3bt3a+TIkQoNDVWDBg0UHh6uhx56SNu2bZMkvf3226pVq5YaNGigBg0aqHHjxurXr5/n\n",
              "+xcdOXJEKSkpCgsLU7169RQWFqZx48bp6NGjnjUJCQl64IEHvJ73f//3f3I4HFq/fr1nW1lZmZo2\n",
              "bao5c+ZUOPeLL76o4cOHq1WrVlVxGHxiWZaef/553XLLLbrpppt05513as+ePZ7vd+3aVe3atdOM\n",
              "GTOqfTbgekeoADeQzz77THFxcbr55pu1adMmnTp1Sjt27FD//v21ePFiz7pbbrlFp0+f1unTp3X4\n",
              "8GHFxMRo8ODBunhrsCNHjiguLk75+fn69NNPdfr0aa1du1Zut1u33367J1b69++vtWvXqqyszLPv\n",
              "1atX67bbbtOaNWs827Zv365jx45pwIABl527qKhIc+bMUXJysh2H5aqmTp2qt956S5988ol++ukn\n",
              "9ezZU3fffbdOnz7tWZOUlKTp06ertLS0RmYErlsWgBtGdHS0NWrUqCuuyczMtFq2bOm1bceOHZYk\n",
              "q7Cw0LIsy0pKSrIiIiKs4uJir3Vnz561IiIirJSUFMuyLGv//v2WJCsrK8uyLMs6ceKEVa9ePWvJ\n",
              "kiVW9+7dPc9LT0+3oqKiKpxp8eLFVlhYmNe2gwcPWoMGDbIaNWpkBQUFWR06dLDWr19vWZZllZWV\n",
              "Wenp6VarVq2s4OBga+zYsdbvfvc7a/To0Vd87RUJDw+3pk2b5vn6/PnzVtOmTa358+d7tp05c8aq\n",
              "U6eO9dVXX13TzwBweZxRAW4QOTk52rdvnx599FGfnvff//5XmZmZateunZo2bSpJWrlypR566CHV\n",
              "qVPHa63T6dTIkSO1cuVKSVJERITatGmj1atXS5LWrl2rrl27atCgQdq1a5dOnjwp6cJZlv79+1c4\n",
              "Q1ZWlm677TavbZMnT1bLli11+PBh/fzzz1q6dKnCwsIkSe+8847++c9/avHixfrpp5/Uo0cPffDB\n",
              "B17PHzx4sEJCQip8jB8/XpJ08uRJ5eXlKS4uzvPcwMBAderUSdu3b/dsq1u3rqKiorRly5bKH1wA\n",
              "VxVY0wMAqB6FhYWS5PmP+ZUcPnxYISEhki687dKoUSO9//77cjgckqQff/xRLVu2vOxzw8LCPD9L\n",
              "kgYMGKDVq1fr6aef1urVq3XXXXepfv366tatm9auXauBAwdq48aNmjBhQoXzHD9+XMHBwV7b6tSp\n",
              "oyNHjmj//v1q37692rZt6/ne/PnzNXbsWN1+++2SpLFjx+rNN9/0ev7FmLqaoqIiSfIcj4saNWrk\n",
              "+d5FwcHBOn78eKX2C6ByOKMC3CCaN28uSfrhhx+uuvaWW27RiRMndOLECRUXF+v111/Xvffeq927\n",
              "d0uSmjVrpkOHDl32uT/88IPnZ0kXrlPZuHGjzpw54wkVSerXr59Wr16t9evXq7S0VH369KlwnsaN\n",
              "G3vOvlw0depURUZGasSIEbr55pv12GOPea6NOXTokFq3bu21Pjw8/Kqv+3KCgoIkXfiro0v9/PPP\n",
              "nu9ddPLkSTVu3Piafg6AyyNUgBtEVFSUoqOj9c477/j0vNq1a+v3v/+9GjRooP/85z+SpHvvvVeL\n",
              "Fi0q9+e4586d06JFi3Tvvfd6tvXt21elpaWaP3++CgsLPW+h3HXXXVq9erVWr16tuLi4cv/Rv1SX\n",
              "Ll2UnZ3tta1JkyZ67bXX9N1332n79u3Ky8tTamqqJKlly5Y6ePCg1/r//XrQoEGev2y63GPcuHGS\n",
              "LpwlCQ8P93pLp6SkRDt27FCnTp08286ePaucnBx17dr1ygcUgE8IFeAGkpGRocWLFys1NVUHDx6U\n",
              "ZVkqKirS/Pnz9eyzz172OaWlpVq4cKGOHTum2NhYSVJaWprOnDmjhIQE7du3T2VlZcrJyVFCQoLO\n",
              "nTuntLQ0z/ODg4MVFxentLQ09erVS4GBF95x7tatmwoLC/Xuu+9W+Nc+Fw0YMEDHjx/XN99849m2\n",
              "cOFC7d+/X2VlZWrYsKGcTqdn34888ojeeustbdmyRSUlJcrMzNSOHTu89vnxxx97/rLpco9Zs2Z5\n",
              "1o4fP15Tp07Vnj17dObMGT3//POqXbu27rvvPs+adevWqXnz5urWrdvV/0UAqDRCBbiB9O7dW19/\n",
              "/bUOHTqkuLg4NWzYUB07dtSqVat0//33e9YdPnzYc2ahUaNGevnllzVv3jz169dP0oW3hjZv3qwW\n",
              "LVqod+/eql+/vnr16qXQ0FDP9ksNGDBABQUFnrd9pAsXpPbq1UsFBQVXvJBWuhA7iYmJysjI8Gzb\n",
              "uXOn+vbtq4YNG6pNmzYKCQnR1KlTJUmPPvqo/vSnP2nEiBFq2rSpvvjiCw0ePFh169a9puP2l7/8\n",
              "RWPGjNFdd92lJk2aaMOGDVq1apUaNGjgWTNnzhw99dRTCggIuKafAeDyHJb1/z8YAQAM9vPPPys2\n",
              "NlYbNmyQy+Xy+fmxsbF68MEHNXny5CqfbevWrXr44Ye1a9cuOZ3OKt8/cCMjVABclxYtWqShQ4fK\n",
              "4XDozTff1KRJk7R3715FRkbW9GgAfMBbPwCuS3PmzFGLFi3UrFkzLViwQMuXLydSAD/EGRUAAGAs\n",
              "zqgAAABjESoAAMBYhAoAADAWoQIAAIx1XYTK9OnTa3oEAABgg+siVP73Hh4AAOD6cF2ECgAAuD4R\n",
              "KgAAwFiECgAAMBahAgAAjEWoAAAAYxEqAADAWIQKAAAwFqECAACMRagAAABjESoAAMBYhAoAADAW\n",
              "oQIAAIxla6hMmDBB4eHhcjgc2rFjR4Xr5s2bp6ioKLVp00ZJSUk6f/68nWMBAAA/YWuo3H///fri\n",
              "iy/UunXrCtccOHBAzz33nDZs2KDc3FwdPXpUs2fPtnMsAADgJ2wNlTvvvFNhYWFXXLNkyRINHTpU\n",
              "LVq0kMPh0Lhx4/Tee+9VuL64uFhFRUVej9LS0qoeHQAAGCCwpgdwu91eZ1zCw8PldrsrXJ+enq60\n",
              "tDSvbd27d7dtPgA1K/zpj2zZb96Ue23ZL4Cq5XcX006ePFknT570esTFxdX0WAAAwAY1fkbF5XJp\n",
              "//79nq/z8vLkcrkqXO90OuV0Or22BQQE2DYfAACoOTV+RiUhIUErVqzQkSNHZFmWZs2apZEjR9b0\n",
              "WAAAwAC2hkpKSorCwsL0ww8/6O6771ZkZKQkKTExUStWrJAkRUREKC0tTT179lRkZKSaNWumlJQU\n",
              "O8cCAAB+wmFZllXTQ/xaqampevXVV2t6DAA24GJa4MZW42/9AAAAVIRQAQAAxiJUAACAsQgVAABg\n",
              "LEIFAAAYi1ABAADGIlQAAICxCBUAAGAsQgUAABiLUAEAAMYiVAAAgLEIFQAAYCxCBQAAGItQAQAA\n",
              "xiJUAACAsQgVAABgLEIFAAAYi1ABAADGIlQAAICxCBUAAGAsQgUAABiLUAEAAMYiVAAAgLEIFQAA\n",
              "YCxCBQAAGItQAQAAxiJUAACAsQgVAABgLEIFAAAYi1ABAADGIlQAAICxCBUAAGAsQgUAABiLUAEA\n",
              "AMYiVAAAgLEIFQAAYCxCBQAAGItQAQAAxiJUAACAsQgVAABgLEIFAAAYi1ABAADGIlQAAICxCBUA\n",
              "AGAsQgUAABiLUAEAAMYiVAAAgLEIFQAAYCxCBQAAGItQAQAAxiJUAACAsQgVAABgLEIFAAAYi1AB\n",
              "AADGIlQAAICxCBUAAGAsQgUAABiLUAEAAMYiVAAAgLEIFQAAYCxCBQAAGMvWUMnJyVF8fLyio6PV\n",
              "rVs3ZWdnl1tTVlam1NRUtW/fXh07dlSfPn2Um5tr51gAAMBP2BoqKSkpSk5O1r59+zRp0iSNGTOm\n",
              "3JoVK1Zo48aN2rlzp3bt2qV+/frpmWeesXMsAADgJ2wLlcLCQmVlZWnUqFGSpISEBOXn55c7W+Jw\n",
              "OFRcXKyzZ8/KsiwVFRUpLCzMrrEAAIAfCbRrx/n5+QoNDVVg4IUf4XA45HK55Ha7FRkZ6Vk3ZMgQ\n",
              "rVu3Ti1atFDDhg3VsmVLff755xXut7i4WMXFxV7bSktL7XkRAACgRtX4xbRZWVnas2ePDh06pMOH\n",
              "D6tfv34aN25chevT09MVHBzs9di8eXM1TgwAAKqLbaHSqlUrFRQUqKSkRJJkWZbcbrdcLpfXuvnz\n",
              "56tv374KCQlRrVq1NHr0aK1bt67C/U6ePFknT570esTFxdn1MgAAQA2yLVSaN2+uzp07a8GCBZKk\n",
              "pUuXKiwszOttH0mKiIjQ2rVrde7cOUnSypUrddttt1W4X6fTqaCgIK9HQECAXS8DAADUINuuUZGk\n",
              "jIwMjRkzRi+//LKCgoKUmZkpSUpMTNTQoUM1dOhQPfnkk/rmm28UExOj2rVrq0WLFpo1a5adYwEA\n",
              "AD9ha6i0bdtWmzZtKrd97ty5nn92Op2aM2eOnWMAAAA/VeMX0wIAAFSEUAEAAMYiVAAAgLEIFQAA\n",
              "YCxCBQAAGItQAQAAxiJUAACAsQgVAABgLEIFAAAYi1ABAADGIlQAAICxCBUAAGAsQgUAABiLUAEA\n",
              "AMYiVAAAgLEIFQAAYCxCBQAAGItQAQAAxiJUAACAsQgVAABgLEIFAAAYi1ABAADGIlQAAICxCBUA\n",
              "AGAsQgUAABiLUAEAAMYiVAAAgLEIFQAAYCxCBQAAGItQAQAAxiJUAACAsQgVAABgLEIFAAAYi1AB\n",
              "AADGIlQAAICxCBUAAGAsQgUAABiLUAEAAMYiVAAAgLEIFQAAYCxCBQAAGItQAQAAxiJUAACAsQgV\n",
              "AABgLEIFAAAYi1ABAADGIlQAAICxCBUAAGAsQgUAABiLUAEAAMYiVAAAgLEIFQAAYCxCBQAAGItQ\n",
              "AQAAxiJUAACAsQgVAABgLEIFAAAYi1ABAADGIlQAAICxCBUAAGAsQgUAABiLUAEAAMayNVRycnIU\n",
              "Hx+v6OhodevWTdnZ2Zddt3v3bvXu3Vvt2rVTu3bttGzZMjvHAgAAfiLQzp2npKQoOTlZY8aM0ZIl\n",
              "SzRmzBht2bLFa80vv/yiYcOGaf78+brjjjtUWlqq48eP2zkWAADwE7adUSksLFRWVpZGjRolSUpI\n",
              "SFB+fr5yc3O91r377rvq3r277rjjDklSQECAmjVrVuF+i4uLVVRU5PUoLS2162UAAIAaZFuo5Ofn\n",
              "KzQ0VIGBF07aOBwOuVwuud1ur3V79+6V0+nU4MGDFRsbq0cffVQ//vhjhftNT09XcHCw12Pz5s12\n",
              "vQwAAFCDfA6VTz75pEoHKCkp0Zo1a5SRkaHt27erZcuWeuKJJypcP3nyZJ08edLrERcXV6UzAQAA\n",
              "M/gcKi+++KLatm2r6dOnq6ioqMJ1rVq1UkFBgUpKSiRJlmXJ7XbL5XJ5rXO5XOrTp49atmwph8Oh\n",
              "UaNG6auvvqpwv06nU0FBQV6PgIAAX18GAADwAz6HysaNG7Vw4ULt2bNH0dHRGj9+vPbu3VtuXfPm\n",
              "zdW5c2ctWLBAkrR06VKFhYUpMjLSa90DDzygLVu2eKLn3//+t2JiYq7ltQAAgOvMNV2j0qlTJ82Z\n",
              "M0erVq3SypUr1bFjR/Xv31+7d+/2WpeRkaGMjAxFR0drypQpyszMlCQlJiZqxYoVki6cUXnmmWcU\n",
              "Hx+vjh07au3atZo1a9avfFkAAOB6cE1/nrxmzRrNmDFDu3fv1pNPPqmxY8fqs88+03333ef1Vz1t\n",
              "27bVpk2byj1/7ty5Xl8/8sgjeuSRR65lFAAAcB3zOVTatWunpk2basKECRoxYoTn+pD7779f8+bN\n",
              "q/IBAQDAjcvnUFmwYIG6dOly2e99/PHHv3ogAACAi3y+RmXr1q1enxx77NgxzZkzp0qHAgAAkK4h\n",
              "VN544w01btzY83WTJk30xhtvVOlQAAAA0jWEimVZ5bbxEfYAAMAOPodKaGio3n//fc/XixYtUmho\n",
              "aJUOBQAAIF3DxbTTpk3TsGHDNHHiRElS/fr1tXz58iofDAAAwOdQufXWW7V371599913ki58Vgof\n",
              "YQ8AAOxwTR/45nA4FBISopKSEh06dEiSyt3DBwAA4NfyOVTefvttTZgwQbVr11atWhcucXE4HCos\n",
              "LKzy4QAAwI3N51D529/+pi1btqht27Z2zAMAAODh81/9NG3alEgBAADVwudQGT58uKZNm6bCwkIV\n",
              "FRV5HgAAAFXN57d+nn32WUlSamqqHA6HLMuSw+HgQ98AAECV8zlUysrK7JgDAACgHJ/f+pEu3Jjw\n",
              "nXfekSSdOHFCBQUFVToUAACAdI03JXz88cf1wgsvSLpw9+SHH364qucCAADwPVRmz56tr776SkFB\n",
              "QZKkNm3a6Mcff6zywQAAAHwOFafTqXr16nltCwy8pg+4BQAAuCKfQ6VZs2bat2+fHA6HpAufVMvH\n",
              "5wMAADtc092TH3roIX377bdq1aqVgoKCtHLlSjtmAwAANzifQyUyMlJff/21vvvuO1mWxd2TAQCA\n",
              "bXwOFbfbLUm66aabJIm7JwMAANv4HCpdunTxfCLt2bNn9csvv6hJkybcPRkAAFQ5n0Plf/8Uedmy\n",
              "Zdq5c2eVDQQAAHDRNX0y7aVGjBihjz76qCpmAQAA8OLzGZVL75RcWlqqr7/+mrsnAwAAW/gcKiEh\n",
              "IZ5rVAICAhQVFaXXX3/djtkAAMANjrsnAwAAY/3qa1QAAADs4vMZlVq1ank+Pv9SlmXJ4XCotLS0\n",
              "SgYDAADwOVRefPFFnTlzRk888YQkadasWapXr57++Mc/VvVsAADgBudzqHzwwQfaunWr5+uXXnpJ\n",
              "Xbp00bPPPlulgwEAAPh8jcqpU6e8PoW2sLBQp06dqtKhAAAApGs4o/LnP/9ZMTExuueeeyRJq1at\n",
              "0gsvvFDVcwEAAPgeKikpKerZs6fWrVsnSUpNTVWHDh2qfDAAAACfQ0WSmjRpot/+9rfq3bu3SkpK\n",
              "dO7cOdWpU6eqZwMAADc4n69RWbJkibp3767HHntMkpSdna3hw4dX9VwAAAC+h0p6erq2bdumkJAQ\n",
              "SVJMTIwOHjxY1XMBAAD4HioBAQFq0qSJ1zbe9gEAAHbwOVQaNmyoo0ePej6d9tNPP1Xjxo2rfDAA\n",
              "AACfL6b9xz/+oUGDBun777/XHXfcoQMHDuijjz6yYzYAAHCD8ylUysrKVFpaqnXr1unLL7+UZVmK\n",
              "j4/3XK8CAABQlXwKlVq1aik5OVk7d+7UoEGD7JoJAABA0jVcoxIVFaXc3Fw7ZgEAAPDi8zUqx48f\n",
              "V2xsrOLj49WgQQPP9mXLllXpYAAAAJUOleTkZM2ePVujR4/W0KFD1ahRIzvnAgAAqHyoZGVlSZJG\n",
              "jx6tzp07a9u2bbYNBQAAIF3DNSqSZFlWVc8BAABQTqXPqJw5c0a7d++WZVk6e/as558v6tixoy0D\n",
              "AgCAG5dPoTJ06FDP15f+s8Ph0Pfff1+1kwEAgBtepUMlLy/PxjEAAADKu6ZrVAAAAKoDoQIAAIxF\n",
              "qAAAAGMRKgAAwFiECgAAMBahAgAAjEWoAAAAYxEqAADAWIQKAAAwlq2hkpOTo/j4eEVHR6tbt27K\n",
              "zs6ucK1lWerbt69CQkLsHAkAAPgRW0MlJSVFycnJ2rdvnyZNmqQxY8ZUuPa1115TmzZt7BwHAAD4\n",
              "GdtCpbCwUFlZWRo1apQkKSEhQfn5+crNzS23Njs7Wx9++KGefvrpq+63uLhYRUVFXo/S0tIqnx8A\n",
              "ANQ820IlPz9foaGhCgy8cN9Dh8Mhl8slt9vtte78+fNKSkpSRkaGAgICrrrf9PR0BQcHez02b95s\n",
              "y2sAAAA1q8Yvpk1LS9OIESPUrl27Sq2fPHmyTp486fWIi4uzeUoAAFATAu3acatWrVRQUKCSkhIF\n",
              "BgbKsiy53W65XC6vdZ9//rncbrdmzpypkpISFRUVKTw8XFu2bFGzZs3K7dfpdMrpdHptq8yZGAAA\n",
              "4H9sO6PSvHlzde7cWQsWLJAkLV26VGFhYYqMjPRat2HDBh08eFB5eXn64osvFBQUpLy8vMtGCgAA\n",
              "uLHY+tZPRkaGMjIyFB0drSlTpigzM1OSlJiYqBUrVtj5owEAwHXAtrd+JKlt27batGlTue1z5869\n",
              "7Prw8HCdOHHCzpEAAIAfqfGLaQEAACpCqAAAAGMRKgAAwFiECgAAMBahAgAAjEWoAAAAYxEqAADA\n",
              "WIQKAAAwFqECAACMRagAAABjESoAAMBYhAoAADAWoQIAAIxFqAAAAGMRKgAAwFiECgAAMBahAgAA\n",
              "jEWoAAAAYxEqAADAWIQKAAAwFqECAACMRagAAABjESoAAMBYhAoAADAWoQIAAIxFqAAAAGMRKgAA\n",
              "wFiECgAAMBahAgAAjEWoAAAAYxEqAADAWIQKAAAwFqECAACMRagAAABjESoAAMBYhAoAADAWoQIA\n",
              "AIxFqAAAAGMRKgAAwFiECgAAMBahAgAAjEWoAAAAYxEqAADAWIQKAAAwFqECAACMRagAAABjESoA\n",
              "AMBYhAoAADAWoQIAAIxFqAAAAGMRKgAAwFiECgAAMBahAgAAjEWoAAAAYxEqAADAWIQKAAAwFqEC\n",
              "AACMRagAAABjESoAAMBYhAoAADAWoQIAAIxFqAAAAGPZGio5OTmKj49XdHS0unXrpuzs7HJr1q5d\n",
              "q7i4OLVv314dOnTQxIkTVVZWZudYAADAT9gaKikpKUpOTta+ffs0adIkjRkzptyaRo0aaeHChdq7\n",
              "d6+2bt2qL7/8UvPnz7dzLAAA4CdsC5XCwkJlZWVp1KhRkqSEhATl5+crNzfXa12nTp0UEREhSapb\n",
              "t65iY2OVl5dX4X6Li4tVVFTk9SgtLbXrZQAAgBpkW6jk5+crNDRUgYGBkiSHwyGXyyW3213hc44c\n",
              "OaIlS5Zo8ODBFa5JT09XcHCw12Pz5s1VPj8AAKh5xlxMW1RUpCFDhmjixInq2rVrhesmT56skydP\n",
              "ej3i4uKqcVIAAFBdAu3acatWrVRQUKCSkhIFBgbKsiy53W65XK5ya0+dOqWBAwdq2LBhSk1NveJ+\n",
              "nU6nnE6n17aAgIAqnR0AAJjBtjMqzZs3V+fOnbVgwQJJ0tKlSxUWFqbIyEivdadPn9bAgQM1cOBA\n",
              "/fWvf7VrHAAA4IdsfesnIyNDGRkZio6O1pQpU5SZmSlJSkxM1IoVKyRJ06dP1+bNm7Vs2TLFxsYq\n",
              "NjZWf//73+0cCwAA+AmHZVlWTQ/xa6WmpurVV1+t6TEA2CD86Y9s2W/elHtt2S+AqmXMxbQAAAD/\n",
              "i1ABAADGIlQAAICxCBUAAGAsQgUAABiLUAEAAMYiVAAAgLEIFQAAYCxCBQAAGItQAQAAxiJUAACA\n",
              "sQgVAABgLEIFAAAYi1ABAADGIlQAAICxCBUAAGAsQgUAABiLUAEAAMYiVAAAgLEIFQAAYCxCBQAA\n",
              "GItQAQAAxiJUAACAsQgVAABgLEIFAAAYi1ABAADGIlQAAICxCBUAAGAsQgUAABiLUAEAAMYiVAAA\n",
              "gLEIFQAAYCxCBQAAGItQAQAAxiJUAACAsQgVAABgLEIFAAAYi1ABAADGIlQAAICxCBUAAGAsQgUA\n",
              "ABiLUAEAAMYiVAAAgLEIFQAAYCxCBQAAGItQAQAAxiJUAACAsQgVAABgLEIFAAAYi1ABAADGIlQA\n",
              "AICxCBUAAGAsQgUAABiLUAEAAMYiVAAAgLEIFQAAYCxCBQAAGItQAQAAxiJUAACAsQgVAABgLEIF\n",
              "AAAYy9ZQycnJUXx8vKKjo9WtWzdlZ2dfdt28efMUFRWlNm3aKCkpSefPn7dzLAAA4CdsDZWUlBQl\n",
              "Jydr3759mjRpksaMGVNuzYEDB/Tcc89pw4YNys3N1dGjRzV79mw7xwIAAH7CtlApLCxUVlaWRo0a\n",
              "JUlKSEhQfn6+cnNzvdYtWbJEQ4cOVYsWLeRwODRu3Di99957Fe63uLhYRUVFXo/S0lK7XgYAAKhB\n",
              "gXbtOD8/X6GhoQoMvPAjHA6HXC6X3G63IiMjPevcbrdat27t+To8PFxut7vC/aanpystLc1r2623\n",
              "3qrU1NQqfgX+p7S0VJs3b1ZcXJwCAgJqepzrGse6epSWlirUpuOcmvpple7Pn/H7XD04zuW1bt1a\n",
              "Tz311BXX2BYqdpk8eXK5KHE6nXI6nTU0kTmKiooUHBysTz75REFBQTU9znWNY109OM7Vg+NcPTjO\n",
              "18a2UGnVqpUKCgpUUlKiwMBAWZYlt9stl8vltc7lcmn//v2er/Py8sqtuRRRAgDAjcO2a1SaN2+u\n",
              "zp07a8GCBZKkpUuXKiwszOttH+nCtSsrVqzQkSNHZFmWZs2apZEjR9o1FgAA8CO2/tVPRkaGMjIy\n",
              "FB0drSlTpigzM1OSlJiYqBUrVkiSIiIilJaWpp49eyoyMlLNmjVTSkqKnWMBAAA/Yes1Km3bttWm\n",
              "TZvKbZ87d67X10lJSUpKSrJzlBuC0+nU888/z1tj1YBjXT04ztWD41w9OM7XxmFZllXTQwAAAFwO\n",
              "H6EPAACMRagAAABjESoAAMBYhAoAADAWoeLnysrK9Ic//EFt2rRRZGSkZs6cedXnZGZmyuFw6MMP\n",
              "P7R/wOtEZY/z2bNnNXz4cEVHRysmJkb9+/cvd38rlMed1qtHZY7z2rVrFRcXp/bt26tDhw6aOHGi\n",
              "ysrKamBa/1XZ32dJsixLffv2VUhISPUN6G8s+LV//etfVt++fa2SkhLr2LFjlsvlsvbs2VPh+gMH\n",
              "Dlg9evSwunfvbn3wwQfVN6ifq+xxPnPmjPXRRx9ZZWVllmVZ1owZM6xevXpV87T+p0+fPlZmZqZl\n",
              "WZa1ePFiq2vXruXWfP/991ZoaKhVUFBglZWVWUOGDLFmzpxZzZP6t8oc523btln79++3LOvC73PP\n",
              "nj09z0HlVOY4X/TKK69YiYmJVnBwcPUM54c4o+LnFi1apKSkJAUEBKhx48Z68MEHK7z7dFlZmRIT\n",
              "EzVjxgz+jt9HlT3OdevW1T333COHwyFJ6t69u/Ly8qp5Wv9i153W4a2yx7lTp06KiIiQdOH3OTY2\n",
              "lt9hH1T2OEtSdna2PvzwQz399NPVPaZfIVT8nC93n3711VfVs2dPdenSpbrGu274epfvi6ZPn65h\n",
              "w4bZOZrfu9Kd1i91rf8OcEFlj/Oljhw5oiVLlmjw4MHVNabfq+xxPn/+vJKSkpSRkcGdlK/C7+6e\n",
              "fKPp0aOHcnJyLvu97du3V3o/e/bs0dKlS7V+/fqqGu26UlXH+VIvv/yycnNz9emnn/6a0YAaUVRU\n",
              "pCFDhmjixInq2rVrTY9z3UlLS9OIESPUrl07zlhdBaFiuMvdguBSLpdLBw8eVI8ePSRVfPfpDRs2\n",
              "KC8vT1FRUZIu/J9ScnKyCgoK9MQTT1T94H6mqo7zRVOnTtWyZcu0Zs0a1a9fv0pnvd7Ydad1eKvs\n",
              "cZakU6dOaeDAgRo2bJhSU1NrYFr/Vdnj/Pnnn8vtdmvmzJkqKSlRUVGRwsPDtWXLFjVr1qyGpjdU\n",
              "DV8jg18pMzOz3EWeu3btuurzevXqxcW0PvDlOL/yyitW586drePHj1fzlP6rV69eXhcfdunSpdya\n",
              "/fv3l7uYdsaMGdU8qX+rzHE+deqUFR8fb6WlpVXzdNePyhznSx04cICLaa+AUPFzJSUl1vjx463f\n",
              "/OY3VkREhDVt2jTP95YvX26NHTv2ss8jVHxT2eOcn59vSbIiIiKsmJgYKyYmxoqLi6upsf3Gt99+\n",
              "a3Xv3t2KioqyunTp4onAsWPHWsuXL/esmz17thUREWFFRERYjz/+uHXu3LmaGtkvVeY4v/TSS1Zg\n",
              "YKDn9zcmJsZ66aWXanJsv1PZ3+eLCJUr46aEAADAWPzVDwAAMBahAgAAjEWoAAAAYxEqAADAWIQK\n",
              "AAAwFqECAACMRagAAABjESoAAMBYhAoAADAWoQIAAIz1/wAf9JFyNdEuNwAAAABJRU5ErkJggg==\n",
              "\">\n",
              "      </div>\n",
              "      <script type=\"text/javascript\">\n",
              "        (() => {\n",
              "          const chartElement = document.getElementById(\"chart-6d61e41b-40e6-4e2e-8ecb-dbcbc8037638\");\n",
              "          async function getCodeForChartHandler(event) {\n",
              "            const chartCodeResponse =  await google.colab.kernel.invokeFunction(\n",
              "                'getCodeForChart', [\"chart-6d61e41b-40e6-4e2e-8ecb-dbcbc8037638\"], {});\n",
              "            const responseJson = chartCodeResponse.data['application/json'];\n",
              "            await google.colab.notebook.addCell(responseJson.code, 'code');\n",
              "          }\n",
              "          chartElement.onclick = getCodeForChartHandler;\n",
              "        })();\n",
              "      </script>\n",
              "      <style>\n",
              "        .colab-quickchart-chart-with-code  {\n",
              "            display: block;\n",
              "            float: left;\n",
              "            border: 1px solid transparent;\n",
              "        }\n",
              "\n",
              "        .colab-quickchart-chart-with-code:hover {\n",
              "            cursor: pointer;\n",
              "            border: 1px solid #aaa;\n",
              "        }\n",
              "      </style>"
            ],
            "text/plain": [
              "from matplotlib import pyplot as plt\n",
              "comparison_df['CBOW (sg=0)'].plot(kind='hist', bins=20, title='CBOW (sg=0)')\n",
              "plt.gca().spines[['top', 'right',]].set_visible(False)"
            ]
          },
          "metadata": {},
          "output_type": "display_data"
        },
        {
          "data": {
            "text/html": [
              "<h4 class=\"colab-quickchart-section-title\">2-d distributions</h4>\n",
              "<style>\n",
              "  .colab-quickchart-section-title {\n",
              "      clear: both;\n",
              "  }\n",
              "</style>"
            ],
            "text/plain": [
              "<google.colab._quickchart_helpers.SectionTitle at 0x7ee7e83e9af0>"
            ]
          },
          "metadata": {},
          "output_type": "display_data"
        },
        {
          "data": {
            "text/html": [
              "      <div class=\"colab-quickchart-chart-with-code\" id=\"chart-33086111-2028-4891-a6a2-2827e7ee9ba3\">\n",
              "        <img style=\"width: 180px;\" src=\"data:image/png;base64,iVBORw0KGgoAAAANSUhEUgAAAjsAAAGkCAYAAADXDuRQAAAAOnRFWHRTb2Z0d2FyZQBNYXRwbG90\n",
              "bGliIHZlcnNpb24zLjEwLjAsIGh0dHBzOi8vbWF0cGxvdGxpYi5vcmcvlHJYcgAAAAlwSFlzAAAP\n",
              "YQAAD2EBqD+naQAAKQFJREFUeJzt3Xt01PWd//HXkEC4JyLXmkxiblwCJARCCWEXxS3EKwpFcjyg\n",
              "3OOluhi7XHpA1qqAuGApbEsQRGwoxRIKqa52lZsU/ZlyETWgEGWYoScBlksSXAi5fH9/cJztmAAJ\n",
              "mW8mfHg+zpmDme/Hmff3ezQ+/c53ZhyWZVkCAAAwVLNADwAAAGAnYgcAABiN2AEAAEYjdgAAgNGI\n",
              "HQAAYDRiBwAAGI3YAQAARiN2AACA0YgdSUuXLg30CAAAwCbEjqRjx44FegQAAGATYgcAABiN2AEA\n",
              "AEYjdgAAgNGIHQAAYDRiBwAAGI3YAQAARiN2AACA0YgdAABgNGIHAAAYjdgBAABGI3YAAIDRiB0A\n",
              "AGA0YgcAABiN2AEAAEYjdgAAgNGIHQAAYDRiBwAAGI3YAQAARiN2AACA0YgdAABgNGIHAAAYjdgB\n",
              "AABGI3YAAIDRiB0AAGA0YgcAABiN2AEAAEYjdgAAgNGIHQAAYDRiBwAAGI3YAQAARiN2AACA0Ygd\n",
              "AABgNGIHAAAYjdgBAABGI3YAAIDRiB0AAGA0YgcAABiN2AEAAEYjdgAAgNGIHQAAYDRiBwAAGI3Y\n",
              "AQAARiN2AACA0YgdAABgNGIHAAAYrUnEzpEjRzR48GDFx8crJSVFBQUFta5bvXq14uLiFBMTo6lT\n",
              "p6qiosJnu2VZGjZsmMLCwhphagAAcCNoErGTmZmpadOm6fDhw5o5c6YmTJhQY83Ro0c1d+5c7dq1\n",
              "S4WFhTpx4oRWrlzps+a1115TTExMI00NAABuBAGPnZMnT2rPnj0aN26cJGn06NHyeDwqLCz0Wbdx\n",
              "40Y98MAD6tq1qxwOhx5//HGtX7/eu72goECbN2/WrFmzGnV+AADQtAUHegCPx6Nu3bopOPjyKA6H\n",
              "Q06nU263W7Gxsd51brdbkZGR3p+joqLkdrslSRUVFZo6dapWr16toKCgqz5feXm5ysvLfe6rqqry\n",
              "1+4AAIAmJuBndvzhhRde0KhRo9SzZ89rrl2wYIFCQ0N9bvn5+Y0wJQAACISAx05ERISKiopUWVkp\n",
              "6fJFxm63W06n02ed0+nUsWPHvD+7XC7vmp07d2rZsmWKiorSkCFDVFpaqqioKJ06darG882ePVsl\n",
              "JSU+t4EDB9q4hwAAIJACHjudO3dWcnKycnJyJEm5ubkKDw/3eQlLunwtT15enoqLi2VZllasWKGM\n",
              "jAxJ0q5du3Ts2DG5XC799a9/Vfv27eVyudSpU6cazxcSEqL27dv73K710hcAALhxBTx2JCk7O1vZ\n",
              "2dmKj4/XwoULtWbNGknSlClTlJeXJ0mKjo7WCy+8oLS0NMXGxqpTp07KzMwM5NgAAOAG4LAsywr0\n",
              "EIGWlZWlJUuWBHoMAABggyZxZgcAAMAuxA4AADAasQMAAIxG7AAAAKMROwAAwGjEDgAAMBqxAwAA\n",
              "jEbsAAAAoxE7AADAaMQOAAAwGrEDAACMRuwAAACjETsAAMBoxA4AADAasQMAAIxG7AAAAKMROwAA\n",
              "wGjEDgAAMBqxAwAAjEbsAAAAoxE7AADAaMQOAAAwGrEDAACMRuwAAACjETsAAMBoxA4AADAasQMA\n",
              "AIxG7AAAAKMROwAAwGjEDgAAMBqxAwAAjEbsAAAAoxE7AADAaMQOAAAwGrEDAACMRuwAAACjETsA\n",
              "AMBoxA4AADAasQMAAIxG7AAAAKMROwAAwGjEDgAAMBqxAwAAjEbsAAAAoxE7AADAaMQOAAAwGrED\n",
              "AACMRuwAAACjETsAAMBoxA4AADAasQMAAIxG7AAAAKMROwAAwGjEDgAAMBqxAwAAjEbsAAAAoxE7\n",
              "AADAaMQOAAAwGrEDAACM1iRi58iRIxo8eLDi4+OVkpKigoKCWtetXr1acXFxiomJ0dSpU1VRUSFJ\n",
              "2rZtmwYOHKhevXopISFBM2bMUHV1dWPuAgAAaKKaROxkZmZq2rRpOnz4sGbOnKkJEybUWHP06FHN\n",
              "nTtXu3btUmFhoU6cOKGVK1dKkm655Rb94Q9/0MGDB7V37159/PHHeuuttxp5LwAAQFMU8Ng5efKk\n",
              "9uzZo3HjxkmSRo8eLY/Ho8LCQp91Gzdu1AMPPKCuXbvK4XDo8ccf1/r16yVJ/fr1U3R0tCSpZcuW\n",
              "SkpKksvlqvX5ysvLVVpa6nOrqqqybwcBAEBABTx2PB6PunXrpuDgYEmSw+GQ0+mU2+32Wed2uxUZ\n",
              "Gen9OSoqqsYaSSouLtbGjRt133331fp8CxYsUGhoqM8tPz/fj3sEAACakoDHjj+Vlpbq/vvv14wZ\n",
              "MzRgwIBa18yePVslJSU+t4EDBzbypAAAoLEEB3qAiIgIFRUVqbKyUsHBwbIsS263W06n02ed0+nU\n",
              "N9984/3Z5XL5rCkrK1N6erpGjhyprKysKz5fSEiIQkJCfO4LCgry094AAICmJuBndjp37qzk5GTl\n",
              "5ORIknJzcxUeHq7Y2FifdaNHj1ZeXp6Ki4tlWZZWrFihjIwMSdL58+eVnp6u9PR0zZkzp9H3AQAA\n",
              "NF0Bjx1Jys7OVnZ2tuLj47Vw4UKtWbNGkjRlyhTl5eVJkqKjo/XCCy8oLS1NsbGx6tSpkzIzMyVJ\n",
              "S5cuVX5+vjZt2qSkpCQlJSXp5ZdfDtj+AACApsNhWZYV6CECLSsrS0uWLAn0GAAAwAZN4swOAACA\n",
              "XYgdAABgNGIHAAAYjdgBAABGI3YAAIDRiB0AAGA0YgcAABiN2AEAAEYjdgAAgNGIHQAAYDRiBwAA\n",
              "GI3YAQAARiN2AACA0YgdAABgNGIHAAAYjdgBAABGI3YAAIDRiB0AAGA0YgcAABiN2AEAAEYjdgAA\n",
              "gNGIHQAAYDRiBwAAGI3YAQAARiN2AACA0YLrs7isrEy7du3S8ePH1apVKyUmJqpv3752zQYAANBg\n",
              "dTqzc+zYMT322GOKiYnR4sWLtXPnTm3evFkZGRnq0aOH3njjDbvnBAAAuC51OrMzfvx4/fznP9fq\n",
              "1asVHOz7t7hcLmVnZ2v58uX62c9+ZsuQAAAA16tOsfPRRx9dcVtUVJQWLFjgt4EAAAD8qV7X7Hz7\n",
              "7bdyu92SJKfTqejoaFuGAgAA8Jc6xc7Bgwc1YcIEeTweOZ1OSZLb7VZERITWrFmjhIQEW4cEAAC4\n",
              "XnWKnYkTJ2rmzJkaPXq0z/0bN27UxIkTlZ+fb8twAAAADVWnd2OdO3euRuhI0k9/+lOVlJT4fSgA\n",
              "AAB/qVPsdOzYUb/73e9UXV3tva+6ulpr167VrbfeattwAAAADVWn2Fm7dq3efPNNdejQQT179lTP\n",
              "nj3VoUMH7/0AAABNVZ2u2YmNjdXWrVt16tQpeTweSVJERIQ6depk63AAAAANVa+3nnfq1InAAQAA\n",
              "N5R6fxHo5MmTff4EAABoyuodO/v375ck7du3z+/DAAAA+Fu9YwcAAOBGQuwAAACjETsAAMBo1x07\n",
              "DofDn3MAAADYot6xY1mWz58AAABNWb1jZ8OGDT5/AgAANGX1jp34+HifPwEAAJqyen2C8sSJE2tc\n",
              "qxMWFqbU1FSNGTPGr4MBAAD4Q73O7ISEhGjPnj2KiYlRbGys9u3bpzNnzujXv/61fvGLX9g1IwAA\n",
              "wHWr15mdQ4cO6eOPP1bbtm0lSc8884zuuece/eUvf9GAAQM0f/58W4YEAAC4XvU6s3Pq1Clv6EhS\n",
              "27Zt9T//8z9q3bq1QkJC/D4cAABAQ9XrzE7fvn01adIkTZw4UZK0du1a9enTR+Xl5QoKCrJlQAAA\n",
              "gIao15mdVatWqWPHjpo+fbqmT5+uW265RatWrVJQUJDee+89u2YEAAC4bvU6s9O2bVstWrSo1m2d\n",
              "OnXyy0AAAAD+VK8zO88//7zOnTsny7J07733qmPHjsrNzbVrNgAAgAarV+xs2bJFYWFh+vDDDxUc\n",
              "HKzdu3frpZdesms2AACABqtX7DRrdnn5zp07NWbMGHXv3p0vBAUAAE1ava7ZadOmjV555RX94Q9/\n",
              "0O7du2VZli5dumTXbADQIBcrqnS+vFJtQ4LVsjnvGAVuVvWKnTfffFPLly/XokWL1KVLFxUWFmrc\n",
              "uHF2zQYA1+VUWbly/p9L7395QhcqqtSqeZDu7t1V41Ij1bEtnwkG3Gzq9TJWbGysfvWrX2nUqFHe\n",
              "n2fNmtXgIY4cOaLBgwcrPj5eKSkpKigoqHXd6tWrFRcXp5iYGE2dOlUVFRV12gbg5nGqrFxPr9+v\n",
              "dZ+69V15pYKbOfRdeaVyPj2mn/1+v/7nfHmgRwTQyOoUO08++aSOHz9e6zbLspSbm6vf//731z1E\n",
              "Zmampk2bpsOHD2vmzJmaMGFCjTVHjx7V3LlztWvXLhUWFurEiRNauXLlNbcBuLnk/D+XCk+WqVPb\n",
              "EN3SpoXahATrljYt1KltiApPlinnk2OBHhFAI6tT7Nx777265557NHToUM2YMUOLFy/Wyy+/rEcf\n",
              "fVSxsbHasWOH7r777usa4OTJk9qzZ4/35bDRo0fL4/GosLDQZ93GjRv1wAMPqGvXrnI4HHr88ce1\n",
              "fv36a277ofLycpWWlvrcqqqqrmt2AE3LxYoqvf/lCbUMDlJwkO+vt+CgZgoJDtJ7BcW6WMG/88DN\n",
              "pM6x8/nnn+vll19W+/btdeTIEZ0+fVrDhg3Tp59+qmXLlumWW265rgE8Ho+6deum4ODLlw85HA45\n",
              "nU653W6fdW63W5GRkd6fo6KivGuutu2HFixYoNDQUJ9bfn7+dc0OoGk5X16pCxVVahFc+6+2kOBm\n",
              "unDp8kXLAG4e9bpAeciQIRoyZIhdszSK2bNnKysry+e+uXPnBmgaAP7UNiRYrZoH6bvySrWp5Trk\n",
              "8spqtW0ZrLYh9frVB+AGV68LlO0QERGhoqIiVVZe/j8ty7LkdrvldDp91jmdTh079n+vtbtcLu+a\n",
              "q237oZCQELVv397nxpeYAmZo2TxI6b276GJllSqrqn22VVZVq7yySncndOVt6MBNJuCx07lzZyUn\n",
              "JysnJ0eSlJubq/DwcMXGxvqsGz16tPLy8lRcXCzLsrRixQplZGRccxuAm8v41CjFdm6nU+fLdea7\n",
              "S/quvFJnvrukU+fLFde5ncalRl77QQAYJeCxI0nZ2dnKzs5WfHy8Fi5cqDVr1kiSpkyZory8PElS\n",
              "dHS0XnjhBaWlpSk2NladOnVSZmbmNbcBuLl0bBui5Y/007gfR6pty2BVVltq2zJY434cqWWP9ONz\n",
              "doCbkMOyLOtai9asWaNhw4b5XARskqysLC1ZsiTQYwDwMz5BGYBUxzM7b7/9tnr37q3o6GhNmTJF\n",
              "69atU1FRkd2zAUCDtGwepI5tQwgd4CZXp9h57733dO7cOa1bt04xMTF66623FB8frx49euipp56y\n",
              "e0YAAIDrVqeXsX7I5XLpv//7v7V48WK5XC6Vl9/YH7/Oy1gAAJirTh824Xa7tWPHDm3fvl0ff/yx\n",
              "unTpoqFDh2r58uUaPHiw3TMCAABctzrFTlRUlAYNGqTZs2frt7/9rVq2bGn3XAAAAH5Rp9h56623\n",
              "tGPHDv3bv/2bbr31Vg0dOlR33HGHhgwZotatW9s9IwAAwHWr9zU7Ho9HO3bs0I4dO7Rz50516dJF\n",
              "u3fvtmu+RsE1OwAAmKteXxBTWVkpt9stt9stl8uloqIitWjRwq7ZAAAAGqxObz2fP3++hg8frrCw\n",
              "ME2cOFHHjh3TlClT9M033+jgwYN2zwgAAHDd6nRmp7CwUOPHj9cbb7yh8PBwu2cCAADwmzrFzhtv\n",
              "vCFJunDhgvbu3StJ6tWrl1q1amXfZAAAAH5Q5y8CnTdvnm699Vbddddduuuuu9SxY0c9//zzds4G\n",
              "AADQYHWKncWLF2vbtm3au3evzp07p3Pnzulvf/ubduzYocWLF9s9IwAAwHWrU+ysXr1aW7ZsUc+e\n",
              "Pb339erVS3/605+0atUq24YDAABoqDrFjsPhUIcOHWrcf+utt6pZszq/EgYAANDo6lQq1dXVOnv2\n",
              "bI37T58+rcrKSr8PBQAA4C91ip2JEydq5MiR+vrrr733ffXVVxo1apQmT55s23AAAAANVae3ns+Y\n",
              "MUPnzp1TUlKSWrZsKYfDoYsXL+qZZ57RjBkz7J4RAADgutXru7G+++477ycm9+rVS23atLFtsMbE\n",
              "d2MBAGCuOl9dfOjQIZ07d04pKSk6ceKEZs2apf/8z/9UVVWVnfMBAAA0SJ1i5+WXX9awYcM0YMAA\n",
              "zZs3T88//7xat26t9evXa/r06TaPCAAAcP3qdM3OunXrdPjwYZWVlSkmJkZFRUUKCwtTeXm5kpOT\n",
              "7Z4RAADgutUpdkJCQtSuXTu1a9dOcXFxCgsL897fokULO+cDAABokDp/qOD3goODr7gNAACgqanT\n",
              "mZ3PP//c+wnKpaWl3r+2LEvnz5+3bzoAAIAGqlPsfPPNN3bPAQAAYIs6xc4tt9yiM2fOKCoqyud+\n",
              "l8tV63dmAQAANBV1umZnxowZ2rt3b4379+3bp5kzZ/p9KAAAAH+pU+zk5+dr9OjRNe4fNWqUPvro\n",
              "I78PBQAA4C91ip2rfbN5s2Z1/hBmAACARlenUqmoqFBpaWmN+0tKSlRRUeH3oQAAAPylTrGTkZGh\n",
              "8ePH6+zZs977zp49q4kTJyojI8O24QAAABqqTrEzZ84chYWFKSIiQv369VO/fv0UERGhdu3aae7c\n",
              "uXbPCAAAcN3q9NbzoKAgrV27Vs8//7z27dsnSUpOTlZMTIytwwEAADRUnWLnezExMQQOAAC4ofBW\n",
              "KgAAYDRiBwAAGI3YAQAARiN2AACA0YgdAABgNGIHAAAYjdgBAABGI3YAAIDRiB0AAGA0YgcAABiN\n",
              "2AEAAEYjdgAAgNGIHQAAYDRiBwAAGI3YAQAARiN2AACA0YgdAABgNGIHAAAYjdgBAABGI3YAAIDR\n",
              "iB0AAGA0YgcAABiN2AEAAEYLaOxUV1fr6aefVkxMjGJjY7V8+fIrrj1y5IgGDx6s+Ph4paSkqKCg\n",
              "QJJ08eJFPfjgg4qPj1diYqJ+8pOfqLCwsLF2AQAANHEBjZ2cnBwdPHhQhw8fVn5+vl599VVvxPxQ\n",
              "Zmampk2bpsOHD2vmzJmaMGGCd9u0adP09ddf68CBAxo5cqSmTJnSSHsAAACauoDGzoYNGzR16lQF\n",
              "BQWpQ4cOGjt2rNavX19j3cmTJ7Vnzx6NGzdOkjR69Gh5PB4VFhaqZcuWuueee+RwOCRJgwYNksvl\n",
              "uuJzlpeXq7S01OdWVVVly/4BAIDAC2jsuN1uRUZGen+OioqS2+2usc7j8ahbt24KDg6WJDkcDjmd\n",
              "zlrXLl26VCNHjrzicy5YsEChoaE+t/z8fD/sDQAAaIpsjZ3U1FR17Nix1pvH4/H7882fP1+FhYVa\n",
              "sGDBFdfMnj1bJSUlPreBAwf6fRYAANA0BNv54J988slVtzudTh07dkypqamSJJfLJafTWWNdRESE\n",
              "ioqKVFlZqeDgYFmWJbfb7bP2P/7jP7Rp0yZ9+OGHat269RWfMyQkRCEhIT73BQUF1We3AADADSSg\n",
              "L2ONGTNGr7/+uqqqqnTmzBlt2LBBY8eOrbGuc+fOSk5OVk5OjiQpNzdX4eHhio2NlSQtWbJE69ev\n",
              "1wcffKCwsLDG3AUAANDE2Xpm51rGjx+vv/3tb4qLi5PD4VBWVpb69OkjScrLy1NeXp5WrVolScrO\n",
              "ztaECRM0f/58tW/fXmvWrJEkHT9+XM8995yio6N15513Srp89ubTTz8NzE4BAIAmxWFZlhXoIQIt\n",
              "KytLS5YsCfQYAADABnyCMgAAMBqxAwAAjEbsAAAAoxE7AADAaMQOAAAwGrEDAACMRuwAAACjETsA\n",
              "AMBoxA4AADAasQMAAIxG7AAAAKMROwAAwGjEDgAAMBqxAwAAjEbsAAAAoxE7AADAaMQOAAAwGrED\n",
              "AACMRuwAAACjETsAAMBoxA4AADAasQMAAIxG7AAAAKMROwAAwGjEDgAAMBqxAwAAjEbsAAAAoxE7\n",
              "AADAaMQOAAAwGrEDAACMRuwAAACjETsAAMBoxA4AADAasQMAAIxG7AAAAKMROwAAwGjEDgAAMBqx\n",
              "AwAAjEbsAAAAoxE7AADAaMQOAAAwGrEDAACMRuwAAACjETsAAMBoxA4AADAasQMAAIxG7AAAAKMR\n",
              "OwAAwGjEDgAAMBqxAwAAjEbsAAAAoxE7AADAaMQOAAAwGrEDAACMRuwAAACjETsAAMBoxA4AADAa\n",
              "sQMAAIwW0Niprq7W008/rZiYGMXGxmr58uVXXHvkyBENHjxY8fHxSklJUUFBQY01a9askcPh0ObN\n",
              "m22cGgAA3EgCGjs5OTk6ePCgDh8+rPz8fL366qu1RowkZWZmatq0aTp8+LBmzpypCRMm+Gx3uVx6\n",
              "/fXXNWjQoEaYHAAA3CgCGjsbNmzQ1KlTFRQUpA4dOmjs2LFav359jXUnT57Unj17NG7cOEnS6NGj\n",
              "5fF4VFhYKOnyGaIpU6Zo2bJlCgkJuepzlpeXq7S01OdWVVXl/50DAABNQkBjx+12KzIy0vtzVFSU\n",
              "3G53jXUej0fdunVTcHCwJMnhcMjpdHrXLlmyRGlpaerfv/81n3PBggUKDQ31ueXn5/tpjwAAQFNj\n",
              "a+ykpqaqY8eOtd48Ho9fnuPLL79Ubm6u5syZU6f1s2fPVklJic9t4MCBfpkFAAA0PcF2Pvgnn3xy\n",
              "1e1Op1PHjh1TamqqpMvX3TidzhrrIiIiVFRUpMrKSgUHB8uyLLndbjmdTn3wwQdyuVyKi4uTJBUX\n",
              "F2vatGkqKirSE088UeOxQkJCarzUFRQUdL27CAAAmriAvow1ZswYvf7666qqqtKZM2e0YcMGjR07\n",
              "tsa6zp07Kzk5WTk5OZKk3NxchYeHKzY2Vk888YSKiorkcrnkcrk0aNAgrVy5stbQAQAAN5+Axs74\n",
              "8ePVo0cPxcXFKSUlRVlZWerTp48kKS8vT1OmTPGuzc7OVnZ2tuLj47Vw4UKtWbMmUGMDAIAbiMOy\n",
              "LCvQQwRaVlaWlixZEugxAACADfgEZQAAYDRiBwAAGI3YAQAARiN2AACA0YgdAABgNGIHAAAYjdgB\n",
              "AABGI3YAAIDRiB0AAGA0YgcAABiN2AEAAEYjdgAAgNGIHQAAYDRiBwAAGI3YAQAARiN2AACA0Ygd\n",
              "AABgNGIHAAAYjdgBAABGI3YAAIDRiB0AAGA0YgcAABiN2AEAAEYjdgAAgNGIHQAAYDRiBwAAGI3Y\n",
              "AQAARiN2AACA0YgdAABgNGIHAAAYjdgBAABGI3YAAIDRiB0AAGA0YgcAABiN2AEAAEYjdgAAgNGI\n",
              "HQAAYDRiBwAAGI3YAQAARiN2AACA0YgdAABgNGIHAAAYjdgBAABGI3YAAIDRiB0AAGA0h2VZVqCH\n",
              "CLRRo0YpKioq0GM0CVVVVcrPz9fAgQMVFBQU6HGaHI7P1XF8ro7jc3Ucn2vjGPmKjIzUv/7rv15z\n",
              "HbEDH6WlpQoNDVVJSYnat28f6HGaHI7P1XF8ro7jc3Ucn2vjGF0fXsYCAABGI3YAAIDRiB0AAGA0\n",
              "Ygc+QkJCNG/ePIWEhAR6lCaJ43N1HJ+r4/hcHcfn2jhG14cLlAEAgNE4swMAAIxG7AAAAKMROwAA\n",
              "wGjEjsGOHDmiwYMHKz4+XikpKSooKKixxuVy6Y477lBoaKiSkpJ8tm3btk0DBw5Ur169lJCQoBkz\n",
              "Zqi6utq7/Z133lGPHj0UFxenUaNGqbS01O5d8is7j88XX3yhf/7nf1aPHj3Uu3dvTZo0SRcuXGiM\n",
              "3fIbu//5+d6ECRPkcDh07tw5m/bEHnYfH7fbrfvvv1/du3dXr169tGzZMrt3ya/sPj6vvPKKevXq\n",
              "paSkJA0aNEj5+fl275LfNfQYffLJJ0pKSlJSUpISEhKUmZmp8vJy7/bVq1crLi5OMTExmjp1qioq\n",
              "KuzepabLgrHuvPNOa82aNZZlWdYf//hHa8CAATXWnD592tq1a5f1zjvvWImJiT7b9u3bZ33zzTeW\n",
              "ZVnWhQsXrLS0NO/jlZWVWZ07d7YOHTpkWZZlPfXUU9bPf/5z2/bFDnYen8OHD1sHDhywLMuyKisr\n",
              "rYcfftiaN2+eXbtiCzuPz/dyc3OtKVOmWJKss2fP2rAX9rHz+FRXV1vJycnW22+/7V1fXFxsy37Y\n",
              "xc7js3//fsvpdFplZWWWZVnW7373OyslJcW2fbFLQ4/Rd999Z126dMmyLMuqqqqyHnzwQWvJkiWW\n",
              "ZVnWt99+a3Xr1s0qKiqyqqurrfvvv99avny5rfvTlBE7hjpx4oTVrl07q6KiwrKsy788u3TpYh05\n",
              "cqTW9du3b6/xL9IPPfXUU97/YL/99tvWiBEjvNsKCgqs2267zS+zNwa7j88Pvfrqq9Zjjz3WgIkb\n",
              "V2Mcn+LiYqt///5WaWnpDRc7dh+fDz74wEpNTfXnyI3K7uPz2WefWd26dfMG4LJly6yHHnrIb/M3\n",
              "Bn8fowsXLlgjRoywXnvtNcuyLGvRokVWZmamd/u7775rpaWl+W3+Gw0vYxnK4/GoW7duCg4OliQ5\n",
              "HA45nU653e7rerzi4mJt3LhR9913n6TLp9gjIyO926OiolRUVKTKysqGD98I7D4+/+i7777TqlWr\n",
              "NHLkyAbN3Jga4/hMnTpVixYtUrt27fwyc2Oy+/gcPHhQnTp1UkZGhvr166eHHnpI3377rd/mt5vd\n",
              "xycxMVHPPvusbr/9doWHh+u111674V7m89cxcrlcSkxMVMeOHRUaGqonn3xSUu2/o6/3+JuA2ME1\n",
              "lZaW6v7779eMGTM0YMCAQI/T5Fzt+Fy6dEljx47V8OHD9dBDDwVowsCq7fisWrVKTqdTw4YNC/B0\n",
              "gVfb8amsrNS2bds0d+5c7d+/XyNGjNDDDz8c4EkDo7bjc/ToUW3atEmFhYU6fvy4nn32WY0dOzbA\n",
              "kwZGVFSUDhw4oOLiYpWXl2vTpk2BHqlJInYMFRER4XOmxbIsud1uOZ3Oej1OWVmZ0tPTNXLkSGVl\n",
              "ZXnvdzqdOnbsmPdnl8vl838pTZ3dx0eSKioqNHbsWHXr1k1Lly712+yNwe7js337dm3ZskVRUVGK\n",
              "ioqSJPXt21f79+/32z7YqTH+/erXr58SEhIkSePHj9e+fftumAtM7T4+ubm56tOnj370ox9JkiZO\n",
              "nKjdu3fr0qVL/tsJm/nrGH2vbdu2ysjI0Lp16yTV/jv6eh/bBMSOoTp37qzk5GTl5ORIuvzLITw8\n",
              "XLGxsXV+jPPnzys9PV3p6emaM2eOz7b09HTt27dPX331lSTpN7/5jTIyMvy3Azaz+/hUVlYqIyND\n",
              "HTp00MqVK+VwOPw6v93sPj7r1q2Tx+ORy+WSy+WSJH3++efq16+f3/bBTnYfn7vvvlvHjx/X3//+\n",
              "d0nSf/3Xf6lnz55q3ry5/3bCRnYfn+joaO3evVvnz5+XdPmdofHx8WrRooX/dsJm/jhGhYWF3gC+\n",
              "dOmS/vSnP6lv376SpNGjRysvL0/FxcWyLEsrVqy4oX5H+10ArxeCzb766itr0KBBVlxcnNW/f3/r\n",
              "888/tyzLsiZPnmxt2bLFsqzLV/PfdtttVseOHa3mzZtbt912mzVr1izLsizrpZdesoKDg63ExETv\n",
              "7aWXXvI+/pYtW6zu3btbMTEx1siRI61z5841/k42gJ3HJycnx5Jk9e3b17vtySefDMyOXie7//n5\n",
              "R7rBLlC2LPuPz1/+8hcrMTHR6tu3r/VP//RP3se/Udh5fKqrq61Zs2ZZ3bt3t/r27WulpqZae/bs\n",
              "CcyONkBDj1F2draVkJBg9e3b1+rVq5f19NNPWxcuXPA+/sqVK63o6GgrOjramjRpkvedWzcjvhsL\n",
              "AAAYjZexAACA0YgdAABgNGIHAAAYjdgBcFWbNm1S//79lZSUpB49emjYsGHe7yiKiorSZ599VuPv\n",
              "ycvL07PPPtvIk/rP//7v/2rAgAEqKyuz9Xneffdd9e/fXyEhIZo+fbrPtuXLl2v+/Pm2Pj9ws+AC\n",
              "ZQBXVFRUpD59+mjv3r3eT2Pdt2+f+vXrJ4fDoaioKG3evLnGFxQ2hsrKSts+12nRokUqLy/X3Llz\n",
              "bXn87x0+fFgXLlzQH//4R50/f16/+tWvvNsuXbqknj17at++fQoNDbV1DsB0nNkBcEUnTpxQUFCQ\n",
              "OnTo4L0vOTm51s8NWrZsmdLS0nTq1Cm9+eabevDBByVJO3bsUO/evfXoo4+qd+/e6t+/f61ng743\n",
              "b948xcbGKiUlRXPmzPF+6KDL5VJYWJhmzpyp5ORkLV++XFu3blVqaqr3A/hWr17tfZwJEyZo2rRp\n",
              "+pd/+RfdfvvtmjRpkvLz83XHHXcoOjq6xodA/qPs7Gw98sgjkqTq6mr97Gc/U8+ePZWYmKj+/fvr\n",
              "4sWL3nXx8fFKTk7Wiy++WO/PU4qPj1diYmKt0daiRQsNHz5cv//97+v1mABqujE+7hZAQPTt21dD\n",
              "hgxRZGSkhg4dqsGDB+uRRx7Rbbfd5l1TXV2trKwsHT16VB9++KFatWpV43EKCgq0dOlSvfXWW3r7\n",
              "7beVkZGhQ4cO1YiDd999V7m5udq/f7/atm2rSZMm+WwvKSlRQkKCXnnlFUnS2bNn9de//lVBQUE6\n",
              "c+aM+vXrpxEjRig8PFyS9MUXX2j79u1q1qyZevXqpbNnz+qDDz7QpUuXFB0drcmTJ3s/pfh7Ho9H\n",
              "JSUliomJkSQdOHBAW7duVUFBgZo1a6aSkhK1aNFCX375pf793/9d+/fvV9euXTVv3jyfxxk7dqy+\n",
              "/vrrWo/rn//8Z0VERFzz+KempiovL09PPPHENdcCuDLO7AC4ombNmik3N1cff/yx0tPTtXv3biUk\n",
              "JKiwsNC7Ztq0aSorK1Nubm6toSNdvrbnrrvukiQ9/PDDKi4ulsfjqbFu69atGjNmjNq1ayeHw6HJ\n",
              "kyf7bG/evLnGjRvn/fn06dMaM2aMevfurWHDhun06dP68ssvvdtHjhypli1bqkWLFurTp49GjBih\n",
              "5s2bq02bNurVq5eOHDlSY4bjx4+rS5cu3p+jo6NVWVmpSZMmae3ataqoqFCzZs20bds2paenq2vX\n",
              "rpIuf7HpP9qwYYM+++yzWm91CR1J6tq1q44fP16ntQCujNgBcE09evRQZmamNm/erEGDBikvL8+7\n",
              "bejQofr0009VXFxc58dzOBxyOBx65plnlJSUpKSkJH3xxRe1rvtHrVu3VrNm//dr6/HHH9eQIUP0\n",
              "xRdf6LPPPlN8fLz3JSZJatmypfevg4KCavz8/fcS/fA5/vExQkND9eWXX+qRRx7RV199pb59+/rE\n",
              "3pVmHTt2rHfffnirLfRqc/HixSsGJIC642UsAFf097//XS6XS2lpaZIuv2x09OhR70s80uUvqUxN\n",
              "TdWwYcP03nvv6fbbb6/xOC6XS9u3b9edd96pjRs3qkuXLgoPD9evf/1rn3XDhg3TL37xCz333HNq\n",
              "06aN3njjjavOd/bsWUVGRsrhcOijjz7SgQMHGrzP3bt318mTJ3XhwgW1atVKp06dUlBQkIYPH66f\n",
              "/OQn2rlzpw4ePKg777xTCxcu1MmTJ9W5c2ef64Wky2d2GurQoUNKTExs8OMANztiB8AVVVZW6pe/\n",
              "/KWOHj2q1q1bq7KyUo899phGjhzps+6nP/2pWrVqpeHDh+vPf/5zjcdJSEjQm2++qWeeeUYtWrTQ\n",
              "+vXra72Y97777tOnn36qpKQkhYWFaejQoQoLC7vifAsXLtSTTz6pF198UUlJSfrxj3/c4H1u2bKl\n",
              "hg8frm3btunee++Vx+PR1KlTVVFRoaqqKqWlpenuu+9W8+bNNWfOHKWlpaldu3ZKT0+v97umtm7d\n",
              "qscee0ylpaWyLEsbN27Ub37zGz3wwAOSpPfff18vvvhig/cJuNnx1nMAttqxY4emT59+1Xdg/aOy\n",
              "sjK1a9dOlmXpueee04ULF/Tb3/7W3iF/ID8/X7/85S/1zjvvXHXd97NK0tKlS/X+++/rvffe88sM\n",
              "Bw8eVGZmpnbt2uWXxwNuZpzZAdCkPProo3K5XLp48aISEhK0YsWKRp9h4MCBGjVqlE/M1GbWrFna\n",
              "vXu3Kioq9KMf/UjZ2dl+m8Hj8fj18YCbGWd2AACA0Xg3FgAAMBqxAwAAjEbsAAAAoxE7AADAaMQO\n",
              "AAAwGrEDAACMRuwAAACjETsAAMBo/x8BhJNT3byoDAAAAABJRU5ErkJggg==\n",
              "\">\n",
              "      </div>\n",
              "      <script type=\"text/javascript\">\n",
              "        (() => {\n",
              "          const chartElement = document.getElementById(\"chart-33086111-2028-4891-a6a2-2827e7ee9ba3\");\n",
              "          async function getCodeForChartHandler(event) {\n",
              "            const chartCodeResponse =  await google.colab.kernel.invokeFunction(\n",
              "                'getCodeForChart', [\"chart-33086111-2028-4891-a6a2-2827e7ee9ba3\"], {});\n",
              "            const responseJson = chartCodeResponse.data['application/json'];\n",
              "            await google.colab.notebook.addCell(responseJson.code, 'code');\n",
              "          }\n",
              "          chartElement.onclick = getCodeForChartHandler;\n",
              "        })();\n",
              "      </script>\n",
              "      <style>\n",
              "        .colab-quickchart-chart-with-code  {\n",
              "            display: block;\n",
              "            float: left;\n",
              "            border: 1px solid transparent;\n",
              "        }\n",
              "\n",
              "        .colab-quickchart-chart-with-code:hover {\n",
              "            cursor: pointer;\n",
              "            border: 1px solid #aaa;\n",
              "        }\n",
              "      </style>"
            ],
            "text/plain": [
              "from matplotlib import pyplot as plt\n",
              "comparison_df.plot(kind='scatter', x='Skip-gram (sg=1)', y='CBOW (sg=0)', s=32, alpha=.8)\n",
              "plt.gca().spines[['top', 'right',]].set_visible(False)"
            ]
          },
          "metadata": {},
          "output_type": "display_data"
        },
        {
          "data": {
            "text/html": [
              "<h4 class=\"colab-quickchart-section-title\">Values</h4>\n",
              "<style>\n",
              "  .colab-quickchart-section-title {\n",
              "      clear: both;\n",
              "  }\n",
              "</style>"
            ],
            "text/plain": [
              "<google.colab._quickchart_helpers.SectionTitle at 0x7ee7e83e9100>"
            ]
          },
          "metadata": {},
          "output_type": "display_data"
        },
        {
          "data": {
            "text/html": [
              "      <div class=\"colab-quickchart-chart-with-code\" id=\"chart-5a14cafa-0898-49ab-b182-04916735b3d5\">\n",
              "        <img style=\"width: 180px;\" src=\"data:image/png;base64,iVBORw0KGgoAAAANSUhEUgAAAqkAAAF5CAYAAAC88LN1AAAAOnRFWHRTb2Z0d2FyZQBNYXRwbG90\n",
              "bGliIHZlcnNpb24zLjEwLjAsIGh0dHBzOi8vbWF0cGxvdGxpYi5vcmcvlHJYcgAAAAlwSFlzAAAP\n",
              "YQAAD2EBqD+naQAAKYtJREFUeJzt3XtUlXWi//HPDgwUBCVTUdyiISYkbFSYNPNYuRId7+TtiA5e\n",
              "8ZiTEzogJz01jYlNM85YMx0pbymSlWKZo62p1CbTQkzFEVMxt6AjeefiBbns3x+t2evsQcxtJl/8\n",
              "vV9rPWvJfr7P9/k+e6/leq99tTgcDocAAAAAg9xT1wsAAAAA/h2RCgAAAOMQqQAAADAOkQoAAADj\n",
              "EKkAAAAwDpEKAAAA4xCpAAAAMA6RCgAAAOMQqQAAADAOkQrgrrRt2zZZLBZVVlZed//q1avVsWPH\n",
              "O7yqO+/o0aNq166dysrK6nopNaxbt06PPfZYXS8DgKGIVAD10rFjxzR69Gi1atVKvr6+atWqlfr3\n",
              "769Tp07d1PFjxozRoUOHfuJV1r1f//rXmjFjhnx9fe/4uV999VX97Gc/U6NGjRQUFFRjf1xcnIqL\n",
              "i7Vu3bo7vjYA5iNSAdRL/fv3V+PGjfWPf/xDZWVl2rNnj0aOHCmLxVLXS7uhioqKO3auo0eP6qOP\n",
              "PtIvfvGLO3bO/6tVq1ZKTk7Wc889V+uYSZMmaeHChXdwVQDqCyIVQL1z7tw5ffPNN5o6daoCAgIk\n",
              "SS1atNAvfvELtWzZ8rrH5Ofnq1OnTvr1r3+t6upqrVixwuXZvYSEBI0YMUKTJk1SkyZNZLVa9bvf\n",
              "/e6G63A4HFqwYIGsVquaNGmiSZMmacSIEUpISHCOCQ4O1vPPP6/Y2Fg1btxYf/jDH3Tq1CkNGDBA\n",
              "LVq0UOPGjRUREaH33nvPZW6LxaJFixape/fu8vHxUWRkpPbv36/33ntPHTt2lJ+fn5566qkbvoy/\n",
              "fv16de3aVU2bNnXetm/fPv3Hf/yHmjRpoqZNm6pr167OZ5QrKio0c+ZMtWzZUvfff79SU1PVs2dP\n",
              "vfDCCze8H2rz1FNPKS4uTq1bt651TGxsrHbs2KGioqJbOgeAuxeRCqDeue+++9S5c2clJiZq+fLl\n",
              "ys3NVXV1da3jt23bpp49e2rWrFl65ZVXdM891/+vb/369YqOjtaZM2f07rvvasGCBVq9enWt865a\n",
              "tUqvvPKK3nvvPZ09e1bdu3fX+vXra4xLT0/X888/r5KSEj3zzDOqqqrShAkTdPToUZ0/f14zZszQ\n",
              "f/7nf+rAgQMux61YsUKZmZm6cOGCOnbsqCFDhmjTpk3KycnRkSNHtGfPHr322mu1ri8nJ0cPPfSQ\n",
              "y23Tpk3TE088obNnz+rMmTNaunSpmjRpIklKS0vT+++/r88++0wnTpyQl5eXvvrqK5fjIyIi1KRJ\n",
              "k1q3BQsW1Lqe62nfvr18fHyUk5Pj1nEA7n5EKoB6aevWrerXr5/+93//VzExMWrWrJlmzZql8vJy\n",
              "l3FLlizRyJEj9fbbb2vixIk3nDMiIkKJiYlq0KCBHn74YU2ePFnLli2rdfzKlSs1ceJE/exnP5On\n",
              "p6cmTpyoyMjIGuPGjx+v7t27y2KxON+fOWzYMPn6+qpBgwaaOHGiwsLCtGXLFpfjkpKS1K5dO917\n",
              "770aM2aMvv32W82fP1+NGzdWixYt1L9/f2VnZ9e6vvPnz8vf39/ltnvvvVcFBQU6fvy4PD09ZbPZ\n",
              "1KJFC+f1zJw5Ux07dpSXl5fmzp3rfKb6X3Jzc3Xx4sVat9mzZ9/wPr4ef39/nT9/3u3jANzdiFQA\n",
              "9dJ9992nF198UdnZ2SouLtayZcv05ptvKi0tzWXcb37zGw0bNuymPkXerl27Gn8XFhZKkvr16ydf\n",
              "X1/5+vqqX79+kqSTJ0+qbdu2LscEBwf/4LwXLlzQ5MmT1a5dO/n5+alJkyY6cOCATp8+7TIuMDDQ\n",
              "+W8fH5/r3lZaWlrr9QQEBKi4uNjlthUrVshisejxxx9XUFCQfvWrXznfMvDv1+Ph4aE2bdrUOv/t\n",
              "UlxcXCOGAYBIBVDveXl5aciQIerTp4++/vprl32ff/65PvnkE/3yl7+Uw+G44Tx2u73G3/963+rm\n",
              "zZtVVlamsrIybd68WZLUunVrHT9+3OWYf/9bUo23F8yePVvffPONPvvsMxUXF+vixYsKDw//wfW5\n",
              "q2vXrjXeQtC2bVu9+eabOn78uLZt26aPP/7YGfb/fj3V1dU6ceKEy/Hh4eHOWL/eNn/+fLfWeOzY\n",
              "MV26dEndunW7xasEcLciUgHUOxcuXNDs2bOVm5ur8vJyVVVV6dNPP9XWrVvVq1cvl7HBwcHavn27\n",
              "tm/frvj4+Bt+un7fvn1asmSJKisrlZ2drTfffFPjx4+vdfzYsWO1bNky7dq1S5WVlVq+fLn27t37\n",
              "g+svLi5Wo0aNdN9996miokKvvfZajZi8HYYMGaKcnBxdvHjReduKFSt04sQJORwO+fn5ydPTU56e\n",
              "ns7r+eMf/6jDhw/r2rVrmjdvns6dO+cy54EDB5yxfr3tv//7v51jKysrdfXqVed9fvXqVV29etUl\n",
              "xj/66CM9/PDDtX7gDcD/v4hUAPXOvffeq7Nnz2r48OFq1qyZ7rvvPs2YMUMpKSmaOXNmjfEtWrTQ\n",
              "Z599ppMnT2rw4MG6fPnydecdOnSovvzySzVr1kxxcXGaNWuW4uPja13HuHHj9Oyzz2rYsGFq1qyZ\n",
              "tm/frgEDBsjb2/uG6583b56uXLmiFi1aKDg4WN99950eeeQR9+6Em9ChQwc9+eSTWrFihfO2rVu3\n",
              "KiYmRr6+voqMjFT37t2VkpIiSUpNTdXPf/5zPfroo2rdurWuXLmiqKioH7ye2sybN08NGzbUlClT\n",
              "dPLkSTVs2FANGzZ0ebZ2yZIl133MAMDiuN2vLwFAPZSQkKDKykplZGT8qHlsNptGjhyp1NTU27Sy\n",
              "H+fo0aN64okn9I9//MPtL/SvrKxUYGCgXn31VY0ePfq2ry0rK0uvvvqqtm3bdtvnBlD/8UwqAPwI\n",
              "77zzjq5cuaKrV6/qj3/8o/Ly8jR8+PC6XpbTAw88ILvdflOBWlpaqg8//FDXrl1TWVmZUlJSVF1d\n",
              "7fyg2O02bNgwAhVArYhUAPgR3nzzTeeX32dkZOiDDz5QSEhIXS/rllRXV+u3v/2tmjVrptatWys7\n",
              "O1ubNm1yfo8qANxJvNwPAAAA4/BMKgAAAIxDpAIAAMA4RCoAAACMQ6QCAADAOHddpC5atKiulwAA\n",
              "AIAf6a6L1Ov9bjYAAADql7suUgEAAFD/EakAAAAwDpEKAAAA4xCpAAAAMA6RCgAAAOMQqQAAADAO\n",
              "kQoAAADjEKkAAAAwDpEKAAAA4xCpAAAAMA6RCgAAAOMQqQAAADAOkQoAAADjEKkAAAAwDpEKAAAA\n",
              "4xCpAAAAMA6RCgAAAOMQqQAAADAOkQoAAADjEKkAAAAwDpEKAAAA4xCpAAAAMA6RCgAAAOMQqQAA\n",
              "ADAOkQoAAADjEKkAAAAwDpEKAAAA4xCpAAAAMA6RCgAAAOMQqQAAADAOkQoAAADjEKkAAAAwDpEK\n",
              "AAAA4xCpAAAAMA6RCgAAAOMQqQAAADCO25F65MgR9ejRQ6GhoYqOjtaBAwdqjLHb7erdu7f8/f1l\n",
              "s9lc9u3cuVM2m002m03h4eFKTExUeXm5c//SpUvVoUMHPfDAA5o8ebIqKircvyoAAADUa25HamJi\n",
              "oqZMmaLDhw8rJSVFCQkJNcb4+flp3rx5yszMrLEvMjJSu3bt0t69e7V//36dPn1ar7/+uiTp2LFj\n",
              "mjt3rj7//HPl5+fru+++0xtvvOH+VQEAAKBecytST58+rZycHMXHx0uS4uLiVFhYqPz8fJdxAQEB\n",
              "6tmzp3x8fGrM0ahRIzVo0ECSdO3aNV25ckUWi0WStHbtWg0aNEgtW7aUxWLR1KlT9fbbb9/ShQEA\n",
              "AKD+citSCwsLFRgYKE9PT0mSxWKR1WpVQUGBWye12+2KjIxUs2bN5O/vr2nTpkmSCgoK1LZtW+e4\n",
              "4ODgG85dXl6ukpISl62qqsqttQAAAMA8dfLBqeDgYO3bt09FRUUqLy9XVlbWLc2TlpYmf39/ly07\n",
              "O/s2rxYAAAB3mluR2qZNG506dUqVlZWSJIfDoYKCAlmt1ls6ua+vr0aNGqXVq1dLkqxWq44fP+7c\n",
              "b7fbbzh3amqqiouLXbaYmJhbWgsAAADM4VakNm/eXF26dFFGRoYkad26dQoKClJISMhNz5Gfn+/8\n",
              "xP61a9e0fv16RURESPr+Pa4bNmxQUVGRHA6HFi9erFGjRtU6l5eXl/z8/Fw2Dw8Pdy4JAAAABnL7\n",
              "5f709HSlp6crNDRUCxYs0PLlyyVJkyZN0oYNGyRJly9fVlBQkIYPH668vDwFBQUpNTVVkrRlyxZF\n",
              "RUUpMjJSUVFRatGihebOnStJat++vX7zm9/okUceUUhIiO6//34lJibermsFAABAPWFxOByOul7E\n",
              "7ZSUlKSFCxfW9TIAAADwI/CLUwAAADAOkQoAAADjEKkAAAAwDpEKAAAA4xCpAAAAMA6RCgAAAOMQ\n",
              "qQAAADAOkQoAAADjEKkAAAAwDpEKAAAA4xCpAAAAMA6RCgAAAOMQqQAAADAOkQoAAADjEKkAAAAw\n",
              "DpEKAAAA4xCpAAAAMA6RCgAAAOMQqQAAADAOkQoAAADjEKkAAAAwDpEKAAAA4xCpAAAAMA6RCgAA\n",
              "AOMQqQAAADAOkQoAAADjEKkAAAAwDpEKAAAA4xCpAAAAMA6RCgAAAOMQqQAAADAOkQoAAADjEKkA\n",
              "AAAwDpEKAAAA4xCpAAAAMA6RCgAAAOO4HalHjhxRjx49FBoaqujoaB04cKDGGLvdrt69e8vf3182\n",
              "m81l35YtWxQTE6OwsDCFh4crOTlZ1dXVzv0vv/yywsLCZLPZ9PDDDys7O9v9qwIAAEC95nakJiYm\n",
              "asqUKTp8+LBSUlKUkJBQY4yfn5/mzZunzMzMGvuaNm2qNWvWKC8vT7t379aOHTu0cuVKSdLevXv1\n",
              "+uuvKzs7W3v37tX06dM1ffp0968KAAAA9ZpbkXr69Gnl5OQoPj5ekhQXF6fCwkLl5+e7jAsICFDP\n",
              "nj3l4+NTY46oqCi1b99ekuTt7S2bzSa73S5Jslgsqqio0KVLlyRJFy9eVFBQkNsXBQAAgPrN053B\n",
              "hYWFCgwMlKfn94dZLBZZrVYVFBQoJCTE7ZMXFRVp7dq12rhxoyQpMjJSzz77rNq1a6eAgAB5eXnp\n",
              "73//e63Hl5eXq7y83OW2qqoqt9cBAAAAs9TZB6dKSko0cOBAJScnq1u3bpKkY8eOKSsrS/n5+Tpx\n",
              "4oSeffZZjRw5stY50tLS5O/v77LxHlYAAID6z61IbdOmjU6dOqXKykpJksPhUEFBgaxWq1snLS0t\n",
              "VWxsrAYPHqykpCTn7evWrVPnzp3VqlUrSdL48eP1xRdf6Nq1a9edJzU1VcXFxS5bTEyMW2sBAACA\n",
              "edyK1ObNm6tLly7KyMiQ9H1UBgUFufVSf1lZmWJjYxUbG6s5c+a47Gvfvr2++OILlZWVSZI2btyo\n",
              "0NBQ3Xvvvdedy8vLS35+fi6bh4eHO5cEAAAAA7n1nlRJSk9PV0JCgubPny8/Pz8tX75ckjRp0iQN\n",
              "GjRIgwYN0uXLlxUaGqry8nIVFxcrKChIY8eOVVpamhYtWqTs7GxdunRJWVlZkqThw4frueee09Ch\n",
              "Q7Vr1y5169ZNXl5e8vHxue43BAAAAODuZnE4HI66XsTtlJSUpIULF9b1MgAAAPAj8ItTAAAAMA6R\n",
              "CgAAAOMQqQAAADAOkQoAAADjEKkAAAAwDpEKAAAA4xCpAAAAMA6RCgAAAOMQqQAAADAOkQoAAADj\n",
              "EKkAAAAwDpEKAAAA4xCpAAAAMA6RCgAAAOMQqQAAADAOkQoAAADjEKkAAAAwDpEKAAAA4xCpAAAA\n",
              "MA6RCgAAAOMQqQAAADAOkQoAAADjEKkAAAAwDpEKAAAA4xCpAAAAMA6RCgAAAOMQqQAAADAOkQoA\n",
              "AADjEKkAAAAwDpEKAAAA4xCpAAAAMA6RCgAAAOMQqQAAADAOkQoAAADjEKkAAAAwDpEKAAAA47gd\n",
              "qUeOHFGPHj0UGhqq6OhoHThwoMYYu92u3r17y9/fXzabzWXfli1bFBMTo7CwMIWHhys5OVnV1dXO\n",
              "/QUFBRo4cKA6duyosLAwvfbaa+5fFQAAAOo1tyM1MTFRU6ZM0eHDh5WSkqKEhIQaY/z8/DRv3jxl\n",
              "ZmbW2Ne0aVOtWbNGeXl52r17t3bs2KGVK1dKkhwOh4YOHapx48bp0KFDysvL04gRI9y/KgAAANRr\n",
              "bkXq6dOnlZOTo/j4eElSXFycCgsLlZ+f7zIuICBAPXv2lI+PT405oqKi1L59e0mSt7e3bDab7Ha7\n",
              "JOnTTz+Vl5eXhg8f7hzfokWLWtdTXl6ukpISl62qqsqdSwIAAICB3IrUwsJCBQYGytPTU5JksVhk\n",
              "tVpVUFBwSycvKirS2rVrNWDAAElSXl6e7r//fo0aNUpRUVEaOnSovv3221qPT0tLk7+/v8uWnZ19\n",
              "S2sBAACAOersg1MlJSUaOHCgkpOT1a1bN0lSZWWltmzZorlz52rPnj3q27fvDV/uT01NVXFxscsW\n",
              "ExNzpy4BAAAAPxG3IrVNmzY6deqUKisrJX3/HtKCggJZrVa3TlpaWqrY2FgNHjxYSUlJztutVqui\n",
              "oqIUHh4uSRo7dqy+/vprVVRUXHceLy8v+fn5uWweHh5urQUAAADmcStSmzdvri5duigjI0OStG7d\n",
              "OgUFBSkkJOSm5ygrK1NsbKxiY2M1Z84cl339+vXTiRMndPLkSUnSpk2b1KlTJzVo0MCdZQIAAKCe\n",
              "83T3gPT0dCUkJGj+/Pny8/PT8uXLJUmTJk3SoEGDNGjQIF2+fFmhoaEqLy9XcXGxgoKCNHbsWKWl\n",
              "pWnRokXKzs7WpUuXlJWVJUkaPny4nnvuOfn4+Gjx4sX6+c9/LofDIX9/f61Zs+b2XjEAAACMZ3E4\n",
              "HI66XsTtlJSUpIULF9b1MgAAAPAj8ItTAAAAMA6RCgAAAOMQqQAAADAOkQoAAADjEKkAAAAwDpEK\n",
              "AAAA4xCpAAAAMA6RCgAAAOMQqQAAADAOkQoAAADjEKkAAAAwDpEKAAAA4xCpAAAAMA6RCgAAAOMQ\n",
              "qQAAADAOkQoAAADjEKkAAAAwDpEKAAAA4xCpAAAAMA6RCgAAAOMQqQAAADAOkQoAAADjEKkAAAAw\n",
              "DpEKAAAA4xCpAAAAMA6RCgAAAOMQqQAAADAOkQoAAADjEKkAAAAwDpEKAAAA4xCpAAAAMA6RCgAA\n",
              "AOMQqQAAADAOkQoAAADjEKkAAAAwDpEKAAAA47gdqUeOHFGPHj0UGhqq6OhoHThwoMYYu92u3r17\n",
              "y9/fXzabzWXfli1bFBMTo7CwMIWHhys5OVnV1dU15khISJDFYtHFixfdXSIAAADqObcjNTExUVOm\n",
              "TNHhw4eVkpKihISEGmP8/Pw0b948ZWZm1tjXtGlTrVmzRnl5edq9e7d27NihlStXuozJyspSgwYN\n",
              "3F0aAAAA7hJuRerp06eVk5Oj+Ph4SVJcXJwKCwuVn5/vMi4gIEA9e/aUj49PjTmioqLUvn17SZK3\n",
              "t7dsNpvsdrtz/3fffaf58+dr4cKFP7ie8vJylZSUuGxVVVXuXBIAAAAM5FakFhYWKjAwUJ6enpIk\n",
              "i8Uiq9WqgoKCWzp5UVGR1q5dqwEDBjhvmzx5sn73u9+pcePGP3h8Wlqa/P39Xbbs7OxbWgsAAADM\n",
              "UWcfnCopKdHAgQOVnJysbt26SZKWLFkiq9Wqxx9//KbmSE1NVXFxscsWExPzUy4bAAAAd4Bbkdqm\n",
              "TRudOnVKlZWVkiSHw6GCggJZrVa3TlpaWqrY2FgNHjxYSUlJztu3bt2qDz74QMHBwQoODpYkRURE\n",
              "aM+ePdedx8vLS35+fi6bh4eHW2sBAACAeTzdGdy8eXN16dJFGRkZSkhI0Lp16xQUFKSQkJCbnqOs\n",
              "rEyxsbGKjY3VnDlzXPatXr3a5W+LxaLc3Fw1adLEnWUCAACgnnP75f709HSlp6crNDRUCxYs0PLl\n",
              "yyVJkyZN0oYNGyRJly9fVlBQkIYPH668vDwFBQUpNTVVkrRo0SJlZ2crKytLNptNNptNL7300m28\n",
              "JAAAANR3FofD4ajrRdxOSUlJN/XNAAAAADAXvzgFAAAA4xCpAAAAMA6RCgAAAOMQqQAAADAOkQoA\n",
              "AADjEKkAAAAwDpEKAAAA4xCpAAAAMA6RCgAAAOMQqQAAADAOkQoAAADjEKkAAAAwDpEKAAAA4xCp\n",
              "AAAAMA6RCgAAAOMQqQAAADAOkQoAAADjEKkAAAAwDpEKAAAA4xCpAAAAMA6RCgAAAOMQqQAAADAO\n",
              "kQoAAADjEKkAAAAwDpEKAAAA4xCpAAAAMA6RCgAAAOMQqQAAADAOkQoAAADjEKkAAAAwDpEKAAAA\n",
              "4xCpAAAAMA6RCgAAAOMQqQAAADAOkQoAAADjEKkAAAAwjtuReuTIEfXo0UOhoaGKjo7WgQMHaoyx\n",
              "2+3q3bu3/P39ZbPZXPZt2bJFMTExCgsLU3h4uJKTk1VdXS1J2r9/v3r16qUHH3xQDz30kCZMmKAr\n",
              "V67c2pUBAACg3nI7UhMTEzVlyhQdPnxYKSkpSkhIqDHGz89P8+bNU2ZmZo19TZs21Zo1a5SXl6fd\n",
              "u3drx44dWrlypSTJ29tbf/7zn/XNN99o3759unTpkl5++WX3rwoAAAD1mluRevr0aeXk5Cg+Pl6S\n",
              "FBcXp8LCQuXn57uMCwgIUM+ePeXj41NjjqioKLVv317S91Fqs9lkt9slSR06dFBERIQkycPDQ9HR\n",
              "0c5911NeXq6SkhKXraqqyp1LAgAAgIHcitTCwkIFBgbK09NTkmSxWGS1WlVQUHBLJy8qKtLatWs1\n",
              "YMCAGvsuXbqkJUuWaPDgwbUen5aWJn9/f5ctOzv7ltYCAAAAc9TZB6dKSko0cOBAJScnq1u3bi77\n",
              "rl27ppEjR+rJJ5/U0KFDa50jNTVVxcXFLltMTMxPvXQAAAD8xDzdGdymTRudOnVKlZWV8vT0lMPh\n",
              "UEFBgaxWq1snLS0tVWxsrAYPHqykpCSXfRUVFRo5cqQCAwO1aNGiG87j5eUlLy8vl9s8PDzcWgsA\n",
              "AADM49Yzqc2bN1eXLl2UkZEhSVq3bp2CgoIUEhJy03OUlZUpNjZWsbGxmjNnjsu+yspKjRo1SgEB\n",
              "AXrjjTdksVjcWR4AAADuEm6/3J+enq709HSFhoZqwYIFWr58uSRp0qRJ2rBhgyTp8uXLCgoK0vDh\n",
              "w5WXl6egoCClpqZKkhYtWqTs7GxlZWXJZrPJZrPppZdekiS98847ysrKUk5OjqKiomSz2fT000/f\n",
              "rmsFAABAPWFxOByOul7E7ZSUlKSFCxfW9TIAAADwI/CLUwAAADAOkQoAAADjEKkAAAAwDpEKAAAA\n",
              "4xCpAAAAMA6RCgAAAOMQqQAAADAOkQoAAADjEKkAAAAwDpEKAAAA4xCpAAAAMA6RCgAAAOMQqQAA\n",
              "ADAOkQoAAADjEKkAAAAwDpEKAAAA4xCpAAAAMA6RCgAAAOMQqQAAADAOkQoAAADjEKkAAAAwDpEK\n",
              "AAAA4xCpAAAAMA6RCgAAAOMQqQAAADAOkQoAAADjEKkAAAAwDpEKAAAA4xCpAAAAMA6RCgAAAOMQ\n",
              "qQAAADAOkQoAAADjEKkAAAAwDpEKAAAA4xCpAAAAMI7bkXrkyBH16NFDoaGhio6O1oEDB2qMsdvt\n",
              "6t27t/z9/WWz2Vz2bdmyRTExMQoLC1N4eLiSk5NVXV3t3L9x40Y9+OCD6tChg4YNG6aSkhL3rwoA\n",
              "AAD1mtuRmpiYqClTpujw4cNKSUlRQkJCjTF+fn6aN2+eMjMza+xr2rSp1qxZo7y8PO3evVs7duzQ\n",
              "ypUrJUllZWWaOHGi3n//fR05ckStWrXSb3/7W/evCgAAAPWaW5F6+vRp5eTkKD4+XpIUFxenwsJC\n",
              "5efnu4wLCAhQz5495ePjU2OOqKgotW/fXpLk7e0tm80mu90uSdq8ebOioqL04IMPSpKmTZumt99+\n",
              "2+2LAgAAQP3m6c7gwsJCBQYGytPz+8MsFousVqsKCgoUEhLi9smLioq0du1abdy4UZJUUFCgtm3b\n",
              "OvcHBwfr1KlTqqysdJ7z/yovL1d5ebnLbVVVVW6vAwAAAGapsw9OlZSUaODAgUpOTla3bt1uaY60\n",
              "tDT5+/u7bNnZ2bd5pQAAALjT3IrUNm3aOJ/ZlCSHw6GCggJZrVa3TlpaWqrY2FgNHjxYSUlJztut\n",
              "VquOHz/u/Ntut7s8c/vvUlNTVVxc7LLFxMS4tRYAAACYx61Ibd68ubp06aKMjAxJ0rp16xQUFOTW\n",
              "S/1lZWWKjY1VbGys5syZ47IvNjZWX3/9tb755htJ0uuvv65Ro0bVOpeXl5f8/PxcNg8PD3cuCQAA\n",
              "AAZy++X+9PR0paenKzQ0VAsWLNDy5cslSZMmTdKGDRskSZcvX1ZQUJCGDx+uvLw8BQUFKTU1VZK0\n",
              "aNEiZWdnKysrSzabTTabTS+99JIkqXHjxlqyZImGDBmikJAQnThxQnPnzr1d1woAAIB6wuJwOBx1\n",
              "vYjbKSkpSQsXLqzrZQAAAOBH4BenAAAAYBwiFQAAAMYhUgEAAGAcIhUAAADGIVIBAABgHCIVAAAA\n",
              "xiFSAQAAYBwiFQAAAMYhUgEAAGAcIhUAAADGIVIBAABgHCIVAAAAxiFSAQAAYBwiFQAAAMYhUgEA\n",
              "AGAcIhUAAADGIVIBAABgHCIVAAAAxiFSAQAAYBwiFQAAAMYhUgEAAGAcIhUAAADGIVIBAABgHCIV\n",
              "AAAAxiFSAQAAYBwiFQAAAMYhUgEAAGAcIhUAAADGIVIBAABgHCIVAAAAxiFSAQAAYBwiFQAAAMYh\n",
              "UgEAAGAcIhUAAADGIVIBAABgHCIVAAAAxiFSAQAAYByLw+Fw1PUibqdhw4YpODi4rpdxV6iqqlJ2\n",
              "drZiYmLk4eFR18vBLeAxrP94DOs3Hr/6j8fwp9G2bVvNmDHjhmPuukjF7VNSUiJ/f38VFxfLz8+v\n",
              "rpeDW8BjWP/xGNZvPH71H49h3eHlfgAAABiHSAUAAIBxiFQAAAAYh0hFrby8vPT888/Ly8urrpeC\n",
              "W8RjWP/xGNZvPH71H49h3eGDUwAAADAOz6QCAADAOEQqAAAAjEOkAgAAwDhEKoC7XmlpqXx9fTVx\n",
              "4sTbMt+KFSs0ZMiQ2zLXzdq6dassFotWrVp1R88LAHWFSAVw13vnnXfUtWtXZWVlqaysrK6Xc0uW\n",
              "Ll2qJ554QkuXLr0j56uurlZ1dfUdORcAXA+RCuCut3TpUqWkpKhXr1565513nLevWLFCffr00ejR\n",
              "o9W5c2d169ZN3377rSSpqKhIjz32mLp27arw8HBNnz691mh75ZVXFB4ers6dO2vMmDEqLi6W9P0z\n",
              "uCNHjtSDDz6oRx99VImJiUpISJAkde7cWTt27HDO8cYbb2jkyJHXnf/ixYv661//qoyMDOXl5Sk/\n",
              "P9+57+DBg+rbt68iIiIUERGhxYsXS5JOnjypp556Sp07d1ZERITmzp0rSUpISNCf/vQn5/GzZs3S\n",
              "Cy+8IEl64YUXFBcXp759++qhhx7SqVOnNGvWLEVHR8tms6lXr146dOiQ89idO3eqZ8+eioyMVERE\n",
              "hD744AOtXbtWTz75pHNMVVWV2rZtq7y8vBs+RgDw74hUAHe1vLw8FRYWqm/fvpo4cWKNZyJ37dql\n",
              "+fPna//+/erTp49efvllSVKTJk304Ycfavfu3crNzZXdbte7775bY/7Nmzdr2bJl+uKLL7R//375\n",
              "+Pho9uzZkqQXX3xRDRs21MGDB7Vp0yaXKH3mmWf05z//2fn3X/7yF02fPv2615CZmam+ffuqZcuW\n",
              "io+P17JlyyRJlZWVGjx4sBISEpSbm6vc3Fw99dRTkqT4+Hh17dpV+/fvV25urp555pmbur927typ\n",
              "lStXKi8vT61bt1ZKSop27dqlvXv3atq0aZoxY4Yk6fz58xoyZIjS0tK0b98+7d27V48++qiGDh2q\n",
              "w4cPO2N2w4YNCgkJUVhY2E2dHwD+hUgFcFdbunSpxo0bJw8PD/Xv31/Hjh3TwYMHnfu7d++udu3a\n",
              "Of999OhRSd+/3J2SkqLIyEhFRUUpJydHe/furTH/J598opEjR6pJkyaSpP/6r//Sxx9/LEn69NNP\n",
              "NX78eFksFjVu3NjlmdL4+Hht3bpV3333nbZv3y6LxaJHH3201muYMGGCJGnChAl66623VFVVpUOH\n",
              "Dunq1asaPXq0c2yzZs1UVlam7du3a+bMmc7b77///pu6v/r3768WLVo4//7444/VvXt3PfTQQ3rx\n",
              "xRed98HOnTvVsWNH55rvueceBQQEyMPDQ9OmTdNf/vIXSTeObwC4Ec+6XgAA/FQqKiq0atUqNWjQ\n",
              "QJmZmZKky5cva+nSpfr9738vSfL29naO9/DwUGVlpSRp4cKFOn36tL766it5e3srKSlJV69e/cFz\n",
              "WiyWm9rXsGFDJSQkKD09XQcPHtTTTz993WP27t2r3NxcTZ482Xn82bNntXnzZmdcu8PT01NVVVXO\n",
              "v69evSpfX1/n3//33wUFBZo+fbp27dqlBx54QLm5uerVq9cPnmPy5MkKCwvTuHHjlJ+fr0GDBrm9\n",
              "TgDgmVQAd60NGzaoffv2OnnypOx2u+x2u7788kutWrVKFRUVNzz2woULatmypby9vVVUVKT33nvv\n",
              "uuP69Omjd999VyUlJZKk9PR053syH3/8cb311ltyOBwqKyur8XaBp59+Wm+88Ya2bNmiMWPGXHf+\n",
              "pUuXaubMmTp+/LjzGv70pz9p6dKl6tixoxo1aqS3337bOf7s2bPy9fVVr1699Ic//MF5+5kzZyRJ\n",
              "ISEhys7OliSdO3dOmzZtqvU+KC4uVoMGDRQYGCiHw+Hy9oQePXroyJEj+vzzzyV9/8zz+fPnJUlN\n",
              "mzbV4MGDNXToUCUmJsrDw6PWcwBAbYhUAHetpUuX1oi/Tp06qXXr1vrwww9veOyMGTP01VdfKTw8\n",
              "XGPHjlWfPn2uO65fv34aP368unfvrs6dO6ukpERpaWmSpP/5n/9RaWmpOnXqpNjYWEVGRjrfFiBJ\n",
              "QUFBioqKUnx8vBo1alRj7qtXr2r16tU1rmHEiBH629/+pnPnzumDDz7Q8uXL1blzZ0VGRmrdunWS\n",
              "pFWrViknJ0fh4eGy2WzOwJwyZYrOnDmjTp06ady4cXr44YdrvQ86d+6sUaNGKTw8XNHR0bJarc59\n",
              "TZs21fr16zV79mxFRESoS5cu+uKLL5z7J0+erDNnzmjy5Mk3vJ8BoDYWh8PhqOtFAMDdqKKiQlVV\n",
              "VfL29talS5fUt29f/fKXv3S+N/XSpUvq2LGjPv/881t66d5kv//973Xw4ME79pVZAO4+vCcVAH4i\n",
              "Fy5cUL9+/VRVVaWrV69q8ODBGjFihCRp8eLFeumllzRt2rS7LlDDw8NlsVj00Ucf1fVSANRjPJMK\n",
              "AAAA4/CeVAD4CQUHB6t58+YuH9T610+c/upXv7rhsdu2bfvBZyMXL16sV1555XYsFQCMwsv9APAT\n",
              "s1qt2rBhg+Li4iR9/4Gubt26/eBx27Zt08WLFxUbG3vd/ZWVlZo6deptXSsAmIJIBYCf2Pjx47Vs\n",
              "2TLFxcWpuLhYX375pUaPHq3S0lJJ33/I6N1331VlZaWaN2+u9PR0XbhwQYsXL1ZVVZW2bdumYcOG\n",
              "ady4cbLZbEpMTNTHH3+scePG6eLFi7p48aLzp05ffvllZWRk6J577lHDhg21ZcuW635zAACYjkgF\n",
              "gJ/YI488otdff13//Oc/tWHDBg0fPtz53aGZmZk6dOiQdu7cKQ8PD61atUrTpk3TX//6V02dOtUl\n",
              "QO12u4qLixUeHu78+dYXXnjBeZ633npL69at0/bt2+Xv768LFy7Iy8vrTl8uANwWRCoA3AFjx47V\n",
              "ihUr9P7772v16tVavXq1JOn999/Xrl271LVrV0ly+TWo62nQoIHi4+Ovu2/jxo2aOnWq/P39JX3/\n",
              "XaYAUF8RqQBwB4wbN05dunRRaGioOnTo4Lzd4XAoNTVVU6ZMual5GjVqpHvu4TOvAO5+/E8HAHdA\n",
              "q1atlJaW5nyZ/l+GDBmixYsXO39StKKiQnv27JEk+fn5qbi4+KbPMWjQIC1evNh5zMWLF3/wmVkA\n",
              "MBXPpALAHTJ+/Pgat40ZM0bnzp3TY489Jun7T+xPmDBBUVFRGjp0qFatWiWbzeb84NSNjB07Vv/8\n",
              "5z/Vo0cPeXp6ysfHR5988gkfnAJQL/Fl/gAAADAOL/cDAADAOEQqAAAAjEOkAgAAwDhEKgAAAIxD\n",
              "pAIAAMA4RCoAAACMQ6QCAADAOEQqAAAAjEOkAgAAwDhEKgAAAIxDpAIAAMA4/w/D8hMvliNI/QAA\n",
              "AABJRU5ErkJggg==\n",
              "\">\n",
              "      </div>\n",
              "      <script type=\"text/javascript\">\n",
              "        (() => {\n",
              "          const chartElement = document.getElementById(\"chart-5a14cafa-0898-49ab-b182-04916735b3d5\");\n",
              "          async function getCodeForChartHandler(event) {\n",
              "            const chartCodeResponse =  await google.colab.kernel.invokeFunction(\n",
              "                'getCodeForChart', [\"chart-5a14cafa-0898-49ab-b182-04916735b3d5\"], {});\n",
              "            const responseJson = chartCodeResponse.data['application/json'];\n",
              "            await google.colab.notebook.addCell(responseJson.code, 'code');\n",
              "          }\n",
              "          chartElement.onclick = getCodeForChartHandler;\n",
              "        })();\n",
              "      </script>\n",
              "      <style>\n",
              "        .colab-quickchart-chart-with-code  {\n",
              "            display: block;\n",
              "            float: left;\n",
              "            border: 1px solid transparent;\n",
              "        }\n",
              "\n",
              "        .colab-quickchart-chart-with-code:hover {\n",
              "            cursor: pointer;\n",
              "            border: 1px solid #aaa;\n",
              "        }\n",
              "      </style>"
            ],
            "text/plain": [
              "from matplotlib import pyplot as plt\n",
              "comparison_df['Skip-gram (sg=1)'].plot(kind='line', figsize=(8, 4), title='Skip-gram (sg=1)')\n",
              "plt.gca().spines[['top', 'right']].set_visible(False)"
            ]
          },
          "metadata": {},
          "output_type": "display_data"
        },
        {
          "data": {
            "text/html": [
              "      <div class=\"colab-quickchart-chart-with-code\" id=\"chart-2db5e201-c340-42ab-8cf4-551341983008\">\n",
              "        <img style=\"width: 180px;\" src=\"data:image/png;base64,iVBORw0KGgoAAAANSUhEUgAAAqsAAAF5CAYAAAC4BWNIAAAAOnRFWHRTb2Z0d2FyZQBNYXRwbG90\n",
              "bGliIHZlcnNpb24zLjEwLjAsIGh0dHBzOi8vbWF0cGxvdGxpYi5vcmcvlHJYcgAAAAlwSFlzAAAP\n",
              "YQAAD2EBqD+naQAAJIhJREFUeJzt3X9QVXXi//HXDQw1AzUlTbiy/CojFH9A/tjsl/mjWjWp1A1d\n",
              "TAGzX7vURM5+2qKZokbXra3dQBcppYyUflBt7VLWhmUhraapI9B2uaQo/gK0TYLL+f7BtzPdFX/V\n",
              "Rd7o8zFzZrrnvM8573PvTPOc47kXh2VZlgAAAAADndPREwAAAACOhVgFAACAsYhVAAAAGItYBQAA\n",
              "gLGIVQAAABiLWAUAAICxiFUAAAAYi1gFAACAsYhVAAAAGItYBYBOpq6uTmFhYaquru7oqRylrKxM\n",
              "l1xyib7//vuOngqAMwSxCuCstWXLFs2YMUP9+/dXjx49FBYWppkzZ+rf//63JOn555/XOeecox49\n",
              "eqhHjx7q3bu3rr32Wnv7D3bv3q20tDSFhISoW7duCgkJ0fz587Vnzx57TGJiom699Vav/f7whz/I\n",
              "4XDoo48+ste1tLSoT58+WrZs2THn/eijj2rq1KkKDQ31xdtwSizL0sMPP6yLLrpI5513nsaOHasv\n",
              "v/zS3j5ixAgNGjRIzzzzzGmfG4AzE7EK4Kz04YcfKiEhQRdeeKHWr1+vQ4cOadOmTbruuuu0evVq\n",
              "e9xFF12kw4cP6/Dhw9q1a5eGDBmiG2+8UZZlSWoN1YSEBFVXV+v999/X4cOHtXbtWrndbl1++eV2\n",
              "sF533XVau3atWlpa7GMXFxfrsssu03vvvWev27hxo/bv36/x48e3Oe+GhgYtW7ZMqamp7fG2nNDi\n",
              "xYu1fPly/eMf/9C+ffs0ZswYTZgwQYcPH7bHpKSk6Omnn5bH4+mQOQI4w1gAcBaKjo62kpKSjjsm\n",
              "Ly/PGjBggNe6TZs2WZKs2tpay7IsKyUlxQoPD7caGxu9xh05csQKDw+30tLSLMuyrK+++sqSZJWV\n",
              "lVmWZVl1dXVWt27drDVr1lgjR46098vKyrKioqKOOafVq1dbISEhXuuqqqqsSZMmWb169bICAwOt\n",
              "mJgY66OPPrIsy7JaWlqsrKwsKzQ01AoKCrLmzp1r3XLLLdZvfvOb4177sYSFhVlPPfWU/bqpqcnq\n",
              "06ePtWLFCnvdd999Z5177rnWp59++pPOAQA/xp1VAGediooKlZeXa/bs2ae037fffqu8vDwNGjRI\n",
              "ffr0kSS99dZbmjlzps4991yvsQEBAZoxY4beeustSVJ4eLgiIiJUXFwsSVq7dq1GjBihSZMmafPm\n",
              "zaqvr5fUerf1uuuuO+YcysrKdNlll3mtW7hwoQYMGKBdu3bp4MGDKiwsVEhIiCRp5cqVWrRokVav\n",
              "Xq19+/Zp1KhReu2117z2v/HGG9WzZ89jLgsWLJAk1dfXy+VyKSEhwd7X399fQ4cO1caNG+11Xbt2\n",
              "VVRUlDZs2HDyby4AHIN/R08AAE632tpaSbKD7nh27dqlnj17Smr9J/hevXrplVdekcPhkCTt3btX\n",
              "AwYMaHPfkJAQ+1ySNH78eBUXF+vBBx9UcXGxxo0bp+7duys+Pl5r167VxIkT9fHHH+uee+455nwO\n",
              "HDigoKAgr3Xnnnuudu/era+++kqXXnqpLr74YnvbihUrNHfuXF1++eWSpLlz5+q5557z2v+HoD6R\n",
              "hoYGSbLfjx/06tXL3vaDoKAgHThw4KSOCwDHw51VAGed4OBgSdI333xzwrEXXXSR6urqVFdXp8bG\n",
              "Rv35z3/WDTfcoC1btkiS+vbtq507d7a57zfffGOfS2p9bvXjjz/Wd999Z8eqJF177bUqLi7WRx99\n",
              "JI/Ho6uvvvqY8+ndu7d9F/YHixcvVmRkpKZNm6YLL7xQc+bMsZ+V3blzpwYOHOg1Piws7ITX3ZbA\n",
              "wEBJrb9G8GMHDx60t/2gvr5evXv3/knnAYAfI1YBnHWioqIUHR2tlStXntJ+Xbp00W233aYePXro\n",
              "n//8pyTphhtuUEFBwVE/1fT999+roKBAN9xwg73ummuukcfj0YoVK1RbW2v/c/q4ceNUXFys4uJi\n",
              "JSQkHBV+PzZ8+HBt3brVa90FF1ygP/3pT9qxY4c2btwol8ul9PR0SdKAAQNUVVXlNf5/X0+aNMn+\n",
              "xYO2lvnz50tqvVsaFhbm9c/7zc3N2rRpk4YOHWqvO3LkiCoqKjRixIjjv6EAcBKIVQBnpZycHK1e\n",
              "vVrp6emqqqqSZVlqaGjQihUr9Pvf/77NfTwej15++WXt379fcXFxkqTMzEx99913SkxMVHl5uVpa\n",
              "WlRRUaHExER9//33yszMtPcPCgpSQkKCMjMzdeWVV8rfv/VJrPj4eNXW1uqll1465q8A/GD8+PE6\n",
              "cOCAtm/fbq97+eWX9dVXX6mlpUXnn3++AgIC7GPPmjVLy5cv14YNG9Tc3Ky8vDxt2rTJ65jvvPOO\n",
              "/YsHbS3Z2dn22AULFmjx4sX68ssv9d133+nhhx9Wly5ddNNNN9ljPvjgAwUHBys+Pv7EHwQAnACx\n",
              "CuCsdNVVV+mzzz7Tzp07lZCQoPPPP1+DBw/Wu+++q5tvvtket2vXLvsOY69evfT4448rNzdX1157\n",
              "raTWxwRKS0vVr18/XXXVVerevbuuvPJK9e/f317/Y+PHj1dNTY39CIDU+iWlK6+8UjU1Ncf9cpXU\n",
              "Grzz5s1TTk6Ove6LL77QNddco/PPP18RERHq2bOnFi9eLEmaPXu2fve732natGnq06eP1q1bpxtv\n",
              "vFFdu3b9Se/b/fffr+TkZI0bN04XXHCBSkpK9O6776pHjx72mGXLlunee++Vn5/fTzoHAPyYw7L+\n",
              "/48FAgA6hYMHDyouLk4lJSVyOp2nvH9cXJymT5+uhQsX+nxun3/+uX79619r8+bNCggI8PnxAZx9\n",
              "iFUAOMMVFBRo8uTJcjgceu6555SRkaFt27YpMjKyo6cGACfEYwAAcIZbtmyZ+vXrp759+yo/P19v\n",
              "vPEGoQqg0+DOKgAAAIzFnVUAAAAYi1gFAACAsYhVAAAAGItYBQAAgLHO2Fh9+umnO3oKAAAA+JnO\n",
              "2Fj93799DQAAgM7njI1VAAAAdH7EKgAAAIxFrAIAAMBYxCoAAACMRawCAADAWMQqAAAAjEWsAgAA\n",
              "wFjEKgAAAIxFrAIAAMBYxCoAAACMRawCAADAWMQqAAAAjEWsAgAAwFjEKgAAAIxFrAIAAMBYxCoA\n",
              "AACMRawCAADAWMQqAAAAjEWsAgAAwFjEKgAAAIxFrAIAAMBYxCoAAACMRawCAADAWMQqAAAAjEWs\n",
              "AgAAwFjEKgAAAIxFrAIAAMBYxCoAAACMRawCAADAWMQqAAAAjEWsAgAAwFjEKgAAAIxFrAIAAMBY\n",
              "xCoAAACMRawCAADAWMQqAAAAjNUusVpRUaHRo0crOjpa8fHx2rp1a5vjcnNzFRUVpYiICKWkpKip\n",
              "qclru2VZuuaaa9SzZ8/2mCYAAAAM1y6xmpaWptTUVJWXlysjI0PJyclHjfn666/10EMPqaSkRJWV\n",
              "ldqzZ4+WLl3qNeZPf/qTIiIi2mOKAAAA6AR8Hqu1tbUqKytTUlKSJCkxMVHV1dWqrKz0GrdmzRpN\n",
              "njxZ/fr1k8Ph0Pz587Vq1Sp7+9atW/X666/rwQcf9PUUAQAA0En4+/qA1dXV6t+/v/z9Ww/tcDjk\n",
              "dDrldrsVGRlpj3O73Ro4cKD9OiwsTG63W5LU1NSklJQU5ebmys/P74TnbGxsVGNjo9c6j8fji8sB\n",
              "AABABzLyC1aZmZmaNm2aBg0adFLjs7KyFBQU5LWUlpa28ywBAADQ3nweq6GhoaqpqVFzc7Ok1i9J\n",
              "ud1uOZ1Or3FOp1NVVVX2a5fLZY/517/+pWeeeUZhYWH65S9/qYaGBoWFhWnv3r1tnnPhwoWqr6/3\n",
              "WhISEnx9aQAAADjNfB6rwcHBGjZsmPLz8yVJhYWFCgkJ8XoEQGp9lrWoqEi7d++WZVnKzs7WjBkz\n",
              "JEklJSWqqqqSy+XSunXrFBgYKJfLpb59+7Z5zoCAAAUGBnotJ/P4AAAAAMzWLo8B5OTkKCcnR9HR\n",
              "0XriiSeUl5cnSZo3b56KiookSeHh4crMzNSYMWMUGRmpvn37Ki0trT2mAwAAgE7KYVmW1dGTaA/p\n",
              "6elasmRJR08DAAAAP4ORX7ACAAAAJGIVAAAABiNWAQAAYCxiFQAAAMYiVgEAAGAsYhUAAADGIlYB\n",
              "AABgLGIVAAAAxiJWAQAAYCxiFQAAAMYiVgEAAGAsYhUAAADGIlYBAABgLGIVAAAAxiJWAQAAYCxi\n",
              "FQAAAMYiVgEAAGAsYhUAAADGIlYBAABgLGIVAAAAxiJWAQAAYCxiFQAAAMYiVgEAAGAsYhUAAADG\n",
              "IlYBAABgLGIVAAAAxiJWAQAAYCxiFQAAAMYiVgEAAGAsYhUAAADGIlYBAABgLGIVAAAAxiJWAQAA\n",
              "YCxiFQAAAMYiVgEAAGAsYhUAAADGIlYBAABgLGIVAAAAxiJWAQAAYCxiFQAAAMYiVgEAAGAsYhUA\n",
              "AADGIlYBAABgLGIVAAAAxiJWAQAAYCxiFQAAAMYiVgEAAGCsdonViooKjR49WtHR0YqPj9fWrVvb\n",
              "HJebm6uoqChFREQoJSVFTU1NkqS1a9cqISFBl156qWJiYvTAAw+opaWlPaYKAAAAg7VLrKalpSk1\n",
              "NVXl5eXKyMhQcnLyUWO+/vprPfTQQyopKVFlZaX27NmjpUuXSpJ69eqll19+Wdu2bdPnn3+uTz75\n",
              "RCtWrGiPqQIAAMBgPo/V2tpalZWVKSkpSZKUmJio6upqVVZWeo1bs2aNJk+erH79+snhcGj+/Pla\n",
              "tWqVJGno0KEKDw+XJHXt2lVxcXFyuVy+nioAAAAM5+/rA1ZXV6t///7y9289tMPhkNPplNvtVmRk\n",
              "pD3O7XZr4MCB9uuwsDC53e6jjrd7926tWbNGb7311jHP2djYqMbGRq91Ho/n514KAAAAOpjRX7Bq\n",
              "aGjQr371Kz3wwAMaMWLEMcdlZWUpKCjIayktLT2NMwUAAEB78HmshoaGqqamRs3NzZIky7Lkdrvl\n",
              "dDq9xjmdTlVVVdmvXS6X15hDhw5p4sSJmjJlitLT0497zoULF6q+vt5rSUhI8OFVAQAAoCP4PFaD\n",
              "g4M1bNgw5efnS5IKCwsVEhLi9QiA1Posa1FRkXbv3i3LspSdna0ZM2ZIkg4fPqyJEydq4sSJ+r//\n",
              "+78TnjMgIECBgYFei5+fn68vDQAAAKdZuzwGkJOTo5ycHEVHR+uJJ55QXl6eJGnevHkqKiqSJIWH\n",
              "hyszM1NjxoxRZGSk+vbtq7S0NEnS008/rdLSUr366quKi4tTXFycHnvssfaYKgAAAAzmsCzL6uhJ\n",
              "tIf09HQtWbKko6cBAACAn8HoL1gBAADg7EasAgAAwFjEKgAAAIxFrAIAAMBYxCoAAACMRawCAADA\n",
              "WMQqAAAAjEWsAgAAwFjEKgAAAIxFrAIAAMBYxCoAAACMRawCAADAWMQqAAAAjEWsAgAAwFjEKgAA\n",
              "AIxFrAIAAMBYxCoAAACMRawCAADAWMQqAAAAjEWsAgAAwFjEKgAAAIxFrAIAAMBYxCoAAACMRawC\n",
              "AADAWMQqAAAAjEWsAgAAwFjEKgAAAIxFrAIAAMBYxCoAAACMRawCAADAWMQqAAAAjEWsAgAAwFjE\n",
              "KgAAAIxFrAIAAMBYxCoAAACMRawCAADAWMQqAAAAjEWsAgAAwFjEKgAAAIxFrAIAAMBYxCoAAACM\n",
              "RawCAADAWMQqAAAAjEWsAgAAwFjEKgAAAIxFrAIAAMBYxCoAAACM1S6xWlFRodGjRys6Olrx8fHa\n",
              "unVrm+Nyc3MVFRWliIgIpaSkqKmp6aS2AQAA4OzQLrGalpam1NRUlZeXKyMjQ8nJyUeN+frrr/XQ\n",
              "Qw+ppKRElZWV2rNnj5YuXXrCbQAAADh7+DxWa2trVVZWpqSkJElSYmKiqqurVVlZ6TVuzZo1mjx5\n",
              "svr16yeHw6H58+dr1apVJ9wGAACAs4e/rw9YXV2t/v37y9+/9dAOh0NOp1Nut1uRkZH2OLfbrYED\n",
              "B9qvw8LC5Ha7T7itLY2NjWpsbPRa5/F4fHI9AAAA6DhnxBessrKyFBQU5LWUlpZ29LQAAADwM/k8\n",
              "VkNDQ1VTU6Pm5mZJkmVZcrvdcjqdXuOcTqeqqqrs1y6Xyx5zvG1tWbhwoerr672WhIQEX14WAAAA\n",
              "OoDPYzU4OFjDhg1Tfn6+JKmwsFAhISFejwBIrc+yFhUVaffu3bIsS9nZ2ZoxY8YJt7UlICBAgYGB\n",
              "Xoufn5+vLw0AAACnWbs8BpCTk6OcnBxFR0friSeeUF5eniRp3rx5KioqkiSFh4crMzNTY8aMUWRk\n",
              "pPr27au0tLQTbgMAAMDZw2FZltXRk2gP6enpWrJkSUdPAwAAAD/DGfEFKwAAAJyZiFUAAAAYi1gF\n",
              "AACAsYhVAAAAGItYBQAAgLGIVQAAABiLWAUAAICxiFUAAAAYi1gFAACAsYhVAAAAGItYBQAAgLGI\n",
              "VQAAABiLWAUAAICxiFUAAAAYi1gFAACAsYhVAAAAGItYBQAAgLGIVQAAABiLWAUAAICxiFUAAAAY\n",
              "i1gFAACAsYhVAAAAGItYBQAAgLGIVQAAABiLWAUAAICxiFUAAAAYi1gFAACAsYhVAAAAGItYBQAA\n",
              "gLGIVQAAABiLWAUAAICxiFUAAAAYi1gFAACAsYhVAAAAGItYBQAAgLGIVQAAABiLWAUAAICxiFUA\n",
              "AAAYi1gFAACAsYhVAAAAGItYBQAAgLGIVQAAABiLWAUAAICxiFUAAAAYi1gFAACAsYhVAAAAGItY\n",
              "BQAAgLF8GqstLS26++67FRERocjISD377LPHHFtRUaHRo0crOjpa8fHx2rp1qyTpyJEjmjp1qqKj\n",
              "ozVkyBBdd911qqys9OU0AQAA0En4NFbz8/O1bds2lZeXq7S0VIsWLbIj9H+lpaUpNTVV5eXlysjI\n",
              "UHJysr0tNTVVO3bs0BdffKEpU6Zo3rx5vpwmAAAAOgmfxmpBQYFSUlLk5+en3r17a/r06Vq1atVR\n",
              "42pra1VWVqakpCRJUmJioqqrq1VZWamuXbvq+uuvl8PhkCSNHDlSLpfLl9MEAABAJ+HTWHW73Ro4\n",
              "cKD9OiwsTG63+6hx1dXV6t+/v/z9/SVJDodDTqezzbFPP/20pkyZctzzNjY2qqGhwWvxeDw/82oA\n",
              "AADQ0fxPZfCoUaNUUVHR5raNGzf6ZEI/9vjjj6uyslLvv//+ccdlZWUpMzPTa93IkSN9Ph8AAACc\n",
              "Xqd0Z3X9+vXat29fm0toaKicTqeqqqrs8S6XS06n86jjhIaGqqamRs3NzZIky7Lkdru9xi5evFiv\n",
              "vvqq3nnnHXXv3v2481q4cKHq6+u9loSEhFO5NAAAABjIp48B3HLLLVq2bJk8Ho8OHDiggoICTZ8+\n",
              "/ahxwcHBGjZsmPLz8yVJhYWFCgkJUWRkpCRpyZIlWrVqlYqLi9WzZ88TnjcgIECBgYFei5+fny8v\n",
              "DQAAAB3glB4DOJFZs2Zpw4YNioqKksPhUHp6umJjYyVJRUVFKioq0t/+9jdJUk5OjpKTk/X4448r\n",
              "MDBQeXl5kqRvvvlG9913n8LDw3X11VdLao3Rzz77zJdTBQAAQCfgsCzL6uhJtIf09HQtWbKko6cB\n",
              "AACAn4G/YAUAAABjEasAAAAwFrEKAAAAYxGrAAAAMBaxCgAAAGMRqwAAADAWsQoAAABjEasAAAAw\n",
              "FrEKAAAAYxGrAAAAMBaxCgAAAGMRqwAAADAWsQoAAABjEasAAAAwFrEKAAAAYxGrAAAAMBaxCgAA\n",
              "AGMRqwAAADAWsQoAAABjEasAAAAwFrEKAAAAYxGrAAAAMBaxCgAAAGMRqwAAADAWsQoAAABjEasA\n",
              "AAAwFrEKAAAAYxGrAAAAMBaxCgAAAGMRqwAAADAWsQoAAABjEasAAAAwFrEKAAAAYxGrAAAAMBax\n",
              "CgAAAGMRqwAAADAWsQoAAABjEasAAAAwFrEKAAAAYxGrAAAAMBaxCgAAAGMRqwAAADAWsQoAAABj\n",
              "EasAAAAwFrEKAAAAYxGrAAAAMBaxCgAAAGP5NFZbWlp09913KyIiQpGRkXr22WePObaiokKjR49W\n",
              "dHS04uPjtXXr1qPG5OXlyeFw6PXXX/flNAEAANBJ+DRW8/PztW3bNpWXl6u0tFSLFi1qM0IlKS0t\n",
              "TampqSovL1dGRoaSk5O9trtcLi1btkwjR4705RQBAADQifg0VgsKCpSSkiI/Pz/17t1b06dP16pV\n",
              "q44aV1tbq7KyMiUlJUmSEhMTVV1drcrKSkmtd2jnzZunZ555RgEBAb6cIgAAADoRn8aq2+3WwIED\n",
              "7ddhYWFyu91Hjauurlb//v3l7+8vSXI4HHI6nfbYJUuWaMyYMRo+fPhJnbexsVENDQ1ei8fj8cEV\n",
              "AQAAoCP5n8rgUaNGqaKios1tGzdu9MmEvvzySxUWFuqjjz466X2ysrKUmZnptY7HBwAAADq/U7qz\n",
              "un79eu3bt6/NJTQ0VE6nU1VVVfZ4l8slp9N51HFCQ0NVU1Oj5uZmSZJlWXK73XI6nSopKZHL5VJU\n",
              "VJTCwsL06aefKjU1Vc8999wx57Vw4ULV19d7LQkJCadyaQAAADCQTx8DuOWWW7Rs2TJ5PB4dOHBA\n",
              "BQUFmj59+lHjgoODNWzYMOXn50uSCgsLFRISosjISN1xxx2qqamRy+WSy+XSyJEjtXTpUt1xxx3H\n",
              "PG9AQIACAwO9Fj8/P19eGgAAADqAT2N11qxZuuSSSxQVFaX4+Hilp6crNjZWklRUVKR58+bZY3Ny\n",
              "cpSTk6Po6Gg98cQTysvL8+VUAAAAcAZwWJZldfQk2kN6erqWLFnS0dMAAADAz8BfsAIAAICxiFUA\n",
              "AAAYi1gFAACAsYhVAAAAGItYBQAAgLGIVQAAABiLWAUAAICxiFUAAAAYi1gFAACAsYhVAAAAGItY\n",
              "BQAAgLGIVQAAABiLWAUAAICxiFUAAAAYi1gFAACAsYhVAAAAGItYBQAAgLGIVQAAABiLWAUAAICx\n",
              "iFUAAAAYi1gFAACAsYhVAAAAGItYBQAAgLGIVQAAABiLWAUAAICxiFUAAAAYi1gFAACAsYhVAAAA\n",
              "GItYBQAAgLGIVQAAABiLWAUAAICxiFUAAAAYi1gFAACAsYhVAAAAGItYBQAAgLGIVQAAABiLWAUA\n",
              "AICxHJZlWR09ifYwbdo0hYWFdfQ0zggej0elpaVKSEiQn59fR08HPwGfYefHZ9j58Rl2bnx+7WPg\n",
              "wIG69957jzvmjI1V+E5DQ4OCgoJUX1+vwMDAjp4OfgI+w86Pz7Dz4zPs3Pj8Og6PAQAAAMBYxCoA\n",
              "AACMRawCAADAWMQqTiggIEAPP/ywAgICOnoq+In4DDs/PsPOj8+wc+Pz6zh8wQoAAADG4s4qAAAA\n",
              "jEWsAgAAwFjEKgAAAIxFrAI4axw6dEg9evTQ3LlzfXK8559/XlOnTvXJsU7WBx98IIfDoZUrV57W\n",
              "8wJARyFWAZw1CgoKNHz4cL366qs6fPhwR0/nJ8nNzdW1116r3Nzc03K+lpYWtbS0nJZzAUBbiFUA\n",
              "Z43c3FxlZGRo7NixKigosNc///zzGjdunGbOnKnY2FiNGDFC//nPfyRJu3fv1tVXX63hw4crJiZG\n",
              "d9111zHjbdGiRYqJiVFsbKxuu+021dfXS2q9ozt9+nRdcskluuKKK5SWlqbk5GRJUmxsrD755BP7\n",
              "GEuXLtX06dPbPH5dXZ3efvtt5efna9u2baqsrLS3bd++XRMmTNDgwYM1ePBgZWdnS5J27typm2++\n",
              "WbGxsRo8eLAeeughSVJycrKeeuope//7779fjzzyiCTpkUceUWJioiZMmKDLLrtMNTU1uv/++xUf\n",
              "H6+4uDiNHTtWO3bssPddv369fvnLX2rIkCEaPHiw3njjDa1Zs0bjx4+3x3g8Hg0cOFDbtm077mcE\n",
              "AP+LWAVwVti2bZuqq6s1YcIEzZ0796g7kxs2bNDjjz+uLVu2aNy4cXryySclST179tSbb76pzz//\n",
              "XJs3b5bL5dIrr7xy1PHfeecdLV++XB9//LG2bNmi8847Tw8++KAk6dFHH1W3bt20fft2/f3vf/eK\n",
              "03vuuUfPPvus/fovf/mL7rrrrjav4aWXXtKECRPUr18/JSUlafny5ZKk5uZmTZkyRcnJydq8ebM2\n",
              "b96sm2++WZKUlJSk4cOHa8uWLdq8ebPuueeek3q/1q9frxUrVmjbtm0aMGCAMjIytGHDBm3atEkL\n",
              "FizQvffeK0k6cOCApk6dqqysLH3xxRfatGmTrrjiCt10000qLy+3o7aoqEiRkZG69NJLT+r8APAD\n",
              "YhXAWSE3N1ezZ8+Wn5+frr/+en399dfavn27vX3UqFH6xS9+Yf/3V199Jan1n8EzMjI0ZMgQDR06\n",
              "VGVlZdq0adNRx3/vvfc0ffp09ezZU5J0xx13qLi4WJL0/vvva86cOXI4HDr//PO97pwmJSXpgw8+\n",
              "0J49e7Ru3To5HA5dccUVx7yG22+/XZJ0++2364UXXpDH49GOHTt05MgRzZw50x7bp08fHT58WOvW\n",
              "rdN9991nr+/bt+9JvV/XX3+9LrzwQvt1cXGxRo0apcsuu0yPPvqo/R6sX79eF198sT3nc845R717\n",
              "95afn58WLFigv/zlL5KOH+EAcDz+HT0BAGhvTU1NWrlypbp06aKXXnpJkvTf//5Xubm5Wrx4sSSp\n",
              "a9eu9ng/Pz81NzdLkpYsWaLa2lp99tln6tq1q9LT03XkyJETntPhcJzUtm7duik5OVk5OTnavn27\n",
              "7rzzzjb32bRpkzZv3qyUlBR7/3379umdd96xI/tU+Pv7y+Px2K+PHDmiHj162K9//N9ut1t33XWX\n",
              "NmzYoIiICG3evFljx4494TlSUlJ06aWXavbs2aqsrNTkyZNPeZ4AwJ1VAGe8oqIihYeHa+fOnXK5\n",
              "XHK5XPr000+1cuVKNTU1HXffgwcPql+/furatat2796t1atXtzlu3LhxeuWVV9TQ0CBJysnJsZ/Z\n",
              "vOaaa/TCCy/IsiwdPnz4qMcI7rzzTi1dulRr167Vbbfd1ubxc3Nzdd9996mqqsq+hqeeekq5ubm6\n",
              "+OKL1b17d61atcoev2/fPvXo0UNjx47VH//4R3v93r17JUmRkZEqLS2VJO3fv19///vfj/ke1NfX\n",
              "q0uXLurfv78sy/J6bGH06NGqqKhQSUmJpNY70QcOHJAk9erVS1OmTNFNN92ktLQ0+fn5HfMcAHAs\n",
              "xCqAM15ubu5RETho0CANGDBAb7755nH3vffee/XZZ58pJiZGs2bN0rhx49ocN2nSJM2ZM0ejRo1S\n",
              "bGysGhoalJWVJUn6wx/+oEOHDmnQoEGaOHGihgwZYj8uIEkhISEaOnSokpKS1L1796OOfeTIEb34\n",
              "4otHXcOtt96qf/7zn9q/f7/eeOMN5eXlKTY2VkOGDFFhYaEkaeXKlSorK1NMTIzi4uLs0ExNTdXe\n",
              "vXs1aNAgzZ49WyNHjjzmexAbG6sZM2YoJiZG8fHxcjqd9rZevXrptdde04MPPqjBgwdr2LBh+vjj\n",
              "j+3tKSkp2rt3r1JSUo77PgPAsTgsy7I6ehIAcCZramqSx+NR165d9e2332rChAm6++677WdXv/32\n",
              "W1188cUqKSn5Sf+kb7LFixdr+/btp+2ntgCceXhmFQDa2cGDBzVp0iR5PB4dOXJEU6ZM0a233ipJ\n",
              "ys7O1mOPPaYFCxaccaEaExMjh8Ohd999t6OnAqAT484qAAAAjMUzqwBwmoSFhSk4ONjrS10//PnU\n",
              "3/72t8fd98MPPzzhHcrs7GwtWrTIF1MFAGPwGAAAnEZOp1NFRUVKTEyU1PrlrxEjRpxwvw8//FB1\n",
              "dXWaOHFim9ubm5s1f/58n84VAExArALAaTRnzhwtX75ciYmJqq+v16effqqZM2fq0KFDklq/kPTK\n",
              "K6+oublZwcHBysnJ0cGDB5WdnS2Px6MPP/xQ06ZN0+zZsxUXF6e0tDQVFxdr9uzZqqurU11dnf1n\n",
              "VJ988knl5+frnHPOUbdu3bR27do2f20AAExGrALAaTRmzBj99a9/1a5du1RUVKRbbrnF/v3Rl156\n",
              "STt27ND69evl5+enlStXasGCBXr77bc1f/58rxB1uVyqr69XTEyM/adhH3nkEfs8L7zwggoLC7Vu\n",
              "3ToFBQXp4MGDCggION2XCwA/G7EKAKfZrFmz9Pzzz+v111/Xiy++qBdffFGS9Prrr2vDhg0aPny4\n",
              "JHn9ham2dOnSRUlJSW1ue+uttzR//nwFBQVJav09VADojIhVADjNZs+erWHDhik6OlpRUVH2esuy\n",
              "tHDhQqWmpp7Ucbp3765zzuF7sgDObPxfDgBOs4suukhZWVn2P9//YOrUqcrOzrb/XGlTU5M2btwo\n",
              "SQoMDFR9ff1Jn2Py5MnKzs6296mrqzvhnVoAMBF3VgGgA8yZM+eodbfddpv279+vq6++WlLrN/xv\n",
              "v/12DR06VDfddJNWrlypuLg4+wtWxzNr1izt2rVLo0ePlr+/v8477zy99957fMEKQKfDHwUAAACA\n",
              "sXgMAAAAAMYiVgEAAGAsYhUAAADGIlYBAABgLGIVAAAAxiJWAQAAYCxiFQAAAMYiVgEAAGAsYhUA\n",
              "AADGIlYBAABgLGIVAAAAxvp/c2mqm15BDegAAAAASUVORK5CYII=\n",
              "\">\n",
              "      </div>\n",
              "      <script type=\"text/javascript\">\n",
              "        (() => {\n",
              "          const chartElement = document.getElementById(\"chart-2db5e201-c340-42ab-8cf4-551341983008\");\n",
              "          async function getCodeForChartHandler(event) {\n",
              "            const chartCodeResponse =  await google.colab.kernel.invokeFunction(\n",
              "                'getCodeForChart', [\"chart-2db5e201-c340-42ab-8cf4-551341983008\"], {});\n",
              "            const responseJson = chartCodeResponse.data['application/json'];\n",
              "            await google.colab.notebook.addCell(responseJson.code, 'code');\n",
              "          }\n",
              "          chartElement.onclick = getCodeForChartHandler;\n",
              "        })();\n",
              "      </script>\n",
              "      <style>\n",
              "        .colab-quickchart-chart-with-code  {\n",
              "            display: block;\n",
              "            float: left;\n",
              "            border: 1px solid transparent;\n",
              "        }\n",
              "\n",
              "        .colab-quickchart-chart-with-code:hover {\n",
              "            cursor: pointer;\n",
              "            border: 1px solid #aaa;\n",
              "        }\n",
              "      </style>"
            ],
            "text/plain": [
              "from matplotlib import pyplot as plt\n",
              "comparison_df['CBOW (sg=0)'].plot(kind='line', figsize=(8, 4), title='CBOW (sg=0)')\n",
              "plt.gca().spines[['top', 'right']].set_visible(False)"
            ]
          },
          "metadata": {},
          "output_type": "display_data"
        }
      ],
      "source": [
        "import pandas as pd\n",
        "\n",
        "# Create a DataFrame to compare the evaluation scores\n",
        "comparison_data = {\n",
        "    \"Metric\": [\"Word Similarity (Spearman Corr.)\", \"Analogy Accuracy\"],\n",
        "    \"Skip-gram (sg=1)\": [sim_score, analogy_score],\n",
        "    \"CBOW (sg=0)\": [sim_score_cbow, analogy_score_cbow]\n",
        "}\n",
        "comparison_df = pd.DataFrame(comparison_data)\n",
        "comparison_df.set_index(\"Metric\", inplace=True)\n",
        "\n",
        "print(\"--- Numerical Comparison ---\")\n",
        "print(\"Higher scores are better for both metrics.\")\n",
        "comparison_df"
      ]
    }
  ],
  "metadata": {
    "colab": {
      "provenance": []
    },
    "kernelspec": {
      "display_name": "namgyel",
      "language": "python",
      "name": "python3"
    },
    "language_info": {
      "codemirror_mode": {
        "name": "ipython",
        "version": 3
      },
      "file_extension": ".py",
      "mimetype": "text/x-python",
      "name": "python",
      "nbconvert_exporter": "python",
      "pygments_lexer": "ipython3",
      "version": "3.10.12"
    }
  },
  "nbformat": 4,
  "nbformat_minor": 5
}
